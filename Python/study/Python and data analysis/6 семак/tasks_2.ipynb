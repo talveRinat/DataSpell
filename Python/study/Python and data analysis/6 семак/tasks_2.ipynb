{
 "cells": [
  {
   "cell_type": "markdown",
   "metadata": {},
   "source": [
    "# Практическая часть по теме Функциональное программирование на Python\n",
    "\n",
    "## Выполнил работу Ринат Махмутов группа 09-813 3 курс пми"
   ]
  },
  {
   "cell_type": "markdown",
   "metadata": {},
   "source": [
    "Не обезательные упражнения \n",
    "---"
   ]
  },
  {
   "cell_type": "code",
   "execution_count": 1,
   "metadata": {},
   "outputs": [
    {
     "name": "stdout",
     "output_type": "stream",
     "text": [
      "0 1\n",
      "1 2\n",
      "2 3\n",
      "3 4\n",
      "4 5\n"
     ]
    }
   ],
   "source": [
    "# Проверьте, возможно ли изменить список в процессе итерирования.\n",
    "\n",
    "tmp = list(range(5))\n",
    "\n",
    "for i in tmp:\n",
    "    tmp[i] = i+1\n",
    "    print(i, tmp[i])"
   ]
  },
  {
   "cell_type": "code",
   "execution_count": 2,
   "metadata": {},
   "outputs": [
    {
     "name": "stdout",
     "output_type": "stream",
     "text": [
      "[(0, 'a'), (0, 'b'), (0, 'c'), (1, 'a'), (1, 'b'), (1, 'c'), (2, 'a'), (2, 'b'), (2, 'c')]\n",
      "\n",
      "[(1, 3), (1, 4), (2, 3), (2, 4)]\n"
     ]
    }
   ],
   "source": [
    "# Написать функцию, принимающую 2 списка и возвращающую декартово произведение (использовать itertools.product)\n",
    "\n",
    "import itertools\n",
    "\n",
    "def f(l1:list, l2:list) -> []:\n",
    "    return list(itertools.product(l1, l2))\n",
    "\n",
    "print(f(range(3), ['a', 'b', 'c']))\n",
    "print()\n",
    "print(f([1, 2], [3, 4]))"
   ]
  },
  {
   "cell_type": "code",
   "execution_count": 3,
   "metadata": {},
   "outputs": [
    {
     "data": {
      "text/plain": [
       "[('a', 'i'),\n",
       " ('a', 'n'),\n",
       " ('a', 'r'),\n",
       " ('a', 't'),\n",
       " ('i', 'a'),\n",
       " ('i', 'n'),\n",
       " ('i', 'r'),\n",
       " ('i', 't'),\n",
       " ('n', 'a'),\n",
       " ('n', 'i'),\n",
       " ('n', 'r'),\n",
       " ('n', 't'),\n",
       " ('r', 'a'),\n",
       " ('r', 'i'),\n",
       " ('r', 'n'),\n",
       " ('r', 't'),\n",
       " ('t', 'a'),\n",
       " ('t', 'i'),\n",
       " ('t', 'n'),\n",
       " ('t', 'r')]"
      ]
     },
     "execution_count": 3,
     "metadata": {},
     "output_type": "execute_result"
    }
   ],
   "source": [
    "# Написать функцию, принимающую строку s и число n и возвращающую всевозможные перестановки \n",
    "# из n символов в s строке в лексикографическом(!) порядке (использовать itertools.permutations)\n",
    "\n",
    "def f_permutations(s:str, n:int) -> []:\n",
    "    return sorted(list(itertools.permutations(s, n)))\n",
    "\n",
    "f_permutations('rinat', 2)"
   ]
  },
  {
   "cell_type": "markdown",
   "metadata": {},
   "source": [
    "## Обязательные упражнения "
   ]
  },
  {
   "cell_type": "code",
   "execution_count": 4,
   "metadata": {},
   "outputs": [
    {
     "data": {
      "text/plain": [
       "[('r',),\n",
       " ('i',),\n",
       " ('n',),\n",
       " ('a',),\n",
       " ('t',),\n",
       " ('r', 'i'),\n",
       " ('r', 'n'),\n",
       " ('r', 'a'),\n",
       " ('r', 't'),\n",
       " ('i', 'n'),\n",
       " ('i', 'a'),\n",
       " ('i', 't'),\n",
       " ('n', 'a'),\n",
       " ('n', 't'),\n",
       " ('a', 't'),\n",
       " ('r', 'i', 'n'),\n",
       " ('r', 'i', 'a'),\n",
       " ('r', 'i', 't'),\n",
       " ('r', 'n', 'a'),\n",
       " ('r', 'n', 't'),\n",
       " ('r', 'a', 't'),\n",
       " ('i', 'n', 'a'),\n",
       " ('i', 'n', 't'),\n",
       " ('i', 'a', 't'),\n",
       " ('n', 'a', 't'),\n",
       " ('r', 'i', 'n', 'a'),\n",
       " ('r', 'i', 'n', 't'),\n",
       " ('r', 'i', 'a', 't'),\n",
       " ('r', 'n', 'a', 't'),\n",
       " ('i', 'n', 'a', 't'),\n",
       " ('r', 'i', 'n', 'a', 't')]"
      ]
     },
     "execution_count": 4,
     "metadata": {},
     "output_type": "execute_result"
    }
   ],
   "source": [
    "# Реализовать функцию get_combinations. \n",
    "# Должна принимать строку s и число k и возвращать все возможные комбинации из символов в строке s с длинами <= k \n",
    "# (использовать itertools.combinations)\n",
    "\n",
    "\n",
    "\n",
    "def get_combinations(s:str, k:int) -> []:\n",
    "    result = []\n",
    "    for i in range(1, k+1):\n",
    "        result.extend(itertools.combinations(s, i))\n",
    "\n",
    "    return result\n",
    "\n",
    "get_combinations('rinat', 10)"
   ]
  },
  {
   "cell_type": "code",
   "execution_count": 5,
   "metadata": {},
   "outputs": [
    {
     "data": {
      "text/plain": [
       "[('r', 'r', 'r'),\n",
       " ('r', 'r', 'i'),\n",
       " ('r', 'r', 'n'),\n",
       " ('r', 'r', 'a'),\n",
       " ('r', 'r', 't'),\n",
       " ('r', 'i', 'i'),\n",
       " ('r', 'i', 'n'),\n",
       " ('r', 'i', 'a'),\n",
       " ('r', 'i', 't'),\n",
       " ('r', 'n', 'n'),\n",
       " ('r', 'n', 'a'),\n",
       " ('r', 'n', 't'),\n",
       " ('r', 'a', 'a'),\n",
       " ('r', 'a', 't'),\n",
       " ('r', 't', 't'),\n",
       " ('i', 'i', 'i'),\n",
       " ('i', 'i', 'n'),\n",
       " ('i', 'i', 'a'),\n",
       " ('i', 'i', 't'),\n",
       " ('i', 'n', 'n'),\n",
       " ('i', 'n', 'a'),\n",
       " ('i', 'n', 't'),\n",
       " ('i', 'a', 'a'),\n",
       " ('i', 'a', 't'),\n",
       " ('i', 't', 't'),\n",
       " ('n', 'n', 'n'),\n",
       " ('n', 'n', 'a'),\n",
       " ('n', 'n', 't'),\n",
       " ('n', 'a', 'a'),\n",
       " ('n', 'a', 't'),\n",
       " ('n', 't', 't'),\n",
       " ('a', 'a', 'a'),\n",
       " ('a', 'a', 't'),\n",
       " ('a', 't', 't'),\n",
       " ('t', 't', 't')]"
      ]
     },
     "execution_count": 5,
     "metadata": {},
     "output_type": "execute_result"
    }
   ],
   "source": [
    "# Функция должна принимать строку s и число k и возвращать все возможные комбинации из символов \n",
    "# в строке s с длинами = k с повторениями \n",
    "# (использовать itertools.combinations_with_replacement)\n",
    "\n",
    "\n",
    "def comb_with_rep(s:str, k:int) -> []:\n",
    "    return list(itertools.combinations_with_replacement(s, k))\n",
    "\n",
    "\n",
    "comb_with_rep('rinat', 3)"
   ]
  },
  {
   "cell_type": "code",
   "execution_count": 6,
   "metadata": {},
   "outputs": [
    {
     "name": "stdout",
     "output_type": "stream",
     "text": [
      "(1, '1') (2, '2') (3, '3') (4, '4')\n",
      "\n",
      "(1, 'a') (2, 'b') (3, 'c') (4, 'd')\n"
     ]
    }
   ],
   "source": [
    "# Написать функцию, которая подсчитывает количество подряд идующих символов в строке (использовать itertools.groupby)\n",
    "\n",
    "def f2(s:str):\n",
    "    return map(lambda a, :(len(list(a[1])), a[0]), itertools.groupby(s))\n",
    "\n",
    "\n",
    "print(*f2(\"1223334444\"))\n",
    "print()\n",
    "print(*f2(\"abbcccdddd\"))"
   ]
  },
  {
   "cell_type": "markdown",
   "metadata": {},
   "source": [
    "В функцию передается список списков. Нужно вернуть максимум, который достигает выражение $(a_1^2 + a_2^2 + ... + a_n^2)$%m. \n",
    "Где ai --- максимальный элемент из i-ого списка (использовать функцию из itertools)\n",
    "\n",
    "Дано $[[1, 2], [3, 4, 5], [6, 7, 8, 9]]$ и $m = 1000$\n",
    "\n",
    "Следовательно: $a_1=2$, $a_2=5$, $a_3=9$\n",
    "\n",
    "Результат: $(2^2 + 5^2 + 9^2)$ % $1000 = 110$"
   ]
  },
  {
   "cell_type": "code",
   "execution_count": 7,
   "metadata": {},
   "outputs": [
    {
     "name": "stdout",
     "output_type": "stream",
     "text": [
      "110\n"
     ]
    }
   ],
   "source": [
    "def f3(l:list, m:int) -> int:\n",
    "    return sum(itertools.starmap(pow, [ (n, 2) for n in map(max, l) ]))%m\n",
    "\n",
    "\n",
    "l = [\n",
    "    [1, 2],\n",
    "    [3, 4, 5],\n",
    "    [6, 7, 8, 9]\n",
    "]\n",
    "\n",
    "print(f3(l, m=1000))"
   ]
  },
  {
   "cell_type": "code",
   "execution_count": 8,
   "metadata": {},
   "outputs": [
    {
     "name": "stdout",
     "output_type": "stream",
     "text": [
      "0\n",
      "1\n",
      "1\n",
      "2\n",
      "3\n",
      "5\n",
      "8\n",
      "13\n",
      "21\n",
      "34\n",
      "55\n",
      "89\n",
      "144\n",
      "233\n",
      "377\n",
      "610\n",
      "987\n",
      "1597\n",
      "2584\n",
      "4181\n",
      "6765\n",
      "10946\n",
      "17711\n",
      "28657\n",
      "46368\n",
      "75025\n",
      "121393\n",
      "196418\n",
      "317811\n",
      "514229\n",
      "832040\n",
      "1346269\n",
      "2178309\n",
      "3524578\n",
      "5702887\n",
      "9227465\n",
      "14930352\n",
      "24157817\n",
      "39088169\n",
      "63245986\n",
      "102334155\n",
      "165580141\n",
      "267914296\n",
      "433494437\n",
      "701408733\n",
      "1134903170\n",
      "1836311903\n",
      "2971215073\n",
      "4807526976\n",
      "7778742049\n",
      "12586269025\n"
     ]
    }
   ],
   "source": [
    "# Напишите генератор, выводящий первые n чисел Фибоначчи.\n",
    "\n",
    "from typing import Generator\n",
    "\n",
    "\n",
    "def fib(n: int) -> Generator[int, None, None]:\n",
    "    yield 0  \n",
    "    if n > 0: yield 1  \n",
    "    last: int = 0  \n",
    "    next: int = 1  \n",
    "    for _ in range(1, n):\n",
    "        last, next = next, last + next\n",
    "        yield next \n",
    "\n",
    "if __name__ == \"__main__\":\n",
    "    for i in fib(50):\n",
    "        print(i)"
   ]
  },
  {
   "cell_type": "code",
   "execution_count": 9,
   "metadata": {},
   "outputs": [],
   "source": [
    "# Реализуйте аналог функций zip, map, enumerate.\n",
    "# https://www.python.org/dev/peps/pep-0279/             the enumerate()\n",
    "# https://docs.python.org/3/library/functions.html#zip  zip()\n",
    "# https://docs.python.org/3/library/functions.html#map  map()\n",
    "\n",
    "def my_zip(*iterables):\n",
    "    if not iterables:\n",
    "        return\n",
    "\n",
    "    iterators = [iter(x) for x in iterables]\n",
    "    while 1:\n",
    "        try:\n",
    "            result = [next(it) for it in iterators]\n",
    "        except StopIteration:\n",
    "            return\n",
    "        yield tuple(result)\n",
    "\n",
    "\n",
    "def my_map(func, iterable):\n",
    "    for x in iterable:\n",
    "        yield func(x)\n",
    "\n",
    "\n",
    "def my_enumerate(collection:str):\n",
    "    idx = 0\n",
    "    for x in collection:\n",
    "        yield idx, x\n",
    "        idx += 1"
   ]
  },
  {
   "cell_type": "code",
   "execution_count": 10,
   "metadata": {},
   "outputs": [
    {
     "name": "stdout",
     "output_type": "stream",
     "text": [
      "[(1, 1, 1), (2, 2, 2)]\n",
      "\n",
      "[1, 4, 9, 25]\n",
      "\n",
      "[(0, 'a'), (1, 'b'), (2, 'c'), (3, 'd')]\n"
     ]
    }
   ],
   "source": [
    "print(list(my_zip( [1, 2, 3, 4], [1, 2, 3], [1, 2] )))\n",
    "print()\n",
    "print(list(my_map(lambda x: x**2, [1, 2, 3, 5] )))\n",
    "print()\n",
    "print(list(my_enumerate('abcd')))"
   ]
  },
  {
   "cell_type": "code",
   "execution_count": 29,
   "metadata": {},
   "outputs": [
    {
     "name": "stdout",
     "output_type": "stream",
     "text": [
      "[('a', 'b', 'c'), ('a', 'c', 'b'), ('b', 'a', 'c'), ('b', 'c', 'a'), ('c', 'a', 'b'), ('c', 'b', 'a')]\n"
     ]
    }
   ],
   "source": [
    "# Написать функцию, принимающую 1 список и возвращающую всевозможные перестановки \n",
    "# всех элементов из этого списка в лексикографическом порядке (использовать itertools.product)\n",
    "from itertools import product\n",
    "\n",
    "\n",
    "lst = ['a', 'b', 'c',]\n",
    "print([ i for i in product(lst, repeat=len(lst)) if len(set(i)) == len(lst) ])"
   ]
  },
  {
   "cell_type": "code",
   "execution_count": null,
   "metadata": {},
   "outputs": [],
   "source": []
  }
 ],
 "metadata": {
  "kernelspec": {
   "display_name": "Python 3",
   "language": "python",
   "name": "python3"
  },
  "language_info": {
   "codemirror_mode": {
    "name": "ipython",
    "version": 3
   },
   "file_extension": ".py",
   "mimetype": "text/x-python",
   "name": "python",
   "nbconvert_exporter": "python",
   "pygments_lexer": "ipython3",
   "version": "3.8.8"
  }
 },
 "nbformat": 4,
 "nbformat_minor": 4
}
