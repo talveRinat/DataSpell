{
 "cells": [
  {
   "cell_type": "markdown",
   "source": [
    "https://habr.com/ru/post/517410/\n",
    "Программа обрабатывает русский текст"
   ],
   "metadata": {
    "collapsed": false
   }
  },
  {
   "cell_type": "code",
   "execution_count": null,
   "outputs": [],
   "source": [
    "import re\n",
    "from collections import Counter\n",
    "import os\n",
    "import pdfplumber\n",
    "import matplotlib.pyplot as plt\n",
    "import pandas as pd\n",
    "import numpy as np"
   ],
   "metadata": {
    "collapsed": false,
    "pycharm": {
     "name": "#%%\n"
    }
   }
  },
  {
   "cell_type": "code",
   "execution_count": null,
   "outputs": [],
   "source": [
    "def prepare_text(text):\n",
    "    \"\"\" Функция подготовки текста к обработке Приводит все слова к нижнему регистру, удаляет все лишние знаки\"\"\"\n",
    "\n",
    "    text = text.lower()\n",
    "    words = re.split('[^а-я]', text)\n",
    "    words = list(filter(None, words))\n",
    "    return words\n",
    "\n",
    "\n",
    "for file in os.listdir(\n",
    "        '/Users/talverinat/Documents/Python/Python and data analysis'):  # тут указажем путь рабочей среды\n",
    "    filename = os.fsdecode(file)\n",
    "    if filename.endswith('.pdf'):\n",
    "        entire_text = \" \"\n",
    "        with pdfplumber.open(file) as pdf:\n",
    "            for pdf_page in pdf.pages:\n",
    "                single_page_text = pdf_page.extract_text()\n",
    "                entire_text += single_page_text\n",
    "\n",
    "a = prepare_text(entire_text)\n",
    "\n",
    "# выводим первые 30 слов\n",
    "n = 30\n",
    "df = pd.DataFrame(Counter(a).most_common(n), columns=['words', 'freq'])\n",
    "print(df)"
   ],
   "metadata": {
    "collapsed": false,
    "pycharm": {
     "name": "#%%\n"
    }
   }
  },
  {
   "cell_type": "code",
   "execution_count": null,
   "outputs": [],
   "source": [
    "# график\n",
    "x = [x for x in range(0, 30)]\n",
    "y = df[['freq']]\n",
    "labels = df['words'].to_list()\n",
    "plt.plot(x, y)\n",
    "plt.xticks(x, labels, rotation='vertical')\n",
    "plt.margins(0.2)\n",
    "plt.subplots_adjust(bottom=0.15)\n",
    "plt.grid()\n",
    "plt.show()"
   ],
   "metadata": {
    "collapsed": false,
    "pycharm": {
     "name": "#%%\n"
    }
   }
  },
  {
   "cell_type": "code",
   "execution_count": null,
   "outputs": [],
   "source": [
    "# сравнение с Законом Ципфера\n",
    "y_pos = np.arange(30)\n",
    "plt.figure(figsize=(10, 8))\n",
    "s = 1\n",
    "expected_zipf = [df.sort_values(by='freq', ascending=False)['freq'][0] / (i + 1) ** s for i in y_pos]\n",
    "plt.bar(y_pos, df.sort_values(by='freq', ascending=False)['freq'][:30], align='center', alpha=0.5)\n",
    "plt.plot(y_pos, expected_zipf, color='r', linestyle='--', linewidth=2, alpha=0.5)\n",
    "plt.xticks(x, labels, rotation='vertical')\n",
    "plt.ylabel('Частота')\n",
    "plt.title(f'{n} часто встречаемых слов в книге')\n",
    "plt.show()"
   ],
   "metadata": {
    "collapsed": false,
    "pycharm": {
     "name": "#%%\n"
    }
   }
  }
 ],
 "metadata": {
  "kernelspec": {
   "display_name": "Python 3",
   "language": "python",
   "name": "python3"
  },
  "language_info": {
   "codemirror_mode": {
    "name": "ipython",
    "version": 2
   },
   "file_extension": ".py",
   "mimetype": "text/x-python",
   "name": "python",
   "nbconvert_exporter": "python",
   "pygments_lexer": "ipython2",
   "version": "2.7.6"
  }
 },
 "nbformat": 4,
 "nbformat_minor": 0
}