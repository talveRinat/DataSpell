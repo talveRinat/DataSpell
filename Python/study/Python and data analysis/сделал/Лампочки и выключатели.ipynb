{
 "cells": [
  {
   "cell_type": "markdown",
   "source": [
    "(1, 1, 0, 0, 1) - лампочки (1 - горит)\n",
    "(1, 1, 1, 1, 1) - переключатели (все включены)"
   ],
   "metadata": {
    "collapsed": false
   }
  },
  {
   "cell_type": "code",
   "execution_count": null,
   "outputs": [],
   "source": [
    "from collections import Counter\n",
    "\n",
    "\n",
    "n = int(input(\"Введите число n: \"))\n",
    "lamps = [0] * n # количество не горящих лампочк\n",
    "switches = [x for x in range(1, n + 1)] # количество переключателей\n",
    "lst = []\n",
    "for i, v in enumerate(lamps):\n",
    "    for j in switches:\n",
    "        if i % j == 0:\n",
    "            lst.append(i)\n",
    "\n",
    "cnt = Counter(lst)\n",
    "print(cnt) # выводит какая и сколько раз лампочка меняла свое состояние\n",
    "\n",
    "print(len([x for x in [*cnt.values()] if x % 2 != 0])) # выводит количество горящих лампочек"
   ],
   "metadata": {
    "collapsed": false,
    "pycharm": {
     "name": "#%%\n"
    }
   }
  },
  {
   "cell_type": "markdown",
   "source": [
    "подсчитывыю сколько раз лампочка инвертирует свое состояние\n",
    "нечетное число раз сигналирует что лампочка осталась включенной, четное чило раз говорит что она выключенна\n"
   ],
   "metadata": {
    "collapsed": false,
    "pycharm": {
     "name": "#%% md\n"
    }
   }
  }
 ],
 "metadata": {
  "kernelspec": {
   "display_name": "Python 3",
   "language": "python",
   "name": "python3"
  },
  "language_info": {
   "codemirror_mode": {
    "name": "ipython",
    "version": 2
   },
   "file_extension": ".py",
   "mimetype": "text/x-python",
   "name": "python",
   "nbconvert_exporter": "python",
   "pygments_lexer": "ipython2",
   "version": "2.7.6"
  }
 },
 "nbformat": 4,
 "nbformat_minor": 0
}