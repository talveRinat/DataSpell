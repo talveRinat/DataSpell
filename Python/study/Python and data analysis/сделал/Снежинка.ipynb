{
 "cells": [
  {
   "cell_type": "code",
   "execution_count": 2,
   "metadata": {},
   "outputs": [
    {
     "name": "stdout",
     "output_type": "stream",
     "text": [
      "* . . * . *\n",
      ". * . * * .\n",
      ". . * * . .\n",
      "* * * * * *\n",
      ". * . * * .\n",
      "* . . * . *\n"
     ]
    }
   ],
   "source": [
    "# задача 'Снежинка' через list comprehension\n",
    "num = int(input())\n",
    "print(*(\" \".join('*' if i in (j, num//2, num-1-j) or j==num//2 else '.' for i in range(num)) for j in range(num)), sep=\"\\n\")"
   ]
  }
 ],
 "metadata": {
  "kernelspec": {
   "display_name": "Python 3",
   "language": "python",
   "name": "python3"
  },
  "language_info": {
   "codemirror_mode": {
    "name": "ipython",
    "version": 3
   },
   "file_extension": ".py",
   "mimetype": "text/x-python",
   "name": "python",
   "nbconvert_exporter": "python",
   "pygments_lexer": "ipython3",
   "version": "3.8.5"
  }
 },
 "nbformat": 4,
 "nbformat_minor": 4
}