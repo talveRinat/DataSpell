{
 "cells": [
  {
   "cell_type": "markdown",
   "metadata": {
    "collapsed": true,
    "pycharm": {
     "name": "#%% md\n"
    }
   },
   "source": [
    "В кинотеатре достаточно длинные ряды. Там идёт романтическая комедия, на которую ходят исключительно любовные парочки, выбирающие случайным образом два рядом расположенных свободных места в ряду. Какая доля мест останется свободной, когда очередная пара уже не будет иметь возможности сесть рядом?"
   ]
  },
  {
   "cell_type": "code",
   "execution_count": 9,
   "outputs": [
    {
     "name": "stdout",
     "output_type": "stream",
     "text": [
      "свободных мест  100 их процент в эксперименте равен:  0.132\n"
     ]
    }
   ],
   "source": [
    "import random\n",
    "\n",
    "\n",
    "k = int(input('Введите кол-во экспериментов: '))\n",
    "r = int(input('Введите кол-во рядов в зале: '))\n",
    "m = int(input('Введите кол-во мест в одном ряду: '))\n",
    "\n",
    "for _ in range(k):\n",
    "    freeSeats = set()\n",
    "    oneSeat = set()\n",
    "    freeSeatsList = []\n",
    "\n",
    "    for i in range(r):\n",
    "        for j in range(m):\n",
    "            freeSeatsList.append(str(i) + ',' + str(j))\n",
    "    random.shuffle(freeSeatsList)\n",
    "    freeSeats = set(freeSeatsList)\n",
    "\n",
    "    while len(freeSeats) > 0:\n",
    "        newPlace = freeSeats.pop()\n",
    "        x, y = [int(s) for s in newPlace.split(',')]\n",
    "\n",
    "        if(str(x) + ',' + str(y + 1)) in freeSeats:\n",
    "            freeSeats.remove(str(x) + ',' + str(y + 1))\n",
    "        elif(str(x) + ',' + str(y - 1)) in freeSeats:\n",
    "            freeSeats.remove(str(x) + ',' + str(y - 1))\n",
    "        else:\n",
    "            oneSeat.add(newPlace)\n",
    "\n",
    "answer = len(oneSeat) / (r * m)\n",
    "print('свободных мест ', (i+1), 'их доля в эксперименте равна: ', answer)"
   ],
   "metadata": {
    "collapsed": false,
    "pycharm": {
     "name": "#%%\n"
    }
   }
  }
 ],
 "metadata": {
  "kernelspec": {
   "display_name": "Python 3",
   "language": "python",
   "name": "python3"
  },
  "language_info": {
   "codemirror_mode": {
    "name": "ipython",
    "version": 2
   },
   "file_extension": ".py",
   "mimetype": "text/x-python",
   "name": "python",
   "nbconvert_exporter": "python",
   "pygments_lexer": "ipython2",
   "version": "2.7.6"
  }
 },
 "nbformat": 4,
 "nbformat_minor": 0
}