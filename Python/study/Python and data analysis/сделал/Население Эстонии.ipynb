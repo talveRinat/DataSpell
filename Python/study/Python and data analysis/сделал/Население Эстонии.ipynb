{
 "cells": [
  {
   "cell_type": "code",
   "execution_count": null,
   "metadata": {
    "collapsed": true
   },
   "outputs": [],
   "source": [
    "import matplotlib.pyplot as plt\n",
    "import numpy as np\n",
    "from scipy.linalg import lstsq\n",
    "import pandas as pd\n",
    "\n",
    "\n",
    "dt = pd.read_csv(\"Est population.csv\", usecols=['Years', 'Numbers'], sep=';')\n",
    "\n",
    "x = np.array([i for i in range(1, 8)])\n",
    "nums = dt[\"Numbers\"]\n",
    "plt.subplots()\n",
    "plt.plot(x, nums, 'ro')\n",
    "plt.plot(x, nums, 'b')\n",
    "\n",
    "# График в логарифимических координатах по у\n",
    "plt.subplots()\n",
    "plt.plot(x, np.log(nums))\n",
    "\n",
    "# График в логарифимических координатах по х и по у\n",
    "plt.subplots()\n",
    "plt.plot(np.log(x), np.log(nums))\n",
    "\n",
    "# задаем вектор m = [x**2, x, E]\n",
    "m = np.vstack((x ** 2, x, np.ones(len(x)))).T\n",
    "\n",
    "# находим коэффициенты при составляющих вектора m\n",
    "s = lstsq(m, nums)[0]\n",
    "print(s[0], s[1], s[2])\n",
    "\n",
    "plt.subplots()\n",
    "plt.plot(x, nums, 'ro')\n",
    "plt.plot(x, nums, 'b')\n",
    "x = np.array([i for i in range(1, 9)])\n",
    "plt.plot(x, s[0] * (x ** 2) + s[1] * x + s[2], 'r')\n",
    "\n",
    "plt.grid()\n",
    "plt.show()"
   ]
  },
  {
   "cell_type": "markdown",
   "source": [
    "И хотел попробовать сделать базовые прогнозы для прогнозирования временных рядов"
   ],
   "metadata": {
    "collapsed": false
   }
  },
  {
   "cell_type": "code",
   "execution_count": null,
   "outputs": [],
   "source": [
    "from pandas import read_csv, concat\n",
    "from matplotlib import pyplot as plt\n",
    "from sklearn.metrics import mean_squared_error\n",
    "import numpy as np\n",
    "\n",
    "\n",
    "dt = read_csv('Est population.csv', usecols=['Years', 'Numbers'], sep=';')\n",
    "values = dt[\"Numbers\"]\n",
    "x = np.array([i for i in range(1, 8)])\n",
    "plt.subplots()\n",
    "plt.plot(x, values, 'ro')\n",
    "plt.plot(x, values, 'b')\n",
    "plt.xlabel('Года')\n",
    "plt.ylabel('Численность ')\n",
    "plt.title('Население Эстонии')\n",
    "plt.show()\n",
    "\n",
    "# Create lagged dataset\n",
    "dataframe = concat([values.shift(1), values], axis=1)\n",
    "dataframe.columns = ['t-1', 't+1']\n",
    "print(dataframe.head())\n",
    "\n",
    "# split into train and test sets\n",
    "X = dataframe.values\n",
    "train_size = int(len(X) * 0.66)\n",
    "train, test = X[1:train_size], X[train_size:]\n",
    "train_X, train_y = train[:, 0], train[:, 1]\n",
    "test_X, test_y = test[:, 0], test[:, 1]\n",
    "\n",
    "\n",
    "# persistence model\n",
    "def model_persistence(x):\n",
    "    return x\n",
    "\n",
    "\n",
    "# walk-forward validation\n",
    "predictions = list()\n",
    "for x in test_X:\n",
    "    yhat = model_persistence(x)\n",
    "    predictions.append(yhat)\n",
    "test_score = mean_squared_error(test_y, predictions)\n",
    "print('Test MSE: %.3f' % test_score)\n",
    "\n",
    "\n",
    "# plot predictions and expected results\n",
    "plt.plot(train_y)\n",
    "plt.plot([None for i in train_y] + [x for x in test_y])\n",
    "plt.plot([None for i in train_y] + [x for x in predictions])\n",
    "plt.show()"
   ],
   "metadata": {
    "collapsed": false,
    "pycharm": {
     "name": "#%%\n"
    }
   }
  },
  {
   "cell_type": "markdown",
   "source": [
    "но кажись из-за того что набор очень маленький, ошибка большая и тестовая выборка полностью противоположна действительной"
   ],
   "metadata": {
    "collapsed": false
   }
  }
 ],
 "metadata": {
  "kernelspec": {
   "display_name": "Python 3",
   "language": "python",
   "name": "python3"
  },
  "language_info": {
   "codemirror_mode": {
    "name": "ipython",
    "version": 2
   },
   "file_extension": ".py",
   "mimetype": "text/x-python",
   "name": "python",
   "nbconvert_exporter": "python",
   "pygments_lexer": "ipython2",
   "version": "2.7.6"
  }
 },
 "nbformat": 4,
 "nbformat_minor": 0
}