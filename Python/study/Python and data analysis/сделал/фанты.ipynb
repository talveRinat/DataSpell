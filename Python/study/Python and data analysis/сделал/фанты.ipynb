{
 "cells": [
  {
   "cell_type": "markdown",
   "metadata": {
    "collapsed": true,
    "pycharm": {
     "name": "#%% md\n"
    }
   },
   "source": [
    "Задание такое. Есть компания из большого числа людей, например из 16. Они записывают желания - “фанты”, кладут их в шляпу перемешивают и потом выбирают в случайном порядке. Проведя серию компьютерных экспериментов (100000 раз, допустим) найдите экспериментально шансы, что никому не достанется свой фант.\n",
    "\n",
    "Используете оператор all или any, можно map и лямбда функции, проверку на то, что в массиве нет нулей с помощью булевиазации целых (см. первый абзац). К нулям всё можно свести если из range(16) – номеров фантов, отнять его же переставленного в случайном порядке (для перестановки можно использовать random.sample).\n",
    "\n",
    "Дополнительно попробуйте догадаться как примерный ответ связан со знаменитым числом e.\n",
    "\n",
    "\n"
   ]
  },
  {
   "cell_type": "code",
   "execution_count": 9,
   "metadata": {
    "pycharm": {
     "name": "#%%\n"
    }
   },
   "outputs": [
    {
     "name": "stdout",
     "output_type": "stream",
     "text": [
      "0.0408\n"
     ]
    }
   ],
   "source": [
    "# вариант 1.1\n",
    "# при к=2 вероятность стремится к ~0.5\n",
    "# при k=16 вероятность стремится к нулю\n",
    "\n",
    "import random\n",
    "\n",
    "k = int(input())\n",
    "index_array = [i for i in range(0,k)]\n",
    "c = 0\n",
    "for j in range(10000):\n",
    "    array = random.sample(range(0, k), k)\n",
    "    if all(x == y for x,y in zip(index_array, array)):\n",
    "        c += 1\n",
    "\n",
    "print(c/10000)"
   ]
  },
  {
   "cell_type": "code",
   "execution_count": 4,
   "metadata": {
    "pycharm": {
     "name": "#%%\n"
    }
   },
   "outputs": [
    {
     "name": "stdout",
     "output_type": "stream",
     "text": [
      "0.0\n"
     ]
    }
   ],
   "source": [
    "# вариант 1.2\n",
    "# тоже самое только при использование библиотечных функций\n",
    "from operator import eq\n",
    "from itertools import starmap\n",
    "import random\n",
    "\n",
    "k = int(input())\n",
    "index_array = [i for i in range(0, k)]\n",
    "c = 0\n",
    "for j in range(100000):\n",
    "    array = random.sample(range(0, k), k)\n",
    "    if all(starmap(eq, zip(index_array, array))):\n",
    "        c += 1\n",
    "print(c/500000)"
   ]
  },
  {
   "cell_type": "markdown",
   "metadata": {},
   "source": [
    "Функция zip() объединяет каждый i-ый элемент одного объекта с i-ым элементом остальных до тех пор, пока не закончится самый короткий объект.\n",
    "\n",
    "Функция eq() делает то же, что и “==” — сравнивает два объекта и возвращает True, если они равны и False в ином случае. Функция — это объект и она может быть, к примеру, передана в качестве аргумента для другой функции.\n",
    "\n",
    "Функция starmap() создает итератор, который применяет другую функцию к списку объектов. Используется тогда, когда объекты уже сгруппированы в кортежи"
   ]
  },
  {
   "cell_type": "code",
   "execution_count": null,
   "metadata": {
    "pycharm": {
     "name": "#%%\n"
    }
   },
   "outputs": [],
   "source": [
    "# вариант 2\n",
    "import random\n",
    "\n",
    "fanti = []\n",
    "for i in range(1,17):\n",
    "    fanti.append(i)\n",
    "kol = 0\n",
    "for k in range(1000000):\n",
    "    temp = random.sample(fanti,16)\n",
    "    for i in range(16):\n",
    "        temp[i] -= fanti[i]\n",
    "    if all(temp):\n",
    "        kol += 1\n",
    "print('Шансы, что никому не достанется свой фант, равны ',kol/1000000 , 'из миллиона (1 000 000)')\n",
    "\n"
   ]
  },
  {
   "cell_type": "code",
   "execution_count": 1,
   "metadata": {
    "pycharm": {
     "name": "#%%\n"
    }
   },
   "outputs": [
    {
     "name": "stdout",
     "output_type": "stream",
     "text": [
      "0.368\n"
     ]
    }
   ],
   "source": [
    "# вариант 3\n",
    "import random\n",
    "M = 500000\n",
    "n = 20;\n",
    "k = 0;\n",
    "for _ in range(M):\n",
    "    if all(map(lambda x,y: x - y, range(n),random.sample(range(n),n))):\n",
    "        k += 1\n",
    "print(round(k/M,3))"
   ]
  },
  {
   "cell_type": "markdown",
   "metadata": {},
   "source": [
    "**для третьего варианта**\n",
    "\n",
    "Просто изящнее было, мне кажется, использовать all и обойтись без циклов\n",
    "(за исключением цикла по экспериментам), для подсчёта поэлементной разности\n",
    "двух массивов цикл необязателен.\n",
    "\n",
    "Работает all в данном случае как индикатор того, что все нули в списке.\n"
   ]
  }
 ],
 "metadata": {
  "kernelspec": {
   "display_name": "Python 3",
   "language": "python",
   "name": "python3"
  },
  "language_info": {
   "codemirror_mode": {
    "name": "ipython",
    "version": 3
   },
   "file_extension": ".py",
   "mimetype": "text/x-python",
   "name": "python",
   "nbconvert_exporter": "python",
   "pygments_lexer": "ipython3",
   "version": "3.8.5"
  }
 },
 "nbformat": 4,
 "nbformat_minor": 1
}
