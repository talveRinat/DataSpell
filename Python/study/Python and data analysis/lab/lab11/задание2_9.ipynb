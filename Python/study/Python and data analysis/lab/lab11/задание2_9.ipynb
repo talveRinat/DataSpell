{
 "cells": [
  {
   "cell_type": "code",
   "execution_count": 7,
   "id": "legitimate-stranger",
   "metadata": {},
   "outputs": [],
   "source": [
    "import numpy as np\n",
    "import pandas as pd\n",
    "\n",
    "import seaborn as sns\n",
    "import matplotlib.pyplot as plt\n",
    "%matplotlib inline\n",
    "\n",
    "\n",
    "import warnings\n",
    "warnings.filterwarnings(\"ignore\") # отключаем предупреждения "
   ]
  },
  {
   "cell_type": "code",
   "execution_count": 8,
   "id": "occupational-category",
   "metadata": {},
   "outputs": [],
   "source": [
    "data = pd.read_csv('credit.csv', encoding='cp1251', delimiter=';')"
   ]
  },
  {
   "cell_type": "code",
   "execution_count": 9,
   "id": "intellectual-shopper",
   "metadata": {},
   "outputs": [
    {
     "data": {
      "text/html": [
       "<div>\n",
       "<style scoped>\n",
       "    .dataframe tbody tr th:only-of-type {\n",
       "        vertical-align: middle;\n",
       "    }\n",
       "\n",
       "    .dataframe tbody tr th {\n",
       "        vertical-align: top;\n",
       "    }\n",
       "\n",
       "    .dataframe thead th {\n",
       "        text-align: right;\n",
       "    }\n",
       "</style>\n",
       "<table border=\"1\" class=\"dataframe\">\n",
       "  <thead>\n",
       "    <tr style=\"text-align: right;\">\n",
       "      <th></th>\n",
       "      <th>0</th>\n",
       "      <th>1</th>\n",
       "      <th>2</th>\n",
       "      <th>3</th>\n",
       "      <th>4</th>\n",
       "    </tr>\n",
       "  </thead>\n",
       "  <tbody>\n",
       "    <tr>\n",
       "      <th>client_id</th>\n",
       "      <td>1</td>\n",
       "      <td>2</td>\n",
       "      <td>3</td>\n",
       "      <td>4</td>\n",
       "      <td>5</td>\n",
       "    </tr>\n",
       "    <tr>\n",
       "      <th>gender</th>\n",
       "      <td>M</td>\n",
       "      <td>F</td>\n",
       "      <td>M</td>\n",
       "      <td>F</td>\n",
       "      <td>M</td>\n",
       "    </tr>\n",
       "    <tr>\n",
       "      <th>age</th>\n",
       "      <td>NaN</td>\n",
       "      <td>NaN</td>\n",
       "      <td>32.0</td>\n",
       "      <td>27.0</td>\n",
       "      <td>45.0</td>\n",
       "    </tr>\n",
       "    <tr>\n",
       "      <th>marital_status</th>\n",
       "      <td>NaN</td>\n",
       "      <td>MAR</td>\n",
       "      <td>MAR</td>\n",
       "      <td>NaN</td>\n",
       "      <td>NaN</td>\n",
       "    </tr>\n",
       "    <tr>\n",
       "      <th>job_position</th>\n",
       "      <td>UMN</td>\n",
       "      <td>UMN</td>\n",
       "      <td>SPC</td>\n",
       "      <td>SPC</td>\n",
       "      <td>SPC</td>\n",
       "    </tr>\n",
       "    <tr>\n",
       "      <th>credit_sum</th>\n",
       "      <td>59998,00</td>\n",
       "      <td>10889,00</td>\n",
       "      <td>10728,00</td>\n",
       "      <td>12009,09</td>\n",
       "      <td>NaN</td>\n",
       "    </tr>\n",
       "    <tr>\n",
       "      <th>credit_month</th>\n",
       "      <td>10</td>\n",
       "      <td>6</td>\n",
       "      <td>12</td>\n",
       "      <td>12</td>\n",
       "      <td>10</td>\n",
       "    </tr>\n",
       "    <tr>\n",
       "      <th>tariff_id</th>\n",
       "      <td>1.6</td>\n",
       "      <td>1.1</td>\n",
       "      <td>1.1</td>\n",
       "      <td>1.1</td>\n",
       "      <td>1.1</td>\n",
       "    </tr>\n",
       "    <tr>\n",
       "      <th>score_shk</th>\n",
       "      <td>NaN</td>\n",
       "      <td>NaN</td>\n",
       "      <td>NaN</td>\n",
       "      <td>NaN</td>\n",
       "      <td>0,421385</td>\n",
       "    </tr>\n",
       "    <tr>\n",
       "      <th>education</th>\n",
       "      <td>GRD</td>\n",
       "      <td>NaN</td>\n",
       "      <td>NaN</td>\n",
       "      <td>NaN</td>\n",
       "      <td>SCH</td>\n",
       "    </tr>\n",
       "    <tr>\n",
       "      <th>living_region</th>\n",
       "      <td>КРАСНОДАРСКИЙ КРАЙ</td>\n",
       "      <td>МОСКВА</td>\n",
       "      <td>ОБЛ САРАТОВСКАЯ</td>\n",
       "      <td>ОБЛ ВОЛГОГРАДСКАЯ</td>\n",
       "      <td>ЧЕЛЯБИНСКАЯ ОБЛАСТЬ</td>\n",
       "    </tr>\n",
       "    <tr>\n",
       "      <th>monthly_income</th>\n",
       "      <td>30000.0</td>\n",
       "      <td>NaN</td>\n",
       "      <td>NaN</td>\n",
       "      <td>NaN</td>\n",
       "      <td>NaN</td>\n",
       "    </tr>\n",
       "    <tr>\n",
       "      <th>credit_count</th>\n",
       "      <td>1.0</td>\n",
       "      <td>2.0</td>\n",
       "      <td>5.0</td>\n",
       "      <td>2.0</td>\n",
       "      <td>1.0</td>\n",
       "    </tr>\n",
       "    <tr>\n",
       "      <th>overdue_credit_count</th>\n",
       "      <td>1.0</td>\n",
       "      <td>0.0</td>\n",
       "      <td>0.0</td>\n",
       "      <td>0.0</td>\n",
       "      <td>0.0</td>\n",
       "    </tr>\n",
       "    <tr>\n",
       "      <th>open_account_flg</th>\n",
       "      <td>0</td>\n",
       "      <td>0</td>\n",
       "      <td>0</td>\n",
       "      <td>0</td>\n",
       "      <td>0</td>\n",
       "    </tr>\n",
       "  </tbody>\n",
       "</table>\n",
       "</div>"
      ],
      "text/plain": [
       "                                       0         1                2  \\\n",
       "client_id                              1         2                3   \n",
       "gender                                 M         F                M   \n",
       "age                                  NaN       NaN             32.0   \n",
       "marital_status                       NaN       MAR              MAR   \n",
       "job_position                         UMN       UMN              SPC   \n",
       "credit_sum                      59998,00  10889,00         10728,00   \n",
       "credit_month                          10         6               12   \n",
       "tariff_id                            1.6       1.1              1.1   \n",
       "score_shk                            NaN       NaN              NaN   \n",
       "education                            GRD       NaN              NaN   \n",
       "living_region         КРАСНОДАРСКИЙ КРАЙ    МОСКВА  ОБЛ САРАТОВСКАЯ   \n",
       "monthly_income                   30000.0       NaN              NaN   \n",
       "credit_count                         1.0       2.0              5.0   \n",
       "overdue_credit_count                 1.0       0.0              0.0   \n",
       "open_account_flg                       0         0                0   \n",
       "\n",
       "                                      3                    4  \n",
       "client_id                             4                    5  \n",
       "gender                                F                    M  \n",
       "age                                27.0                 45.0  \n",
       "marital_status                      NaN                  NaN  \n",
       "job_position                        SPC                  SPC  \n",
       "credit_sum                     12009,09                  NaN  \n",
       "credit_month                         12                   10  \n",
       "tariff_id                           1.1                  1.1  \n",
       "score_shk                           NaN             0,421385  \n",
       "education                           NaN                  SCH  \n",
       "living_region         ОБЛ ВОЛГОГРАДСКАЯ  ЧЕЛЯБИНСКАЯ ОБЛАСТЬ  \n",
       "monthly_income                      NaN                  NaN  \n",
       "credit_count                        2.0                  1.0  \n",
       "overdue_credit_count                0.0                  0.0  \n",
       "open_account_flg                      0                    0  "
      ]
     },
     "execution_count": 9,
     "metadata": {},
     "output_type": "execute_result"
    }
   ],
   "source": [
    "data.head().T"
   ]
  },
  {
   "cell_type": "markdown",
   "id": "composite-continuity",
   "metadata": {},
   "source": [
    "# Очистка "
   ]
  },
  {
   "cell_type": "code",
   "execution_count": 10,
   "id": "sacred-instruction",
   "metadata": {},
   "outputs": [
    {
     "data": {
      "text/plain": [
       "count     170743\n",
       "unique         5\n",
       "top          MAR\n",
       "freq       93954\n",
       "Name: marital_status, dtype: object"
      ]
     },
     "execution_count": 10,
     "metadata": {},
     "output_type": "execute_result"
    }
   ],
   "source": [
    "# посмотрим столбец marital_status и узнаем какое значение в нем является самым частым \n",
    "data.marital_status.describe()"
   ]
  },
  {
   "cell_type": "code",
   "execution_count": 11,
   "id": "timely-rubber",
   "metadata": {},
   "outputs": [
    {
     "data": {
      "text/plain": [
       "count     170741\n",
       "unique         5\n",
       "top          SCH\n",
       "freq       87537\n",
       "Name: education, dtype: object"
      ]
     },
     "execution_count": 11,
     "metadata": {},
     "output_type": "execute_result"
    }
   ],
   "source": [
    "# посмотрим столбец education и узнаем какое значение в нем является самым частым \n",
    "data.education.describe()"
   ]
  },
  {
   "cell_type": "code",
   "execution_count": 12,
   "id": "threaded-forth",
   "metadata": {},
   "outputs": [
    {
     "data": {
      "text/plain": [
       "count             170554\n",
       "unique               301\n",
       "top       ОБЛ МОСКОВСКАЯ\n",
       "freq               12228\n",
       "Name: living_region, dtype: object"
      ]
     },
     "execution_count": 12,
     "metadata": {},
     "output_type": "execute_result"
    }
   ],
   "source": [
    "# посмотрим столбец living_region и узнаем какое значение в нем является самым частым \n",
    "data.living_region.describe() "
   ]
  },
  {
   "cell_type": "code",
   "execution_count": 13,
   "id": "iraqi-classification",
   "metadata": {},
   "outputs": [],
   "source": [
    "# заполним нечисловые столбцы с пропусками самыми часто встречающимися значениями\n",
    "data.marital_status.fillna('MAR', inplace=True)\n",
    "data.education.fillna('SCH', inplace=True)\n",
    "data.living_region.fillna(\"ОБЛ МОСКОВСКАЯ\", inplace = True)"
   ]
  },
  {
   "cell_type": "code",
   "execution_count": 14,
   "id": "beginning-portsmouth",
   "metadata": {},
   "outputs": [],
   "source": [
    "# заполним числовые столбцы с пропусками медианными значениями\n",
    "data.age.fillna(data.age.median(), inplace=True)\n",
    "data.credit_count.fillna(data.credit_count.median(), inplace=True)\n",
    "data.overdue_credit_count.fillna(data.overdue_credit_count.median(), inplace=True)"
   ]
  },
  {
   "cell_type": "code",
   "execution_count": 15,
   "id": "indie-degree",
   "metadata": {},
   "outputs": [],
   "source": [
    "#  в столбцах 'credit_sum', 'score_shk' поменяем запятые на точки и преобразуем их в числовой  формат\n",
    "for i in ['credit_sum', 'score_shk']:\n",
    "    data[i] = data[i].str.replace(',', '.').astype('float')"
   ]
  },
  {
   "cell_type": "code",
   "execution_count": 16,
   "id": "reserved-conditions",
   "metadata": {},
   "outputs": [],
   "source": [
    "# теперь числовыми столбцы 'credit_sum', 'score_shk' заполним медианными значениями\n",
    "data.score_shk.fillna(data.score_shk.median(), inplace=True)\n",
    "data.monthly_income.fillna(data.monthly_income.median(), inplace=True)\n",
    "data.credit_sum.fillna(data.credit_sum.median(), inplace=True)"
   ]
  },
  {
   "cell_type": "code",
   "execution_count": 17,
   "id": "systematic-solid",
   "metadata": {},
   "outputs": [
    {
     "name": "stdout",
     "output_type": "stream",
     "text": [
      "<class 'pandas.core.frame.DataFrame'>\n",
      "RangeIndex: 170746 entries, 0 to 170745\n",
      "Data columns (total 15 columns):\n",
      " #   Column                Non-Null Count   Dtype  \n",
      "---  ------                --------------   -----  \n",
      " 0   client_id             170746 non-null  int64  \n",
      " 1   gender                170746 non-null  object \n",
      " 2   age                   170746 non-null  float64\n",
      " 3   marital_status        170746 non-null  object \n",
      " 4   job_position          170746 non-null  object \n",
      " 5   credit_sum            170746 non-null  float64\n",
      " 6   credit_month          170746 non-null  int64  \n",
      " 7   tariff_id             170746 non-null  float64\n",
      " 8   score_shk             170746 non-null  float64\n",
      " 9   education             170746 non-null  object \n",
      " 10  living_region         170746 non-null  object \n",
      " 11  monthly_income        170746 non-null  float64\n",
      " 12  credit_count          170746 non-null  float64\n",
      " 13  overdue_credit_count  170746 non-null  float64\n",
      " 14  open_account_flg      170746 non-null  int64  \n",
      "dtypes: float64(7), int64(3), object(5)\n",
      "memory usage: 19.5+ MB\n"
     ]
    }
   ],
   "source": [
    "data.info()"
   ]
  },
  {
   "cell_type": "markdown",
   "id": "raising-geography",
   "metadata": {},
   "source": [
    "# Разделим наши данные на train и test "
   ]
  },
  {
   "cell_type": "code",
   "execution_count": 18,
   "id": "major-price",
   "metadata": {},
   "outputs": [],
   "source": [
    "from numpy.random import RandomState\n",
    "\n",
    "\n",
    "rng = RandomState()\n",
    "\n",
    "train = data.sample(frac=0.7, random_state=rng)\n",
    "test = data.loc[~data.index.isin(train.index)]"
   ]
  },
  {
   "cell_type": "markdown",
   "id": "little-monitor",
   "metadata": {},
   "source": [
    "[to_csv](https://pandas.pydata.org/pandas-docs/stable/reference/api/pandas.DataFrame.to_csv.html)"
   ]
  },
  {
   "cell_type": "code",
   "execution_count": 19,
   "id": "freelance-carbon",
   "metadata": {},
   "outputs": [],
   "source": [
    "train.to_csv('train.csv', index=False)"
   ]
  },
  {
   "cell_type": "code",
   "execution_count": 20,
   "id": "going-horror",
   "metadata": {},
   "outputs": [],
   "source": [
    "test.to_csv('test.csv', index=False)"
   ]
  },
  {
   "cell_type": "code",
   "execution_count": 21,
   "id": "universal-damage",
   "metadata": {},
   "outputs": [
    {
     "name": "stdout",
     "output_type": "stream",
     "text": [
      "0    98590\n",
      "1    20932\n",
      "Name: open_account_flg, dtype: int64\n"
     ]
    },
    {
     "data": {
      "image/png": "[encoded data removed]",
      "text/plain": [
       "<Figure size 432x288 with 1 Axes>"
      ]
     },
     "metadata": {
      "needs_background": "light"
     },
     "output_type": "display_data"
    }
   ],
   "source": [
    "# В датафрейме присутствует явный дисбаланс классов, \n",
    "# поэтому при построении моделей и оценке качества это необходимо учитывать.\n",
    "print(train['open_account_flg'].value_counts())\n",
    "sns.countplot(train['open_account_flg']);"
   ]
  },
  {
   "cell_type": "markdown",
   "id": "recorded-mounting",
   "metadata": {},
   "source": [
    "# Случайный Лес \n",
    "## Нахождение информативных признаков "
   ]
  },
  {
   "cell_type": "code",
   "execution_count": 2,
   "id": "legitimate-bathroom",
   "metadata": {},
   "outputs": [],
   "source": [
    "from sklearn.ensemble import RandomForestClassifier\n",
    "\n",
    "from sklearn.model_selection import GridSearchCV\n",
    "from sklearn.model_selection import train_test_split\n",
    "from imblearn.under_sampling import RandomUnderSampler\n",
    "from sklearn.preprocessing import StandardScaler"
   ]
  },
  {
   "cell_type": "code",
   "execution_count": 3,
   "id": "right-companion",
   "metadata": {},
   "outputs": [],
   "source": [
    "# Чтобы решить проблему дисбаланса классов, можно использовать Over или UnderSampling\n",
    "# Используем UnderSampling \n",
    "rus = RandomUnderSampler(random_state = 0)"
   ]
  },
  {
   "cell_type": "code",
   "execution_count": 4,
   "id": "boxed-diversity",
   "metadata": {},
   "outputs": [],
   "source": [
    "# Применим к датафрейму StandartScaler(), \n",
    "# после чего решим проблему дисбаланса классов путем применения RandomUnderSampler.\n",
    "stsc = StandardScaler()"
   ]
  },
  {
   "cell_type": "code",
   "execution_count": 23,
   "id": "primary-preserve",
   "metadata": {},
   "outputs": [],
   "source": [
    "# Отделим целевую переменную от всех остальных признаков\n",
    "x = train.drop('open_account_flg', axis = 1)\n",
    "x = pd.get_dummies(x)\n",
    "y = train['open_account_flg']"
   ]
  },
  {
   "cell_type": "code",
   "execution_count": 24,
   "id": "occupied-prophet",
   "metadata": {},
   "outputs": [],
   "source": [
    "# Отмасштабируем данные\n",
    "stsc_df = pd.DataFrame(stsc.fit_transform(x), columns = x.columns)\n",
    "# Решим проблему дисбаланса\n",
    "X_resampled, y_resampled = rus.fit_sample(stsc_df, y)"
   ]
  },
  {
   "cell_type": "code",
   "execution_count": 25,
   "id": "after-apache",
   "metadata": {},
   "outputs": [],
   "source": [
    "x_train, x_test, y_train, y_test =  train_test_split(x, y, test_size=0.3, random_state=42)"
   ]
  },
  {
   "cell_type": "code",
   "execution_count": 26,
   "id": "veterinary-accused",
   "metadata": {},
   "outputs": [],
   "source": [
    "# создадим деревья решений\n",
    "clf_rf = RandomForestClassifier()"
   ]
  },
  {
   "cell_type": "code",
   "execution_count": 27,
   "id": "broken-abraham",
   "metadata": {},
   "outputs": [],
   "source": [
    "parametrs = {\"n_estimators\": list(range(5, 20, 5)), \n",
    "             \"max_depth\": list(range(1, 12, 2)),\n",
    "             \"min_samples_leaf\": list(range(1, 7)),\n",
    "             \"min_samples_split\": list(range(2, 9, 2))}"
   ]
  },
  {
   "cell_type": "code",
   "execution_count": 28,
   "id": "killing-participant",
   "metadata": {},
   "outputs": [
    {
     "data": {
      "text/plain": [
       "GridSearchCV(cv=5, estimator=RandomForestClassifier(), n_jobs=-1,\n",
       "             param_grid={'max_depth': [1, 3, 5, 7, 9, 11],\n",
       "                         'min_samples_leaf': [1, 2, 3, 4, 5, 6],\n",
       "                         'min_samples_split': [2, 4, 6, 8],\n",
       "                         'n_estimators': [5, 10, 15]})"
      ]
     },
     "execution_count": 28,
     "metadata": {},
     "output_type": "execute_result"
    }
   ],
   "source": [
    "grid_search_cv_clf = GridSearchCV(clf_rf, parametrs, cv=5, n_jobs=-1)\n",
    "grid_search_cv_clf"
   ]
  },
  {
   "cell_type": "markdown",
   "id": "educational-overhead",
   "metadata": {},
   "source": [
    "cv=5 говорит о том, что в каждый проверочный семпл при кросс-валидации попадет 100/5=20% данных. На 80% учимся, на 20% проверяем.\n",
    "\n",
    "Изменение cv конечно изменит итоговый результат, и подбирать значение нужно исходя из к-ва доступных данных. cv=5 это такое довольно универсальное значение."
   ]
  },
  {
   "cell_type": "code",
   "execution_count": 29,
   "id": "apart-cathedral",
   "metadata": {},
   "outputs": [
    {
     "data": {
      "text/plain": [
       "GridSearchCV(cv=5, estimator=RandomForestClassifier(), n_jobs=-1,\n",
       "             param_grid={'max_depth': [1, 3, 5, 7, 9, 11],\n",
       "                         'min_samples_leaf': [1, 2, 3, 4, 5, 6],\n",
       "                         'min_samples_split': [2, 4, 6, 8],\n",
       "                         'n_estimators': [5, 10, 15]})"
      ]
     },
     "execution_count": 29,
     "metadata": {},
     "output_type": "execute_result"
    }
   ],
   "source": [
    "# обучим на разных параметрах \n",
    "grid_search_cv_clf.fit(x_train, y_train)"
   ]
  },
  {
   "cell_type": "code",
   "execution_count": 30,
   "id": "proper-flesh",
   "metadata": {},
   "outputs": [
    {
     "data": {
      "text/plain": [
       "{'max_depth': 11,\n",
       " 'min_samples_leaf': 4,\n",
       " 'min_samples_split': 4,\n",
       " 'n_estimators': 5}"
      ]
     },
     "execution_count": 30,
     "metadata": {},
     "output_type": "execute_result"
    }
   ],
   "source": [
    "# Получаем лучшие параметры от лучшей обученной модели.\n",
    "grid_search_cv_clf.best_params_"
   ]
  },
  {
   "cell_type": "code",
   "execution_count": 31,
   "id": "derived-beatles",
   "metadata": {},
   "outputs": [],
   "source": [
    "# занесем лучшие параметры \n",
    "best_clf = grid_search_cv_clf.best_estimator_"
   ]
  },
  {
   "cell_type": "code",
   "execution_count": 32,
   "id": "moving-update",
   "metadata": {},
   "outputs": [
    {
     "data": {
      "text/plain": [
       "0.8219315614803246"
      ]
     },
     "execution_count": 32,
     "metadata": {},
     "output_type": "execute_result"
    }
   ],
   "source": [
    "# посмотрим на нащ результат \n",
    "best_clf.score(x_test, y_test)"
   ]
  },
  {
   "cell_type": "code",
   "execution_count": 33,
   "id": "freelance-tactics",
   "metadata": {},
   "outputs": [],
   "source": [
    "# важные параметры \n",
    "feature_importances = best_clf.feature_importances_"
   ]
  },
  {
   "cell_type": "code",
   "execution_count": 34,
   "id": "studied-punishment",
   "metadata": {},
   "outputs": [],
   "source": [
    "# сделаем df важных параметров\n",
    "feature_importances_df = pd.DataFrame({\"features\": list(x_train), \"feature_importances\": feature_importances})"
   ]
  },
  {
   "cell_type": "code",
   "execution_count": 35,
   "id": "polyphonic-firmware",
   "metadata": {},
   "outputs": [
    {
     "data": {
      "text/html": [
       "<div>\n",
       "<style scoped>\n",
       "    .dataframe tbody tr th:only-of-type {\n",
       "        vertical-align: middle;\n",
       "    }\n",
       "\n",
       "    .dataframe tbody tr th {\n",
       "        vertical-align: top;\n",
       "    }\n",
       "\n",
       "    .dataframe thead th {\n",
       "        text-align: right;\n",
       "    }\n",
       "</style>\n",
       "<table border=\"1\" class=\"dataframe\">\n",
       "  <thead>\n",
       "    <tr style=\"text-align: right;\">\n",
       "      <th></th>\n",
       "      <th>features</th>\n",
       "      <th>feature_importances</th>\n",
       "    </tr>\n",
       "  </thead>\n",
       "  <tbody>\n",
       "    <tr>\n",
       "      <th>4</th>\n",
       "      <td>tariff_id</td>\n",
       "      <td>0.140251</td>\n",
       "    </tr>\n",
       "    <tr>\n",
       "      <th>2</th>\n",
       "      <td>credit_sum</td>\n",
       "      <td>0.119238</td>\n",
       "    </tr>\n",
       "    <tr>\n",
       "      <th>1</th>\n",
       "      <td>age</td>\n",
       "      <td>0.117516</td>\n",
       "    </tr>\n",
       "    <tr>\n",
       "      <th>3</th>\n",
       "      <td>credit_month</td>\n",
       "      <td>0.084178</td>\n",
       "    </tr>\n",
       "    <tr>\n",
       "      <th>5</th>\n",
       "      <td>score_shk</td>\n",
       "      <td>0.064150</td>\n",
       "    </tr>\n",
       "    <tr>\n",
       "      <th>36</th>\n",
       "      <td>education_SCH</td>\n",
       "      <td>0.060252</td>\n",
       "    </tr>\n",
       "    <tr>\n",
       "      <th>24</th>\n",
       "      <td>job_position_PNA</td>\n",
       "      <td>0.057125</td>\n",
       "    </tr>\n",
       "    <tr>\n",
       "      <th>34</th>\n",
       "      <td>education_GRD</td>\n",
       "      <td>0.048346</td>\n",
       "    </tr>\n",
       "    <tr>\n",
       "      <th>7</th>\n",
       "      <td>credit_count</td>\n",
       "      <td>0.027094</td>\n",
       "    </tr>\n",
       "    <tr>\n",
       "      <th>13</th>\n",
       "      <td>marital_status_MAR</td>\n",
       "      <td>0.025283</td>\n",
       "    </tr>\n",
       "  </tbody>\n",
       "</table>\n",
       "</div>"
      ],
      "text/plain": [
       "              features  feature_importances\n",
       "4            tariff_id             0.140251\n",
       "2           credit_sum             0.119238\n",
       "1                  age             0.117516\n",
       "3         credit_month             0.084178\n",
       "5            score_shk             0.064150\n",
       "36       education_SCH             0.060252\n",
       "24    job_position_PNA             0.057125\n",
       "34       education_GRD             0.048346\n",
       "7         credit_count             0.027094\n",
       "13  marital_status_MAR             0.025283"
      ]
     },
     "execution_count": 35,
     "metadata": {},
     "output_type": "execute_result"
    }
   ],
   "source": [
    "# 10 важных параметров \n",
    "feature_importances_df.sort_values(\"feature_importances\", ascending=False).head(10)"
   ]
  },
  {
   "cell_type": "code",
   "execution_count": 36,
   "id": "wrong-volume",
   "metadata": {},
   "outputs": [],
   "source": [
    "df = feature_importances_df.head(10)"
   ]
  },
  {
   "cell_type": "code",
   "execution_count": 37,
   "id": "loose-wednesday",
   "metadata": {},
   "outputs": [
    {
     "data": {
      "image/png": "[encoded data removed]",
      "text/plain": [
       "<Figure size 432x432 with 1 Axes>"
      ]
     },
     "metadata": {
      "needs_background": "light"
     },
     "output_type": "display_data"
    }
   ],
   "source": [
    "# изобразим 10 важных параметров \n",
    "f, ax = plt.subplots(figsize=(6, 6))\n",
    "sns.barplot(y=df.features, x=df.feature_importances)\n",
    "\n",
    "plt.xlabel('Важность атрибутов')\n",
    "plt.ylabel('Атрибуты')\n",
    "plt.title(\"Наиболее важные атрибуты\")\n",
    "plt.show()"
   ]
  },
  {
   "cell_type": "markdown",
   "id": "random-protection",
   "metadata": {},
   "source": [
    "Теперь у нас есть классификатор, определяющий кому можем дать кредит, а кому нет. "
   ]
  },
  {
   "cell_type": "code",
   "execution_count": 38,
   "id": "silver-convergence",
   "metadata": {},
   "outputs": [],
   "source": [
    "predictions = grid_search_cv_clf.predict(x_test)"
   ]
  },
  {
   "cell_type": "code",
   "execution_count": 39,
   "id": "after-implement",
   "metadata": {},
   "outputs": [
    {
     "name": "stdout",
     "output_type": "stream",
     "text": [
      "31\n"
     ]
    }
   ],
   "source": [
    "print(np.sum(predictions == 1))"
   ]
  },
  {
   "cell_type": "markdown",
   "id": "unavailable-termination",
   "metadata": {},
   "source": [
    "# Логистическая регрессия "
   ]
  },
  {
   "cell_type": "code",
   "execution_count": 22,
   "id": "responsible-finish",
   "metadata": {},
   "outputs": [],
   "source": [
    "from sklearn.linear_model import LogisticRegression"
   ]
  },
  {
   "cell_type": "code",
   "execution_count": 23,
   "id": "productive-conversion",
   "metadata": {},
   "outputs": [],
   "source": [
    "x = train.drop('open_account_flg', axis = 1)\n",
    "x = pd.get_dummies(x)\n",
    "y = train['open_account_flg']"
   ]
  },
  {
   "cell_type": "code",
   "execution_count": 24,
   "id": "massive-ethiopia",
   "metadata": {},
   "outputs": [],
   "source": [
    "# Отмасштабируем данные\n",
    "stsc_df = pd.DataFrame(stsc.fit_transform(x), columns = x.columns)\n",
    "# Решим проблему дисбаланса\n",
    "X_resampled, y_resampled = rus.fit_sample(stsc_df, y)"
   ]
  },
  {
   "cell_type": "code",
   "execution_count": 25,
   "id": "psychological-luxembourg",
   "metadata": {},
   "outputs": [],
   "source": [
    "x_train, x_test, y_train, y_test =  train_test_split(X_resampled, y_resampled, test_size=0.3, random_state=42)"
   ]
  },
  {
   "cell_type": "code",
   "execution_count": 26,
   "id": "flying-mortgage",
   "metadata": {},
   "outputs": [],
   "source": [
    "clf_lr = LogisticRegression()\n",
    "lr_param = {\n",
    "    'C': np.logspace(0, 4, 10),\n",
    "    'penalty': ['l1', 'l2']\n",
    "}"
   ]
  },
  {
   "cell_type": "code",
   "execution_count": 27,
   "id": "sudden-chart",
   "metadata": {},
   "outputs": [],
   "source": [
    "lr_search_cv = GridSearchCV(clf_lr, param_grid=lr_param, cv=5, n_jobs=-1)"
   ]
  },
  {
   "cell_type": "code",
   "execution_count": 28,
   "id": "leading-color",
   "metadata": {},
   "outputs": [
    {
     "data": {
      "text/plain": [
       "GridSearchCV(cv=5, estimator=LogisticRegression(), n_jobs=-1,\n",
       "             param_grid={'C': array([1.00000000e+00, 2.78255940e+00, 7.74263683e+00, 2.15443469e+01,\n",
       "       5.99484250e+01, 1.66810054e+02, 4.64158883e+02, 1.29154967e+03,\n",
       "       3.59381366e+03, 1.00000000e+04]),\n",
       "                         'penalty': ['l1', 'l2']})"
      ]
     },
     "execution_count": 28,
     "metadata": {},
     "output_type": "execute_result"
    }
   ],
   "source": [
    "lr_search_cv.fit(x_train, y_train)"
   ]
  },
  {
   "cell_type": "code",
   "execution_count": 29,
   "id": "needed-confusion",
   "metadata": {},
   "outputs": [
    {
     "data": {
      "text/plain": [
       "{'C': 1.0, 'penalty': 'l2'}"
      ]
     },
     "execution_count": 29,
     "metadata": {},
     "output_type": "execute_result"
    }
   ],
   "source": [
    "lr_search_cv.best_params_"
   ]
  },
  {
   "cell_type": "code",
   "execution_count": 30,
   "id": "meaning-escape",
   "metadata": {},
   "outputs": [],
   "source": [
    "best_lr_clf = lr_search_cv.best_estimator_ "
   ]
  },
  {
   "cell_type": "code",
   "execution_count": 31,
   "id": "sufficient-shock",
   "metadata": {},
   "outputs": [
    {
     "data": {
      "text/plain": [
       "0.6105891719745223"
      ]
     },
     "execution_count": 31,
     "metadata": {},
     "output_type": "execute_result"
    }
   ],
   "source": [
    "best_lr_clf.score(x_test, y_test)"
   ]
  },
  {
   "cell_type": "code",
   "execution_count": 32,
   "id": "killing-france",
   "metadata": {},
   "outputs": [],
   "source": [
    "predictions = lr_search_cv.predict(x_test)"
   ]
  },
  {
   "cell_type": "code",
   "execution_count": 33,
   "id": "altered-surface",
   "metadata": {},
   "outputs": [
    {
     "name": "stdout",
     "output_type": "stream",
     "text": [
      "6281\n"
     ]
    }
   ],
   "source": [
    "print(np.sum(predictions == 1))"
   ]
  },
  {
   "cell_type": "markdown",
   "id": "weekly-format",
   "metadata": {},
   "source": [
    "# Метрики"
   ]
  },
  {
   "cell_type": "code",
   "execution_count": 34,
   "id": "valued-granny",
   "metadata": {},
   "outputs": [],
   "source": [
    "from sklearn.metrics import precision_score\n",
    "from sklearn.metrics import recall_score\n",
    "from sklearn.metrics import roc_auc_score\n",
    "from sklearn.metrics import roc_curve\n",
    "from sklearn.metrics import precision_recall_curve"
   ]
  },
  {
   "cell_type": "markdown",
   "id": "concrete-secret",
   "metadata": {},
   "source": [
    "## Деревья решений "
   ]
  },
  {
   "cell_type": "code",
   "execution_count": 50,
   "id": "flexible-stretch",
   "metadata": {},
   "outputs": [
    {
     "name": "stdout",
     "output_type": "stream",
     "text": [
      "Decision tree accuracy on train: 0.825\n",
      "Decision tree accuracy on test: 0.822\n",
      "Precision on Decision tree: 0.710\n",
      "Recall on  Decision tree: 0.003\n"
     ]
    }
   ],
   "source": [
    "# Сформируем предсказания\n",
    "tree_predictions = best_clf.predict(x_test)\n",
    "# Измерим accuracy на train и test\n",
    "tree_acc_train = best_clf.score(x_train, y_train) \n",
    "tree_acc_test = best_clf.score(x_test, y_test) \n",
    "# Сформируем вероятность прогнозов\n",
    "y_scores = best_clf.predict_proba(x_test)\n",
    "y_scores = y_scores[:,1]\n",
    "    \n",
    "# Выведем accuracy, precision, recall\n",
    "print(f\"Decision tree accuracy on train: {tree_acc_train:.3f}\")\n",
    "print(f\"Decision tree accuracy on test: {tree_acc_test:.3f}\")\n",
    "    \n",
    "print(f\"Precision on Decision tree: {precision_score(y_test, tree_predictions):.3f}\")\n",
    "print(f\"Recall on  Decision tree: {recall_score(y_test, tree_predictions):.3f}\")"
   ]
  },
  {
   "cell_type": "markdown",
   "id": "polish-round",
   "metadata": {},
   "source": [
    "## Логистическая Регресссия "
   ]
  },
  {
   "cell_type": "code",
   "execution_count": 35,
   "id": "charitable-democracy",
   "metadata": {},
   "outputs": [
    {
     "name": "stdout",
     "output_type": "stream",
     "text": [
      "Logistic Regression accuracy on train: 0.623\n",
      "Logistic Regression accuracy on test: 0.611\n",
      "Precision on Logistic Regression: 0.611\n",
      "Recall on  Logistic Regression: 0.611\n"
     ]
    }
   ],
   "source": [
    "predictions = best_lr_clf.predict(x_test)\n",
    "lr_acc_train = best_lr_clf.score(x_train, y_train) \n",
    "lr_acc_test = best_lr_clf.score(x_test, y_test) \n",
    "# Сформируем вероятность прогнозов\n",
    "y_scores = best_lr_clf.predict_proba(x_test)\n",
    "y_scores = y_scores[:,1]\n",
    "    \n",
    "# Выведем accuracy, precision, recall\n",
    "print(f\"Logistic Regression accuracy on train: {lr_acc_train :.3f}\")\n",
    "print(f\"Logistic Regression accuracy on test: {lr_acc_test:.3f}\")\n",
    "    \n",
    "print(f\"Precision on Logistic Regression: {precision_score(y_test, predictions):.3f}\")\n",
    "print(f\"Recall on  Logistic Regression: {recall_score(y_test, predictions):.3f}\")"
   ]
  },
  {
   "cell_type": "markdown",
   "id": "meaningful-falls",
   "metadata": {},
   "source": [
    "# Вывод\n",
    "\n",
    "Можно заметить, что дерево решений по сравнению с логистической регрессией дает немного большее качество полноты (0.710 vs 0.611 )."
   ]
  },
  {
   "cell_type": "code",
   "execution_count": null,
   "id": "productive-discipline",
   "metadata": {},
   "outputs": [],
   "source": []
  }
 ],
 "metadata": {
  "kernelspec": {
   "display_name": "Python 3",
   "language": "python",
   "name": "python3"
  },
  "language_info": {
   "codemirror_mode": {
    "name": "ipython",
    "version": 3
   },
   "file_extension": ".py",
   "mimetype": "text/x-python",
   "name": "python",
   "nbconvert_exporter": "python",
   "pygments_lexer": "ipython3",
   "version": "3.8.8"
  }
 },
 "nbformat": 4,
 "nbformat_minor": 5
}
