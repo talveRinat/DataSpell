{
 "cells": [
  {
   "cell_type": "markdown",
   "metadata": {},
   "source": [
    "Неделя №2  \n",
    "\n",
    "Циклы. Строки. Списки"
   ]
  },
  {
   "cell_type": "code",
   "execution_count": null,
   "metadata": {},
   "outputs": [],
   "source": [
    "# Задание 1\n",
    "sum = 0\n",
    "sum2 = 0\n",
    "while True:\n",
    "    a = int(input())\n",
    "    sum += a\n",
    "    sum2 += (a**2)\n",
    "    if sum == 0:\n",
    "        break\n",
    "print(sum2)"
   ]
  },
  {
   "cell_type": "code",
   "execution_count": null,
   "metadata": {},
   "outputs": [],
   "source": [
    "# Задание 2\n",
    "a = int(input())\n",
    "i = 1\n",
    "l = []\n",
    "while True:\n",
    "    n = 0\n",
    "    while n < i and len(l) < a:\n",
    "        l.append(i)\n",
    "        n += 1\n",
    "    i += 1\n",
    "    if len(l) == a:\n",
    "        break\n",
    "    else:\n",
    "        continue\n",
    "for j in l:\n",
    "    print (j, end=\" \")"
   ]
  },
  {
   "cell_type": "code",
   "execution_count": null,
   "metadata": {},
   "outputs": [],
   "source": [
    "# Задание 3\n",
    "lst = [int(i) for i in input().split()]\n",
    "x = int(input())\n",
    "b = []\n",
    "for i in range(len(lst)):\n",
    "    if lst[i] == x:\n",
    "        b.append(i)\n",
    "if (len(b)) != 0:    \n",
    "    print(*b[:len(b)])\n",
    "else:\n",
    "    print('Отсутствует')"
   ]
  },
  {
   "cell_type": "code",
   "execution_count": 1,
   "metadata": {},
   "outputs": [],
   "source": [
    "# Задание 4\n",
    "a=[]\n",
    "while True:\n",
    "    b = input()\n",
    "    if b == \"end\":\n",
    "        break\n",
    "    str = [[int(i) for i in b.split()]]\n",
    "    a[len(a):] = str \n",
    "res = []\n",
    "rows = len(a)\n",
    "columns = len(a[0])\n",
    "for i in range(rows):\n",
    "    res.append([])\n",
    "    for j in range(columns):\n",
    "        res[i].append(a[i-1][j] + a[i+1 if i<rows-1 else 0][j] + a[i][j-1] + a[i][j+1 if j<columns-1 else 0])\n",
    "for i in range (rows):\n",
    "    for j in range (columns):\n",
    "        print(res[i][j], end =' ')\n",
    "    print()"
   ]
  },
  {
   "cell_type": "code",
   "execution_count": null,
   "metadata": {},
   "outputs": [],
   "source": [
    "# Задание 5\n",
    "n = int(input())\n",
    "a = [[0 for i in range(n)] for j in range(n)]\n",
    "i, j, x, k = 0, 0, 1, 0 \n",
    "while x <= n*n:\n",
    "    a[i][j] = x \n",
    "    if i != j: \n",
    "        a[j][i] = (a[k][k] + (n-k*2)*2) * 2 - 4 - x   \n",
    "    if j != n-k-1: \n",
    "        j += 1   \n",
    "    elif i != n-k-1: \n",
    "        i += 1      \n",
    "    elif x != n*n: \n",
    "        k += 1\n",
    "        i = j = k \n",
    "        x = a[k][k-1]       \n",
    "    x += 1\n",
    "for i in a: print(*i)"
   ]
  }
 ],
 "metadata": {
  "kernelspec": {
   "display_name": "Python 3",
   "language": "python",
   "name": "python3"
  },
  "language_info": {
   "codemirror_mode": {
    "name": "ipython",
    "version": 3
   },
   "file_extension": ".py",
   "mimetype": "text/x-python",
   "name": "python",
   "nbconvert_exporter": "python",
   "pygments_lexer": "ipython3",
   "version": "3.8.2"
  }
 },
 "nbformat": 4,
 "nbformat_minor": 4
}
