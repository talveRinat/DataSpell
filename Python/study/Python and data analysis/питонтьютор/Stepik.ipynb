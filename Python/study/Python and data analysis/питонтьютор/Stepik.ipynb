{
 "cells": [
  {
   "cell_type": "markdown",
   "metadata": {},
   "source": [
    "# курс на stepik: \"Программирование на Python\""
   ]
  },
  {
   "cell_type": "markdown",
   "metadata": {},
   "source": [
    "Первая неделя курса "
   ]
  },
  {
   "cell_type": "code",
   "execution_count": null,
   "metadata": {},
   "outputs": [],
   "source": [
    "# Задание №1\n",
    "a = float(input())\n",
    "b = float(input())\n",
    "c = float(input())\n",
    "p = float((a + b + c)/2)\n",
    "s = float((p*(p - a)*(p - b)*(p - c))**(0.5))\n",
    "print(s)"
   ]
  },
  {
   "cell_type": "code",
   "execution_count": null,
   "metadata": {},
   "outputs": [],
   "source": [
    "# Задание №2\n",
    "v = int(input())\n",
    "if -15 < v <= 12 or 14 < v < 17 or v >= 19:\n",
    "    print('True')\n",
    "else:\n",
    "    print('False')\n"
   ]
  },
  {
   "cell_type": "code",
   "execution_count": null,
   "metadata": {},
   "outputs": [],
   "source": [
    "# Задание №3\n",
    "a=float(input()) b=float(input()) c=input()\n",
    "if c=='+': print (a + b) if c=='-': print (a-b)\n",
    "if c=='/' and b ==0.0: print(\"Деление на 0!\") if c=='/' and b!=0.0 : print(a/b)\n",
    "if c=='*': print(a*b)\n",
    "if c=='pow': print(a**b)\n",
    "if c=='div' and b==0.0: print(\"Деление на 0!\") if c=='div' and b!=0.0: print(a//b)\n",
    "if c=='mod' and b==0.0: print (\"Деление на 0!\") if c=='mod' and b!=0.0: print (a%b)"
   ]
  },
  {
   "cell_type": "code",
   "execution_count": null,
   "metadata": {},
   "outputs": [],
   "source": [
    "# Задание №4\n",
    "str = input()\n",
    "if str == 'треугольник':\n",
    "    a = int(input())\n",
    "    b = int(input())\n",
    "    c = int(input())\n",
    "    p = (a + b + c)/2\n",
    "    s = (p*(p-a)*(p-b)*(p-c))**0.5\n",
    "    print(s)\n",
    "    \n",
    "elif str == 'прямоугольник':\n",
    "    a = int(input())\n",
    "    b = int(input())\n",
    "    print(a * b)\n",
    "    \n",
    "elif str == 'круг':\n",
    "    r = int(input())\n",
    "    print((r**2) * 3.14)"
   ]
  },
  {
   "cell_type": "code",
   "execution_count": null,
   "metadata": {},
   "outputs": [],
   "source": [
    "# Задание №5\n",
    "a,b,c = int(input()), int(input()), int(input())\n",
    "\n",
    "if a < b:\n",
    "    a, b = b, a\n",
    "if a < c:\n",
    "    a, c = c, a\n",
    "if b > c:\n",
    "    b, c = c, b\n",
    "print(a)\n",
    "print(b)\n",
    "print(c)"
   ]
  },
  {
   "cell_type": "code",
   "execution_count": null,
   "metadata": {},
   "outputs": [],
   "source": [
    "# Задание №6\n",
    "x = int(input())\n",
    "if x % 100 in (11, 12, 13, 14) or x % 10 in (5, 6, 7, 8, 9, 0): \n",
    "    print(x, 'программистов')\n",
    "elif x % 10 in (2, 3, 4): \n",
    "    print(x, 'программиста')\n",
    "else: \n",
    "    print(x, 'программист')\n"
   ]
  },
  {
   "cell_type": "code",
   "execution_count": null,
   "metadata": {},
   "outputs": [],
   "source": [
    "# Задание №7\n",
    "num = int(input())\n",
    "a = num // 1000  # первые три цифры\n",
    "b = num % 1000  # последние три\n",
    "\n",
    "aa = a//100 + a//10%10 + a%10\n",
    "bb = b//100 + b//10%10 + b%10\n",
    "if aa == bb:\n",
    "    print('Счастливый')\n",
    "else:\n",
    "    print('Обычный')\n"
   ]
  }
 ],
 "metadata": {
  "kernelspec": {
   "display_name": "Python 3",
   "language": "python",
   "name": "python3"
  },
  "language_info": {
   "codemirror_mode": {
    "name": "ipython",
    "version": 3
   },
   "file_extension": ".py",
   "mimetype": "text/x-python",
   "name": "python",
   "nbconvert_exporter": "python",
   "pygments_lexer": "ipython3",
   "version": "3.8.3"
  }
 },
 "nbformat": 4,
 "nbformat_minor": 4
}
