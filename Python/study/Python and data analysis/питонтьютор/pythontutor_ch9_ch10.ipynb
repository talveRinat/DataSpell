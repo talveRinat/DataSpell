{
 "cells": [
  {
   "cell_type": "markdown",
   "metadata": {},
   "source": [
    "Задания на следующий раз - все задачи с множествами из https://pythontutor.ru/\n",
    "кроме задачи  \"кубики', причём первые 3 задачи нужно оформить с решением в одну строчку\n",
    "(каждое из заданий стоит 2 балла) + задача на 3 балла - \"снежинка\" из темы двумерные массивы,\n",
    "опять таки с решением в одну строчку. \n"
   ]
  },
  {
   "cell_type": "markdown",
   "metadata": {},
   "source": [
    "Работу выполнил Ринат Махмутов гр.09-813"
   ]
  },
  {
   "cell_type": "code",
   "execution_count": null,
   "metadata": {},
   "outputs": [],
   "source": [
    "# Задача \"снежинка\" - не понимаю как можно решить задачу в одну строчку\n",
    "num = int(input())\n",
    "arr = [['.'] * num for i in range(num)]\n",
    "for i in range(num):\n",
    "    arr[i][i] = '*'\n",
    "    arr[num // 2][i] = '*'\n",
    "    arr[i][num // 2] = '*'\n",
    "    arr[i][num - i - 1] = '*'\n",
    "for row in arr:\n",
    "    print(' '.join(row))"
   ]
  },
  {
   "cell_type": "code",
   "execution_count": null,
   "metadata": {},
   "outputs": [],
   "source": [
    "# Задача «количество различных чисел» \n",
    "print(len(set(input().split())))"
   ]
  },
  {
   "cell_type": "code",
   "execution_count": null,
   "metadata": {},
   "outputs": [],
   "source": [
    "# Задача «количество совпадающих чисел» \n",
    "print(len(set(input().split()) & set(input().split())))"
   ]
  },
  {
   "cell_type": "code",
   "execution_count": null,
   "metadata": {},
   "outputs": [],
   "source": [
    "# Задача \"пересечение множеств\"\n",
    "print(*sorted(set(input().split()) & set(input().split()), key=int))"
   ]
  },
  {
   "cell_type": "code",
   "execution_count": null,
   "metadata": {},
   "outputs": [],
   "source": [
    "# Задача «встречалось ли число раньше» \n",
    "numbers = [int(s) for s in input().split()]\n",
    "before = set()\n",
    "for num in numbers:\n",
    "    if num in before:\n",
    "        print('YES')\n",
    "    else:\n",
    "        print('NO')\n",
    "        before.add(num)"
   ]
  },
  {
   "cell_type": "code",
   "execution_count": 1,
   "metadata": {},
   "outputs": [
    {
     "name": "stdin",
     "output_type": "stream",
     "text": [
      " 4\n",
      " She sells sea shells on the sea shore;\n",
      " The shells that she sells are sea shells I'm sure.\n",
      " So if she sells sea shells on the sea shore,\n",
      " I'm sure that the shells are sea shore shells.\n"
     ]
    },
    {
     "name": "stdout",
     "output_type": "stream",
     "text": [
      "19\n"
     ]
    }
   ],
   "source": [
    "# Задача «количество слов в тексте»\n",
    "words = set()\n",
    "for _ in range(int(input())):\n",
    "    words.update(input().split())\n",
    "print(len(words))"
   ]
  },
  {
   "cell_type": "code",
   "execution_count": 3,
   "metadata": {},
   "outputs": [
    {
     "name": "stdin",
     "output_type": "stream",
     "text": [
      " 10\n",
      " 1 2 3 4 5\n",
      " YES\n",
      " 2 4 6 8 10\n",
      " NO\n",
      " HELP\n"
     ]
    },
    {
     "name": "stdout",
     "output_type": "stream",
     "text": [
      "1 3 5\n"
     ]
    }
   ],
   "source": [
    "# Задача «угадай число»\n",
    "n = int(input())\n",
    "all_nums = set(range(1, n + 1))\n",
    "while True:\n",
    "    guess = input()\n",
    "    if guess == 'HELP':\n",
    "        break\n",
    "    guess = {int(x) for x in guess.split()}\n",
    "    answer = input()\n",
    "    if answer == 'YES':\n",
    "        all_nums &= guess\n",
    "    else:\n",
    "        all_nums -= guess\n",
    "print(*all_nums)"
   ]
  },
  {
   "cell_type": "code",
   "execution_count": 4,
   "metadata": {},
   "outputs": [
    {
     "name": "stdin",
     "output_type": "stream",
     "text": [
      " 10\n",
      " 1 2 3 4 5\n"
     ]
    },
    {
     "name": "stdout",
     "output_type": "stream",
     "text": [
      "NO\n"
     ]
    },
    {
     "name": "stdin",
     "output_type": "stream",
     "text": [
      " 2 4 6 8 10\n"
     ]
    },
    {
     "name": "stdout",
     "output_type": "stream",
     "text": [
      "YES\n"
     ]
    },
    {
     "name": "stdin",
     "output_type": "stream",
     "text": [
      " HELP\n"
     ]
    },
    {
     "name": "stdout",
     "output_type": "stream",
     "text": [
      "6 8 10\n"
     ]
    }
   ],
   "source": [
    "# Задача \"угадай число - 2\"\n",
    "n = int(input())\n",
    "all_nums = set(range(1, n + 1))\n",
    "possible_nums = all_nums\n",
    "while True:\n",
    "    guess = input()\n",
    "    if guess == 'HELP':\n",
    "        break\n",
    "    guess = {int(x) for x in guess.split()}\n",
    "    if len(possible_nums & guess) > len(possible_nums) / 2:\n",
    "        print('YES')\n",
    "        possible_nums &= guess\n",
    "    else:\n",
    "        print('NO')\n",
    "        possible_nums &= all_nums - guess\n",
    "         \n",
    "print(' '.join([str(x) for x in sorted(possible_nums)]))"
   ]
  },
  {
   "cell_type": "code",
   "execution_count": 5,
   "metadata": {},
   "outputs": [
    {
     "name": "stdin",
     "output_type": "stream",
     "text": [
      " 3\n",
      " 3\n",
      " RUS\n",
      " ENG\n",
      " JAP\n",
      " 2\n",
      " RUS\n",
      " ENG\n",
      " 1\n",
      " ENG\n"
     ]
    },
    {
     "name": "stdout",
     "output_type": "stream",
     "text": [
      "1\n",
      "ENG\n",
      "3\n",
      "ENG\n",
      "JAP\n",
      "RUS\n"
     ]
    }
   ],
   "source": [
    "# Задача \"полиглоты\"\n",
    "students = [{input() for j in range(int(input()))} for i in range(int(input()))]\n",
    "everyone, someone = set.intersection(*students), set.union(*students)\n",
    "print(len(everyone), *sorted(everyone), sep='\\n')\n",
    "print(len(someone), *sorted(someone), sep='\\n')"
   ]
  },
  {
   "cell_type": "code",
   "execution_count": 7,
   "metadata": {},
   "outputs": [
    {
     "name": "stdin",
     "output_type": "stream",
     "text": [
      " 19 3\n",
      " 2 3\n",
      " 3 5\n",
      " 9 8\n"
     ]
    },
    {
     "name": "stdout",
     "output_type": "stream",
     "text": [
      "8\n"
     ]
    }
   ],
   "source": [
    "# Задача \"забастовки\"\n",
    "N, K = [int(s) for s in input().split()]\n",
    "a_i = set([day for day in range(1, N + 1) if day % 7 not in (6, 0)])\n",
    "b_i = set(a_i)\n",
    "for _ in range(K):\n",
    "    a, b = [int(s) for s in input().split()]\n",
    "    max_b_i = (N - a) // b + 1\n",
    "    b_i -= {a + b*i for i in range(max_b_i)}\n",
    "print(len(a_i) - len(b_i))\n"
   ]
  }
 ],
 "metadata": {
  "kernelspec": {
   "display_name": "Python 3",
   "language": "python",
   "name": "python3"
  },
  "language_info": {
   "codemirror_mode": {
    "name": "ipython",
    "version": 3
   },
   "file_extension": ".py",
   "mimetype": "text/x-python",
   "name": "python",
   "nbconvert_exporter": "python",
   "pygments_lexer": "ipython3",
   "version": "3.8.5"
  }
 },
 "nbformat": 4,
 "nbformat_minor": 4
}
