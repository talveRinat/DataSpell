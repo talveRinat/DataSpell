{
 "cells": [
  {
   "cell_type": "code",
   "execution_count": 195,
   "metadata": {},
   "outputs": [
    {
     "name": "stdout",
     "output_type": "stream",
     "text": [
      "'Среда'\n",
      "('Абстрактные приближенные схемы1114, Учебное здание No14,  Плещинский Н. Б. '\n",
      " 'с 10.02.2021 по 26.05.2021')\n",
      "('Вероятностные модели и их статистическая идентификация1008, Учебное здание '\n",
      " 'No14,  Володин И. Н. с 10.02.2021 по 26.05.2021Коммуникационные '\n",
      " 'вычисления802, Учебное здание No14,  Аблаев Ф. М. с 10.02.2021 по '\n",
      " '26.05.2021Современные средства математического моделирования1006, Учебное '\n",
      " 'здание No14,  Тимербаев М. Р. с 10.02.2021 по 26.05.2021Статистическое '\n",
      " 'моделирование1206*, Учебное здание No14,  Чебакова В. Ю. с 10.02.2021 по '\n",
      " '26.05.2021')\n",
      "('Математические модели теории упругости809* (по т.п. 15), Учебное здание '\n",
      " 'No14,  Осипов Е. А. с 10.02.2021 по 26.05.2021Общая алгебра и теория '\n",
      " 'чисел907, Учебное здание No14,  Кугураков В. С. с 10.02.2021 по '\n",
      " '26.05.2021Программирование на языке R808, Учебное здание No14,  Григорьева '\n",
      " 'И. С. с 10.02.2021 по 26.05.2021Разработка Windows-приложений1111(2), '\n",
      " 'Учебное здание No14,  Мухтарова Т. М. с 10.02.2021 по 26.05.2021Современная '\n",
      " 'теория уравнений в частных производных1209, Учебное здание No14,  Тимербаев '\n",
      " 'М. Р. с 10.02.2021 по 26.05.2021')\n",
      "('Дополнительные главы оптимизации410 (7,8,9,15,16), Учебное здание No14,  '\n",
      " 'Заботин И. Я. с 10.02.2021 по 26.05.2021Итерационные методы решения '\n",
      " 'нелинейных краевых задач1111(2), Учебное здание No14,  Макаров М. В. с '\n",
      " '10.02.2021 по 26.05.2021Научные вычисления1009(2), Учебное здание No14,  '\n",
      " 'Бахтиева Л. У. с 10.02.2021 по 26.05.2021Современные редакторские '\n",
      " 'системы1006, Учебное здание No14,  Симушкин С. В. с 10.02.2021 по '\n",
      " '26.05.2021Теория дискретных преобразователей907, Учебное здание No14,  '\n",
      " 'Салимов Ф. И. с 10.02.2021 по 26.05.2021')\n",
      "('Уравнения математической физики218, Учебное здание No14,  Бадриев И. Б. с '\n",
      " '10.02.2021 по 26.05.2021')\n"
     ]
    }
   ],
   "source": [
    "import re\n",
    "import unicodedata\n",
    "from pprint import pprint\n",
    "from selenium import webdriver\n",
    "from selenium.webdriver.common.keys import Keys\n",
    "from selenium.webdriver.support.ui import WebDriverWait\n",
    "from selenium.webdriver.common.by import By\n",
    "from selenium.webdriver.support import expected_conditions as EC\n",
    "\n",
    "from utils import wait_for\n",
    "\n",
    "browser = webdriver.Safari()\n",
    "browser.maximize_window()\n",
    "\n",
    "# заходим на сайт с расписанием \n",
    "browser.get('https://kpfu.ru/studentu/ucheba/raspisanie')\n",
    "\n",
    "# Вводим название группы в поле поиска\n",
    "search = wait_for(lambda: browser.find_element_by_name('p_group_name'))\n",
    "search.send_keys('09-812'+'\\n')\n",
    "\n",
    "\n",
    "# для td: 2 - пн, 3-вт, 4-ср, 5-чт, 6-пт, 7-сб\n",
    "\n",
    "for i in range(1, 7):\n",
    "    d = WebDriverWait(browser,20).until(EC.visibility_of_element_located((By.XPATH,\"//table/tbody/tr[\"+str(i)+\"]/td[\"+str(4)+\"]\"))).get_attribute(\"textContent\")\n",
    "    re.match(r'^[0-9]+[\\w]+', d)\n",
    "    pprint(unicodedata.normalize(\"NFKD\", d))\n",
    "\n",
    "\n",
    "browser.close()\n"
   ]
  },
  {
   "cell_type": "code",
   "execution_count": 138,
   "metadata": {},
   "outputs": [
    {
     "data": {
      "text/plain": [
       "'\\nfor i in range(6):\\n    for j in range(1,7):\\n        print(browser.find_element_by_xpath(\"//table/tbody/tr[\"+str(i)+\"]/td[\"+str(j)+\"]\").text)\\n'"
      ]
     },
     "execution_count": 138,
     "metadata": {},
     "output_type": "execute_result"
    }
   ],
   "source": [
    "# в ширь range(1,7)\n",
    "# в высоту range(1,7)\n",
    "'''\n",
    "for i in range(1, 6):\n",
    "    for j in range(1, 7):\n",
    "        print(browser.find_element_by_xpath(\"//table/tbody/tr[\"+str(i)+\"]/td[\"+str(j)+\"]\").text)\n",
    "'''"
   ]
  },
  {
   "cell_type": "code",
   "execution_count": null,
   "metadata": {},
   "outputs": [],
   "source": []
  }
 ],
 "metadata": {
  "kernelspec": {
   "display_name": "Python 3",
   "language": "python",
   "name": "python3"
  },
  "language_info": {
   "codemirror_mode": {
    "name": "ipython",
    "version": 3
   },
   "file_extension": ".py",
   "mimetype": "text/x-python",
   "name": "python",
   "nbconvert_exporter": "python",
   "pygments_lexer": "ipython3",
   "version": "3.8.5"
  }
 },
 "nbformat": 4,
 "nbformat_minor": 1
}