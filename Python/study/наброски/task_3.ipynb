{
  "cells":[
    {
      "cell_type":"markdown",
      "source":[
        "\n",
        "# Многопоточность в Python\n",
        "\n",
        "## Практическая часть\n",
        "\n",
        "### Задание 1\n",
        "\n",
        "Реализуйте запуск двух процессов с помощью multiprocessing (ещё понадобятся модули time и random):\n",
        "\n",
        "    countUp() подсчитывает 1 вверх, каждую секунду.\n",
        "    countDown() подсчитывает 1 вниз, каждую секунду.\n"
      ],
      "metadata":{
        
      }
    },
    {
      "cell_type":"code",
      "source":[
        "import multiprocessing as mp\n",
        "import time\n",
        "\n",
        "\n",
        "def count_up(to):\n",
        "    for i in range(1, to + 1):\n",
        "        print(\"Counting up: %i\" % i)\n",
        "        time.sleep(1)\n",
        "\n",
        "\n",
        "def count_down(fr):\n",
        "    for i in range(fr, 0, -1):\n",
        "        print(\"Counting down: %i\" % i)\n",
        "        time.sleep(1)\n",
        "\n",
        "\n",
        "n = 15\n",
        "procs = [mp.Process(target=count_up, args=(n, )), mp.Process(target=count_down, args=(n, ))]\n",
        "\n",
        "for p in procs:\n",
        "    p.start()\n",
        "for p in procs:\n",
        "    p.join()"
      ],
      "execution_count":2,
      "outputs":[
        {
          "name":"stdout",
          "text":[
            "Counting up: 1\n",
            "Counting down: 15\n",
            "Counting up: 2\n",
            "Counting down: 14\n",
            "Counting up: 3\n",
            "Counting down: 13\n",
            "Counting up: 4\n",
            "Counting down: 12\n",
            "Counting up: 5\n",
            "Counting down: 11\n",
            "Counting up: 6\n",
            "Counting down: 10\n",
            "Counting up: 7\n",
            "Counting down: 9\n",
            "Counting up: 8\n",
            "Counting down: 8\n",
            "Counting up: 9\n",
            "Counting down: 7\n",
            "Counting up: 10\n",
            "Counting down: 6\n",
            "Counting up: 11\n",
            "Counting down: 5\n",
            "Counting up: 12\n",
            "Counting down: 4\n",
            "Counting up: 13\n",
            "Counting down: 3\n",
            "Counting up: 14\n",
            "Counting down: 2\n",
            "Counting up: 15\n",
            "Counting down: 1\n"
          ],
          "output_type":"stream"
        }
      ],
      "metadata":{
        
      }
    },
    {
      "cell_type":"markdown",
      "source":[
        "\n",
        "### Задание 2\n",
        "\n",
        "Есть список a = [1, 1, 2, 3, 5, 8, 13, 21, 34, 55, 89].\n",
        "\n",
        "Выведите все элементы, которые меньше 5. Решите задачу несколькими способами, одних их которых использует lambda-функцию."
      ],
      "metadata":{
        
      }
    },
    {
      "cell_type":"code",
      "source":[
        "a = [1, 1, 2, 3, 5, 8, 13, 21, 34, 55, 89]\n",
        "\n",
        "f1 = [int(x) for x in a if x < 5 ]\n",
        "print(*f1)\n",
        "\n",
        "f2 = filter(lambda x: x < 5, a)\n",
        "print(*f2)"
      ],
      "execution_count":6,
      "outputs":[
        {
          "name":"stdout",
          "text":[
            "1 1 2 3\n",
            "1 1 2 3\n"
          ],
          "output_type":"stream"
        }
      ],
      "metadata":{
        
      }
    },
    {
      "cell_type":"markdown",
      "source":[
        "\n",
        "### Задание 3\n",
        "\n",
        "С помощью анонимной функции извлеките из списка числа, делимые на 15."
      ],
      "metadata":{
        
      }
    },
    {
      "cell_type":"code",
      "source":[
        "l = [5*x for x in range(20)]\n",
        "f3 = filter(lambda x: x%15 == 0, l)\n",
        "print(*f3)"
      ],
      "execution_count":8,
      "outputs":[
        {
          "name":"stdout",
          "text":[
            "0 15 30 45 60 75 90\n"
          ],
          "output_type":"stream"
        }
      ],
      "metadata":{
        
      }
    }
  ],
  "metadata":{
    
  },
  "nbformat":4,
  "nbformat_minor":0
}