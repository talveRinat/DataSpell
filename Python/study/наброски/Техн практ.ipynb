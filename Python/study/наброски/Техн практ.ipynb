{
  "cells":[
    {
      "cell_type":"markdown",
      "source":[
        "Ряд Тейлора для $cos(x)$\n",
        "\n",
        "Используя ряд Тейлора вычислим значение функции $cos(x)$ в данной точке.\n",
        "$$cos(x) \\approx 1 - \\frac{x^2}{2!} + \\frac{x^4}{4!} + \\cdots + \\frac{(-1)^nx^{2n}}{(2n)!} + \\cdots$$ "
      ],
      "metadata":{
        
      }
    },
    {
      "cell_type":"code",
      "source":[
        "\n",
        "def factorial(n):\n",
        "    if n < 2:\n",
        "        return 1\n",
        "    return n * factorial(n - 1)\n",
        "\n",
        "pi = 3.14159265359\n",
        "\n",
        "def cos(x):\n",
        "    x = x % pi\n",
        "    value = 0\n",
        "    for i in xrange(0, 40, 2):\n",
        "        value += (((-1) ** (i \/ 2)) * (x ** i)) \/ factorial(i)\n",
        "    return value"
      ],
      "execution_count":null,
      "outputs":[
        
      ],
      "metadata":{
        
      }
    }
  ],
  "metadata":{
    
  },
  "nbformat":4,
  "nbformat_minor":0
}