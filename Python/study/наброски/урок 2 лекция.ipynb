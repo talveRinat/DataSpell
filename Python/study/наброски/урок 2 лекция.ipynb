{
  "cells":[
    {
      "cell_type":"code",
      "source":[
        "num_list = [1, 2, 3, 4, 5]\n",
        "for i in num_list:\n",
        "    print(i)"
      ],
      "execution_count":2,
      "outputs":[
        {
          "name":"stdout",
          "text":[
            "1\n",
            "2\n",
            "3\n",
            "4\n",
            "5\n"
          ],
          "output_type":"stream"
        }
      ],
      "metadata":{
        
      }
    },
    {
      "cell_type":"code",
      "source":[
        "itr = iter(num_list)\n",
        "print(next(itr))"
      ],
      "execution_count":3,
      "outputs":[
        {
          "name":"stdout",
          "text":[
            "1\n"
          ],
          "output_type":"stream"
        }
      ],
      "metadata":{
        
      }
    },
    {
      "cell_type":"code",
      "source":[
        "print(next(itr))\n",
        "\n",
        "print(next(itr))"
      ],
      "execution_count":5,
      "outputs":[
        {
          "name":"stdout",
          "text":[
            "3\n",
            "4\n"
          ],
          "output_type":"stream"
        }
      ],
      "metadata":{
        
      }
    },
    {
      "cell_type":"code",
      "source":[
        "start = 1\n",
        "stop = 6.7\n",
        "step = 0.1\n",
        "\n",
        "import numpy as np\n",
        "\n",
        "np.arange(start, stop, step)\n"
      ],
      "execution_count":6,
      "outputs":[
        {
          "data":{
            "text\/plain":[
              "array([1. , 1.1, 1.2, 1.3, 1.4, 1.5, 1.6, 1.7, 1.8, 1.9, 2. , 2.1, 2.2,\n",
              "       2.3, 2.4, 2.5, 2.6, 2.7, 2.8, 2.9, 3. , 3.1, 3.2, 3.3, 3.4, 3.5,\n",
              "       3.6, 3.7, 3.8, 3.9, 4. , 4.1, 4.2, 4.3, 4.4, 4.5, 4.6, 4.7, 4.8,\n",
              "       4.9, 5. , 5.1, 5.2, 5.3, 5.4, 5.5, 5.6, 5.7, 5.8, 5.9, 6. , 6.1,\n",
              "       6.2, 6.3, 6.4, 6.5, 6.6])"
            ]
          },
          "metadata":{
            
          },
          "output_type":"display_data"
        }
      ],
      "metadata":{
        
      }
    },
    {
      "cell_type":"code",
      "source":[
        "from numpy import arange\n",
        "\n",
        "print(\"Float range using NumPy arange():\")\n",
        "\n",
        "print(\"\\nTest 1:\")\n",
        "for i in arange(0.0, 10.0, 0.5):\n",
        "    print(i, end=', ')\n",
        "\n",
        "print(\"\\n\\nTest 2:\")\n",
        "for i in arange(0.5, 5.5, 0.5):\n",
        "    print(i, end=', ')\n",
        "\n",
        "print(\"\\n\\nTest 3:\")\n",
        "for i in arange(-1.0, 1.0, 0.5):\n",
        "    print(i, end=', ')"
      ],
      "execution_count":7,
      "outputs":[
        {
          "name":"stdout",
          "text":[
            "Float range using NumPy arange():\n",
            "\n",
            "Test 1:\n",
            "0.0, 0.5, 1.0, 1.5, 2.0, 2.5, 3.0, 3.5, 4.0, 4.5, 5.0, 5.5, 6.0, 6.5, 7.0, 7.5, 8.0, 8.5, 9.0, 9.5, \n",
            "\n",
            "Test 2:\n",
            "0.5, 1.0, 1.5, 2.0, 2.5, 3.0, 3.5, 4.0, 4.5, 5.0, \n",
            "\n",
            "Test 3:\n",
            "-1.0, -0.5, 0.0, 0.5, "
          ],
          "output_type":"stream"
        }
      ],
      "metadata":{
        
      }
    },
    {
      "cell_type":"code",
      "source":[
        "\n",
        "\n",
        "import numpy as np\n",
        " \n",
        "print(\"Print Float Range Using NumPy LinSpace()\\n\")\n",
        "\n",
        "print(np.linspace(1.0, 5.0, num = 5))\n",
        "print(np.linspace(0, 10, num = 5, endpoint = False))\n"
      ],
      "execution_count":8,
      "outputs":[
        {
          "name":"stdout",
          "text":[
            "Print Float Range Using NumPy LinSpace()\n",
            "\n",
            "[1. 2. 3. 4. 5.]\n",
            "[0. 2. 4. 6. 8.]\n"
          ],
          "output_type":"stream"
        }
      ],
      "metadata":{
        
      }
    },
    {
      "cell_type":"code",
      "source":[
        "from itertools import islice, count\n",
        "\n",
        "def iter_range(start, stop, step):\n",
        "    if step == 0:\n",
        "        raise ValueError(\"Step could not be NULL\")\n",
        "    length = int(abs(stop - start) \/ step)\n",
        "    return islice(count(start, step), length)\n",
        "\n",
        "for it in iter_range(0, 10, 1.10):\n",
        "    print (\"{0:.1f}\".format(it), end = \" \")"
      ],
      "execution_count":9,
      "outputs":[
        {
          "name":"stdout",
          "text":[
            "0.0 1.1 2.2 3.3 4.4 5.5 6.6 7.7 8.8 "
          ],
          "output_type":"stream"
        }
      ],
      "metadata":{
        
      }
    },
    {
      "cell_type":"code",
      "source":[
        "\n",
        "\n",
        "from itertools import groupby\n",
        "\n",
        "things = [(\"animal\", \"bear\"), (\"animal\", \"duck\"), (\"plant\", \"cactus\"),(\"vehicle\", \"speed boat\"), (\"vehicle\", \"school bus\")]\n",
        "\n",
        "for key, group in groupby(things, lambda x: x[0]):\n",
        "    for thing in group:\n",
        "        print(\"A %s is a %s.\" % (thing[1], key))\n",
        "    print()"
      ],
      "execution_count":15,
      "outputs":[
        {
          "name":"stdout",
          "text":[
            "A bear is a animal.\n",
            "A duck is a animal.\n",
            "\n",
            "A cactus is a plant.\n",
            "\n",
            "A speed boat is a vehicle.\n",
            "A school bus is a vehicle.\n",
            "\n"
          ],
          "output_type":"stream"
        }
      ],
      "metadata":{
        
      }
    }
  ],
  "metadata":{
    
  },
  "nbformat":4,
  "nbformat_minor":0
}