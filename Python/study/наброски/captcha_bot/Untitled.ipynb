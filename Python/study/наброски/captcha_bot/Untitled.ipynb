{
 "cells": [
  {
   "cell_type": "markdown",
   "id": "exclusive-karma",
   "metadata": {},
   "source": [
    "3. Разработать программу (бота) для чтения CAPTCHA (Completely Automated Public Turing test to tell Computers and Humans Apart).\n",
    "4. Обучить Tesseract для распознавания одной CAPTCHA. Используя свою программу, с помощью webdriver (PhantomJS или Chromedriver, gecko) заполнить форму на сайте с простой защитой от ботов.\n"
   ]
  },
  {
   "cell_type": "code",
   "execution_count": 2,
   "id": "latter-attendance",
   "metadata": {},
   "outputs": [
    {
     "name": "stdout",
     "output_type": "stream",
     "text": [
      "BPATp\n",
      "\f",
      "\n"
     ]
    }
   ],
   "source": [
    "from PIL import Image,ImageFilter\n",
    "import pytesseract\n",
    "\n",
    "path ='testcaptcha/1.jpg'\n",
    "captcha = Image.open(path)\n",
    "result = pytesseract.image_to_string(captcha)\n",
    "print(result)"
   ]
  },
  {
   "cell_type": "code",
   "execution_count": 46,
   "id": "recreational-console",
   "metadata": {},
   "outputs": [
    {
     "name": "stdout",
     "output_type": "stream",
     "text": [
      "Captcha solution attempt: PayjF\f",
      "\n",
      "There was a problem reading the CAPTCHA correctly!\n"
     ]
    }
   ],
   "source": [
    "from urllib.request import urlretrieve\n",
    "from urllib.request import urlopen\n",
    "from bs4 import BeautifulSoup\n",
    "import subprocess\n",
    "import requests\n",
    "from PIL import Image\n",
    "from PIL import ImageOps\n",
    "\n",
    "def cleanImage(imagePath):\n",
    "    image = Image.open(imagePath)\n",
    "    image = image.point(lambda x: 0 if x<143 else 255)\n",
    "    borderImage = ImageOps.expand(image,border=20,fill='white')\n",
    "    borderImage.save(imagePath)\n",
    "\n",
    "html = urlopen('http://www.pythonscraping.com/humans-only')\n",
    "bs = BeautifulSoup(html, 'html.parser')\n",
    "#Gather prepopulated form values\n",
    "imageLocation = bs.find('img', {'title': 'Image CAPTCHA'})['src']\n",
    "formBuildId = bs.find('input', {'name':'form_build_id'})['value']\n",
    "captchaSid = bs.find('input', {'name':'captcha_sid'})['value']\n",
    "captchaToken = bs.find('input', {'name':'captcha_token'})['value']\n",
    "\n",
    "captchaUrl = 'http://pythonscraping.com'+imageLocation\n",
    "urlretrieve(captchaUrl, 'captcha.jpg')\n",
    "cleanImage('captcha.jpg')\n",
    "p = subprocess.Popen(['tesseract', 'captcha.jpg', 'captcha'], stdout=\n",
    "    subprocess.PIPE,stderr=subprocess.PIPE)\n",
    "p.wait()\n",
    "f = open('captcha.txt', 'r')\n",
    "\n",
    "#Clean any whitespace characters\n",
    "captchaResponse = f.read().replace(' ', '').replace('\\n', '')\n",
    "print('Captcha solution attempt: '+captchaResponse)\n",
    "\n",
    "if len(captchaResponse) == 5:\n",
    "    params = {'captcha_token':captchaToken, 'captcha_sid':captchaSid,   \n",
    "              'form_id':'comment_node_page_form', 'form_build_id': formBuildId, \n",
    "              'captcha_response':captchaResponse, 'name':'Ryan Mitchell', \n",
    "              'subject': 'I come to seek the Grail', \n",
    "              'comment_body[und][0][value]': \n",
    "               '...and I am definitely not a bot'}\n",
    "    r = requests.post('http://www.pythonscraping.com/comment/reply/10', \n",
    "                          data=params)\n",
    "    responseObj = BeautifulSoup(r.text, 'html.parser')\n",
    "    if responseObj.find('div', {'class':'messages'}) is not None:\n",
    "        print(responseObj.find('div', {'class':'messages'}).get_text())\n",
    "else:\n",
    "    print('There was a problem reading the CAPTCHA correctly!')\n"
   ]
  },
  {
   "cell_type": "code",
   "execution_count": 45,
   "id": "empty-brake",
   "metadata": {},
   "outputs": [
    {
     "name": "stdout",
     "output_type": "stream",
     "text": [
      "PA’Pp\n",
      "\f",
      "\n"
     ]
    }
   ],
   "source": [
    "from PIL import Image\n",
    "from scipy.ndimage.filters import gaussian_filter\n",
    "import numpy\n",
    "import pytesseract\n",
    "from PIL import ImageFilter\n",
    "# thresold1 on the first stage\n",
    "th1 = 140\n",
    "th2 = 140 # threshold after blurring \n",
    "sig = 1.5 # the blurring sigma\n",
    "\n",
    "\n",
    "from scipy import ndimage\n",
    "original = Image.open(\"captcha2.png\")\n",
    "original.save(\"original.png\") # reading the image from the request\n",
    "black_and_white =original.convert(\"L\") #converting to black and white \n",
    "black_and_white.save(\"black_and_white.png\")\n",
    "first_threshold = black_and_white.point(lambda p: p > th1 and 255)\n",
    "first_threshold.save(\"first_threshold.png\")\n",
    "blur=numpy.array(first_threshold) #create an image array\n",
    "blurred = gaussian_filter(blur, sigma=sig)\n",
    "blurred = Image.fromarray(blurred)\n",
    "blurred.save(\"blurred.png\")\n",
    "final = blurred.point(lambda p: p > th2 and 255)\n",
    "final = final.filter(ImageFilter.EDGE_ENHANCE_MORE)\n",
    "final = final.filter(ImageFilter.SHARPEN)\n",
    "final.save(\"final.png\")\n",
    "number = pytesseract.image_to_string(Image.open('final.png'))\n",
    "print (number)"
   ]
  },
  {
   "cell_type": "code",
   "execution_count": null,
   "id": "conscious-fusion",
   "metadata": {},
   "outputs": [],
   "source": []
  }
 ],
 "metadata": {
  "kernelspec": {
   "display_name": "Python 3",
   "language": "python",
   "name": "python3"
  },
  "language_info": {
   "codemirror_mode": {
    "name": "ipython",
    "version": 3
   },
   "file_extension": ".py",
   "mimetype": "text/x-python",
   "name": "python",
   "nbconvert_exporter": "python",
   "pygments_lexer": "ipython3",
   "version": "3.8.5"
  }
 },
 "nbformat": 4,
 "nbformat_minor": 5
}
