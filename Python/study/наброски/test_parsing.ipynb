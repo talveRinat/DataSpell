{
  "cells":[
    {
      "cell_type":"code",
      "source":[
        "from urllib.request import urlopen\n",
        "from bs4 import BeautifulSoup\n",
        "import webbrowser"
      ],
      "execution_count":1,
      "outputs":[
        
      ],
      "metadata":{
        
      }
    },
    {
      "cell_type":"code",
      "source":[
        "\n",
        "html = urlopen(\"http:\/\/www.kpfu.ru\")\n",
        "kpfu_main = BeautifulSoup(html, \"html.parser\")\n",
        "inst_sites_div = kpfu_main.findAll('div', {'class' : 'institutes'})[10]\n",
        "inst_site_url_list = [i.a['href'] for i in inst_sites_div.findAll('div')]\n",
        "inst_list = [[i.a.get_text().strip(),] for i in inst_sites_div.findAll('div')]\n",
        "for i in range(len(inst_site_url_list)):\n",
        "    if not ('Институт' in inst_list[i][0] or 'Высшая школа' in inst_list[i][0] or 'факультет' in inst_list[i][0]):\n",
        "        continue\n",
        "    inst_list[i].append([])\n",
        "    cur_inst_site_url = inst_site_url_list[i]\n",
        "    html_cur_inst_site_url = urlopen(cur_inst_site_url)\n",
        "    bs_cur_inst_site_url = BeautifulSoup(html_cur_inst_site_url, \"html.parser\")\n",
        "    left_menu = bs_cur_inst_site_url.findAll('ul', {'class' : 'menu_list_left'})[0]\n",
        "    struct_cur_inst_link_element = left_menu.find(lambda tag : tag.name == 'a' and ('Структура' in tag.text or 'Об институте' in tag.text or 'Институт ' in tag.text or 'О нас' in tag.text))\n",
        "    struct_cur_inst_url = 'not found'\n",
        "    if struct_cur_inst_link_element != None:\n",
        "        struct_cur_inst_url = struct_cur_inst_link_element['href']\n",
        "    print('Parsing ' + struct_cur_inst_url + '   ...')\n",
        "    if struct_cur_inst_url == 'not found':\n",
        "        inst_list[i].append([])\n",
        "        continue\n",
        "    html_cur_inst_struct = urlopen(struct_cur_inst_url)\n",
        "    bs_cur_inst_struct = BeautifulSoup(html_cur_inst_struct, \"html.parser\")\n",
        "    bs_cur_inst_kaf = bs_cur_inst_struct.findAll(lambda tag : tag.name == 'a' and ('Кафедра' in tag.text or 'Кафедpа' in tag.text) or (tag.name == 'a' and tag.get('style') == 'color: #012a77;font-size: 16px;font-weight: bold;text-decoration:none;' and 'школа' in tag.text))\n",
        "    if bs_cur_inst_kaf == []:\n",
        "        try:\n",
        "            bs_cur_inst_kaf = (BeautifulSoup(urlopen(bs_cur_inst_struct.find('ul', {'class' : 'menu_list_left'}).find(lambda tag: tag.name == 'a' and 'Кафедры' in tag.text)['href']), \"html.parser\")).findAll(lambda tag : tag.name == 'a' and ('Кафедра' in tag.text))\n",
        "        except:\n",
        "            pass\n",
        "    kaf_list = [[t.get_text().strip(), t.get('href')] for t in bs_cur_inst_kaf]\n",
        "    for k in kaf_list:\n",
        "        bs_kaf_page = BeautifulSoup(urlopen(k[1]), \"html.parser\")\n",
        "        bs_kaf_sostav_url = bs_kaf_page.find('ul', {'class' : 'menu_list_left'}).find(lambda tag: tag.name == 'a' and ('Коллектив кафедры' in tag.text or 'Сотрудники' in tag.text or 'Состав' in tag.text or 'Список сотрудников' in tag.text))\n",
        "        if bs_kaf_sostav_url != None:\n",
        "            kaf_sostav_url = bs_kaf_sostav_url['href']\n",
        "        else:\n",
        "            k.append(0)\n",
        "            continue\n",
        "        bs_kaf_sostav_iframe = BeautifulSoup(urlopen(kaf_sostav_url), \"html.parser\").find('iframe')\n",
        "        if bs_kaf_sostav_iframe == None:\n",
        "            k.append(0)\n",
        "            continue\n",
        "        kaf_sostav_iframe_src = bs_kaf_sostav_iframe['src']\n",
        "        bs_kaf_workers = BeautifulSoup(urlopen(kaf_sostav_iframe_src), \"html.parser\").findAll('span', {'class' : 'fio'})\n",
        "        kaf_workers_num = 0\n",
        "        if bs_kaf_workers != None:\n",
        "            kaf_workers_num = len(bs_kaf_workers)\n",
        "        k.append(kaf_workers_num)\n",
        "    inst_list[i].append(kaf_list)\n",
        "print(inst_list)"
      ],
      "execution_count":0,
      "outputs":[
        
      ],
      "metadata":{
        
      }
    }
  ],
  "metadata":{
    
  },
  "nbformat":4,
  "nbformat_minor":0
}