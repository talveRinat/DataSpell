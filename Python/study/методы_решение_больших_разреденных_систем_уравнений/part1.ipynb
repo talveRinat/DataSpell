{
 "cells": [
  {
   "cell_type": "markdown",
   "id": "6f5a3995",
   "metadata": {
    "id": "6f5a3995"
   },
   "source": [
    "# Реализовать:\n",
    "\n",
    "1. Прямые методы (гаусса, LU-разложение, методом Холецкого)(сделал)\n",
    "2. Методы Якоби с параметром, SOR, SSOR. (сдела)\n",
    "3. Блочные методы Якоби, SOR, SSOR.(не всё сдела) \n",
    "4. Метод минимальных поправок (сделал)\n",
    "5. Метод сопряженных градиентов с предобуславливателем. (сделал)\n",
    "6. Многосеточный метод(не сделано)"
   ]
  },
  {
   "cell_type": "markdown",
   "id": "1ad97e27",
   "metadata": {
    "id": "1ad97e27"
   },
   "source": [
    "#### Работа выполнил \n",
    "\n",
    "Махмутов Ринат \n",
    "\n",
    "группа: 09-813\n",
    "\n",
    "ивмиит-пми"
   ]
  },
  {
   "cell_type": "code",
   "execution_count": 1,
   "id": "68ce81ff",
   "metadata": {
    "id": "68ce81ff",
    "executionInfo": {
     "status": "ok",
     "timestamp": 1644923231481,
     "user_tz": -180,
     "elapsed": 1075,
     "user": {
      "displayName": "Rinat Mahmutov",
      "photoUrl": "https://lh3.googleusercontent.com/a/default-user=s64",
      "userId": "03711814883365407429"
     }
    }
   },
   "outputs": [],
   "source": [
    "import numpy as np\n",
    "import pandas as pd\n",
    "from numpy.core.defchararray import array\n",
    "from scipy.linalg import norm, solve, block_diag\n",
    "\n",
    "from typing import Union\n",
    "import logging\n",
    "\n",
    "\n",
    "import time\n",
    "\n",
    "from matplotlib import pyplot as plt\n",
    "import seaborn as sns\n",
    "sns.set(palette='deep', color_codes=True, font_scale=1.3)"
   ]
  },
  {
   "cell_type": "markdown",
   "id": "c643b441",
   "metadata": {
    "id": "c643b441"
   },
   "source": [
    "# Прямые методы "
   ]
  },
  {
   "cell_type": "markdown",
   "id": "7176bf42",
   "metadata": {
    "id": "7176bf42"
   },
   "source": [
    "## LU - разложение \n",
    "\n",
    "Теорема. Любая невырожденная матрица $A$ может быть представлена в виде \n",
    "$$A=PLU,$$\n",
    "где — $P$ - матрица перестановки, $L$ — нижнетреугольная матрица, $U$ — верхнетреугольная матрица\n",
    "\n",
    "[Пример кода](http://rosettacode.org/wiki/LU_decomposition)"
   ]
  },
  {
   "cell_type": "code",
   "execution_count": null,
   "id": "dcda3a3d",
   "metadata": {
    "id": "dcda3a3d"
   },
   "outputs": [],
   "source": [
    "def lu(A):\n",
    "    \"\"\"\n",
    "    LU-разложение \n",
    "    \"\"\"\n",
    "    \n",
    "    # количество строк\n",
    "    n = A.shape[0]\n",
    "    \n",
    "    # Выделим место для P, L и U\n",
    "    U = A.copy()\n",
    "    L = np.eye(n, dtype=np.double)\n",
    "    P = np.eye(n, dtype=np.double)\n",
    "    \n",
    "    # по строкам \n",
    "    for i in range(n):\n",
    "        \n",
    "        # \n",
    "        for k in range(i, n):\n",
    "            # проверка что элемент близок к нулю\n",
    "            if ~np.isclose(U[i, i], 0.0):\n",
    "                break\n",
    "                \n",
    "            U[[k, k+1]] = U[[k+1, k]]\n",
    "            P[[k, k+1]] = P[[k+1, k]]\n",
    "            \n",
    "        # Удалим запись ниже i-строки\n",
    "        factor = U[i+1:, i] / U[i, i]\n",
    "        # операции для L\n",
    "        L[i+1:, i] = factor\n",
    "        # операции для U, перевернув ряд \n",
    "        U[i+1:] -= factor[:, np.newaxis] * U[i]\n",
    "        \n",
    "    return P, L, U\n"
   ]
  },
  {
   "cell_type": "markdown",
   "id": "e378821c",
   "metadata": {
    "id": "e378821c"
   },
   "source": [
    "Проверка"
   ]
  },
  {
   "cell_type": "code",
   "execution_count": null,
   "id": "b466ff8a",
   "metadata": {
    "id": "b466ff8a",
    "outputId": "7a1bc0a5-5035-49b3-fabf-b7965cf55c38"
   },
   "outputs": [
    {
     "name": "stdout",
     "output_type": "stream",
     "text": [
      "[[1. 3. 5.]\n",
      " [2. 4. 7.]\n",
      " [1. 1. 0.]]\n"
     ]
    }
   ],
   "source": [
    "A = np.array([[1, 3, 5.], \n",
    "              [2, 4, 7.], \n",
    "              [1, 1, 0.]])\n",
    "\n",
    "print(A)\n",
    "P, L, U = lu(A)"
   ]
  },
  {
   "cell_type": "code",
   "execution_count": null,
   "id": "57f44032",
   "metadata": {
    "id": "57f44032",
    "outputId": "da9f2e0c-98e5-4cdc-efec-c3aca89d1457"
   },
   "outputs": [
    {
     "data": {
      "text/plain": [
       "array([[1., 3., 5.],\n",
       "       [2., 4., 7.],\n",
       "       [1., 1., 0.]])"
      ]
     },
     "execution_count": 76,
     "metadata": {},
     "output_type": "execute_result"
    }
   ],
   "source": [
    "P@L@U"
   ]
  },
  {
   "cell_type": "markdown",
   "id": "01e5f7e6",
   "metadata": {
    "id": "01e5f7e6"
   },
   "source": [
    "Получив $L$ и $U$, можем решить столько векторов правой части $\\vec{b}$ нужно, используя следующий двухшаговый процесс. \n",
    "\n",
    "Сначала решим $\\vec{y}=U\\vec{x}$, а затем решим $L\\vec{y} = \\vec{b}$ для $\\vec{y}$ с помощью прямой подстановки. "
   ]
  },
  {
   "cell_type": "code",
   "execution_count": null,
   "id": "c22556e3",
   "metadata": {
    "id": "c22556e3"
   },
   "outputs": [],
   "source": [
    "def forward(L, b):\n",
    "    '''прямая подстановка'''\n",
    "    \n",
    "    # количество строк\n",
    "    n = L.shape[0]\n",
    "    \n",
    "    # место для вектора решений\n",
    "    y = np.zeros_like(b, dtype=np.double);\n",
    "    \n",
    "    # выполняем прямую подстановку.  \n",
    "    # инициализируем первый ряд.\n",
    "    y[0] = b[0] / L[0, 0]\n",
    "    \n",
    "    # пробегаем снизу вверх,\n",
    "    # начиная с предпоследнего ряда, потому что \n",
    "    # решение последнего ряда было найдено на предыдущем шаге.\n",
    "    for i in range(1, n):\n",
    "        y[i] = (b[i] - np.dot(L[i,:i], y[:i])) / L[i,i]\n",
    "        \n",
    "    return y"
   ]
  },
  {
   "cell_type": "markdown",
   "id": "2d8c69b3",
   "metadata": {
    "id": "2d8c69b3"
   },
   "source": [
    "Теперь решим $U\\vec{x} = \\vec{y}$ для $\\vec{x}$ используя обратную подстановку."
   ]
  },
  {
   "cell_type": "code",
   "execution_count": null,
   "id": "a9663b1a",
   "metadata": {
    "id": "a9663b1a"
   },
   "outputs": [],
   "source": [
    "def backward(U, y):\n",
    "    '''обратная подстановка'''\n",
    "    \n",
    "    # количество строк \n",
    "    n = U.shape[0]\n",
    "    \n",
    "    # место для вектора решений\n",
    "    x = np.zeros_like(y, dtype=np.double);\n",
    "\n",
    "    # выполняем обратную подстановку.  \n",
    "    # инициализируем последний ряд.\n",
    "    x[-1] = y[-1] / U[-1, -1]\n",
    "    \n",
    "    # пробегаем снизу вверх, \n",
    "    # начиная с предпоследнего ряда, \n",
    "    # потому что решение последнего ряда уже есть.\n",
    "    for i in range(n-2, -1, -1):\n",
    "        x[i] = (y[i] - np.dot(U[i,i:], x[i:])) / U[i,i]\n",
    "        \n",
    "    return x"
   ]
  },
  {
   "cell_type": "markdown",
   "id": "65a4013b",
   "metadata": {
    "id": "65a4013b"
   },
   "source": [
    "Для факторизации потребуется дополнительный шаг перестановки вектора правой части $\\vec{b}=P\\vec{b}$ перед выполнением прямой подстановки для решения $\\vec{y}$"
   ]
  },
  {
   "cell_type": "code",
   "execution_count": null,
   "id": "76d2e0a1",
   "metadata": {
    "id": "76d2e0a1"
   },
   "outputs": [],
   "source": [
    "def lu_solve(A, b):\n",
    "    '''решение LU'''\n",
    "    \n",
    "    P, L, U = lu(A)\n",
    "    \n",
    "    y = forward(L, np.dot(P, b))\n",
    "    \n",
    "    return backward(U, y)"
   ]
  },
  {
   "cell_type": "markdown",
   "id": "ddd1100e",
   "metadata": {
    "id": "ddd1100e"
   },
   "source": [
    "Проверка"
   ]
  },
  {
   "cell_type": "code",
   "execution_count": null,
   "id": "0ff2c409",
   "metadata": {
    "id": "0ff2c409",
    "outputId": "69d6800d-6fab-4c37-f05b-7673a43dde9c"
   },
   "outputs": [
    {
     "data": {
      "text/plain": [
       "array([ 0.24013722,  0.43996569,  0.19897084, -0.48799314])"
      ]
     },
     "execution_count": 32,
     "metadata": {},
     "output_type": "execute_result"
    }
   ],
   "source": [
    "A = np.round(10*np.random.rand(4,4))\n",
    "b = np.array([1, 2, 3, 4.])\n",
    "\n",
    "lu_solve(A, b)"
   ]
  },
  {
   "cell_type": "code",
   "execution_count": null,
   "id": "4e235ec2",
   "metadata": {
    "id": "4e235ec2",
    "outputId": "6d5c3235-2908-4ccb-fb7b-e029e27b15ee"
   },
   "outputs": [
    {
     "data": {
      "text/plain": [
       "array([ 0.24013722,  0.43996569,  0.19897084, -0.48799314])"
      ]
     },
     "execution_count": 33,
     "metadata": {},
     "output_type": "execute_result"
    }
   ],
   "source": [
    "np.linalg.solve(A, b)"
   ]
  },
  {
   "cell_type": "markdown",
   "id": "6018a240",
   "metadata": {
    "id": "6018a240"
   },
   "source": [
    "## Разложение Холецкого\n",
    "\n",
    "Теорема. Любая симметричная положительно определённая матрица $A$ может быть представлена в виде\n",
    "$$A=LL^T$$\n",
    "где — $L$ нижнетреугольная матрица.\n",
    "\n",
    "[Пример кода](http://rosettacode.org/wiki/Cholesky_decomposition)"
   ]
  },
  {
   "cell_type": "code",
   "execution_count": null,
   "id": "f9724f07",
   "metadata": {
    "id": "f9724f07"
   },
   "outputs": [],
   "source": [
    "def cholesky(A):\n",
    "    \"\"\"\n",
    "    Разложение Холецкого\n",
    "    \"\"\"\n",
    "    \n",
    "    # количество строк\n",
    "    n = A.shape[0]\n",
    "    \n",
    "    # место для вектора решений\n",
    "    L = np.zeros((n, n), dtype=np.double)\n",
    "    \n",
    "    for k in range(n):\n",
    "        \n",
    "        if ~np.isclose(L[k, k], 0.0):\n",
    "                break\n",
    "        \n",
    "        L[k, k] = np.sqrt(A[k, k] - np.sum(L[k, :] ** 2))\n",
    "        \n",
    "        L[(k+1):, k] = (A[(k+1):, k] - L[(k+1):, :] @ L[:, k]) / L[k, k]\n",
    "    \n",
    "    return L"
   ]
  },
  {
   "cell_type": "code",
   "execution_count": null,
   "id": "d1d51cc9",
   "metadata": {
    "id": "d1d51cc9",
    "outputId": "709709d4-8115-4a11-c24f-1bdf205fd11c"
   },
   "outputs": [
    {
     "data": {
      "text/plain": [
       "array([[ 5.,  0.,  0.],\n",
       "       [ 3.,  3.,  0.],\n",
       "       [-1.,  1.,  3.]])"
      ]
     },
     "execution_count": 74,
     "metadata": {},
     "output_type": "execute_result"
    }
   ],
   "source": [
    "A = np.array([[25, 15, -5.],[15, 18, 0.], [-5, 0, 11.]])\n",
    "cholesky(A)"
   ]
  },
  {
   "cell_type": "code",
   "execution_count": null,
   "id": "f38c22f7",
   "metadata": {
    "id": "f38c22f7",
    "outputId": "244484f7-37ee-4f61-8351-e42efc657c60"
   },
   "outputs": [
    {
     "data": {
      "text/plain": [
       "array([[ 1.41421356,  0.        ,  0.        ],\n",
       "       [-0.70710678,  1.22474487,  0.        ],\n",
       "       [ 0.        , -0.81649658,  1.15470054]])"
      ]
     },
     "execution_count": 51,
     "metadata": {},
     "output_type": "execute_result"
    }
   ],
   "source": [
    "np.linalg.cholesky(A)"
   ]
  },
  {
   "cell_type": "code",
   "execution_count": null,
   "id": "bdca74d5",
   "metadata": {
    "id": "bdca74d5"
   },
   "outputs": [],
   "source": [
    "def cholesky_solve(A, b):\n",
    "    '''решение Холецкого'''\n",
    "    \n",
    "    L = cholesky(A)\n",
    "    y = forward(L, b)\n",
    "    \n",
    "    return backward(L.T, y)"
   ]
  },
  {
   "cell_type": "code",
   "execution_count": null,
   "id": "3c62b41a",
   "metadata": {
    "id": "3c62b41a",
    "outputId": "3f8a35b0-e692-45f8-aae6-3414e446af24"
   },
   "outputs": [
    {
     "name": "stdout",
     "output_type": "stream",
     "text": [
      "[[25. 15. -5.]\n",
      " [15. 18.  0.]\n",
      " [-5.  0. 11.]]\n"
     ]
    },
    {
     "data": {
      "text/plain": [
       "array([0.06814815, 0.05432099, 0.3037037 ])"
      ]
     },
     "execution_count": 73,
     "metadata": {},
     "output_type": "execute_result"
    }
   ],
   "source": [
    "A = np.array([[25, 15, -5.],\n",
    "              [15, 18, 0.], \n",
    "              [-5, 0, 11.]])\n",
    "\n",
    "b = np.array([1, 2, 3.])\n",
    "print(A)\n",
    "cholesky_solve(A, b)"
   ]
  },
  {
   "cell_type": "code",
   "execution_count": null,
   "id": "c8956a0e",
   "metadata": {
    "id": "c8956a0e",
    "outputId": "d071c789-c5da-40d1-9929-d4b76861dae8"
   },
   "outputs": [
    {
     "data": {
      "text/plain": [
       "array([2.5, 4. , 3.5])"
      ]
     },
     "execution_count": 72,
     "metadata": {},
     "output_type": "execute_result"
    }
   ],
   "source": [
    "np.linalg.solve(A, b)"
   ]
  },
  {
   "cell_type": "markdown",
   "id": "05656f1a",
   "metadata": {
    "id": "05656f1a"
   },
   "source": [
    "# Метод Гаусса"
   ]
  },
  {
   "cell_type": "code",
   "execution_count": null,
   "id": "4742e4f9",
   "metadata": {
    "id": "4742e4f9"
   },
   "outputs": [],
   "source": [
    "def gauss_solve(A, b):\n",
    "    '''решение методом Гаусса '''\n",
    "    \n",
    "    # Соединим матрицу A и \n",
    "    # правосторонний столбец вектор b в одну матрицу\n",
    "    temp_mat = np.c_[A, b]\n",
    "    \n",
    "    # количество строк\n",
    "    n = temp_mat.shape[0]\n",
    "    \n",
    "    # пробегаем по строкам \n",
    "    for i in range(n):\n",
    "            \n",
    "        #Найдем поворотный индекс, \n",
    "        # просматривая вниз по i-му столбцу из i-й строки, \n",
    "        # чтобы найти максимальную (по величине) запись.\n",
    "        p = np.abs(temp_mat[i:, i]).argmax()\n",
    "            \n",
    "        # Переиндексируем индекс поворота, \n",
    "        # чтобы он был соответствующей записью во всей матрице, \n",
    "        # а не только в первой строке.\n",
    "        p += i \n",
    "    \n",
    "        # Поменяйте местами строки, \n",
    "        # чтобы максимальная запись стала поворотной\n",
    "        if p != i:\n",
    "            temp_mat[[p, i]] = temp_mat[[i, p]]\n",
    "            \n",
    "        # Исключите все записи ниже поворотной строки \n",
    "        factor = temp_mat[i+1:, i] / temp_mat[i, i]\n",
    "        temp_mat[i+1:] -= factor[:, np.newaxis] * temp_mat[i]\n",
    "                \n",
    "    # Выделим места для вектора решений\n",
    "    x = np.zeros_like(b, dtype=np.double);\n",
    "\n",
    "    # Выполним обратную подстановку. \n",
    "    # Инициализируем с последней строкой.\n",
    "    x[-1] = temp_mat[-1,-1] / temp_mat[-1, -2]\n",
    "    \n",
    "    # Пробежимся по рядам в обратном порядке (снизу вверх), \n",
    "    # начиная со второго и до последнего, \n",
    "    # т.к решение последнего ряда было найдено на предыдущем шаге.\n",
    "    for i in range(n-2, -1, -1):\n",
    "        x[i] = (temp_mat[i,-1] - np.dot(temp_mat[i,i:-1], x[i:])) / temp_mat[i,i]\n",
    "        \n",
    "    return x"
   ]
  },
  {
   "cell_type": "markdown",
   "id": "e20181ae",
   "metadata": {
    "id": "e20181ae"
   },
   "source": [
    "# Итерационные методы"
   ]
  },
  {
   "cell_type": "markdown",
   "id": "e080b12e",
   "metadata": {
    "id": "e080b12e"
   },
   "source": [
    "## Метод Якоби с параметром\n",
    "\n",
    "\n",
    "Пусть $Ax=b$, где\n",
    "\n",
    "$\\begin{equation*}\n",
    "A = \n",
    "\\begin{pmatrix}\n",
    "a_{1,1} & a_{1,2} & \\cdots & a_{1,n} \\\\\n",
    "a_{2,1} & a_{2,2} & \\cdots & a_{2,n}\\\\\n",
    "\\vdots  & \\vdots  & \\ddots & \\vdots  \\\\\n",
    "a_{n,1} & a_{n,2} & \\cdots & a_{n,n} \n",
    "\\end{pmatrix}\n",
    ",\n",
    "x = \n",
    "\\begin{pmatrix}\n",
    "x_{1} \\\\\n",
    "x_{2} \\\\\n",
    "\\vdots   \\\\\n",
    "x_{n} \n",
    "\\end{pmatrix}\n",
    ",\n",
    "b = \n",
    "\\begin{pmatrix}\n",
    "b_{1} \\\\\n",
    "b_{2} \\\\\n",
    "\\vdots   \\\\\n",
    "b_{n} \n",
    "\\end{pmatrix}\n",
    "\\end{equation*}.$\n",
    "\n",
    "Тогда $A$ можно разложить на диагональную компоненту $D$, нижнюю треугольную часть $L$ и верхнюю треугольную часть $U$:\n",
    "\n",
    "$A=D+L+U$, где\n",
    "\n",
    "$$\\begin{equation*}\n",
    "D = \n",
    "\\begin{pmatrix}\n",
    "a_{1,1} & 0 & \\cdots & 0 \\\\\n",
    "0 & a_{2,2} & \\cdots & 0\\\\\n",
    "\\vdots  & \\vdots  & \\ddots & \\vdots  \\\\\n",
    "0 & 0 & \\cdots & a_{n,n} \n",
    "\\end{pmatrix}\n",
    ",\n",
    "L+U=\n",
    "\\begin{pmatrix}\n",
    "0 & a_{1,2} & \\cdots & a_{1,n} \\\\\n",
    "a_{2,1} & 0 & \\cdots & a_{2,n}\\\\\n",
    "\\vdots  & \\vdots  & \\ddots & \\vdots  \\\\\n",
    "a_{n,1} & a_{n,2} & \\cdots & 0\n",
    "\\end{pmatrix}\n",
    "\\end{equation*}$$\n",
    "\n",
    "Итерационное решение:\n",
    "\n",
    "$$x^{(k+1)} = \\omega D^{-1}(b- (L+U)x^{(k)}) + (1-\\omega)x^{(k)}$$"
   ]
  },
  {
   "cell_type": "code",
   "execution_count": null,
   "id": "3add4ddc",
   "metadata": {
    "id": "3add4ddc"
   },
   "outputs": [],
   "source": [
    "def weighted_jacobi(A, b, x, e=1e-10, max_iter = 500, w = 2./3):\n",
    "    '''решение методм якоби с параметром'''\n",
    "    \n",
    "    count=0\n",
    "    \n",
    "    D = np.diag(np.diag(A))\n",
    "    UL = A - D\n",
    "    Dinv = np.linalg.inv(D)\n",
    "    \n",
    "    while(np.linalg.norm((np.dot(A, x) - b), ord=2)>e and count <= max_iter):\n",
    "        x = w*(Dinv@(b - UL@x)) + (1-w)*x\n",
    "        count += 1\n",
    "        \n",
    "    return x, count\n"
   ]
  },
  {
   "cell_type": "code",
   "execution_count": null,
   "id": "2714ca79",
   "metadata": {
    "scrolled": true,
    "id": "2714ca79",
    "outputId": "b1c33989-7ffa-4630-95ee-a8db10999815"
   },
   "outputs": [
    {
     "name": "stdout",
     "output_type": "stream",
     "text": [
      "x:[ 1.  2. -1.  1.], итераций:44\n",
      "Проверим правильность решения Ax= [  6.  25. -11.  15.]\n",
      "CPU times: user 3.22 ms, sys: 1.04 ms, total: 4.26 ms\n",
      "Wall time: 3.69 ms\n"
     ]
    }
   ],
   "source": [
    "%%time\n",
    "A = np.array([[10., -1., 2., 0.],\n",
    "              [-1., 11., -1., 3.],\n",
    "              [2., -1., 10., -1.],\n",
    "              [0., 3., -1., 8.]])\n",
    "\n",
    "b = np.array([6.0, 25.0, -11.0, 15.0])\n",
    "\n",
    "x0 = np.zeros_like(b)\n",
    "\n",
    "x, it = weighted_jacobi(A, b, x0)\n",
    "\n",
    "print(f'x:{x}, итераций:{it}')\n",
    "print(f'Проверим правильность решения Ax= {A@x}')"
   ]
  },
  {
   "cell_type": "markdown",
   "id": "e9b87acd",
   "metadata": {
    "id": "e9b87acd"
   },
   "source": [
    "## Метод Гаусса-Зейделя\n",
    "\n",
    "Пусть $Ax=b$, где\n",
    "\n",
    "$\\begin{equation*}\n",
    "A = \n",
    "\\begin{pmatrix}\n",
    "a_{1,1} & a_{1,2} & \\cdots & a_{1,n} \\\\\n",
    "a_{2,1} & a_{2,2} & \\cdots & a_{2,1}\\\\\n",
    "\\vdots  & \\vdots  & \\ddots & \\vdots  \\\\\n",
    "a_{n,1} & a_{n,2} & \\cdots & a_{n,n} \n",
    "\\end{pmatrix}\n",
    ",\n",
    "x = \n",
    "\\begin{pmatrix}\n",
    "x_{1} \\\\\n",
    "x_{2} \\\\\n",
    "\\vdots   \\\\\n",
    "x_{n} \n",
    "\\end{pmatrix}\n",
    ",\n",
    "b = \n",
    "\\begin{pmatrix}\n",
    "b_{1} \\\\\n",
    "b_{2} \\\\\n",
    "\\vdots   \\\\\n",
    "b_{n} \n",
    "\\end{pmatrix}\n",
    "\\end{equation*}.$\n",
    "\n",
    "Тогда $A$ можно разложить на диагональную компоненту $D$, нижнюю треугольную часть $L$ и верхнюю треугольную часть $U$:\n",
    "\n",
    "$A=L_{*}+U$, где\n",
    "\n",
    "$$\\begin{equation*}\n",
    "L_{*} = \n",
    "\\begin{pmatrix}\n",
    "a_{1,1} & 0 & \\cdots & 0 \\\\\n",
    "a_{2,1} & a_{2,2} & \\cdots & 0\\\\\n",
    "\\vdots  & \\vdots  & \\ddots & \\vdots  \\\\\n",
    "a_{n,1} & a_{n,2} & \\cdots & a_{n,n} \n",
    "\\end{pmatrix}\n",
    ",\n",
    "U=\n",
    "\\begin{pmatrix}\n",
    "0 & a_{1,2} & \\cdots & a_{1,n} \\\\\n",
    "0 & 0 & \\cdots & a_{2,n}\\\\\n",
    "\\vdots  & \\vdots  & \\ddots & \\vdots  \\\\\n",
    "0 & 0 & \\cdots & 0\n",
    "\\end{pmatrix}\n",
    "\\end{equation*}$$\n",
    "\n",
    "Итерационное решение: \n",
    "\n",
    "$$x^{(k+1)} = L_{*}^{-1}(b - Ux^{(k)})$$\n",
    "$$x^{(k+1)} = Tx^{(k)} + C, где$$\n",
    "$$T = -L_{*}^{-1}U, C = L_{*}^-1b$$"
   ]
  },
  {
   "cell_type": "code",
   "execution_count": null,
   "id": "bf6fd00d",
   "metadata": {
    "id": "bf6fd00d"
   },
   "outputs": [],
   "source": [
    "def gauss_seidel(A, b, x, e=1e-10, max_iter=500):\n",
    "    '''решение методом Гаусса-Зейделя'''\n",
    "    \n",
    "    count = 0\n",
    "    \n",
    "    L, U = np.tril(A), np.triu(A, k=1)\n",
    "    L_inv = np.linalg.inv(L)\n",
    "    T = -L_inv@U\n",
    "    C = L_inv@b\n",
    "\n",
    "    while(np.linalg.norm((np.dot(A, x) - b), ord=2)>e and count <= max_iter):\n",
    "        x = T@x + C\n",
    "        count += 1\n",
    "        \n",
    "    return x, count "
   ]
  },
  {
   "cell_type": "code",
   "execution_count": null,
   "id": "883aee99",
   "metadata": {
    "id": "883aee99",
    "outputId": "8b145c61-5424-4d88-b90d-871f58a9dc32"
   },
   "outputs": [
    {
     "name": "stdout",
     "output_type": "stream",
     "text": [
      "x:[ 1.  2. -1.  1.], итераций:12\n",
      "Проверим правильность решения Ax= [  6.  25. -11.  15.]\n",
      "CPU times: user 1.84 ms, sys: 427 µs, total: 2.27 ms\n",
      "Wall time: 2.31 ms\n"
     ]
    }
   ],
   "source": [
    "%%time\n",
    "A = np.array([[10., -1., 2., 0.],\n",
    "              [-1., 11., -1., 3.],\n",
    "              [2., -1., 10., -1.],\n",
    "              [0., 3., -1., 8.]])\n",
    "\n",
    "b = np.array([6.0, 25.0, -11.0, 15.0])\n",
    "\n",
    "x0 = np.zeros_like(b)\n",
    "\n",
    "x, it = gauss_seidel(A, b, x0)\n",
    "\n",
    "print(f'x:{x}, итераций:{it}')\n",
    "print(f'Проверим правильность решения Ax= {A@x}')"
   ]
  },
  {
   "cell_type": "markdown",
   "id": "bc8f5351",
   "metadata": {
    "id": "bc8f5351"
   },
   "source": [
    "## SOR (Successive over-relaxation)\n",
    "\n",
    "Итерационное решение:\n",
    "\n",
    "$$x^{(k+1)} = (D - \\omega L)^{-1}[(\\frac{1}{\\omega}D - D- U)x^{(k)} + b], \\omega \\in [0,2]$$"
   ]
  },
  {
   "cell_type": "code",
   "execution_count": null,
   "id": "3507606f",
   "metadata": {
    "id": "3507606f"
   },
   "outputs": [],
   "source": [
    "def sor(A, b, x, w, e=1e-10, max_iter=1000):\n",
    "    '''решение методом релаксации'''\n",
    "    \n",
    "    assert (w >= 0), f'параметр релаксации omega не в [0,2]'\n",
    "    assert (w <= 2), f'параметр релаксации omega не в [0,2]'\n",
    "    \n",
    "    count = 0\n",
    "    D = np.diag(np.diag(A))\n",
    "    L, U = np.tril(A, k=-1), np.triu(A, k=1)\n",
    "    M = D / w + L\n",
    "    M_inv = np.linalg.inv(M)\n",
    "    \n",
    "    while(np.linalg.norm((np.dot(A, x) - b), ord=2)>e and count <= max_iter):\n",
    "        x = M_inv@((D/w - D - U)@x + b)\n",
    "        count += 1\n",
    "        \n",
    "    return x, count"
   ]
  },
  {
   "cell_type": "code",
   "execution_count": null,
   "id": "2db278b1",
   "metadata": {
    "id": "2db278b1",
    "outputId": "f6c564ae-6121-4e6b-d52d-2e9cf6dee305"
   },
   "outputs": [
    {
     "name": "stdout",
     "output_type": "stream",
     "text": [
      "x:[ 3. -2.  2.  1.], итераций:60\n",
      "Проверим правильность решения Ax= [  2.  21. -12.  -6.]\n",
      "CPU times: user 6.42 ms, sys: 3.81 ms, total: 10.2 ms\n",
      "Wall time: 8.22 ms\n"
     ]
    }
   ],
   "source": [
    "%%time\n",
    "A = np.array([[4, -1, -6, 0],\n",
    "              [-5, -4, 10, 8],\n",
    "              [0, 9, 4, -2],\n",
    "              [1, 0, -7, 5]])\n",
    "\n",
    "b = np.array([2, 21, -12, -6])\n",
    "\n",
    "x0 = np.zeros_like(b)\n",
    "\n",
    "x, it = sor(A, b, x0, w=0.5)\n",
    "\n",
    "print(f'x:{x}, итераций:{it}')\n",
    "print(f'Проверим правильность решения Ax= {A@x}')"
   ]
  },
  {
   "cell_type": "markdown",
   "id": "3717c389",
   "metadata": {
    "id": "3717c389"
   },
   "source": [
    "## SSOR (Symmetric successive over-relaxation)\n",
    "\n",
    "[ресурс](http://www.netlib.org/linalg/html_templates/node58.html)\n",
    "\n",
    "Симметричная матрица $A$, где \n",
    "$$A = D + L + L^T$$\n",
    "\n",
    "можно решить итерационным методом:\n",
    "$$P = (\\frac{D}{\\omega}+L)\\frac{\\omega}{2-\\omega}D^{-1}(\\frac{D}{\\omega}+L)^T$$\n",
    "\n",
    "$$x^{k+1} = x^{k} - P^{-1}(Ax^{k} - b), k \\ge 0$$"
   ]
  },
  {
   "cell_type": "code",
   "execution_count": null,
   "id": "31c352d7",
   "metadata": {
    "id": "31c352d7"
   },
   "outputs": [],
   "source": [
    "def ssor(A, b, x, e=1e-10, w=2/3, max_iter=1000):\n",
    "    '''Метод симметричной последовательной верхней релаксации'''\n",
    "    \n",
    "    r = A@x - b\n",
    "    count = 0\n",
    "    D = np.diag(np.diag(A))\n",
    "    L = np.tril(A)\n",
    "    Q = np.dot(np.dot((D + w * L), np.linalg.inv(D)), np.transpose(D + w * L))\n",
    "    z = np.dot(np.linalg.inv(Q),r)\n",
    "    p = -(np.copy(z))\n",
    "    \n",
    "    while(np.linalg.norm((np.dot(A, x) - b), ord=2)>e and count <=max_iter):\n",
    "        q = A@p\n",
    "        a = np.dot(np.transpose(r),z)[0][0]/(np.dot(np.transpose(p),q)[0][0])\n",
    "        x = x + a * p\n",
    "        beta = 1 / (np.dot(np.transpose(r),z)[0][0])\n",
    "        r = r + a * q\n",
    "        z = np.dot(np.linalg.inv(Q),r)\n",
    "        beta = beta * np.dot(np.transpose(r),z)[0][0]\n",
    "        p = -z + beta * p\n",
    "        count = count + 1\n",
    "        \n",
    "    return x, count"
   ]
  },
  {
   "cell_type": "code",
   "execution_count": null,
   "id": "ff8d5ac1",
   "metadata": {
    "id": "ff8d5ac1",
    "outputId": "7e6af639-1af4-4396-a25d-4dc30047ff8a"
   },
   "outputs": [
    {
     "name": "stdout",
     "output_type": "stream",
     "text": [
      "omega=0.00000, заняло 5 итераций\n",
      "omega=0.10526, заняло 5 итераций\n",
      "omega=0.21053, заняло 5 итераций\n",
      "omega=0.31579, заняло 5 итераций\n",
      "omega=0.42105, заняло 5 итераций\n",
      "omega=0.52632, заняло 5 итераций\n",
      "omega=0.63158, заняло 5 итераций\n",
      "omega=0.73684, заняло 5 итераций\n",
      "omega=0.84211, заняло 5 итераций\n",
      "omega=0.94737, заняло 6 итераций\n",
      "omega=1.05263, заняло 6 итераций\n",
      "omega=1.15789, заняло 6 итераций\n",
      "omega=1.26316, заняло 6 итераций\n",
      "omega=1.36842, заняло 6 итераций\n",
      "omega=1.47368, заняло 6 итераций\n",
      "omega=1.57895, заняло 6 итераций\n",
      "omega=1.68421, заняло 6 итераций\n",
      "omega=1.78947, заняло 6 итераций\n",
      "omega=1.89474, заняло 6 итераций\n",
      "omega=2.00000, заняло 6 итераций\n",
      "CPU times: user 43.2 ms, sys: 9.99 ms, total: 53.2 ms\n",
      "Wall time: 52.6 ms\n"
     ]
    }
   ],
   "source": [
    "%%time\n",
    "\n",
    "# создаем симметричную матрицу \n",
    "N = 5\n",
    "a = np.random.rand(N, N)\n",
    "A = np.tril(a) + np.tril(a, k=-1).T\n",
    "\n",
    "x = np.random.rand(N,1)\n",
    "b = np.matmul(A,x) \n",
    "x0 = np.zeros((N,1))\n",
    "\n",
    "# проверим при каком омега вычисления займут меньше всего итераций \n",
    "for i in np.linspace(0.0,2.0,num=20):\n",
    "    Res = ssor(A, b, x0, e=1e-6, w=i)\n",
    "    print(f'omega={i:.5f}, заняло {Res[1]} итераций')"
   ]
  },
  {
   "cell_type": "code",
   "execution_count": null,
   "id": "289b007f",
   "metadata": {
    "id": "289b007f",
    "outputId": "dc658061-e439-460c-ad76-f3e54fbed203"
   },
   "outputs": [
    {
     "data": {
      "text/plain": [
       "array([[0.96877569, 0.45301661, 0.11022378, 0.71500997, 0.08101911],\n",
       "       [0.45301661, 0.10060168, 0.37065515, 0.7796662 , 0.69373135],\n",
       "       [0.11022378, 0.37065515, 0.03931033, 0.70132925, 0.50610579],\n",
       "       [0.71500997, 0.7796662 , 0.70132925, 0.60619664, 0.55966812],\n",
       "       [0.08101911, 0.69373135, 0.50610579, 0.55966812, 0.600855  ]])"
      ]
     },
     "execution_count": 336,
     "metadata": {},
     "output_type": "execute_result"
    }
   ],
   "source": [
    "# посмотрим на матрицу с которой работали \n",
    "A"
   ]
  },
  {
   "cell_type": "code",
   "execution_count": null,
   "id": "b3777036",
   "metadata": {
    "id": "b3777036",
    "outputId": "92399dec-1bfa-45c3-8e5e-bde3d328d0a8"
   },
   "outputs": [
    {
     "data": {
      "text/plain": [
       "array([[0.11933429],\n",
       "       [0.88246746],\n",
       "       [0.52831734],\n",
       "       [0.40837605],\n",
       "       [0.90377358]])"
      ]
     },
     "execution_count": 335,
     "metadata": {},
     "output_type": "execute_result"
    }
   ],
   "source": [
    "# результат\n",
    "Res[0]"
   ]
  },
  {
   "cell_type": "code",
   "execution_count": null,
   "id": "a0c531c3",
   "metadata": {
    "id": "a0c531c3",
    "outputId": "2d60c628-8f56-4304-955b-47eb605cfd0c"
   },
   "outputs": [
    {
     "data": {
      "text/plain": [
       "array([[0.11933429],\n",
       "       [0.88246746],\n",
       "       [0.52831734],\n",
       "       [0.40837605],\n",
       "       [0.90377358]])"
      ]
     },
     "execution_count": 337,
     "metadata": {},
     "output_type": "execute_result"
    }
   ],
   "source": [
    "# результат функцией из numpy \n",
    "np.linalg.solve(A, b)"
   ]
  },
  {
   "cell_type": "markdown",
   "id": "f0db63d1",
   "metadata": {
    "id": "f0db63d1"
   },
   "source": [
    "# Блочные методы"
   ]
  },
  {
   "cell_type": "markdown",
   "id": "8ed91195",
   "metadata": {
    "id": "8ed91195"
   },
   "source": [
    "## Блочный метод Якоби\n",
    "\n",
    "Блочный метод Якоби предполагает разбиение матрицы $A$ на блоки, а затем решение небольших систем, 2x2, 4x4, 8x8. У нас есть следующее выражение:\n",
    "\n",
    "$$D_{block}x^{k+1}_{block} = (L_{block}+U_{block})x^k_{block} + b_{block}$$\n",
    "\n",
    "Подробно, при размере блока 2x2 расписываем как:\n",
    "\n",
    "$$\n",
    "  \\begin{bmatrix}\n",
    "    a_{11} & a_{12} & & & & & \\\\\n",
    "    a_{21} & a_{22} & & & & &\\\\\n",
    "    & & a_{33} & a_{34} & & &\\\\\n",
    "    & & a_{43} & a_{44} & & &\\\\\n",
    "    & & & & \\ddots& &\\\\\n",
    "    & & & & & &\\\\\n",
    "    & & & & &  a_{n-1, n-1} &  a_{n-1, n}\\\\\n",
    "    & & & & & a_{n, n-1} & a_{n, n}\\\\\n",
    "  \\end{bmatrix} \n",
    "  \\begin{bmatrix}\n",
    "      x_1^{k+1}\\\\ \n",
    "      x_2^{k+1}\\\\\n",
    "      x_3^{k+1}\\\\\n",
    "      x_4^{k+1}\\\\\n",
    "      \\\\\n",
    "      \\vdots\\\\\n",
    "      x_{n_1}^{k+1}\\\\\n",
    "      x_n^{k+1}\\\\\n",
    "      \\end{bmatrix}\n",
    "  = \n",
    "  \\begin{bmatrix}\n",
    "    0& 0& -a_{13} & -a_{14} & \\ldots & -a_{1n-1}&-a_{1n} \\\\\n",
    "    0& 0& -a_{23} &-a_{24} & \\ldots & -a_{2n-1}&-a_{2n} \\\\\n",
    "    -a_{31}& -a_{32}& & & & &\\\\\n",
    "    -a_{41}&-a_{42} & & & & &\\\\\n",
    "    \\vdots& \\vdots& & & \\ddots& &\\\\\n",
    "    \\vdots& \\vdots& & &\\ddots& & &\\\\\n",
    "    -a_{n-1,1}& -a_{n-1,2}& & & & 0&0\\\\\n",
    "    -a_{n1}&-a_{n,2} & & & & 0&0\\\\\n",
    "  \\end{bmatrix} \n",
    "    \\begin{bmatrix}\n",
    "      x_1^{k}\\\\ \n",
    "      x_2^{k}\\\\\n",
    "      x_3^{k}\\\\\n",
    "      x_4^{k}\\\\\n",
    "      \\\\\n",
    "      \\vdots\\\\\n",
    "      x_{n_1}^{k}\\\\\n",
    "      x_n^{k}\\\\\n",
    "      \\end{bmatrix}\n",
    "    + \n",
    "    \\begin{bmatrix}\n",
    "      b_1^{k}\\\\ \n",
    "      b_2^{k}\\\\\n",
    "      b_3^{k}\\\\\n",
    "      b_4^{k}\\\\\n",
    "      \\\\\n",
    "      \\vdots\\\\\n",
    "      b_{n_1}^{k}\\\\\n",
    "      b_n^{k}\\\\\n",
    "      \\end{bmatrix}\n",
    "  $$\n",
    "\n",
    "Выполняя операцию в правой части системы, получаем:\n",
    "\n",
    "$$\n",
    "  \\begin{bmatrix}\n",
    "    a_{11} & a_{12} & & & & & \\\\\n",
    "    a_{21} & a_{22} & & & & &\\\\\n",
    "    & & a_{33} & a_{34} & & &\\\\\n",
    "    & & a_{43} & a_{44} & & &\\\\\n",
    "    & & & & \\ddots& &\\\\\n",
    "    & & & & & &\\\\\n",
    "    & & & & &  a_{n-1, n-1} &  a_{n-1, n}\\\\\n",
    "    & & & & & a_{n, n-1} & a_{n, n}\\\\\n",
    "  \\end{bmatrix} \n",
    "  \\begin{bmatrix}\n",
    "      x_1^{k+1}\\\\ \n",
    "      x_2^{k+1}\\\\\n",
    "      x_3^{k+1}\\\\\n",
    "      x_4^{k+1}\\\\\n",
    "      \\\\\n",
    "      \\vdots\\\\\n",
    "      x_{n_1}^{k+1}\\\\\n",
    "      x_n^{k+1}\\\\\n",
    "      \\end{bmatrix}\n",
    "  = \n",
    "    \\begin{bmatrix}\n",
    "      \\hat{b_1}^{k}\\\\ \n",
    "      \\hat{b_2}^{k}\\\\\n",
    "      \\hat{b_3}^{k}\\\\\n",
    "      \\hat{b_4}^{k}\\\\\n",
    "      \\\\\n",
    "      \\vdots\\\\\n",
    "      \\hat{b_{n_1}}^{k}\\\\\n",
    "      \\hat{b_n^{k}}\\\\\n",
    "      \\end{bmatrix}\n",
    "  $$\n",
    "\n",
    "Так как у нас размер блока 2x2, следовательно для каждой итерации Якоби мы должны решать блочные системы вида:\n",
    "\n",
    "$$\n",
    "  \\begin{bmatrix}\n",
    "    a_{ii} & a_{ii+1}\\\\\n",
    "    a_{i+1i} & a_{i+1i+1}\\\\\n",
    "  \\end{bmatrix} \n",
    "  \\begin{bmatrix}\n",
    "      x_i^{k+1}\\\\ \n",
    "      x_i+1^{k+1}\\\\\n",
    "      \\end{bmatrix}\n",
    "  = \n",
    "    \\begin{bmatrix}\n",
    "      \\hat{b_i}^{k}\\\\ \n",
    "      \\hat{b_{i+1}}^{k}\\\\\n",
    "      \\end{bmatrix}\n",
    "  $$\n",
    "  \n",
    "В реализации блочные системы решаются параллельно. Для этого матрица была переформирована в 3-мерную таблицу `D_blocked`, с размерами (p, размер блока, размер блока), где $p = \\frac{n}{Размер Блока}$. Затем, обращаясь к элементам `D_blocked[:, i, i]`, мы получаем доступ к поворотным элементам всех блоков одновременно. "
   ]
  },
  {
   "cell_type": "code",
   "execution_count": 4,
   "id": "7b999e7b",
   "metadata": {
    "id": "7b999e7b",
    "executionInfo": {
     "status": "ok",
     "timestamp": 1644923425405,
     "user_tz": -180,
     "elapsed": 297,
     "user": {
      "displayName": "Rinat Mahmutov",
      "photoUrl": "https://lh3.googleusercontent.com/a/default-user=s64",
      "userId": "03711814883365407429"
     }
    }
   },
   "outputs": [],
   "source": [
    "def block_jacobi( A: np.array, b: np.array, block_size: int = 2, precision: np.float = 1e-6, max_iter: int = 2000, \n",
    "    verbose: bool = False, return_iter: bool  = False) -> Union[np.array, int]:\n",
    "    \"\"\"разбиваем матрицу A на квадратные блоки, а также вектор b на блоки одинакового размера и \n",
    "    решает Ax = b. Матрица A разбивается на две матрицы. D содержит диагональные блоки, а L и U\n",
    "    верхняя и нижняя блочные треугольные матрицы. Параллельное решение блоков.\n",
    "    Args:\n",
    "        A (np.array): матрица A линейной системы\n",
    "        b (np.array): вектор результат Ax\n",
    "        block_size (int): размер блока\n",
    "        precision (np.float, опционально): Допуск, если ниже 1e-6(по умолчанию) то прерываем.\n",
    "        max_iter (int, опционально): максимальное количество итераций алгоритма. По умолчанию 2000.\n",
    "        verbose (bool, опционально: если true, выводить результаты. По умолчанию False.\n",
    "        return_iter (bool, опционально): возвращает решение x и количество итераций. По умолчанию False.\n",
    "    return:\n",
    "        Union[np.array, int]: решения линейной системы. Если return_iter = True, возвращается число \n",
    "        итераций.\n",
    "    \"\"\"\n",
    "    \n",
    "    start_time = time.time()\n",
    "    iter_counter = 0\n",
    "    error = np.finfo('double').max\n",
    "    # размерность блоков\n",
    "    p = A.shape[0] // block_size\n",
    "    n = len(A)\n",
    "    \n",
    "    # Расчет диагональных блоков\n",
    "    A_blocked = A.reshape(p, block_size, p, block_size).swapaxes(1, 2)\n",
    "    D_blocked = np.diagonal(A_blocked, axis1=0, axis2=1).T\n",
    "    \n",
    "    # рассчитаем LU как диагональный блока A минус матрица A\n",
    "    LU = block_diag(*D_blocked) - A\n",
    "    \n",
    "    # инициализация вектора x\n",
    "    x = np.random.uniform(size=n)\n",
    "    \n",
    "    # запуск блочной итерации якоби\n",
    "    while error > precision and iter_counter <= max_iter:\n",
    "        # инициализация x^{k+1}\n",
    "        x_next = np.zeros(shape=(p, block_size))\n",
    "        \n",
    "        # A_hat - диагональная форма блока (p, размер блока, размер блока)\n",
    "        A_hat = D_blocked.copy()\n",
    "        \n",
    "        # вычислить b_hat и изменить форму на (p, размер блока)\n",
    "        b_hat = LU @ x + b\n",
    "        b_hat = b_hat.reshape(p, block_size)\n",
    "\n",
    "        # начало параллельного вычисления \n",
    "        for i in range(block_size-1):\n",
    "            # доступ ко всем опорным элементам\n",
    "            pivot = A_hat[:, i, i]\n",
    "            \n",
    "            # исключить все строки, расположенные ниже поворотных элементов \n",
    "            for j in range(i+1, block_size):\n",
    "                factor = A_hat[:, j, i] / pivot\n",
    "                A_hat[:, j, :] -= np.multiply(A_hat[:, i, :].T, factor).T\n",
    "                b_hat[:, j] -= b_hat[:, i] * factor\n",
    "        \n",
    "        # обратная подстановка\n",
    "        # поэлементное деление\n",
    "        x_next[:, block_size-1] = b_hat[:, block_size-1] / A_hat[:,block_size-1, block_size-1] \n",
    "        for k in range(block_size-2, -1, -1):\n",
    "            # np.einsum('ij,ij->i',...,...) - это np.dot внутри блоков\n",
    "            x_next[:, k] = (b_hat[:, k] - np.einsum('ij,ij->i', A_hat[:, k, k+1:], x_next[:, k+1:])) \\\n",
    "                           / A_hat[:, k, k] # поэлементное деление\n",
    "        \n",
    "        # изменить форму x_next на исходную\n",
    "        x_next = x_next.reshape(n)\n",
    "        # расситаем ошибку\n",
    "        error = norm(x_next - x) / norm(x)\n",
    "        x = x_next.copy()\n",
    "        iter_counter += 1\n",
    "\n",
    "    if error > precision:\n",
    "        logging.warn(f'Алгоритм завершен т.к достиг максимального количество допустимых итераций. Error = {error}')\n",
    "    end_time = time.time()\n",
    "    \n",
    "    if verbose:\n",
    "        print(f'# найденное решение {x}')\n",
    "        print(f'# Нашли за {iter_counter - 1} итераций, и заняло {(end_time - start_time):.4f} секунд')\n",
    "        print(f'# абсолютная относительная погрешность: {error}')\n",
    "    \n",
    "    if return_iter:\n",
    "        return x, iter_counter-1\n",
    "    return x"
   ]
  },
  {
   "cell_type": "markdown",
   "id": "7a0d5455",
   "metadata": {
    "id": "7a0d5455"
   },
   "source": [
    "## Блочный метод Гаусса-Зейделя\n",
    "\n",
    "Этот метод схож по принципу действия с блочным методом Якоби. Матрица $A$ и векторы $x$ и $b$ разбиваются на блоки. Мы выполняем прямую подстановку, но для каждой итерации необходимо решить меньшую систему. Здесь нам не избежать итерационного характера задачи, поэтому мы не можем решать системы параллельно, так как для каждого блока $[x_i, x_{i+1}]$ предыдущий блок x $[x_{i-1}, x_{i-2}]$ должен быть уже вычислен.\n",
    "\n",
    "Для решения блочных систем используем метод `solve` из scipy."
   ]
  },
  {
   "cell_type": "code",
   "execution_count": 22,
   "id": "e66da388",
   "metadata": {
    "id": "e66da388",
    "executionInfo": {
     "status": "ok",
     "timestamp": 1644925441760,
     "user_tz": -180,
     "elapsed": 6,
     "user": {
      "displayName": "Rinat Mahmutov",
      "photoUrl": "https://lh3.googleusercontent.com/a/default-user=s64",
      "userId": "03711814883365407429"
     }
    }
   },
   "outputs": [],
   "source": [
    "def block_gauss_seidel(A: np.array, b: np.array, block_size: int = 2, precision: np.float = 1e-6, max_iter: int = 2000, \n",
    "    verbose: bool = False, return_iter: bool  = False) -> Union[np.array, int]:\n",
    "    \"\"\"разбивает матрицу A на квадратные блоки, а также вектор b на блоки одинакового размера и \n",
    "    решает Ax = b. Матрица A разбивается на две матрицы. D содержит диагональные блоки, а L и U\n",
    "    это треугольные матрицы верхнего и нижнего блоков.\n",
    "    Args:\n",
    "        A (np.array): матрица A линейной системы\n",
    "        b (np.array): вектор результат Ax\n",
    "        block_size (int): размер блока\n",
    "        precision (np.float, опционально): Допуск, если ниже 1e-6(по умолчанию) то прерываем.\n",
    "        max_iter (int, опционально): максимальное количество итераций алгоритма. По умолчанию 2000.\n",
    "        verbose (bool, опционально: если true, выводить результаты. По умолчанию False.\n",
    "        return_iter (bool, опционально): возвращает решение x и количество итераций. По умолчанию False.\n",
    "    return:\n",
    "        Union[np.array, int]: решения линейной системы. Если return_iter = True, возвращается число \n",
    "        итераций.\n",
    "    \"\"\"\n",
    "    \n",
    "    start_time = time.time()\n",
    "    iter_counter = 0\n",
    "    error = np.finfo('double').max\n",
    "    p = A.shape[0] // block_size\n",
    "    n = len(A)\n",
    "    \n",
    "    # построиv верхнюю треугольную матрицу\n",
    "    U = -A.copy()\n",
    "    for i in range(0,n,block_size):\n",
    "        U[i:i+block_size, :i+block_size] = 0\n",
    "    x = np.random.uniform(size=n)\n",
    "    x_next = np.zeros(n)\n",
    "    \n",
    "    # начало итераций \n",
    "    while error > precision and iter_counter <= max_iter:\n",
    "        # рассчитаем правую часть\n",
    "        b_hat = U @ x + b\n",
    "        x_next = np.zeros(n)\n",
    "        \n",
    "        # прямая подстановка\n",
    "        x_next[0:block_size] = solve(A[:block_size, :block_size], b_hat[:block_size])\n",
    "        for i in range(1, p):\n",
    "            block_range = slice(i * block_size, (i + 1) * block_size)\n",
    "            # получаем диагональный блок\n",
    "            diag_block = A[block_range, block_range].copy()\n",
    "            # рассчитаем наклон b\n",
    "            b_tilted = b_hat[block_range] - A[block_range, :i * block_size] @ x_next[:i * block_size]\n",
    "            # исключение для значений x. Используется метод solve из scipy.\n",
    "            x_next[block_range] = solve(diag_block, b_tilted)\n",
    "\n",
    "        error = norm(x_next - x) / norm(x)\n",
    "        x = x_next.copy()\n",
    "        iter_counter += 1\n",
    "    \n",
    "    end_time = time.time()\n",
    "\n",
    "    if error > precision:\n",
    "        logging.warn(f'Алгоритм завершен т.к достиг максимального количество допустимых итераций. Error = {error}')\n",
    "\n",
    "    if verbose:\n",
    "        print(f'# найденное решение\\n {x}\\n')\n",
    "        print(f'# Нашли за {iter_counter - 1} итераций, и заняло {(end_time - start_time):.4f} секунд\\n')\n",
    "        print(f'# абсолютная относительная погрешность\\n {error}')\n",
    "        \n",
    "    if return_iter:\n",
    "        return x, iter_counter-1\n",
    "    return x"
   ]
  },
  {
   "cell_type": "markdown",
   "id": "e58c663f",
   "metadata": {
    "id": "e58c663f"
   },
   "source": [
    "# Создание матрицы\n",
    "\n",
    "## Создадим дискретное уравнение Пуассона на сетке 64 x 64\n",
    "\n",
    "![image.png](attachment:image.png)"
   ]
  },
  {
   "cell_type": "code",
   "execution_count": null,
   "id": "a49be0cc",
   "metadata": {
    "id": "a49be0cc"
   },
   "outputs": [],
   "source": [
    "n = 64\n",
    "m_poisson = np.zeros((n**2, n**2))\n",
    "\n",
    "diag_ind = np.diag_indices(n**2)\n",
    "m_poisson[diag_ind] = 4\n",
    "lo_diag_ind_rows, lo_diag_ind_columns = np.diag_indices(n**2 - 1)\n",
    "lo_diag_ind_rows = lo_diag_ind_rows + 1\n",
    "m_poisson[lo_diag_ind_rows, lo_diag_ind_columns] = -1\n",
    "\n",
    "up_diag_ind_rows, up_diag_ind_columns = np.diag_indices(n**2 - 1)\n",
    "up_diag_ind_columns = up_diag_ind_columns + 1\n",
    "m_poisson[up_diag_ind_rows, up_diag_ind_columns] = -1\n",
    "\n",
    "# ниже диагонали\n",
    "for i in range(n, n**2, n):\n",
    "    m_poisson[i:i+n, i-n:i] = -1 * np.identity(n)\n",
    "\n",
    "# выше диагонали\n",
    "for i in range(0, n**2 -n, n):\n",
    "    m_poisson[i:i+n, i+n:i+2*n] = -1 * np.identity(n)\n",
    "\n",
    "b_poisson = np.ones(n ** 2)"
   ]
  },
  {
   "cell_type": "code",
   "execution_count": null,
   "id": "f1b14bcb",
   "metadata": {
    "id": "f1b14bcb",
    "outputId": "4e19792a-f7c1-404d-e34a-fc3ff285d8fb"
   },
   "outputs": [
    {
     "data": {
      "text/plain": [
       "(4096, 4096)"
      ]
     },
     "execution_count": 384,
     "metadata": {},
     "output_type": "execute_result"
    }
   ],
   "source": [
    "m_poisson.shape"
   ]
  },
  {
   "cell_type": "markdown",
   "id": "499434cc",
   "metadata": {
    "id": "499434cc"
   },
   "source": [
    "### Пуск блочных методов "
   ]
  },
  {
   "cell_type": "code",
   "execution_count": null,
   "id": "5e5b0552",
   "metadata": {
    "id": "5e5b0552",
    "outputId": "198bcfaf-8574-4de8-9a4e-ca595cec086c"
   },
   "outputs": [
    {
     "name": "stdout",
     "output_type": "stream",
     "text": [
      "# найденное решение [2.42655327 4.35314462 5.97768221 ... 5.97768226 4.35314456 2.42655324]\n",
      "# Нашли за 1799 итераций, и заняло 16.972615242004395 секунд\n",
      "# абсолютная относительная погрешность: 9.983617618126231e-05\n"
     ]
    },
    {
     "data": {
      "text/plain": [
       "array([2.42655327, 4.35314462, 5.97768221, ..., 5.97768226, 4.35314456,\n",
       "       2.42655324])"
      ]
     },
     "execution_count": 356,
     "metadata": {},
     "output_type": "execute_result"
    }
   ],
   "source": [
    "block_jacobi(A=m_poisson, b=b_poisson, block_size=2, precision=1e-4, max_iter=5000, verbose=True, return_iter=False)"
   ]
  },
  {
   "cell_type": "code",
   "execution_count": null,
   "id": "346863b4",
   "metadata": {
    "id": "346863b4",
    "outputId": "4030d0aa-a4ef-439b-b962-12956f7f1b6d"
   },
   "outputs": [
    {
     "name": "stdout",
     "output_type": "stream",
     "text": [
      "# найденное решение [2.44834174 4.39670459 6.04301396 ... 6.05377137 4.40404936 2.45201556]\n",
      "# Нашли за 1112 итераций, и заняло 141.87295627593994 секунд\n",
      "# абсолютная относительная погрешность: 9.989159016448305e-05\n"
     ]
    },
    {
     "data": {
      "text/plain": [
       "array([2.44834174, 4.39670459, 6.04301396, ..., 6.05377137, 4.40404936,\n",
       "       2.45201556])"
      ]
     },
     "execution_count": 357,
     "metadata": {},
     "output_type": "execute_result"
    }
   ],
   "source": [
    "block_gauss_seidel(A=m_poisson, b=b_poisson, block_size=2, precision=1e-4, max_iter=5000, verbose=True, return_iter=False)"
   ]
  },
  {
   "cell_type": "markdown",
   "id": "3f98d1f0",
   "metadata": {
    "id": "3f98d1f0"
   },
   "source": [
    "## Эксперимент. Сравнение производительности\n",
    "Чтобы сравнить производительность блочных итерационных методов, мы выполним по 3 прохода каждого из них и выведем среднее значение, чтобы иметь стабильный результат в случае колебаний. Кроме того, мы будем выполнять функции с одинаковой требуемой точностью, чтобы сравнить их на равной основе."
   ]
  },
  {
   "cell_type": "code",
   "execution_count": null,
   "id": "2c60b4c0",
   "metadata": {
    "id": "2c60b4c0"
   },
   "outputs": [],
   "source": [
    "def comparison_diagnostics(solver, name, T, b, *args):\n",
    "    runtime = []\n",
    "    errors = []\n",
    "    runs = 3\n",
    "    for i in range(runs):\n",
    "        start_time = time.time()\n",
    "        res = solver(T, b, *args)\n",
    "        end_time = time.time()\n",
    "        runtime.append(end_time - start_time)\n",
    "        b_hat = T @ res\n",
    "        error = norm(b - b_hat) / norm(b)\n",
    "        errors.append(error)\n",
    "    df = pd.DataFrame({'runtime':runtime, 'error':error})\n",
    "    df['solver'] = name\n",
    "    return df"
   ]
  },
  {
   "cell_type": "code",
   "execution_count": null,
   "id": "60ef78c3",
   "metadata": {
    "id": "60ef78c3"
   },
   "outputs": [],
   "source": [
    "parallel_jacobi_2_block = comparison_diagnostics(block_jacobi,\n",
    "                                                 'block_jacobi_2_block',\n",
    "                                                 m_poisson, b_poisson, 2, 10**(-5), 10**6)\n",
    "\n",
    "parallel_jacobi_4_block = comparison_diagnostics(block_jacobi,\\ \n",
    "                                                 'block_jacobi_4_block',\\\n",
    "                                                 m_poisson, b_poisson, 4, 10**(-5), 10**6)\n",
    "\n",
    "parallel_jacobi_8_block = comparison_diagnostics(block_jacobi,\\ \n",
    "                                                 'block_jacobi_8_block',\\ \n",
    "                                                 m_poisson, b_poisson, 8, 10**(-5), 10**6)"
   ]
  },
  {
   "cell_type": "code",
   "execution_count": null,
   "id": "d8e91605",
   "metadata": {
    "id": "d8e91605"
   },
   "outputs": [],
   "source": [
    "gauss_seidel_2_block = comparison_diagnostics(block_gauss_seidel,\\ \n",
    "                                              'block_gauss_seidel_2_block',\\ \n",
    "                                              m_poisson, b_poisson, 2, 10**(-5), 10**6)\n",
    "\n",
    "gauss_seidel_4_block = comparison_diagnostics(block_gauss_seidel,\\ \n",
    "                                              'block_gauss_seidel_4_block',\\ \n",
    "                                              m_poisson, b_poisson, 4, 10**(-5), 10**6)\n",
    "\n",
    "gauss_seidel_8_block = comparison_diagnostics(block_gauss_seidel,\\ \n",
    "                                              'block_gauss_seidel_8_block',\\ \n",
    "                                              m_poisson, b_poisson, 8, 10**(-5), 10**6)"
   ]
  },
  {
   "cell_type": "code",
   "execution_count": null,
   "id": "f8d36079",
   "metadata": {
    "id": "f8d36079",
    "outputId": "d3e2b9d1-8725-4c66-d49b-5b3459674056"
   },
   "outputs": [
    {
     "data": {
      "text/html": [
       "<div>\n",
       "<style scoped>\n",
       "    .dataframe tbody tr th:only-of-type {\n",
       "        vertical-align: middle;\n",
       "    }\n",
       "\n",
       "    .dataframe tbody tr th {\n",
       "        vertical-align: top;\n",
       "    }\n",
       "\n",
       "    .dataframe thead th {\n",
       "        text-align: right;\n",
       "    }\n",
       "</style>\n",
       "<table border=\"1\" class=\"dataframe\">\n",
       "  <thead>\n",
       "    <tr style=\"text-align: right;\">\n",
       "      <th></th>\n",
       "      <th>solver</th>\n",
       "      <th>avg_runtime</th>\n",
       "      <th>error</th>\n",
       "    </tr>\n",
       "  </thead>\n",
       "  <tbody>\n",
       "    <tr>\n",
       "      <th>0</th>\n",
       "      <td>block_gauss_seidel_2_block</td>\n",
       "      <td>252.792355</td>\n",
       "      <td>0.002786</td>\n",
       "    </tr>\n",
       "    <tr>\n",
       "      <th>1</th>\n",
       "      <td>block_gauss_seidel_4_block</td>\n",
       "      <td>125.464107</td>\n",
       "      <td>0.002332</td>\n",
       "    </tr>\n",
       "    <tr>\n",
       "      <th>2</th>\n",
       "      <td>block_gauss_seidel_8_block</td>\n",
       "      <td>68.788828</td>\n",
       "      <td>0.002069</td>\n",
       "    </tr>\n",
       "    <tr>\n",
       "      <th>5</th>\n",
       "      <td>block_jacobi_8_block</td>\n",
       "      <td>32.738612</td>\n",
       "      <td>0.004030</td>\n",
       "    </tr>\n",
       "    <tr>\n",
       "      <th>3</th>\n",
       "      <td>block_jacobi_2_block</td>\n",
       "      <td>31.589563</td>\n",
       "      <td>0.005271</td>\n",
       "    </tr>\n",
       "    <tr>\n",
       "      <th>4</th>\n",
       "      <td>block_jacobi_4_block</td>\n",
       "      <td>29.347793</td>\n",
       "      <td>0.004480</td>\n",
       "    </tr>\n",
       "  </tbody>\n",
       "</table>\n",
       "</div>"
      ],
      "text/plain": [
       "                       solver  avg_runtime     error\n",
       "0  block_gauss_seidel_2_block   252.792355  0.002786\n",
       "1  block_gauss_seidel_4_block   125.464107  0.002332\n",
       "2  block_gauss_seidel_8_block    68.788828  0.002069\n",
       "5        block_jacobi_8_block    32.738612  0.004030\n",
       "3        block_jacobi_2_block    31.589563  0.005271\n",
       "4        block_jacobi_4_block    29.347793  0.004480"
      ]
     },
     "execution_count": 375,
     "metadata": {},
     "output_type": "execute_result"
    }
   ],
   "source": [
    "comparisons = pd.concat([\n",
    "    parallel_jacobi_2_block,\n",
    "    parallel_jacobi_4_block,\n",
    "    parallel_jacobi_8_block,\n",
    "    gauss_seidel_2_block,\n",
    "    gauss_seidel_4_block,\n",
    "    gauss_seidel_8_block\n",
    "])\n",
    "\n",
    "agg = comparisons.groupby('solver').agg(avg_runtime = ('runtime', np.mean), error = ('error', np.mean)).reset_index()\n",
    "agg.sort_values(by='avg_runtime', ascending=False, inplace=True)\n",
    "agg"
   ]
  },
  {
   "cell_type": "code",
   "execution_count": null,
   "id": "67c12b46",
   "metadata": {
    "id": "67c12b46",
    "outputId": "3f6f5494-9839-43cc-99e0-9f8e2c616dac"
   },
   "outputs": [
    {
     "data": {
      "image/png": "[encoded data removed]",
      "text/plain": [
       "<Figure size 1152x432 with 2 Axes>"
      ]
     },
     "metadata": {},
     "output_type": "display_data"
    }
   ],
   "source": [
    "fig, axs = plt.subplots(1,2, figsize=(16,6))\n",
    "fig.subplots_adjust(wspace=0.8)\n",
    "\n",
    "\n",
    "sns.barplot(x='avg_runtime', y='solver', data=agg, color='grey', ax=axs[0])\n",
    "axs[0].set_xlabel('Среднее время выполнения (сек)')\n",
    "axs[0].title.set_text('Среднее время выполнения для 3 прогонов')\n",
    "\n",
    "sns.barplot(x='error', y='solver', data=agg, color='grey', ax=axs[1])\n",
    "axs[1].set_xlabel('Погрешность')\n",
    "axs[1].title.set_text('Абсолютная относительная погрешность $||A\\hat{x} - b|| / ||b\\||$')\n",
    "plt.show()"
   ]
  },
  {
   "cell_type": "markdown",
   "id": "1acd4c6d",
   "metadata": {
    "id": "1acd4c6d"
   },
   "source": [
    "Глядя на результаты, мы можем заметить следующее:\n",
    "\n",
    "- Самыми быстрыми методами являются блочные методы Якоби со средним временем выполнения ~1 секунда.\n",
    "- Самым медленным методом является блочный метод Гаусса-Зейделя, где размер блока равен 2x2.\n",
    "- Методы Якоби быстрые, но погрешность больше, чем у методов Гаусса-Зейделя.\n",
    "\n",
    "Методы Якоби быстрее, потому что:\n",
    "- блочный метод Якоби решает блочные системы параллельно, поэтому цикл for имеет фиксированное число итераций в зависимости от размера блока.\n",
    "\n"
   ]
  },
  {
   "cell_type": "markdown",
   "id": "fd1bdf4f",
   "metadata": {
    "id": "fd1bdf4f"
   },
   "source": [
    "## Создадим дискретное уравнение Лапласа "
   ]
  },
  {
   "cell_type": "code",
   "execution_count": 23,
   "id": "9c9b6592",
   "metadata": {
    "id": "9c9b6592",
    "executionInfo": {
     "status": "ok",
     "timestamp": 1644858659048,
     "user_tz": -180,
     "elapsed": 424,
     "user": {
      "displayName": "Rinat Mahmutov",
      "photoUrl": "https://lh3.googleusercontent.com/a/default-user=s64",
      "userId": "03711814883365407429"
     }
    }
   },
   "outputs": [],
   "source": [
    "def laplacian_1d(n):\n",
    "    return np.diag(2 * np.ones(n - 2)) + \\\n",
    "           np.diag(-np.ones(n - 3), 1) + \\\n",
    "           np.diag(-np.ones(n - 3), -1)\n",
    "\n",
    "\n",
    "def laplacian_2d(n):\n",
    "    return np.kron(np.eye(n - 2), laplacian_1d(n)) + \\\n",
    "           np.kron(laplacian_1d(n), np.eye(n - 2))\n",
    "\n",
    "\n",
    "V = 1\n",
    "n = 4\n",
    "\n",
    "m_laplacian = -laplacian_2d(n)\n",
    "\n",
    "b_laplacian = np.zeros_like(m_laplacian[:,1])\n",
    "b_laplacian[:n-2] = np.repeat(-V, n - 2)\n",
    "b_laplacian[-n+2:] = np.repeat(V, n - 2)"
   ]
  },
  {
   "cell_type": "code",
   "execution_count": 24,
   "id": "a6681584",
   "metadata": {
    "colab": {
     "base_uri": "https://localhost:8080/"
    },
    "id": "a6681584",
    "executionInfo": {
     "status": "ok",
     "timestamp": 1644858663768,
     "user_tz": -180,
     "elapsed": 9,
     "user": {
      "displayName": "Rinat Mahmutov",
      "photoUrl": "https://lh3.googleusercontent.com/a/default-user=s64",
      "userId": "03711814883365407429"
     }
    },
    "outputId": "361dad2c-e258-437b-dcec-7d52b3f2502c"
   },
   "outputs": [
    {
     "output_type": "execute_result",
     "data": {
      "text/plain": [
       "(4, 4)"
      ]
     },
     "metadata": {},
     "execution_count": 24
    }
   ],
   "source": [
    "m_laplacian.shape"
   ]
  },
  {
   "cell_type": "code",
   "source": [
    "import numpy as np\n",
    "\n",
    "n = 5000\n",
    "al = 0.5\n",
    "A= np.zeros((n, n), 'float') \n",
    "for i in range(0, n):\n",
    "  A[i,i] =2 \n",
    "  if i>0:\n",
    "    A[i,i-1] = - 1 + al \n",
    "  if i<n-1:\n",
    "    A[i,i+1] = - 1 - al \n",
    "\n",
    "# print('A:\\n', A)\n",
    "A.shape"
   ],
   "metadata": {
    "colab": {
     "base_uri": "https://localhost:8080/"
    },
    "id": "eNAVgIT7ORZe",
    "executionInfo": {
     "status": "ok",
     "timestamp": 1644925731245,
     "user_tz": -180,
     "elapsed": 672,
     "user": {
      "displayName": "Rinat Mahmutov",
      "photoUrl": "https://lh3.googleusercontent.com/a/default-user=s64",
      "userId": "03711814883365407429"
     }
    },
    "outputId": "5130d44f-3c6e-4aa2-a945-2706a2a4114c"
   },
   "id": "eNAVgIT7ORZe",
   "execution_count": 26,
   "outputs": [
    {
     "output_type": "execute_result",
     "data": {
      "text/plain": [
       "(5000, 5000)"
      ]
     },
     "metadata": {},
     "execution_count": 26
    }
   ]
  },
  {
   "cell_type": "code",
   "source": [
    "B = np.zeros((n), 'float')\n",
    "B[0] = 1 - al\n",
    "B[n-1] = 1 + al\n",
    "#print('B:\\n', B)\n",
    "B.shape"
   ],
   "metadata": {
    "colab": {
     "base_uri": "https://localhost:8080/"
    },
    "id": "C4FxGWicKGyH",
    "executionInfo": {
     "status": "ok",
     "timestamp": 1644925733467,
     "user_tz": -180,
     "elapsed": 5,
     "user": {
      "displayName": "Rinat Mahmutov",
      "photoUrl": "https://lh3.googleusercontent.com/a/default-user=s64",
      "userId": "03711814883365407429"
     }
    },
    "outputId": "8e6107cf-dd5b-45e8-ba9d-d909f9526c97"
   },
   "id": "C4FxGWicKGyH",
   "execution_count": 27,
   "outputs": [
    {
     "output_type": "execute_result",
     "data": {
      "text/plain": [
       "(5000,)"
      ]
     },
     "metadata": {},
     "execution_count": 27
    }
   ]
  },
  {
   "cell_type": "code",
   "execution_count": 28,
   "id": "6c4bee83",
   "metadata": {
    "colab": {
     "base_uri": "https://localhost:8080/"
    },
    "id": "6c4bee83",
    "executionInfo": {
     "status": "ok",
     "timestamp": 1644925843252,
     "user_tz": -180,
     "elapsed": 107197,
     "user": {
      "displayName": "Rinat Mahmutov",
      "photoUrl": "https://lh3.googleusercontent.com/a/default-user=s64",
      "userId": "03711814883365407429"
     }
    },
    "outputId": "93ac4e62-f989-4a51-95ef-be2addf4a25c"
   },
   "outputs": [
    {
     "output_type": "stream",
     "name": "stdout",
     "text": [
      "# найденное решение [1.00164024 1.0005968  0.99902512 ... 1.         1.         1.        ]\n",
      "# Нашли за 5545 итераций, и заняло 107.5250 секунд\n",
      "# абсолютная относительная погрешность: 9.661714700441861e-05\n"
     ]
    }
   ],
   "source": [
    "x = block_jacobi(A=A, b=B, \n",
    "             block_size=2, precision=1e-4, max_iter=10000, verbose=True, return_iter=False)"
   ]
  },
  {
   "cell_type": "code",
   "source": [
    "x"
   ],
   "metadata": {
    "colab": {
     "base_uri": "https://localhost:8080/"
    },
    "id": "PYpNmdfuFeT-",
    "executionInfo": {
     "status": "ok",
     "timestamp": 1644925874256,
     "user_tz": -180,
     "elapsed": 307,
     "user": {
      "displayName": "Rinat Mahmutov",
      "photoUrl": "https://lh3.googleusercontent.com/a/default-user=s64",
      "userId": "03711814883365407429"
     }
    },
    "outputId": "5676a9cb-23d4-4f6f-ff93-21403196f8c8"
   },
   "id": "PYpNmdfuFeT-",
   "execution_count": 29,
   "outputs": [
    {
     "output_type": "execute_result",
     "data": {
      "text/plain": [
       "array([1.00164024, 1.0005968 , 0.99902512, ..., 1.        , 1.        ,\n",
       "       1.        ])"
      ]
     },
     "metadata": {},
     "execution_count": 29
    }
   ]
  },
  {
   "cell_type": "code",
   "source": [
    "Ax = np.around(A@x, decimals = 1)"
   ],
   "metadata": {
    "id": "nOMNpPGeLp7m",
    "executionInfo": {
     "status": "ok",
     "timestamp": 1644926863795,
     "user_tz": -180,
     "elapsed": 6,
     "user": {
      "displayName": "Rinat Mahmutov",
      "photoUrl": "https://lh3.googleusercontent.com/a/default-user=s64",
      "userId": "03711814883365407429"
     }
    }
   },
   "id": "nOMNpPGeLp7m",
   "execution_count": 35,
   "outputs": []
  },
  {
   "cell_type": "code",
   "source": [
    "np.array_equal(Ax, B)"
   ],
   "metadata": {
    "colab": {
     "base_uri": "https://localhost:8080/"
    },
    "id": "I4nB3szFRlcc",
    "executionInfo": {
     "status": "ok",
     "timestamp": 1644926865839,
     "user_tz": -180,
     "elapsed": 8,
     "user": {
      "displayName": "Rinat Mahmutov",
      "photoUrl": "https://lh3.googleusercontent.com/a/default-user=s64",
      "userId": "03711814883365407429"
     }
    },
    "outputId": "f585f66f-d8ae-4586-f862-e578c35be852"
   },
   "id": "I4nB3szFRlcc",
   "execution_count": 36,
   "outputs": [
    {
     "output_type": "execute_result",
     "data": {
      "text/plain": [
       "True"
      ]
     },
     "metadata": {},
     "execution_count": 36
    }
   ]
  },
  {
   "cell_type": "code",
   "source": [
    "b_laplacian"
   ],
   "metadata": {
    "colab": {
     "base_uri": "https://localhost:8080/"
    },
    "id": "QkSlKNh2Lv6I",
    "executionInfo": {
     "status": "ok",
     "timestamp": 1644858128844,
     "user_tz": -180,
     "elapsed": 1218,
     "user": {
      "displayName": "Rinat Mahmutov",
      "photoUrl": "https://lh3.googleusercontent.com/a/default-user=s64",
      "userId": "03711814883365407429"
     }
    },
    "outputId": "7b1863f7-e32d-40f4-de5d-84138f85b820"
   },
   "id": "QkSlKNh2Lv6I",
   "execution_count": 21,
   "outputs": [
    {
     "output_type": "execute_result",
     "data": {
      "text/plain": [
       "array([-1., -1., -1., -1., -1., -1., -1., -1.,  0.,  0.,  0.,  0.,  0.,\n",
       "        0.,  0.,  0.,  0.,  0.,  0.,  0.,  0.,  0.,  0.,  0.,  0.,  0.,\n",
       "        0.,  0.,  0.,  0.,  0.,  0.,  0.,  0.,  0.,  0.,  0.,  0.,  0.,\n",
       "        0.,  0.,  0.,  0.,  0.,  0.,  0.,  0.,  0.,  0.,  0.,  0.,  0.,\n",
       "        0.,  0.,  0.,  0.,  1.,  1.,  1.,  1.,  1.,  1.,  1.,  1.])"
      ]
     },
     "metadata": {},
     "execution_count": 21
    }
   ]
  },
  {
   "cell_type": "code",
   "execution_count": 18,
   "id": "8c9945ba",
   "metadata": {
    "colab": {
     "base_uri": "https://localhost:8080/"
    },
    "id": "8c9945ba",
    "executionInfo": {
     "status": "ok",
     "timestamp": 1644857979447,
     "user_tz": -180,
     "elapsed": 467,
     "user": {
      "displayName": "Rinat Mahmutov",
      "photoUrl": "https://lh3.googleusercontent.com/a/default-user=s64",
      "userId": "03711814883365407429"
     }
    },
    "outputId": "501c8e07-83d3-4945-af70-9d8b04dc3d22"
   },
   "outputs": [
    {
     "output_type": "stream",
     "name": "stdout",
     "text": [
      "# найденное решение [ 0.47264357  0.64361222  0.71052572  0.73466425  0.7346507   0.71051389\n",
      "  0.64358556  0.47262997  0.24694281  0.39121506  0.46378005  0.49339922\n",
      "  0.49337578  0.46375959  0.39116893  0.24691926  0.12388869  0.21043197\n",
      "  0.25992269  0.28166203  0.28163295  0.25989729  0.21037473  0.12385948\n",
      "  0.03815497  0.06659487  0.08375646  0.09156362  0.09153317  0.08372987\n",
      "  0.06653493  0.03812438 -0.03788672 -0.06606932 -0.0831108  -0.09082422\n",
      " -0.09085227 -0.08313529 -0.06612451 -0.03791489 -0.12365119 -0.20996666\n",
      " -0.25935104 -0.2810074  -0.28103011 -0.25937087 -0.21001136 -0.123674\n",
      " -0.24676414 -0.39086502 -0.46335001 -0.49290675 -0.49292227 -0.46336357\n",
      " -0.39089557 -0.24677973 -0.47254659 -0.64342221 -0.71029229 -0.73439693\n",
      " -0.73440453 -0.71029893 -0.64343718 -0.47255423]\n",
      "# Нашли за 48 итераций, и заняло 0.0835 секунд\n",
      "# абсолютная относительная погрешность: 9.34990033508656e-05\n"
     ]
    },
    {
     "output_type": "execute_result",
     "data": {
      "text/plain": [
       "array([ 0.47264357,  0.64361222,  0.71052572,  0.73466425,  0.7346507 ,\n",
       "        0.71051389,  0.64358556,  0.47262997,  0.24694281,  0.39121506,\n",
       "        0.46378005,  0.49339922,  0.49337578,  0.46375959,  0.39116893,\n",
       "        0.24691926,  0.12388869,  0.21043197,  0.25992269,  0.28166203,\n",
       "        0.28163295,  0.25989729,  0.21037473,  0.12385948,  0.03815497,\n",
       "        0.06659487,  0.08375646,  0.09156362,  0.09153317,  0.08372987,\n",
       "        0.06653493,  0.03812438, -0.03788672, -0.06606932, -0.0831108 ,\n",
       "       -0.09082422, -0.09085227, -0.08313529, -0.06612451, -0.03791489,\n",
       "       -0.12365119, -0.20996666, -0.25935104, -0.2810074 , -0.28103011,\n",
       "       -0.25937087, -0.21001136, -0.123674  , -0.24676414, -0.39086502,\n",
       "       -0.46335001, -0.49290675, -0.49292227, -0.46336357, -0.39089557,\n",
       "       -0.24677973, -0.47254659, -0.64342221, -0.71029229, -0.73439693,\n",
       "       -0.73440453, -0.71029893, -0.64343718, -0.47255423])"
      ]
     },
     "metadata": {},
     "execution_count": 18
    }
   ],
   "source": [
    "block_gauss_seidel(A=m_laplacian, b=b_laplacian,\n",
    "                   block_size=2, precision=1e-4, max_iter=5000, verbose=True, return_iter=False)"
   ]
  },
  {
   "cell_type": "markdown",
   "id": "6b45b3ee",
   "metadata": {
    "id": "6b45b3ee"
   },
   "source": [
    "# Перепишем метод SOR"
   ]
  },
  {
   "cell_type": "code",
   "execution_count": null,
   "id": "fdb78b14",
   "metadata": {
    "id": "fdb78b14"
   },
   "outputs": [],
   "source": [
    "def SOR(A: np.array, b: np.array, omega: np.float, precision: np.float = 10**-6, max_iter: int = 2000, \n",
    "    verbose: bool = False, return_iter: bool  = False) -> Union[np.array, int]:\n",
    "    \"\"\"Реализация итерационного алгоритма Successive Overelaxation который решает задачу Ax=b.\n",
    "    Матрица A разбивается на две матрицы. D содержит диагональные элементы, а LU\n",
    "    недиагональные элементы, например, A = D-L-U.\n",
    "    Args:\n",
    "        A (np.array): матрица A линейной системы\n",
    "        b (np.array): вектор результат Ax\n",
    "        block_size (int): размер блока\n",
    "        precision (np.float, опционально): Допуск, если ниже 1e-6(по умолчанию) то прерываем.\n",
    "        max_iter (int, опционально): максимальное количество итераций алгоритма. По умолчанию 2000.\n",
    "        verbose (bool, опционально: если true, выводить результаты. По умолчанию False.\n",
    "        return_iter (bool, опционально): возвращает решение x и количество итераций. По умолчанию False.\n",
    "    Возвращает:\n",
    "        Union[np.array, int]: решения линейной системы. Если return_iter = True, возвращается число \n",
    "        итераций.\n",
    "    \"\"\"\n",
    "\n",
    "    start_time = time.time()\n",
    "    n = len(A)\n",
    "    x = np.random.uniform(size=n)\n",
    "    iter_counter = 0\n",
    "    error = np.finfo('double').max\n",
    "    \n",
    "    # найдем нижние, верхние и диагональные матрицы\n",
    "    L = - np.tril(A, -1)\n",
    "    U = - np.triu(A, 1)\n",
    "    D = np.diag(np.diag(A))\n",
    "    \n",
    "    # рассчитаем M и N\n",
    "    M = 1/omega * (D - omega*L)\n",
    "    N = (1-omega)/omega * D + U\n",
    "    \n",
    "    # начало итерации\n",
    "    while error > precision and iter_counter <= max_iter:\n",
    "        b_hat = N @ x + b\n",
    "        x_next = np.zeros(n)\n",
    "        # прямая подстановка \n",
    "        for i in range(n):\n",
    "            x_next[i] = (b_hat[i] - M[i, :i] @ x_next[:i]) / M[i, i]\n",
    "        error = norm(x_next - x) / norm(x)\n",
    "        x = x_next.copy()\n",
    "        iter_counter += 1\n",
    "    \n",
    "    end_time = time.time()\n",
    "    \n",
    "    if error > precision:\n",
    "        logging.warn(f'Алгоритм завершен т.к достиг максимального количество допустимых итераций. Error = {error}')\n",
    "\n",
    "    if verbose:\n",
    "        print(f'# найденное решение {x}')\n",
    "        print(f'# Нашли за {iter_counter - 1} итераций, и заняло {(end_time - start_time):.4f} секунд')\n",
    "        print(f'# абсолютная относительная погрешность: {error}')\n",
    "        \n",
    "    if return_iter:\n",
    "        return x, iter_counter - 1\n",
    "    \n",
    "    return x\n"
   ]
  },
  {
   "cell_type": "markdown",
   "id": "134cf9af",
   "metadata": {
    "id": "134cf9af"
   },
   "source": [
    "## Найдем $\\omega_{опт}$"
   ]
  },
  {
   "cell_type": "code",
   "execution_count": null,
   "id": "777e8c9c",
   "metadata": {
    "id": "777e8c9c",
    "outputId": "0c13792e-8600-4d25-c6b5-9cd256efb49d"
   },
   "outputs": [
    {
     "name": "stderr",
     "output_type": "stream",
     "text": [
      "100%|███████████████████████████████████████████| 20/20 [13:55<00:00, 41.79s/it]\n"
     ]
    }
   ],
   "source": [
    "from tqdm import tqdm\n",
    "\n",
    "runtimes = []\n",
    "errors = []\n",
    "omegas = np.arange(1,1.96,0.05)\n",
    "iterations = []\n",
    "\n",
    "for omega in tqdm(omegas):\n",
    "    start_time = time.time()\n",
    "    res, iter_ = SOR(m_poisson, b_poisson, omega=omega, verbose=False, max_iter=10000, return_iter=True)\n",
    "    end_time = time.time()\n",
    "    b_hat = T @ res\n",
    "    error = norm(b_poisson - b_hat) / norm(b_poisson)\n",
    "    errors.append(error)\n",
    "    runtimes.append(end_time - start_time)\n",
    "    iterations.append(iter_)"
   ]
  },
  {
   "cell_type": "code",
   "execution_count": null,
   "id": "30401237",
   "metadata": {
    "id": "30401237",
    "outputId": "7aaeac7d-32f1-4b34-edfc-e4649fdbd321"
   },
   "outputs": [
    {
     "name": "stderr",
     "output_type": "stream",
     "text": [
      "/Users/rinatmahmutov/opt/anaconda3/lib/python3.8/site-packages/seaborn/_decorators.py:36: FutureWarning: Pass the following variables as keyword args: x, y. From version 0.12, the only valid positional argument will be `data`, and passing other arguments without an explicit keyword will result in an error or misinterpretation.\n",
      "  warnings.warn(\n"
     ]
    },
    {
     "data": {
      "image/png": "[encoded data removed]",
      "text/plain": [
       "<Figure size 576x432 with 1 Axes>"
      ]
     },
     "metadata": {},
     "output_type": "display_data"
    },
    {
     "name": "stdout",
     "output_type": "stream",
     "text": [
      "параметр омега оптимален между 1.8500000000000008 и 1.9500000000000008, занимает 190.0 итераций\n"
     ]
    }
   ],
   "source": [
    "sor_results = pd.DataFrame({\n",
    "    'omega': omegas,\n",
    "    'runtimes': runtimes,\n",
    "    'errors': errors,\n",
    "    'iterations': iterations\n",
    "    \n",
    "})\n",
    "\n",
    "fig, axs = plt.subplots(figsize=(8,6))\n",
    "sns.lineplot(sor_results.omega, sor_results.iterations)\n",
    "plt.title(f'Количество итераций для различных параметров релаксации $\\omega$')\n",
    "plt.show()\n",
    "\n",
    "opt_index = sor_results.iterations.idxmin()\n",
    "w_opt_range = sor_results.iloc[opt_index-1: opt_index+2].omega\n",
    "min_iterations = sor_results.iloc[sor_results.iterations.idxmin()].iterations\n",
    "print(f'параметр омега оптимален между {w_opt_range.min()} и {w_opt_range.max()}, занимает {min_iterations} итераций')"
   ]
  },
  {
   "cell_type": "code",
   "execution_count": null,
   "id": "200a32b8",
   "metadata": {
    "id": "200a32b8"
   },
   "outputs": [],
   "source": [
    ""
   ]
  },
  {
   "cell_type": "markdown",
   "id": "83be240c",
   "metadata": {
    "id": "83be240c"
   },
   "source": [
    "# Метод наискорейшего спуска, метод минимальных невязок и метод минимальных поправок."
   ]
  },
  {
   "cell_type": "markdown",
   "id": "87e22bf4",
   "metadata": {
    "id": "87e22bf4"
   },
   "source": [
    "Градиент рассматриваемого нами функционала имеет\n",
    "вид:\n",
    "$$\\nabla \\Phi (\\vec{u}) = 2(A \\vec{u} − \\vec{f}$$\n",
    "Чтобы найти решение СЛАУ, можно найти минимум соответствующего функционала. Так как направление градиента есть направление наибольшего возрастания функционала, то для нахождения минимума функционала нам нужно двигаться от некоторой начальной точки (начального приближения) в направлении, противоположном направлению градиента. Соответствующий итерационный процесс выглядит следующим образом:\n",
    "\n",
    "$$\\vec{u}^{(k+1)} = \\vec{u}^{(k)} - \\alpha_k \\nabla \\Phi(\\vec{u}^{(k)})$$\n",
    "Вектор\n",
    "$$\\vec{r_k} = A\\vec{u}^{(k)} - \\vec{f}$$\n",
    "называется вектором невязки. Тогда\n",
    "$$\\nabla \\Phi (\\vec{u}^{(k)}) = 2\\vec{r_k}$$\n",
    "Методы наискорейшего спуска и минимальных невязок отличаются только выбором параметра $\\alpha_k$:\n",
    "\n",
    "$\\alpha_k = \\frac{1}{2} \\frac{(\\vec{r_k}, \\vec{r_k})}{(A\\vec{r_k},\\vec{r_k})}$ — метод наискорейшего спуска;\n",
    "\n",
    "$\\alpha_k = \\frac{1}{2} \\frac{(A\\vec{r_k}, \\vec{r_k})}{(A\\vec{r_k},A\\vec{r_k})}$ — метод минимальных невязок"
   ]
  },
  {
   "cell_type": "code",
   "execution_count": null,
   "id": "47443c31",
   "metadata": {
    "id": "47443c31"
   },
   "outputs": [],
   "source": [
    "def run_method(A, b, next_iter, x0, eps, history=False, return_num_iter=False):\n",
    "    \"\"\"\n",
    "    Вспомогательная функция, которая прогоняет метод решения СЛАУ до сходимости.\n",
    "    При указании параметров, печатает результаты на каждой промежуточной итерации\n",
    "    или возвращает кол-во итераций.\n",
    "    \"\"\"\n",
    "    x_prev = x0\n",
    "    x_curr = next_iter(x_prev)\n",
    "    if history:\n",
    "        print(\"k=1. Current approximation: \", x_curr, end='. ')\n",
    "        print(\"Error = {}.\".format(norm(x_curr - x_prev)))\n",
    "    k = 1\n",
    "    while norm(x_curr - x_prev) >= eps:   \n",
    "        k = k + 1\n",
    "        x_prev = x_curr\n",
    "        x_curr = next_iter(x_curr)  \n",
    "        if history:\n",
    "            print(\"k={}. Current approximation: \".format(k), x_curr, end='. ')\n",
    "            print(\"Error = {}.\".format(norm(x_curr - x_prev)))\n",
    "    else:\n",
    "        if history: print('')\n",
    "    \n",
    "    if return_num_iter: return x_curr, k\n",
    "    return x_curr"
   ]
  },
  {
   "cell_type": "markdown",
   "id": "cc0f95a7",
   "metadata": {
    "id": "cc0f95a7"
   },
   "source": [
    "## Метод минимальных невязок"
   ]
  },
  {
   "cell_type": "code",
   "execution_count": null,
   "id": "eb71f9a1",
   "metadata": {
    "id": "eb71f9a1"
   },
   "outputs": [],
   "source": [
    "def min_residuals(A, b, eps, history=False, return_num_iter=False):\n",
    "    \n",
    "    def next_iter(xk):\n",
    "        nonlocal A, b\n",
    "        rk = np.dot(A, xk) - b\n",
    "        Ark = np.dot(A, rk)\n",
    "        return xk - np.dot(Ark, rk) / np.dot(Ark, Ark) * rk        \n",
    "        \n",
    "    return run_method(A, b, next_iter, tau0*b, eps, history, return_num_iter)   "
   ]
  },
  {
   "cell_type": "markdown",
   "id": "bc8f77b6",
   "metadata": {
    "id": "bc8f77b6"
   },
   "source": [
    "## Метод минимальных поправок"
   ]
  },
  {
   "cell_type": "code",
   "execution_count": null,
   "id": "358b2bd7",
   "metadata": {
    "id": "358b2bd7"
   },
   "outputs": [],
   "source": [
    "def min_correction(A, b, eps, history=False, return_num_iter=False):\n",
    "    \n",
    "    B_inv = np.diag(1 / np.diag(A))\n",
    "    \n",
    "    def next_iter(xk):\n",
    "        nonlocal A, b, B_inv\n",
    "        rk = np.dot(A, xk) - b\n",
    "        wk = np.dot(B_inv, rk)\n",
    "        Awk = np.dot(A, wk)\n",
    "        vk = np.dot(B_inv, Awk)\n",
    "        return xk - np.dot(Awk, wk) / np.dot(vk, Awk) * wk\n",
    "        \n",
    "    return run_method(A, b, next_iter, tau0*b, eps, history, return_num_iter)  "
   ]
  },
  {
   "cell_type": "markdown",
   "id": "319dfb1c",
   "metadata": {
    "id": "319dfb1c"
   },
   "source": [
    "## Метод наискорейшего спуска"
   ]
  },
  {
   "cell_type": "code",
   "execution_count": null,
   "id": "3847abbc",
   "metadata": {
    "id": "3847abbc"
   },
   "outputs": [],
   "source": [
    "def fastest_descent(A, b, eps, history=False, return_num_iter=False):\n",
    "    \n",
    "    def next_iter(xk):\n",
    "        nonlocal A, b\n",
    "        rk = np.dot(A, xk) - b\n",
    "        Ark = np.dot(A, rk)\n",
    "        return xk - np.dot(rk, rk) / np.dot(Ark, rk) * rk\n",
    "    \n",
    "    return run_method(A, b, next_iter, tau0*b, eps, history, return_num_iter) "
   ]
  },
  {
   "cell_type": "code",
   "execution_count": null,
   "id": "2b6a9314",
   "metadata": {
    "id": "2b6a9314",
    "outputId": "408de2a2-9a89-4f28-d131-8b8200a01856"
   },
   "outputs": [
    {
     "name": "stdout",
     "output_type": "stream",
     "text": [
      "7.142587013336615\n",
      "[300.77669139   5.89566907  56.90744652  33.35389302]\n",
      "[0.16961603 0.02998151 0.01757239 0.00332473]\n",
      "7.142587013336625\n",
      "[17.34291473  2.42809989  7.54370244  5.77528294]\n",
      "7.142587013336617\n"
     ]
    },
    {
     "data": {
      "text/plain": [
       "(0.14000529473883944, 0.7543778166909078)"
      ]
     },
     "execution_count": 412,
     "metadata": {},
     "output_type": "execute_result"
    }
   ],
   "source": [
    "# число обусловленности матрицы\n",
    "# по умолчанию - отношение максимального\n",
    "# и минимального собственных значений\n",
    "print(np.linalg.cond(A))\n",
    "\n",
    "# если считать самим по норме\n",
    "\n",
    "ev = np.linalg.eigvals(np.dot(A.T, A))\n",
    "print(ev)\n",
    "R = np.sqrt(ev.max())\n",
    "\n",
    "ev_inv = np.linalg.eigvals(np.dot(np.linalg.inv(A).T, np.linalg.inv(A)))\n",
    "print(ev_inv)\n",
    "r = np.sqrt(ev_inv.max())\n",
    "\n",
    "print(R * r)\n",
    "\n",
    "# тоже самим, но как отношение максимального и минимального с.ч.\n",
    "evA = np.linalg.eigvals(A)\n",
    "print(evA)\n",
    "lmax = evA.max()\n",
    "lmin = evA.min()\n",
    "print(lmax / lmin)\n",
    "xi = lmin / lmax\n",
    "rho = (1 - xi) / (1 + xi)"
   ]
  },
  {
   "cell_type": "code",
   "execution_count": null,
   "id": "e9ac7c96",
   "metadata": {
    "id": "e9ac7c96"
   },
   "outputs": [],
   "source": [
    "tau0 = 2 / (lmax + lmin)"
   ]
  },
  {
   "cell_type": "code",
   "execution_count": null,
   "id": "12d4f596",
   "metadata": {
    "id": "12d4f596"
   },
   "outputs": [],
   "source": [
    "def print_method_results(A, b, eps, meth):\n",
    "    x_true = np.dot(np.linalg.inv(A), b)\n",
    "    x_appr, k = meth(A, b, 1e-4, history=False, return_num_iter=True)\n",
    "    print(\"{} method, # of iterations = {}.\".format(meth.__name__, k))\n",
    "    print(\"Aproximate solution: {}.\".format(x_appr))\n",
    "    print(\"Error = {}.\".format(np.linalg.norm(x_appr - x_true)))\n",
    "    print(\"Residual = {}.\\n\".format(np.linalg.norm(np.dot(A, x_appr)-b)))"
   ]
  },
  {
   "cell_type": "code",
   "execution_count": null,
   "id": "56c6d790",
   "metadata": {
    "id": "56c6d790",
    "outputId": "ba30036c-d2ab-4dd1-bb9f-71343eecdadd"
   },
   "outputs": [
    {
     "name": "stdout",
     "output_type": "stream",
     "text": [
      "The exact solution:  [ 3.22167612 -2.08251357  1.94807228  0.4730081 ]\n"
     ]
    }
   ],
   "source": [
    "A = np.array([\n",
    "    [ 3.77, 0.56, -1.45, 1.66],\n",
    "    [ 0.56, 9.56,  5.23, 1.62],\n",
    "    [-1.45, 5.23, 12.87, 1.99],\n",
    "    [ 1.66, 1.62,  1.99, 6.89] \n",
    "])\n",
    " \n",
    "b = np.array([8.94, -7.15, 10.45, 9.11])\n",
    "\n",
    "x_true = np.dot(np.linalg.inv(A), b)\n",
    "print(\"The exact solution: \", x_true)"
   ]
  },
  {
   "cell_type": "code",
   "execution_count": null,
   "id": "279de082",
   "metadata": {
    "id": "279de082",
    "outputId": "b04ce719-c93b-4b96-9514-be021b40766f"
   },
   "outputs": [
    {
     "name": "stdout",
     "output_type": "stream",
     "text": [
      "min_residuals_solution method, # of iterations = 33.\n",
      "Aproximate solution: [ 3.2214591  -2.08247186  1.94798979  0.4731009 ].\n",
      "Error = 0.000253482970391598.\n",
      "Residual = 0.0006506547249753918.\n",
      "\n",
      "min_correction_solution method, # of iterations = 17.\n",
      "Aproximate solution: [ 3.22156126 -2.08245048  1.94798348  0.47305894].\n",
      "Error = 0.00016626367303081824.\n",
      "Residual = 0.0006025590479273847.\n",
      "\n",
      "fastest_descent_solution method, # of iterations = 28.\n",
      "Aproximate solution: [ 3.22148501 -2.08246002  1.94802326  0.47309634].\n",
      "Error = 0.00022266679760321603.\n",
      "Residual = 0.0006304426142418871.\n",
      "\n"
     ]
    }
   ],
   "source": [
    "for meth in [min_residuals, min_correction, fastest_descent]:\n",
    "    \n",
    "    print_method_results(A, b, 1e-4, meth)"
   ]
  },
  {
   "cell_type": "markdown",
   "id": "31204e68",
   "metadata": {
    "id": "31204e68"
   },
   "source": [
    "# Метод сопряжённых градиентов\n",
    "\n",
    "Данный метод является точным. Его суть заключается в том, чтобы выбирать параметры 𝛼𝑘 таким образом, чтобы каждый следующий вектор невязки был ортогонален всем предыдущим. Так как мы рассматриваем конечномерные пространства, то на последнем шаге вектор\n",
    "невязки будет нулевым, так как в конечномерном пространстве число ненулевых взаимно ортогональных векторов конечно. Таким образом можно получить точное решение за конечное число итераций.\n",
    "Приведем одно из возможных построений метода.\n",
    "\n",
    "$$\\vec{u}^{(1)} = (E - \\tau_1 A) \\vec{u}^{0} + \\tau_1 \\vec{f},$$\n",
    "\n",
    "$$\\vec{u}^{(k+1)} = \\alpha_{k+1} (E - \\tau_{k+1} A) \\vec{u}^{(k)} + (1 - \\alpha_{k+1})\\vec{u}^{(k-1)} + \\alpha_{k+1}\\tau_{k+1} \\vec{f},$$\n",
    "\n",
    "где \n",
    "\n",
    "$$\\alpha_1 = 1, \\alpha_{k+1} = \\lbrack 1 - \\frac{1}{\\alpha_k} \\frac{\\tau_{k+1}}{\\tau_k} \\frac{(\\vec{r_k}, \\vec{r_k})}{(\\vec{r_{k-1}}, \\vec{r_{k-1}})} \\rbrack ^{-1}$$\n",
    "\n",
    "[ресурс](https://towardsdatascience.com/complete-step-by-step-conjugate-gradient-algorithm-from-scratch-202c07fb52a8)"
   ]
  },
  {
   "cell_type": "code",
   "execution_count": null,
   "id": "171e51ff",
   "metadata": {
    "id": "171e51ff"
   },
   "outputs": [],
   "source": [
    "import numpy as np\n",
    "from numpy import matmul as matmul\n",
    "from numpy.linalg import norm\n",
    "import time\n",
    "\n",
    "\n",
    "class LinearConjugateGradient:\n",
    "    '''Метод сопряжённых градиентов'''\n",
    "    def __init__(self, A, b, x=None):\n",
    "        A = np.array(A)\n",
    "        b = np.array(b)\n",
    "        b = np.reshape(b, (-1, 1))\n",
    "        assert np.shape(b)[0] == np.shape(A)[0]\n",
    "        if not x:\n",
    "            x = np.random.rand(np.shape(A)[1], 1)\n",
    "        else:\n",
    "            x = np.reshape(x, (-1, 1))\n",
    "            assert np.shape(x)[0] == np.shape(A)[1]\n",
    "\n",
    "        self.A = A\n",
    "        self.b = b\n",
    "        self.x = x\n",
    "\n",
    "    def residual(self):\n",
    "        '''невязка'''\n",
    "        return np.matmul(self.A, self.x) - self.b\n",
    "\n",
    "    _MAX_ITER, _TOLERANCE = 100000, .00000001\n",
    "    \n",
    "    def solve(self):\n",
    "        '''реализация решения'''\n",
    "        r = self.residual()\n",
    "        p = -r \n",
    "\n",
    "        A = self.A\n",
    "        b = self.b\n",
    "        x = self.x\n",
    "\n",
    "        k = 0\n",
    "\n",
    "        time_start = time.time()\n",
    "        \n",
    "        while k <= self._MAX_ITER and norm(r) > self._TOLERANCE:\n",
    "            pAp = matmul(matmul(p.T, A), p) # p_k^T A p_k\n",
    "            alpha =  - matmul(r.T, p) / pAp  # ((r_k^T r_k) /pAp ) \n",
    "            x += alpha * p                # x_{k+1} = x_k + alpha_k p_k\n",
    "            r = self.residual()\n",
    "            beta = matmul(matmul(r.T, A), p) / pAp # - r_{k+1}^T A p_k/ pAp\n",
    "            p = -r + beta * p \n",
    "\n",
    "            k += 1\n",
    "\n",
    "        time_end = time.time()\n",
    "\n",
    "        return x, (time_end - time_start)"
   ]
  },
  {
   "cell_type": "code",
   "execution_count": null,
   "id": "3ae7418a",
   "metadata": {
    "id": "3ae7418a"
   },
   "outputs": [],
   "source": [
    "def tridiag(l=-1, c=-4, r=-1, size=3):\n",
    "    '''трех-диагональная '''\n",
    "    m = np.zeros([size, size])\n",
    "    for i in range(size):\n",
    "        for j in range(size):\n",
    "            if i == j:\n",
    "                m[i, j] = c\n",
    "            elif i == j-1:\n",
    "                m[i, j] = l\n",
    "            elif i == j+1:\n",
    "                m[i, j] = r\n",
    "    return m\n",
    "\n",
    "\n",
    "def hilb(size=3):\n",
    "    '''матрица хилберта'''\n",
    "    m = np.zeros([size, size])\n",
    "    for i in range(size):\n",
    "        for j in range(size):\n",
    "            m[i, j] = i+j+1\n",
    "\n",
    "    return m"
   ]
  },
  {
   "cell_type": "code",
   "execution_count": null,
   "id": "7bf478d7",
   "metadata": {
    "id": "7bf478d7",
    "outputId": "b554e178-f7ae-441a-b0f5-82b8531bc084"
   },
   "outputs": [
    {
     "name": "stdout",
     "output_type": "stream",
     "text": [
      "невязка: 5.330670607573773e-09, время: 1.2712 секунд\n"
     ]
    }
   ],
   "source": [
    "n = 6500\n",
    "b = np.ones(n)\n",
    "\n",
    "A = tridiag(size=n)\n",
    "linear_CG_solver = LinearConjugateGradient(A, b)\n",
    "\n",
    "x_star, time = linear_CG_solver.solve()\n",
    "print(f'невязка: {norm(linear_CG_solver.residual())}, время: {time:.4f} секунд')"
   ]
  },
  {
   "cell_type": "code",
   "execution_count": null,
   "id": "09d41ed1",
   "metadata": {
    "id": "09d41ed1",
    "outputId": "8ccc7efd-a3f2-4779-c342-d5a2b38e1579"
   },
   "outputs": [
    {
     "name": "stdout",
     "output_type": "stream",
     "text": [
      "residual:  5.94201726454203e-09 , solved in 0.12166976928710938 seconds\n"
     ]
    }
   ],
   "source": [
    "n = 5000\n",
    "b = np.ones(n)\n",
    "A = hilb(size=n)\n",
    "linear_CG_solver = LinearConjugateGradient(A, b)\n",
    "\n",
    "x_start, delta_sec = linear_CG_solver.solve()\n",
    "print(f'невязка: {norm(linear_CG_solver.residual())}, время: {time:.4f} секунд')"
   ]
  },
  {
   "cell_type": "code",
   "execution_count": null,
   "id": "cddda9c5",
   "metadata": {
    "id": "cddda9c5"
   },
   "outputs": [],
   "source": [
    ""
   ]
  }
 ],
 "metadata": {
  "kernelspec": {
   "display_name": "Python 3 (ipykernel)",
   "language": "python",
   "name": "python3"
  },
  "language_info": {
   "codemirror_mode": {
    "name": "ipython",
    "version": 3
   },
   "file_extension": ".py",
   "mimetype": "text/x-python",
   "name": "python",
   "nbconvert_exporter": "python",
   "pygments_lexer": "ipython3",
   "version": "3.9.7"
  },
  "colab": {
   "name": "Методы решения больших разреженных систем уравнений.ipynb",
   "provenance": []
  }
 },
 "nbformat": 4,
 "nbformat_minor": 5
}