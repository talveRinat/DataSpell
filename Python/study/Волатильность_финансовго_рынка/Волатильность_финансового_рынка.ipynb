{
 "nbformat": 4,
 "nbformat_minor": 0,
 "metadata": {
  "colab": {
   "name": "Волатильность_финансового_рынка.ipynb",
   "provenance": [],
   "collapsed_sections": [],
   "mount_file_id": "1jyAWb9Xt5UNqsp_ldsrsNs9Q0x0cN58D",
   "authorship_tag": "ABX9TyO5Jo1gK+14ASpMjNcImjHk"
  },
  "kernelspec": {
   "name": "python3",
   "display_name": "Python 3"
  },
  "language_info": {
   "name": "python"
  }
 },
 "cells": [
  {
   "cell_type": "markdown",
   "source": [
    "# Линейная регрессия\n",
    "\n",
    "\n",
    "    \n",
    "Актуальные данные для анализа берутся с сайта [finam.ru](https://www.finam.ru/profile/mosbirzha-fyuchersy/si-9-16-siu6/export/). Наверху можно выбрать огромное количество котировок.\n",
    "\n",
    "Построить модель парной регрессии для определения зависимости между двумя показателями (например, зависимость акции компании N от курса валют или зависимость цен ювелирных изделий от цен на драгметаллы). Найти оценки для коэффициентов линейной регрессии с белым шумом (случайная величина epsilon). Построить линию регрессии.\n"
   ],
   "metadata": {
    "id": "_QL2mwmxzZVi"
   }
  },
  {
   "cell_type": "code",
   "execution_count": 1,
   "metadata": {
    "id": "DPi6b6qszWUw",
    "executionInfo": {
     "status": "ok",
     "timestamp": 1645779383892,
     "user_tz": -180,
     "elapsed": 1916,
     "user": {
      "displayName": "Rinat Mahmutov",
      "photoUrl": "https://lh3.googleusercontent.com/a/default-user=s64",
      "userId": "03711814883365407429"
     }
    }
   },
   "outputs": [],
   "source": [
    "import pandas as pd\n",
    "import numpy as np\n",
    "\n",
    "import matplotlib.pyplot as plt\n",
    "\n",
    "from sklearn.linear_model import LinearRegression\n",
    "from sklearn.metrics import mean_absolute_error"
   ]
  },
  {
   "cell_type": "code",
   "source": [
    "# курс рубля\n",
    "df1 = pd.read_csv(r'/Users/rinatmahmutov/Documents/DataSpell/Python Notebooks/data/financial_market_volatility/AMDCB_150201_220217.csv')\n",
    "df1.tail()"
   ],
   "metadata": {
    "colab": {
     "base_uri": "https://localhost:8080/",
     "height": 206
    },
    "id": "QyK2qMcaJcVn",
    "executionInfo": {
     "status": "ok",
     "timestamp": 1645734936452,
     "user_tz": -180,
     "elapsed": 475,
     "user": {
      "displayName": "Rinat Mahmutov",
      "photoUrl": "https://lh3.googleusercontent.com/a/default-user=s64",
      "userId": "03711814883365407429"
     }
    },
    "outputId": "e3b04ed5-030e-4131-c5ad-bfc803c7399d"
   },
   "execution_count": 2,
   "outputs": [
    {
     "data": {
      "text/plain": "       <DATE>  <TIME>    <OPEN>    <HIGH>     <LOW>   <CLOSE>  <VOL>\n818  20220212       0  0.156125  0.156125  0.156125  0.156125      0\n819  20220215       0  0.159700  0.159700  0.159700  0.159700      0\n820  20220216       0  0.158679  0.158679  0.158679  0.158679      0\n821  20220217       0  0.156198  0.156198  0.156198  0.156198      0\n822  20220218       0  0.157818  0.157818  0.157818  0.157818      0",
      "text/html": "<div>\n<style scoped>\n    .dataframe tbody tr th:only-of-type {\n        vertical-align: middle;\n    }\n\n    .dataframe tbody tr th {\n        vertical-align: top;\n    }\n\n    .dataframe thead th {\n        text-align: right;\n    }\n</style>\n<table border=\"1\" class=\"dataframe\">\n  <thead>\n    <tr style=\"text-align: right;\">\n      <th></th>\n      <th>&lt;DATE&gt;</th>\n      <th>&lt;TIME&gt;</th>\n      <th>&lt;OPEN&gt;</th>\n      <th>&lt;HIGH&gt;</th>\n      <th>&lt;LOW&gt;</th>\n      <th>&lt;CLOSE&gt;</th>\n      <th>&lt;VOL&gt;</th>\n    </tr>\n  </thead>\n  <tbody>\n    <tr>\n      <th>818</th>\n      <td>20220212</td>\n      <td>0</td>\n      <td>0.156125</td>\n      <td>0.156125</td>\n      <td>0.156125</td>\n      <td>0.156125</td>\n      <td>0</td>\n    </tr>\n    <tr>\n      <th>819</th>\n      <td>20220215</td>\n      <td>0</td>\n      <td>0.159700</td>\n      <td>0.159700</td>\n      <td>0.159700</td>\n      <td>0.159700</td>\n      <td>0</td>\n    </tr>\n    <tr>\n      <th>820</th>\n      <td>20220216</td>\n      <td>0</td>\n      <td>0.158679</td>\n      <td>0.158679</td>\n      <td>0.158679</td>\n      <td>0.158679</td>\n      <td>0</td>\n    </tr>\n    <tr>\n      <th>821</th>\n      <td>20220217</td>\n      <td>0</td>\n      <td>0.156198</td>\n      <td>0.156198</td>\n      <td>0.156198</td>\n      <td>0.156198</td>\n      <td>0</td>\n    </tr>\n    <tr>\n      <th>822</th>\n      <td>20220218</td>\n      <td>0</td>\n      <td>0.157818</td>\n      <td>0.157818</td>\n      <td>0.157818</td>\n      <td>0.157818</td>\n      <td>0</td>\n    </tr>\n  </tbody>\n</table>\n</div>"
     },
     "execution_count": 2,
     "metadata": {},
     "output_type": "execute_result"
    }
   ]
  },
  {
   "cell_type": "code",
   "source": [
    "# акции германии\n",
    "df2 = pd.read_csv(r'/Users/rinatmahmutov/Documents/DataSpell/Python Notebooks/data/financial_market_volatility/WDI-TDG_150201_220217.csv')\n",
    "df2.tail()"
   ],
   "metadata": {
    "colab": {
     "base_uri": "https://localhost:8080/",
     "height": 206
    },
    "id": "IjpzDCKAKaTU",
    "executionInfo": {
     "status": "ok",
     "timestamp": 1645734947223,
     "user_tz": -180,
     "elapsed": 36,
     "user": {
      "displayName": "Rinat Mahmutov",
      "photoUrl": "https://lh3.googleusercontent.com/a/default-user=s64",
      "userId": "03711814883365407429"
     }
    },
    "outputId": "daccca7b-6b53-4e00-a5ae-dee9ebadd588"
   },
   "execution_count": 3,
   "outputs": [
    {
     "data": {
      "text/plain": "        <DATE>  <TIME>  <OPEN>  <HIGH>   <LOW>  <CLOSE>     <VOL>\n1701  20211111       0  0.1450  0.1580  0.1421   0.1505   1028957\n1702  20211112       0  0.1470  0.1470  0.0750   0.0759  11942353\n1703  20211115       0  0.0600  0.0699  0.0440   0.0489  10657276\n1704  20211116       0  0.0489  0.0489  0.0489   0.0489         1\n1705  20211117       0  0.0000  0.0000  0.0000   0.0000         0",
      "text/html": "<div>\n<style scoped>\n    .dataframe tbody tr th:only-of-type {\n        vertical-align: middle;\n    }\n\n    .dataframe tbody tr th {\n        vertical-align: top;\n    }\n\n    .dataframe thead th {\n        text-align: right;\n    }\n</style>\n<table border=\"1\" class=\"dataframe\">\n  <thead>\n    <tr style=\"text-align: right;\">\n      <th></th>\n      <th>&lt;DATE&gt;</th>\n      <th>&lt;TIME&gt;</th>\n      <th>&lt;OPEN&gt;</th>\n      <th>&lt;HIGH&gt;</th>\n      <th>&lt;LOW&gt;</th>\n      <th>&lt;CLOSE&gt;</th>\n      <th>&lt;VOL&gt;</th>\n    </tr>\n  </thead>\n  <tbody>\n    <tr>\n      <th>1701</th>\n      <td>20211111</td>\n      <td>0</td>\n      <td>0.1450</td>\n      <td>0.1580</td>\n      <td>0.1421</td>\n      <td>0.1505</td>\n      <td>1028957</td>\n    </tr>\n    <tr>\n      <th>1702</th>\n      <td>20211112</td>\n      <td>0</td>\n      <td>0.1470</td>\n      <td>0.1470</td>\n      <td>0.0750</td>\n      <td>0.0759</td>\n      <td>11942353</td>\n    </tr>\n    <tr>\n      <th>1703</th>\n      <td>20211115</td>\n      <td>0</td>\n      <td>0.0600</td>\n      <td>0.0699</td>\n      <td>0.0440</td>\n      <td>0.0489</td>\n      <td>10657276</td>\n    </tr>\n    <tr>\n      <th>1704</th>\n      <td>20211116</td>\n      <td>0</td>\n      <td>0.0489</td>\n      <td>0.0489</td>\n      <td>0.0489</td>\n      <td>0.0489</td>\n      <td>1</td>\n    </tr>\n    <tr>\n      <th>1705</th>\n      <td>20211117</td>\n      <td>0</td>\n      <td>0.0000</td>\n      <td>0.0000</td>\n      <td>0.0000</td>\n      <td>0.0000</td>\n      <td>0</td>\n    </tr>\n  </tbody>\n</table>\n</div>"
     },
     "execution_count": 3,
     "metadata": {},
     "output_type": "execute_result"
    }
   ]
  },
  {
   "cell_type": "markdown",
   "source": [
    "возьмем 300 данных"
   ],
   "metadata": {
    "id": "KxRkvl-NHLXj"
   }
  },
  {
   "cell_type": "code",
   "source": [
    "data_x, data_y  = df1.loc[:299, \"<CLOSE>\"], df2.loc[:299, \"<CLOSE>\"]"
   ],
   "metadata": {
    "id": "nIHogHX-Nd9g"
   },
   "execution_count": 4,
   "outputs": []
  },
  {
   "cell_type": "code",
   "source": [
    "x, y = np.array(data_x).reshape(-1,1), np.array(data_y).reshape(-1,1)"
   ],
   "metadata": {
    "id": "vB5sLLuiORm_"
   },
   "execution_count": 5,
   "outputs": []
  },
  {
   "cell_type": "markdown",
   "source": [
    "Воспользуемся готовой библиотекой scikit-learn"
   ],
   "metadata": {
    "id": "_qnqdWpwcIL6"
   }
  },
  {
   "cell_type": "code",
   "source": [
    "reg = LinearRegression()\n",
    "reg.fit(x, y)\n",
    "\n",
    "y_pred = reg.predict(x)\n",
    "\n",
    "# средняя абсолютная ошибка прогноза \n",
    "model_error = mean_absolute_error(y, y_pred)\n",
    "\n",
    "print(\"Уравнение линейной регрессии: Y = {:.5} + {:.5}*X + {:.5}\".format(reg.intercept_[0], reg.coef_[0][0], model_error))"
   ],
   "metadata": {
    "colab": {
     "base_uri": "https://localhost:8080/"
    },
    "id": "ce5JhP6kOSAK",
    "executionInfo": {
     "status": "ok",
     "timestamp": 1645734947229,
     "user_tz": -180,
     "elapsed": 30,
     "user": {
      "displayName": "Rinat Mahmutov",
      "photoUrl": "https://lh3.googleusercontent.com/a/default-user=s64",
      "userId": "03711814883365407429"
     }
    },
    "outputId": "703dd0b0-42cb-4ba3-b7e5-654081565c37"
   },
   "execution_count": 6,
   "outputs": [
    {
     "name": "stdout",
     "output_type": "stream",
     "text": [
      "Уравнение линейной регрессии: Y = -23.056 + 467.76*X + 3.16\n"
     ]
    }
   ]
  },
  {
   "cell_type": "markdown",
   "source": [
    "Построим график"
   ],
   "metadata": {
    "id": "rE1KnWlqcXZh"
   }
  },
  {
   "cell_type": "code",
   "source": [
    "predictions = reg.predict(x)\n",
    "\n",
    "plt.figure(figsize=(16, 8))\n",
    "\n",
    "plt.scatter(\n",
    "    data_x,\n",
    "    data_y,\n",
    "    c='black'\n",
    ")\n",
    "plt.plot(\n",
    "    data_x,\n",
    "    predictions,\n",
    "    c='blue',\n",
    "    linewidth=2\n",
    ")\n",
    "plt.xlabel(\"Курс Рубля\")\n",
    "plt.ylabel(\"Акции Германии\")\n",
    "plt.show()"
   ],
   "metadata": {
    "colab": {
     "base_uri": "https://localhost:8080/",
     "height": 497
    },
    "id": "7KfD4mXfQAcr",
    "executionInfo": {
     "status": "ok",
     "timestamp": 1645734948079,
     "user_tz": -180,
     "elapsed": 874,
     "user": {
      "displayName": "Rinat Mahmutov",
      "photoUrl": "https://lh3.googleusercontent.com/a/default-user=s64",
      "userId": "03711814883365407429"
     }
    },
    "outputId": "94ebf65d-a6e7-4b7a-ebd5-366c83bcb343"
   },
   "execution_count": 7,
   "outputs": [
    {
     "data": {
      "text/plain": "<Figure size 1152x576 with 1 Axes>",
      "image/png": "[encoded data removed]"
     },
     "metadata": {
      "needs_background": "light"
     },
     "output_type": "display_data"
    }
   ]
  },
  {
   "cell_type": "markdown",
   "source": [
    "РАСЧЕТ СТАТИСТИЧЕСКИХ ХАРАКТЕРИСТИК"
   ],
   "metadata": {
    "id": "5pIp2PCkWlEr"
   }
  },
  {
   "cell_type": "code",
   "source": [
    "n = len(data_x)\n",
    "\n",
    "x_hat = np.sum(data_x)/n\n",
    "y_hat = np.sum(data_y)/n\n",
    "yx_hat = np.sum(data_x * data_y)/n\n",
    "x2_hat = np.sum(data_x ** 2)/n\n",
    "y2_hat = np.sum(data_y ** 2)/n\n",
    "\n",
    "# коварицаия \n",
    "cov_xy = yx_hat - y_hat * x_hat\n",
    "\n",
    "#дисперсия признаков \n",
    "d_x = np.sqrt(x2_hat - x_hat**2)\n",
    "d_y = np.sqrt(y2_hat - y_hat**2)\n",
    "\n",
    "#  линейный коэффициент корреляции\n",
    "r_xy = cov_xy / (d_x * d_y)\n",
    "\n",
    "print(r_xy)"
   ],
   "metadata": {
    "colab": {
     "base_uri": "https://localhost:8080/"
    },
    "id": "KC8giFzxi2t8",
    "executionInfo": {
     "status": "ok",
     "timestamp": 1645734948080,
     "user_tz": -180,
     "elapsed": 30,
     "user": {
      "displayName": "Rinat Mahmutov",
      "photoUrl": "https://lh3.googleusercontent.com/a/default-user=s64",
      "userId": "03711814883365407429"
     }
    },
    "outputId": "09f72722-ed08-4dfc-e049-fbc402550cb0"
   },
   "execution_count": 8,
   "outputs": [
    {
     "name": "stdout",
     "output_type": "stream",
     "text": [
      "0.27590592426319943\n"
     ]
    }
   ]
  },
  {
   "cell_type": "markdown",
   "source": [
    "Так как $|r_{xy}|<0.3$ то у нас слабая зависимость x от y "
   ],
   "metadata": {
    "id": "sBrZsK1POeRf"
   }
  },
  {
   "cell_type": "markdown",
   "source": [
    "Запишем выборочные дисперсии величин $y, \\hat{y}, ϵ$"
   ],
   "metadata": {
    "id": "QDgtEWMSXOMM"
   }
  },
  {
   "cell_type": "code",
   "source": [
    "n = len(data_x)\n",
    "\n",
    "# дисперсия наблюдаемых значений y\n",
    "var_y = np.sum((data_y - y_hat)**2)/n\n",
    "\n",
    "# дисперсия расчетных значений y\n",
    "var_y_pred = np.sum((y_pred - y_hat)**2)/n\n",
    "\n",
    "# дисперсия остатков\n",
    "y_pred = np.squeeze(y_pred)\n",
    "e = data_y - y_pred\n",
    "e_hat = np.sum(e)/n\n",
    "var_e = np.sum((e - e_hat)**2)/n\n",
    "\n",
    "print(f\"var_y = {var_y:.5}\\n var_e + var_y_pred= {var_e + var_y_pred:.5}\")"
   ],
   "metadata": {
    "colab": {
     "base_uri": "https://localhost:8080/"
    },
    "id": "aIOJC4mqXO_y",
    "executionInfo": {
     "status": "ok",
     "timestamp": 1645734948081,
     "user_tz": -180,
     "elapsed": 26,
     "user": {
      "displayName": "Rinat Mahmutov",
      "photoUrl": "https://lh3.googleusercontent.com/a/default-user=s64",
      "userId": "03711814883365407429"
     }
    },
    "outputId": "3234dbf9-7180-4886-d694-19c031052941"
   },
   "execution_count": 9,
   "outputs": [
    {
     "name": "stdout",
     "output_type": "stream",
     "text": [
      "var_y = 15.348\n",
      " var_e + var_y_pred= 15.348\n"
     ]
    }
   ]
  },
  {
   "cell_type": "markdown",
   "source": [
    "А теперь сделаем все тоже самое, только напишем свои функции для расчета "
   ],
   "metadata": {
    "id": "QhLesxKpcbOT"
   }
  },
  {
   "cell_type": "code",
   "source": [
    "def estimate_coef(x: list, y: list) -> float:\n",
    "    \"\"\"функция поиска коэффицентов\n",
    "    input:\n",
    "      список x\n",
    "      список y\n",
    "    output:\n",
    "      коэффиценты a, b\n",
    "    \"\"\"\n",
    "\t# количество наблюдений\n",
    "    n = np.size(x)\n",
    "\n",
    "\t# среднее значение вектора x и y\n",
    "    m_x = np.mean(x)\n",
    "    m_y = np.mean(y)\n",
    "\n",
    "\t# вычисление перекресного отклонения и отклонения относительно x\n",
    "    SS_xy = np.sum(y*x) - n*m_y*m_x\n",
    "    SS_xx = np.sum(x*x) - n*m_x*m_x\n",
    "\n",
    "\t# вычисление коэффициентов регрессии\n",
    "    b = SS_xy / SS_xx\n",
    "    a = m_y - b*m_x\n",
    "  \n",
    "    return a, b\n",
    "\n",
    "\n",
    "def plot_regression_line(x: list, y: list, a:float, b: float) -> None:\n",
    "    \"\"\"функция построения графика\n",
    "    input:\n",
    "      списки x и y\n",
    "      коэффиценты a и b\n",
    "    output:\n",
    "      график\n",
    "    \"\"\"\n",
    "\n",
    "    # размер графика\n",
    "    plt.figure(figsize=(16, 8))\n",
    "\n",
    "\t# построение фактических точек в виде диаграммы рассеяния\n",
    "    plt.scatter(x, y, color = \"black\",\n",
    "\t\t\tmarker = \"o\", s = 30)\n",
    "\n",
    "    # предсказанный вектор ответов\n",
    "    y_pred = a + b*x\n",
    "\n",
    "\t# построение линии регрессии\n",
    "    plt.plot(x, y_pred, color = \"blue\")\n",
    "\n",
    "\t# размещение меток\n",
    "    plt.xlabel('Курс Рубля')\n",
    "    plt.ylabel('Акции Германии')\n",
    "\n",
    "    plt.show()\n",
    "\n",
    "def main():\n",
    "\n",
    "    # данные\n",
    "    x, y = np.array(data_x), np.array(data_y)\n",
    "\n",
    "\t# коэффициенты регрессии\n",
    "    a, b = estimate_coef(x, y)\n",
    "\n",
    "    # средняя абсолютная ошибка\n",
    "    n = len(x)\n",
    "    y_pred = a + b*x\n",
    "    error = y - y_pred\n",
    "    se = np.sum(np.abs(error))/n\n",
    "\n",
    "    print(\"Коэффициенты регрессии:\\n a = {:.5} \\\n",
    "\t\t    \\n b = {:.8}\".format(a, b))\n",
    "\n",
    "    print()\n",
    "    print(\"Уравнение линейной регрессии: Y = {:.5} + {:.5}X + {:.5}\".format(a, b, se))\n",
    "\n",
    "\n",
    "\t# график\n",
    "    plot_regression_line(x, y, a, b)\n",
    "\n",
    "if __name__ == \"__main__\":\n",
    "\tmain()"
   ],
   "metadata": {
    "colab": {
     "base_uri": "https://localhost:8080/",
     "height": 589
    },
    "id": "1AcfkgfOQ4as",
    "executionInfo": {
     "status": "ok",
     "timestamp": 1645734948082,
     "user_tz": -180,
     "elapsed": 21,
     "user": {
      "displayName": "Rinat Mahmutov",
      "photoUrl": "https://lh3.googleusercontent.com/a/default-user=s64",
      "userId": "03711814883365407429"
     }
    },
    "outputId": "01c6d9db-4fe0-44f4-c3d1-334c966d6b5d"
   },
   "execution_count": 10,
   "outputs": [
    {
     "name": "stdout",
     "output_type": "stream",
     "text": [
      "Коэффициенты регрессии:\n",
      " a = -23.056 \t\t    \n",
      " b = 467.76087\n",
      "\n",
      "Уравнение линейной регрессии: Y = -23.056 + 467.76X + 3.16\n"
     ]
    },
    {
     "data": {
      "text/plain": "<Figure size 1152x576 with 1 Axes>",
      "image/png": "[encoded data removed]"
     },
     "metadata": {
      "needs_background": "light"
     },
     "output_type": "display_data"
    }
   ]
  },
  {
   "cell_type": "markdown",
   "source": [
    "# Задание 2. Выявление аномальных данных и неслучайных компонент.\n",
    "\n",
    "Для набора данных временного ряда:\n",
    "1. По методике Ирвина найти аномальные данные и заменить их на данные, не выбивающиеся из общего тренда.\n",
    "2. Проверить гипотезу о наличии неслучайных компонент по критерию Стьюдента или по методу серий."
   ],
   "metadata": {
    "collapsed": false
   }
  },
  {
   "cell_type": "markdown",
   "source": [
    "## Часть 1"
   ],
   "metadata": {
    "collapsed": false
   }
  },
  {
   "cell_type": "code",
   "execution_count": 11,
   "outputs": [
    {
     "data": {
      "text/plain": "0      0.137824\n1      0.136716\n2      0.136376\n3      0.137463\n4      0.135821\n         ...   \n295    0.130744\n296    0.130491\n297    0.130162\n298    0.129989\n299    0.128576\nName: <CLOSE>, Length: 300, dtype: float64"
     },
     "execution_count": 11,
     "metadata": {},
     "output_type": "execute_result"
    }
   ],
   "source": [
    "# курс рубля\n",
    "data_x"
   ],
   "metadata": {
    "collapsed": false,
    "pycharm": {
     "name": "#%%\n"
    }
   }
  },
  {
   "cell_type": "code",
   "execution_count": 12,
   "outputs": [
    {
     "name": "stdout",
     "output_type": "stream",
     "text": [
      "0.13506273\n",
      "5.357774003779265e-06\n",
      "0.0023146865886722687\n",
      "            0\n",
      "0    0.478683\n",
      "1    0.146888\n",
      "2    0.469610\n",
      "3    0.709383\n",
      "4    0.169353\n",
      "..        ...\n",
      "294  0.079060\n",
      "295  0.109302\n",
      "296  0.142136\n",
      "297  0.074740\n",
      "298  0.610450\n",
      "\n",
      "[299 rows x 1 columns]\n"
     ]
    }
   ],
   "source": [
    "# среднее\n",
    "x_avr = data_x.mean()\n",
    "print(x_avr)\n",
    "\n",
    "# S^2\n",
    "SS = data_x.var()\n",
    "print(SS)\n",
    "\n",
    "# S\n",
    "S = np.sqrt(SS)\n",
    "print(S)\n",
    "\n",
    "# n ряда\n",
    "n = len(data_x)\n",
    "\n",
    "# I_i\n",
    "I_i = [np.abs(data_x[i+1] - data_x[i])/S for i in range(n-1)]\n",
    "df_Ii = pd.DataFrame(I_i)\n",
    "print(df_Ii)"
   ],
   "metadata": {
    "collapsed": false,
    "pycharm": {
     "name": "#%%\n"
    }
   }
  },
  {
   "cell_type": "code",
   "execution_count": 13,
   "outputs": [
    {
     "name": "stdout",
     "output_type": "stream",
     "text": [
      "     n  I_i\n",
      "0    2  2.8\n",
      "1    3  2.2\n",
      "2   10  1.5\n",
      "3   20  1.3\n",
      "4   30  1.2\n",
      "5   50  1.1\n",
      "6  100  1.0\n",
      "7  400  0.9\n"
     ]
    }
   ],
   "source": [
    "# I предельное при alpha = 0.05\n",
    "I = {'n':[2, 3, 10, 20, 30, 50, 100, 400], 'I_i':[2.8, 2.2, 1.5, 1.3, 1.2, 1.1, 1, 0.9]}\n",
    "df_I = pd.DataFrame(I)\n",
    "print(df_I)"
   ],
   "metadata": {
    "collapsed": false,
    "pycharm": {
     "name": "#%%\n"
    }
   }
  },
  {
   "cell_type": "code",
   "execution_count": 14,
   "outputs": [
    {
     "data": {
      "text/plain": "0.9"
     },
     "execution_count": 14,
     "metadata": {},
     "output_type": "execute_result"
    }
   ],
   "source": [
    "df_I.I_i[7]"
   ],
   "metadata": {
    "collapsed": false,
    "pycharm": {
     "name": "#%%\n"
    }
   }
  },
  {
   "cell_type": "code",
   "execution_count": 15,
   "outputs": [
    {
     "data": {
      "text/plain": "400"
     },
     "execution_count": 15,
     "metadata": {},
     "output_type": "execute_result"
    }
   ],
   "source": [
    "df_I.n[7]"
   ],
   "metadata": {
    "collapsed": false,
    "pycharm": {
     "name": "#%%\n"
    }
   }
  },
  {
   "cell_type": "code",
   "execution_count": 16,
   "outputs": [
    {
     "name": "stdout",
     "output_type": "stream",
     "text": [
      "При n=300: I_пред(300)=0.9333333333333335\n"
     ]
    }
   ],
   "source": [
    "# I предельное (n)\n",
    "I_n = (df_I.I_i[7] - df_I.I_i[6]) / (df_I.n[7] - df_I.n[6]) * n + ((df_I.n[7]*df_I.I_i[6] - df_I.n[6]*df_I.I_i[7])/(df_I.n[7] - df_I.n[6]))\n",
    "print(f'При n={n}: I_пред({n})={I_n}')"
   ],
   "metadata": {
    "collapsed": false,
    "pycharm": {
     "name": "#%%\n"
    }
   }
  },
  {
   "cell_type": "code",
   "execution_count": 17,
   "outputs": [
    {
     "data": {
      "text/plain": "           0\n26  1.255462\n59  2.141975",
      "text/html": "<div>\n<style scoped>\n    .dataframe tbody tr th:only-of-type {\n        vertical-align: middle;\n    }\n\n    .dataframe tbody tr th {\n        vertical-align: top;\n    }\n\n    .dataframe thead th {\n        text-align: right;\n    }\n</style>\n<table border=\"1\" class=\"dataframe\">\n  <thead>\n    <tr style=\"text-align: right;\">\n      <th></th>\n      <th>0</th>\n    </tr>\n  </thead>\n  <tbody>\n    <tr>\n      <th>26</th>\n      <td>1.255462</td>\n    </tr>\n    <tr>\n      <th>59</th>\n      <td>2.141975</td>\n    </tr>\n  </tbody>\n</table>\n</div>"
     },
     "execution_count": 17,
     "metadata": {},
     "output_type": "execute_result"
    }
   ],
   "source": [
    "# I_i > I_пред(300)\n",
    "df = df_Ii.where(df_Ii > I_n)\n",
    "df = df.dropna()\n",
    "df"
   ],
   "metadata": {
    "collapsed": false,
    "pycharm": {
     "name": "#%%\n"
    }
   }
  },
  {
   "cell_type": "code",
   "execution_count": 18,
   "outputs": [
    {
     "data": {
      "text/plain": "0.139554"
     },
     "execution_count": 18,
     "metadata": {},
     "output_type": "execute_result"
    }
   ],
   "source": [
    "data_x.iloc[26]"
   ],
   "metadata": {
    "collapsed": false,
    "pycharm": {
     "name": "#%%\n"
    }
   }
  },
  {
   "cell_type": "code",
   "execution_count": 19,
   "outputs": [],
   "source": [
    "# для x = 26\n",
    "new_26 = (data_x.iloc[25] + data_x.iloc[27]) / 2"
   ],
   "metadata": {
    "collapsed": false,
    "pycharm": {
     "name": "#%%\n"
    }
   }
  },
  {
   "cell_type": "code",
   "execution_count": 20,
   "outputs": [
    {
     "name": "stdout",
     "output_type": "stream",
     "text": [
      "0.137776\n"
     ]
    }
   ],
   "source": [
    "data_x.iloc[26] = new_26\n",
    "\n",
    "print(data_x.iloc[26])"
   ],
   "metadata": {
    "collapsed": false,
    "pycharm": {
     "name": "#%%\n"
    }
   }
  },
  {
   "cell_type": "code",
   "execution_count": 21,
   "outputs": [
    {
     "data": {
      "text/plain": "0.143238"
     },
     "execution_count": 21,
     "metadata": {},
     "output_type": "execute_result"
    }
   ],
   "source": [
    "data_x.iloc[59]"
   ],
   "metadata": {
    "collapsed": false,
    "pycharm": {
     "name": "#%%\n"
    }
   }
  },
  {
   "cell_type": "code",
   "execution_count": 22,
   "outputs": [],
   "source": [
    "# для x = 59\n",
    "new_59 = (data_x.iloc[58] + data_x.iloc[60]) / 2"
   ],
   "metadata": {
    "collapsed": false,
    "pycharm": {
     "name": "#%%\n"
    }
   }
  },
  {
   "cell_type": "code",
   "execution_count": 23,
   "outputs": [
    {
     "name": "stdout",
     "output_type": "stream",
     "text": [
      "0.14095999999999997\n"
     ]
    }
   ],
   "source": [
    "data_x.iloc[59] = new_59\n",
    "\n",
    "print(data_x.iloc[59])"
   ],
   "metadata": {
    "collapsed": false,
    "pycharm": {
     "name": "#%%\n"
    }
   }
  },
  {
   "cell_type": "markdown",
   "source": [
    "## Часть два"
   ],
   "metadata": {
    "collapsed": false
   }
  },
  {
   "cell_type": "code",
   "execution_count": 24,
   "outputs": [],
   "source": [
    "# х - исходное\n",
    "x_ish = data_x\n",
    "# х - упорядочные\n",
    "x_ranz = data_x.sort_values()\n",
    "# х - первая половина\n",
    "x1 = data_x.iloc[ : len(data_x)//2]\n",
    "# х - вторая половина\n",
    "x2 = data_x.iloc[len(data_x)//2 : ]"
   ],
   "metadata": {
    "collapsed": false,
    "pycharm": {
     "name": "#%%\n"
    }
   }
  },
  {
   "cell_type": "code",
   "execution_count": 25,
   "outputs": [
    {
     "name": "stdout",
     "output_type": "stream",
     "text": [
      "D(x1) = 4.793673184295297e-06, D(x2) = 5.1391026212080556e-06\n",
      "D(x1) != D(x2), тогда сипользуем критерий серий\n"
     ]
    }
   ],
   "source": [
    "# D(x1) - дисперси х1\n",
    "x1_var = x1.var()\n",
    "\n",
    "# D(x2) -  дисперсия х2\n",
    "x2_var = x2.var()\n",
    "\n",
    "print(f'D(x1) = {x1_var}, D(x2) = {x2_var}')\n",
    "print(f'D(x1) = D(x2), тогда используем критерий Стьюдента' if x2_var == x1_var else f'D(x1) != D(x2), тогда сипользуем критерий серий')"
   ],
   "metadata": {
    "collapsed": false,
    "pycharm": {
     "name": "#%%\n"
    }
   }
  },
  {
   "cell_type": "code",
   "execution_count": 26,
   "outputs": [],
   "source": [
    "# Находим медиану\n",
    "x_med = x_ranz.median()"
   ],
   "metadata": {
    "collapsed": false,
    "pycharm": {
     "name": "#%%\n"
    }
   }
  },
  {
   "cell_type": "code",
   "execution_count": 27,
   "outputs": [
    {
     "data": {
      "text/plain": "0.1346835"
     },
     "execution_count": 27,
     "metadata": {},
     "output_type": "execute_result"
    }
   ],
   "source": [
    "x_med"
   ],
   "metadata": {
    "collapsed": false,
    "pycharm": {
     "name": "#%%\n"
    }
   }
  },
  {
   "cell_type": "code",
   "execution_count": 28,
   "outputs": [],
   "source": [
    "data_x = pd.DataFrame(data_x)"
   ],
   "metadata": {
    "collapsed": false,
    "pycharm": {
     "name": "#%%\n"
    }
   }
  },
  {
   "cell_type": "code",
   "execution_count": 29,
   "outputs": [],
   "source": [
    "result = ['+' if x > x_med else '-' for x in data_x['<CLOSE>']]"
   ],
   "metadata": {
    "collapsed": false,
    "pycharm": {
     "name": "#%%\n"
    }
   }
  },
  {
   "cell_type": "code",
   "execution_count": 30,
   "outputs": [],
   "source": [
    "data_x[\"Result\"] = np.array(result)"
   ],
   "metadata": {
    "collapsed": false,
    "pycharm": {
     "name": "#%%\n"
    }
   }
  },
  {
   "cell_type": "code",
   "execution_count": 31,
   "outputs": [
    {
     "data": {
      "text/plain": "      <CLOSE> Result\n0    0.137824      +\n1    0.136716      +\n2    0.136376      +\n3    0.137463      +\n4    0.135821      +\n..        ...    ...\n295  0.130744      -\n296  0.130491      -\n297  0.130162      -\n298  0.129989      -\n299  0.128576      -\n\n[300 rows x 2 columns]",
      "text/html": "<div>\n<style scoped>\n    .dataframe tbody tr th:only-of-type {\n        vertical-align: middle;\n    }\n\n    .dataframe tbody tr th {\n        vertical-align: top;\n    }\n\n    .dataframe thead th {\n        text-align: right;\n    }\n</style>\n<table border=\"1\" class=\"dataframe\">\n  <thead>\n    <tr style=\"text-align: right;\">\n      <th></th>\n      <th>&lt;CLOSE&gt;</th>\n      <th>Result</th>\n    </tr>\n  </thead>\n  <tbody>\n    <tr>\n      <th>0</th>\n      <td>0.137824</td>\n      <td>+</td>\n    </tr>\n    <tr>\n      <th>1</th>\n      <td>0.136716</td>\n      <td>+</td>\n    </tr>\n    <tr>\n      <th>2</th>\n      <td>0.136376</td>\n      <td>+</td>\n    </tr>\n    <tr>\n      <th>3</th>\n      <td>0.137463</td>\n      <td>+</td>\n    </tr>\n    <tr>\n      <th>4</th>\n      <td>0.135821</td>\n      <td>+</td>\n    </tr>\n    <tr>\n      <th>...</th>\n      <td>...</td>\n      <td>...</td>\n    </tr>\n    <tr>\n      <th>295</th>\n      <td>0.130744</td>\n      <td>-</td>\n    </tr>\n    <tr>\n      <th>296</th>\n      <td>0.130491</td>\n      <td>-</td>\n    </tr>\n    <tr>\n      <th>297</th>\n      <td>0.130162</td>\n      <td>-</td>\n    </tr>\n    <tr>\n      <th>298</th>\n      <td>0.129989</td>\n      <td>-</td>\n    </tr>\n    <tr>\n      <th>299</th>\n      <td>0.128576</td>\n      <td>-</td>\n    </tr>\n  </tbody>\n</table>\n<p>300 rows × 2 columns</p>\n</div>"
     },
     "execution_count": 31,
     "metadata": {},
     "output_type": "execute_result"
    }
   ],
   "source": [
    "data_x"
   ],
   "metadata": {
    "collapsed": false,
    "pycharm": {
     "name": "#%%\n"
    }
   }
  },
  {
   "cell_type": "code",
   "execution_count": 33,
   "outputs": [],
   "source": [
    "# число последовательностей '+' и '-'\n",
    "data_x['seq'] = (data_x.Result!=data_x.Result.shift()).ne(0).cumsum()"
   ],
   "metadata": {
    "collapsed": false,
    "pycharm": {
     "name": "#%%\n"
    }
   }
  },
  {
   "cell_type": "code",
   "execution_count": 34,
   "outputs": [
    {
     "data": {
      "text/plain": "      <CLOSE> Result  seq\n0    0.137824      +    1\n1    0.136716      +    1\n2    0.136376      +    1\n3    0.137463      +    1\n4    0.135821      +    1\n..        ...    ...  ...\n295  0.130744      -   36\n296  0.130491      -   36\n297  0.130162      -   36\n298  0.129989      -   36\n299  0.128576      -   36\n\n[300 rows x 3 columns]",
      "text/html": "<div>\n<style scoped>\n    .dataframe tbody tr th:only-of-type {\n        vertical-align: middle;\n    }\n\n    .dataframe tbody tr th {\n        vertical-align: top;\n    }\n\n    .dataframe thead th {\n        text-align: right;\n    }\n</style>\n<table border=\"1\" class=\"dataframe\">\n  <thead>\n    <tr style=\"text-align: right;\">\n      <th></th>\n      <th>&lt;CLOSE&gt;</th>\n      <th>Result</th>\n      <th>seq</th>\n    </tr>\n  </thead>\n  <tbody>\n    <tr>\n      <th>0</th>\n      <td>0.137824</td>\n      <td>+</td>\n      <td>1</td>\n    </tr>\n    <tr>\n      <th>1</th>\n      <td>0.136716</td>\n      <td>+</td>\n      <td>1</td>\n    </tr>\n    <tr>\n      <th>2</th>\n      <td>0.136376</td>\n      <td>+</td>\n      <td>1</td>\n    </tr>\n    <tr>\n      <th>3</th>\n      <td>0.137463</td>\n      <td>+</td>\n      <td>1</td>\n    </tr>\n    <tr>\n      <th>4</th>\n      <td>0.135821</td>\n      <td>+</td>\n      <td>1</td>\n    </tr>\n    <tr>\n      <th>...</th>\n      <td>...</td>\n      <td>...</td>\n      <td>...</td>\n    </tr>\n    <tr>\n      <th>295</th>\n      <td>0.130744</td>\n      <td>-</td>\n      <td>36</td>\n    </tr>\n    <tr>\n      <th>296</th>\n      <td>0.130491</td>\n      <td>-</td>\n      <td>36</td>\n    </tr>\n    <tr>\n      <th>297</th>\n      <td>0.130162</td>\n      <td>-</td>\n      <td>36</td>\n    </tr>\n    <tr>\n      <th>298</th>\n      <td>0.129989</td>\n      <td>-</td>\n      <td>36</td>\n    </tr>\n    <tr>\n      <th>299</th>\n      <td>0.128576</td>\n      <td>-</td>\n      <td>36</td>\n    </tr>\n  </tbody>\n</table>\n<p>300 rows × 3 columns</p>\n</div>"
     },
     "execution_count": 34,
     "metadata": {},
     "output_type": "execute_result"
    }
   ],
   "source": [
    "data_x"
   ],
   "metadata": {
    "collapsed": false,
    "pycharm": {
     "name": "#%%\n"
    }
   }
  },
  {
   "cell_type": "code",
   "execution_count": 35,
   "outputs": [
    {
     "data": {
      "text/plain": "64"
     },
     "execution_count": 35,
     "metadata": {},
     "output_type": "execute_result"
    }
   ],
   "source": [
    "# самая длинная серия tau(n) из '+' или '-'\n",
    "from itertools import groupby\n",
    "\n",
    "# в s  запишем список последовательности плюсов и минусов\n",
    "s = result\n",
    "# длинна самой длинной подпоследовательности\n",
    "max(sum(1 for _ in g) for k, g in groupby(s) if k)"
   ],
   "metadata": {
    "collapsed": false,
    "pycharm": {
     "name": "#%%\n"
    }
   }
  },
  {
   "cell_type": "code",
   "execution_count": 37,
   "outputs": [
    {
     "data": {
      "text/plain": "64"
     },
     "execution_count": 37,
     "metadata": {},
     "output_type": "execute_result"
    }
   ],
   "source": [
    "max([len(list(group)) for key, group in groupby(s)])"
   ],
   "metadata": {
    "collapsed": false,
    "pycharm": {
     "name": "#%%\n"
    }
   }
  },
  {
   "cell_type": "code",
   "execution_count": 40,
   "outputs": [],
   "source": [
    "v_n = 36\n",
    "tau_n = 64"
   ],
   "metadata": {
    "collapsed": false,
    "pycharm": {
     "name": "#%%\n"
    }
   }
  },
  {
   "cell_type": "code",
   "execution_count": 41,
   "outputs": [
    {
     "name": "stdout",
     "output_type": "stream",
     "text": [
      "v=134.05421586352523, tau=8.16116767859089\n"
     ]
    }
   ],
   "source": [
    "v = (n+2 - 1.96*np.sqrt(n-1))/2\n",
    "tau = (1.43 * np.log(n+1))\n",
    "\n",
    "print(f'v={v}, tau={tau}')"
   ],
   "metadata": {
    "collapsed": false,
    "pycharm": {
     "name": "#%%\n"
    }
   }
  },
  {
   "cell_type": "markdown",
   "source": [
    "По условию неравенства\n",
    "- V(n) > v\n",
    "- tau(n) < tau"
   ],
   "metadata": {
    "collapsed": false
   }
  },
  {
   "cell_type": "code",
   "execution_count": 44,
   "outputs": [
    {
     "name": "stdout",
     "output_type": "stream",
     "text": [
      "так как нарушены условия неравенства V(n)=36 не больше 134.05421586352523 и tau(n)=64 не меньше 8.16116767859089\n",
      "то гипотезу H0 о неизменности среднего отвергаем\n"
     ]
    }
   ],
   "source": [
    "print(f'так как нарушены условия неравенства V(n)={v_n} не больше {v} и tau(n)={tau_n} не меньше {tau}')\n",
    "print('то гипотезу H0 о неизменности среднего отвергаем')"
   ],
   "metadata": {
    "collapsed": false,
    "pycharm": {
     "name": "#%%\n"
    }
   }
  },
  {
   "cell_type": "markdown",
   "source": [
    "# 3. Определение параметров модели ARMA(p,q). Построение прогноза временного ряда\n",
    "\n",
    "\n",
    "Цель: данные временного ряда для любого стационарного процесса (график имеет колебания вдоль горизонтальной прямой, равной среднему значению ряда, в течение некоторого периода) после центрирования (т.е. вычитания среднего) и нормирования (т.е. деления на корень из дисперсии) проверить на соответствие/несоответствие модели ARMA (p,q), используя коррелограмму (графики автокорреляционной и частной автокорреляционной функции с лагами до 10-15 шагов). Дополнительные сведения для этой задачи можно найти по [ссылке](https://studme.org/41017/ekonomika/opredelenie_poryadka_modeli_avtoregressii_skolzyaschey_sredney)\n",
    "Дополнительно: после определения параметров p и q построить прогноз временного ряда на 3-5 шагов вперед."
   ],
   "metadata": {
    "collapsed": false
   }
  },
  {
   "cell_type": "markdown",
   "source": [
    "Ссылки\n",
    "- [habr](https://habr.com/ru/post/207160/)\n",
    "- [лекция](https://github.com/AnastasiyaMax/ML_DPO_2021_spring/blob/a30d463af9958d96eceb757c31ac2223db92761f/class_15/lecture_15_ts.ipynb)\n",
    "- [семинар](https://github.com/AnastasiyaMax/ML_DPO_2021_spring/blob/a30d463af9958d96eceb757c31ac2223db92761f/class_15/sem15_ts.ipynb)"
   ],
   "metadata": {
    "collapsed": false
   }
  },
  {
   "cell_type": "code",
   "execution_count": 67,
   "outputs": [],
   "source": [
    "import pandas as pd\n",
    "import numpy as np\n",
    "import matplotlib.pyplot as plt\n",
    "\n",
    "from statsmodels.tsa.arima.model import ARIMA\n",
    "from statsmodels.tsa.stattools import adfuller, acf\n",
    "from statsmodels.graphics.tsaplots import pacf, plot_acf, plot_pacf\n",
    "from statsmodels.tsa import stattools"
   ],
   "metadata": {
    "collapsed": false,
    "pycharm": {
     "name": "#%%\n"
    }
   }
  },
  {
   "cell_type": "code",
   "execution_count": 47,
   "outputs": [
    {
     "data": {
      "text/plain": "        <DATE>  <TIME>  <OPEN>  <HIGH>   <LOW>  <CLOSE>     <VOL>\n1701  20211111       0  0.1450  0.1580  0.1421   0.1505   1028957\n1702  20211112       0  0.1470  0.1470  0.0750   0.0759  11942353\n1703  20211115       0  0.0600  0.0699  0.0440   0.0489  10657276\n1704  20211116       0  0.0489  0.0489  0.0489   0.0489         1\n1705  20211117       0  0.0000  0.0000  0.0000   0.0000         0",
      "text/html": "<div>\n<style scoped>\n    .dataframe tbody tr th:only-of-type {\n        vertical-align: middle;\n    }\n\n    .dataframe tbody tr th {\n        vertical-align: top;\n    }\n\n    .dataframe thead th {\n        text-align: right;\n    }\n</style>\n<table border=\"1\" class=\"dataframe\">\n  <thead>\n    <tr style=\"text-align: right;\">\n      <th></th>\n      <th>&lt;DATE&gt;</th>\n      <th>&lt;TIME&gt;</th>\n      <th>&lt;OPEN&gt;</th>\n      <th>&lt;HIGH&gt;</th>\n      <th>&lt;LOW&gt;</th>\n      <th>&lt;CLOSE&gt;</th>\n      <th>&lt;VOL&gt;</th>\n    </tr>\n  </thead>\n  <tbody>\n    <tr>\n      <th>1701</th>\n      <td>20211111</td>\n      <td>0</td>\n      <td>0.1450</td>\n      <td>0.1580</td>\n      <td>0.1421</td>\n      <td>0.1505</td>\n      <td>1028957</td>\n    </tr>\n    <tr>\n      <th>1702</th>\n      <td>20211112</td>\n      <td>0</td>\n      <td>0.1470</td>\n      <td>0.1470</td>\n      <td>0.0750</td>\n      <td>0.0759</td>\n      <td>11942353</td>\n    </tr>\n    <tr>\n      <th>1703</th>\n      <td>20211115</td>\n      <td>0</td>\n      <td>0.0600</td>\n      <td>0.0699</td>\n      <td>0.0440</td>\n      <td>0.0489</td>\n      <td>10657276</td>\n    </tr>\n    <tr>\n      <th>1704</th>\n      <td>20211116</td>\n      <td>0</td>\n      <td>0.0489</td>\n      <td>0.0489</td>\n      <td>0.0489</td>\n      <td>0.0489</td>\n      <td>1</td>\n    </tr>\n    <tr>\n      <th>1705</th>\n      <td>20211117</td>\n      <td>0</td>\n      <td>0.0000</td>\n      <td>0.0000</td>\n      <td>0.0000</td>\n      <td>0.0000</td>\n      <td>0</td>\n    </tr>\n  </tbody>\n</table>\n</div>"
     },
     "execution_count": 47,
     "metadata": {},
     "output_type": "execute_result"
    }
   ],
   "source": [
    "# акции германии\n",
    "df1 = pd.read_csv(r'/Users/rinatmahmutov/Documents/DataSpell/Python Notebooks/data/financial_market_volatility/WDI-TDG_150201_220217.csv')\n",
    "df1.tail()"
   ],
   "metadata": {
    "collapsed": false,
    "pycharm": {
     "name": "#%%\n"
    }
   }
  },
  {
   "cell_type": "code",
   "execution_count": 48,
   "outputs": [
    {
     "data": {
      "text/plain": "<AxesSubplot:>"
     },
     "execution_count": 48,
     "metadata": {},
     "output_type": "execute_result"
    },
    {
     "data": {
      "text/plain": "<Figure size 864x432 with 1 Axes>",
      "image/png": "[encoded data removed]"
     },
     "metadata": {
      "needs_background": "light"
     },
     "output_type": "display_data"
    }
   ],
   "source": [
    "data_all  = df1.loc[:, \"<CLOSE>\"]\n",
    "\n",
    "data_all.plot(figsize=(12,6))"
   ],
   "metadata": {
    "collapsed": false,
    "pycharm": {
     "name": "#%%\n"
    }
   }
  },
  {
   "cell_type": "code",
   "execution_count": 49,
   "outputs": [],
   "source": [
    "data_x  = df1.loc[700:1000, \"<CLOSE>\"]"
   ],
   "metadata": {
    "collapsed": false,
    "pycharm": {
     "name": "#%%\n"
    }
   }
  },
  {
   "cell_type": "code",
   "execution_count": 50,
   "outputs": [
    {
     "data": {
      "text/plain": "<AxesSubplot:>"
     },
     "execution_count": 50,
     "metadata": {},
     "output_type": "execute_result"
    },
    {
     "data": {
      "text/plain": "<Figure size 864x432 with 1 Axes>",
      "image/png": "[encoded data removed]"
     },
     "metadata": {
      "needs_background": "light"
     },
     "output_type": "display_data"
    }
   ],
   "source": [
    "data_x.plot(figsize=(12,6))"
   ],
   "metadata": {
    "collapsed": false,
    "pycharm": {
     "name": "#%%\n"
    }
   }
  },
  {
   "cell_type": "code",
   "execution_count": 51,
   "outputs": [],
   "source": [
    "time_series = pd.Series(data_x)"
   ],
   "metadata": {
    "collapsed": false,
    "pycharm": {
     "name": "#%%\n"
    }
   }
  },
  {
   "cell_type": "code",
   "execution_count": 52,
   "outputs": [
    {
     "data": {
      "text/plain": "700      85.66\n701      85.54\n702      82.64\n703      81.29\n704      82.32\n         ...  \n996     167.35\n997     166.55\n998     167.00\n999     145.30\n1000    145.00\nName: <CLOSE>, Length: 301, dtype: float64"
     },
     "execution_count": 52,
     "metadata": {},
     "output_type": "execute_result"
    }
   ],
   "source": [
    "time_series"
   ],
   "metadata": {
    "collapsed": false,
    "pycharm": {
     "name": "#%%\n"
    }
   }
  },
  {
   "cell_type": "markdown",
   "source": [
    "1. Проверка ADF:\n",
    "\n",
    "Проверьте стабильность данных. Нестабильные данные не могут обеспечить лучший результат прогнозирования. Если p-значение тестовых выходных данных велико, это означает, что данные нестабильны."
   ],
   "metadata": {
    "collapsed": false
   }
  },
  {
   "cell_type": "code",
   "execution_count": 53,
   "outputs": [],
   "source": [
    "def adf_test(ts):\n",
    "    \"\"\"\n",
    "    Для проверки стационарности  проведем обобщенный тест Дикки-Фуллера на наличие единичных корней.\n",
    "    Для этого в модуле statsmodels есть функция adfuller()\n",
    "    \"\"\"\n",
    "    adftest = adfuller(ts)\n",
    "    adf_res = pd.Series(adftest[0:4], index=['Test Statistic','p-value','Lags Used','Number of Observations Used'])\n",
    "    for key, value in adftest[4].items():\n",
    "        adf_res['Critical Value (%s)' % key] = value\n",
    "\n",
    "    if adftest[0] > adftest[4]['5%']:\n",
    "        print('есть единичные корни, ряд не стационарен')\n",
    "    else:\n",
    "        print('единичных корней нет, ряд стационарен')\n",
    "\n",
    "    return adf_res"
   ],
   "metadata": {
    "collapsed": false,
    "pycharm": {
     "name": "#%%\n"
    }
   }
  },
  {
   "cell_type": "code",
   "execution_count": 54,
   "outputs": [
    {
     "name": "stdout",
     "output_type": "stream",
     "text": [
      "есть единичные корни, ряд не стационарен\n"
     ]
    },
    {
     "data": {
      "text/plain": "Test Statistic                  -1.421781\np-value                          0.571790\nLags Used                       16.000000\nNumber of Observations Used    284.000000\nCritical Value (1%)             -3.453587\nCritical Value (5%)             -2.871771\nCritical Value (10%)            -2.572222\ndtype: float64"
     },
     "execution_count": 54,
     "metadata": {},
     "output_type": "execute_result"
    }
   ],
   "source": [
    "adf_test(time_series)"
   ],
   "metadata": {
    "collapsed": false,
    "pycharm": {
     "name": "#%%\n"
    }
   }
  },
  {
   "cell_type": "markdown",
   "source": [],
   "metadata": {
    "collapsed": false
   }
  },
  {
   "cell_type": "markdown",
   "source": [
    "Проведенный тест подтвердил предположения о не стационарности ряда.\n",
    "\n",
    "Во многих случаях взятие разности рядов позволяет решить проюдему.\n",
    "\n",
    "Если, например, первые разности ряда стационарны, то он называется интегрированным рядом первого порядка.\n",
    "\n",
    "Итак, давайте определим порядок интегрированного ряда для нашего ряда"
   ],
   "metadata": {
    "collapsed": false,
    "pycharm": {
     "name": "#%% md\n"
    }
   }
  },
  {
   "cell_type": "markdown",
   "source": [
    "2. Сглаживание\n",
    "\n",
    "Если данные нестабильны, их необходимо сначала сгладить. Общие методы включают метод разности и логарифмический метод.\n",
    "\n",
    "Функция diff() вычисляет разность исходного ряда с рядом с заданным смещением периода.\n",
    "Период смещения передается как параметр period.\n",
    "Т.к. в разности первое значение получиться неопределенным, то нам надо избавиться от него для этого и используется метод dropna()."
   ],
   "metadata": {
    "collapsed": false
   }
  },
  {
   "cell_type": "code",
   "execution_count": 55,
   "outputs": [],
   "source": [
    "# Первое отличие\n",
    "def ts_diff(ts, d=1):\n",
    "    return ts.diff(d).dropna(how=any)\n"
   ],
   "metadata": {
    "collapsed": false,
    "pycharm": {
     "name": "#%%\n"
    }
   }
  },
  {
   "cell_type": "code",
   "execution_count": 56,
   "outputs": [],
   "source": [
    "time_series_diff = ts_diff(time_series)"
   ],
   "metadata": {
    "collapsed": false,
    "pycharm": {
     "name": "#%%\n"
    }
   }
  },
  {
   "cell_type": "code",
   "execution_count": 57,
   "outputs": [
    {
     "data": {
      "text/plain": "701     -0.12\n702     -2.90\n703     -1.35\n704      1.03\n705      0.91\n        ...  \n996      1.85\n997     -0.80\n998      0.45\n999    -21.70\n1000    -0.30\nName: <CLOSE>, Length: 300, dtype: float64"
     },
     "execution_count": 57,
     "metadata": {},
     "output_type": "execute_result"
    }
   ],
   "source": [
    "time_series_diff"
   ],
   "metadata": {
    "collapsed": false,
    "pycharm": {
     "name": "#%%\n"
    }
   }
  },
  {
   "cell_type": "code",
   "execution_count": 58,
   "outputs": [
    {
     "name": "stdout",
     "output_type": "stream",
     "text": [
      "единичных корней нет, ряд стационарен\n"
     ]
    },
    {
     "data": {
      "text/plain": "Test Statistic                  -3.513420\np-value                          0.007649\nLags Used                       15.000000\nNumber of Observations Used    284.000000\nCritical Value (1%)             -3.453587\nCritical Value (5%)             -2.871771\nCritical Value (10%)            -2.572222\ndtype: float64"
     },
     "execution_count": 58,
     "metadata": {},
     "output_type": "execute_result"
    }
   ],
   "source": [
    "adf_test(time_series_diff)"
   ],
   "metadata": {
    "collapsed": false,
    "pycharm": {
     "name": "#%%\n"
    }
   }
  },
  {
   "cell_type": "code",
   "execution_count": 59,
   "outputs": [
    {
     "data": {
      "text/plain": "Int64Index([ 701,  702,  703,  704,  705,  706,  707,  708,  709,  710,\n            ...\n             991,  992,  993,  994,  995,  996,  997,  998,  999, 1000],\n           dtype='int64', length=300)"
     },
     "execution_count": 59,
     "metadata": {},
     "output_type": "execute_result"
    }
   ],
   "source": [
    "time_series_diff.index"
   ],
   "metadata": {
    "collapsed": false,
    "pycharm": {
     "name": "#%%\n"
    }
   }
  },
  {
   "cell_type": "markdown",
   "source": [
    "Получившийся ряд первых разностей приблизился к стационарному.\n"
   ],
   "metadata": {
    "collapsed": false
   }
  },
  {
   "cell_type": "markdown",
   "source": [
    "Убедимся в отсутствии тренда для этого построим график нашего нового ряда"
   ],
   "metadata": {
    "collapsed": false
   }
  },
  {
   "cell_type": "code",
   "execution_count": 60,
   "outputs": [
    {
     "data": {
      "text/plain": "<AxesSubplot:>"
     },
     "execution_count": 60,
     "metadata": {},
     "output_type": "execute_result"
    },
    {
     "data": {
      "text/plain": "<Figure size 864x432 with 1 Axes>",
      "image/png": "[encoded data removed]"
     },
     "metadata": {
      "needs_background": "light"
     },
     "output_type": "display_data"
    }
   ],
   "source": [
    "time_series_diff.plot(figsize=(12,6))"
   ],
   "metadata": {
    "collapsed": false,
    "pycharm": {
     "name": "#%%\n"
    }
   }
  },
  {
   "cell_type": "markdown",
   "source": [
    "Тренд действительно отсутствует, таким образом ряд первых разностей является стационарным, а наш исходный ряд — интегрированным рядом первого порядка."
   ],
   "metadata": {
    "collapsed": false,
    "pycharm": {
     "name": "#%% md\n"
    }
   }
  },
  {
   "cell_type": "markdown",
   "source": [
    "3. Установите порядок\n",
    "\n",
    "Найдите порядок модели AR и модели MA с максимальной точностью. Как правило, ACF (функция автокорреляции) и PACF (функция частичной автокорреляции) используются для определения порядка моделей AR и MA."
   ],
   "metadata": {
    "collapsed": false
   }
  },
  {
   "cell_type": "markdown",
   "source": [
    "Построение модели временного ряда\n",
    "\n",
    "Для моделирования будем использовать модель ARIMA, построенную для ряда первых разностей.\n",
    "Итак, чтобы построить модель нам нужно знать ее порядок, состоящий из 2-х параметров:\n",
    "\n",
    "p — порядок компоненты AR\n",
    "d — порядок интегрированного ряда\n",
    "q — порядок компонетны MA\n"
   ],
   "metadata": {
    "collapsed": false
   }
  },
  {
   "cell_type": "markdown",
   "source": [
    "Параметр d есть и он равет 1, осталось определить p и q.\n",
    "Для их определения нам надо изучить авторкорреляционную(ACF) и частично автокорреляционную(PACF) функции для ряда первых разностей."
   ],
   "metadata": {
    "collapsed": false
   }
  },
  {
   "cell_type": "code",
   "execution_count": 61,
   "outputs": [],
   "source": [
    "def get_pdq(time_series):\n",
    "    plot_acf(time_series)\n",
    "    plot_pacf(time_series)\n",
    "    plt.show()\n",
    "\n",
    "    r,rac,Q = stattools.acf(time_series, qstat=True)\n",
    "    prac = pacf(time_series, method='ywm')\n",
    "    table_data = np.c_[range(1,len(r)), r[1:],rac,prac[1:len(rac)+1],Q]\n",
    "    table = pd.DataFrame(table_data, columns=['lag', \"AC\",\"Q\", \"PAC\", \"Prob(>Q)\"])\n",
    "\n",
    "    print(table)\n",
    "    return table"
   ],
   "metadata": {
    "collapsed": false,
    "pycharm": {
     "name": "#%%\n"
    }
   }
  },
  {
   "cell_type": "code",
   "execution_count": 62,
   "outputs": [
    {
     "name": "stderr",
     "output_type": "stream",
     "text": [
      "/Users/rinatmahmutov/opt/anaconda3/lib/python3.9/site-packages/statsmodels/graphics/tsaplots.py:348: FutureWarning: The default method 'yw' can produce PACF values outside of the [-1,1] interval. After 0.13, the default will change tounadjusted Yule-Walker ('ywm'). You can use this method now by setting method='ywm'.\n",
      "  warnings.warn(\n"
     ]
    },
    {
     "data": {
      "text/plain": "<Figure size 432x288 with 1 Axes>",
      "image/png": "[encoded data removed]"
     },
     "metadata": {
      "needs_background": "light"
     },
     "output_type": "display_data"
    },
    {
     "data": {
      "text/plain": "<Figure size 432x288 with 1 Axes>",
      "image/png": "[encoded data removed]"
     },
     "metadata": {
      "needs_background": "light"
     },
     "output_type": "display_data"
    },
    {
     "name": "stdout",
     "output_type": "stream",
     "text": [
      "     lag        AC          Q       PAC  Prob(>Q)\n",
      "0    1.0 -0.173653   9.137430 -0.173653  0.002504\n",
      "1    2.0  0.038671   9.592095  0.008781  0.008262\n",
      "2    3.0  0.041445  10.116074  0.051173  0.017605\n",
      "3    4.0 -0.124719  14.877138 -0.113066  0.004963\n",
      "4    5.0  0.072830  16.506147  0.031792  0.005538\n",
      "5    6.0  0.009541  16.534201  0.033699  0.011157\n",
      "6    7.0 -0.125985  21.442091 -0.119007  0.003168\n",
      "7    8.0 -0.012002  21.486783 -0.074130  0.005961\n",
      "8    9.0  0.068001  22.926444  0.079352  0.006364\n",
      "9   10.0 -0.134301  28.561393 -0.107157  0.001467\n",
      "10  11.0  0.142934  34.966098  0.076263  0.000251\n",
      "11  12.0  0.082010  37.081895  0.140277  0.000217\n",
      "12  13.0 -0.050913  37.900184 -0.000227  0.000299\n",
      "13  14.0  0.045711  38.562096 -0.028638  0.000426\n",
      "14  15.0 -0.101203  41.817990 -0.074266  0.000240\n",
      "15  16.0  0.130299  47.234174  0.144172  0.000063\n",
      "16  17.0 -0.043352  47.835854 -0.049585  0.000091\n",
      "17  18.0 -0.049097  48.610306 -0.060261  0.000122\n",
      "18  19.0  0.120523  53.293745  0.165791  0.000042\n",
      "19  20.0 -0.061357  54.511873 -0.010396  0.000049\n",
      "20  21.0  0.043262  55.119632 -0.005367  0.000068\n",
      "21  22.0  0.045017  55.780090  0.062385  0.000092\n",
      "22  23.0 -0.004263  55.786034  0.047415  0.000152\n",
      "23  24.0 -0.013351  55.844548 -0.058070  0.000241\n"
     ]
    }
   ],
   "source": [
    "table = get_pdq(time_series_diff)"
   ],
   "metadata": {
    "collapsed": false,
    "pycharm": {
     "name": "#%%\n"
    }
   }
  },
  {
   "cell_type": "markdown",
   "source": [
    "После изучения коррелограммы PACF можно сделать вывод, что p = 1, т.к. на ней только 1 лаг сильно отличнен от нуля.\n",
    "\n",
    "По коррелограмме ACF можно увидеть, что q = 1, т.к. после лага 1 значении функций резко падают."
   ],
   "metadata": {
    "collapsed": false
   }
  },
  {
   "cell_type": "code",
   "execution_count": 63,
   "outputs": [],
   "source": [
    "p, d, q = 1, 1, 1"
   ],
   "metadata": {
    "collapsed": false,
    "pycharm": {
     "name": "#%%\n"
    }
   }
  },
  {
   "cell_type": "code",
   "execution_count": 64,
   "outputs": [],
   "source": [
    "def ts_arma(ts, p, d, q):\n",
    "    model = ARIMA(ts, order=(p,d,q)).fit()\n",
    "    print(model.summary())\n",
    "\n",
    "    return model, model.predict()"
   ],
   "metadata": {
    "collapsed": false,
    "pycharm": {
     "name": "#%%\n"
    }
   }
  },
  {
   "cell_type": "code",
   "execution_count": 65,
   "outputs": [
    {
     "name": "stdout",
     "output_type": "stream",
     "text": [
      "                               SARIMAX Results                                \n",
      "==============================================================================\n",
      "Dep. Variable:                <CLOSE>   No. Observations:                  300\n",
      "Model:                 ARIMA(1, 1, 1)   Log Likelihood                -864.060\n",
      "Date:                Tue, 22 Mar 2022   AIC                           1734.120\n",
      "Time:                        15:51:36   BIC                           1745.221\n",
      "Sample:                             0   HQIC                          1738.563\n",
      "                                - 300                                         \n",
      "Covariance Type:                  opg                                         \n",
      "==============================================================================\n",
      "                 coef    std err          z      P>|z|      [0.025      0.975]\n",
      "------------------------------------------------------------------------------\n",
      "ar.L1         -0.1724      0.035     -4.986      0.000      -0.240      -0.105\n",
      "ma.L1         -0.9928      0.013    -73.671      0.000      -1.019      -0.966\n",
      "sigma2        18.6620      0.692     26.975      0.000      17.306      20.018\n",
      "===================================================================================\n",
      "Ljung-Box (L1) (Q):                   0.00   Jarque-Bera (JB):              1011.28\n",
      "Prob(Q):                              0.97   Prob(JB):                         0.00\n",
      "Heteroskedasticity (H):               8.42   Skew:                            -1.44\n",
      "Prob(H) (two-sided):                  0.00   Kurtosis:                        11.54\n",
      "===================================================================================\n",
      "\n",
      "Warnings:\n",
      "[1] Covariance matrix calculated using the outer product of gradients (complex-step).\n"
     ]
    },
    {
     "name": "stderr",
     "output_type": "stream",
     "text": [
      "/Users/rinatmahmutov/opt/anaconda3/lib/python3.9/site-packages/statsmodels/tsa/base/tsa_model.py:590: ValueWarning: An unsupported index was provided and will be ignored when e.g. forecasting.\n",
      "  warnings.warn('An unsupported index was provided and will be'\n",
      "/Users/rinatmahmutov/opt/anaconda3/lib/python3.9/site-packages/statsmodels/tsa/base/tsa_model.py:590: ValueWarning: An unsupported index was provided and will be ignored when e.g. forecasting.\n",
      "  warnings.warn('An unsupported index was provided and will be'\n",
      "/Users/rinatmahmutov/opt/anaconda3/lib/python3.9/site-packages/statsmodels/tsa/base/tsa_model.py:590: ValueWarning: An unsupported index was provided and will be ignored when e.g. forecasting.\n",
      "  warnings.warn('An unsupported index was provided and will be'\n"
     ]
    }
   ],
   "source": [
    "model, result = ts_arma(time_series_diff, p=p,d=d, q=q)"
   ],
   "metadata": {
    "collapsed": false,
    "pycharm": {
     "name": "#%%\n"
    }
   }
  },
  {
   "cell_type": "markdown",
   "source": [
    "Как видно из данной информации в нашей модели все коэффициенты значимые"
   ],
   "metadata": {
    "collapsed": false
   }
  },
  {
   "cell_type": "code",
   "execution_count": 66,
   "outputs": [
    {
     "data": {
      "text/plain": "<AxesSubplot:>"
     },
     "execution_count": 66,
     "metadata": {},
     "output_type": "execute_result"
    },
    {
     "data": {
      "text/plain": "<Figure size 864x432 with 1 Axes>",
      "image/png": "[encoded data removed]"
     },
     "metadata": {
      "needs_background": "light"
     },
     "output_type": "display_data"
    }
   ],
   "source": [
    "time_series_diff.plot(figsize=(12, 6))\n",
    "result.plot(style='r--')"
   ],
   "metadata": {
    "collapsed": false,
    "pycharm": {
     "name": "#%%\n"
    }
   }
  },
  {
   "cell_type": "code",
   "execution_count": 68,
   "outputs": [
    {
     "name": "stdout",
     "output_type": "stream",
     "text": [
      "       Q-stat   p-value\n",
      "0    0.000496  0.982229\n",
      "1    0.078257  0.961627\n",
      "2    0.311069  0.957933\n",
      "3    4.201799  0.379384\n",
      "4    5.204975  0.391380\n",
      "5    5.205067  0.517794\n",
      "6   10.916477  0.142304\n",
      "7   11.114404  0.195301\n",
      "8   11.710087  0.230151\n",
      "9   15.291346  0.121795\n",
      "10  21.439950  0.029089\n",
      "11  24.669372  0.016470\n",
      "12  25.038398  0.022817\n",
      "13  25.152363  0.033093\n",
      "14  27.066057  0.028203\n",
      "15  30.957350  0.013626\n",
      "16  31.328071  0.018213\n",
      "17  31.875957  0.022742\n",
      "18  35.480944  0.012215\n",
      "19  35.971444  0.015500\n",
      "20  36.499060  0.019204\n",
      "21  37.402495  0.021358\n",
      "22  37.402569  0.029492\n",
      "23  37.402579  0.039875\n"
     ]
    }
   ],
   "source": [
    "#свойство resid, хранит остатки модели, qstat=True, означает что применяем указынный тест к коэф-ам\n",
    "\n",
    "q_test = acf(model.resid, qstat=True)\n",
    "print(pd.DataFrame({'Q-stat':q_test[1], 'p-value':q_test[2]}))"
   ],
   "metadata": {
    "collapsed": false,
    "pycharm": {
     "name": "#%%\n"
    }
   }
  },
  {
   "cell_type": "markdown",
   "source": [
    "Значение данной статистики и p-values, свидетельствуют о том, что гипотеза о случайности остатков отвергается, и скорее всего данный процесс не представляет «белый шум»."
   ],
   "metadata": {
    "collapsed": false
   }
  },
  {
   "cell_type": "code",
   "execution_count": 24,
   "outputs": [
    {
     "data": {
      "text/plain": "996    -0.712908\n997    -0.021642\n998     0.429337\n999     0.214036\n1000    3.869185\nName: predicted_mean, dtype: float64"
     },
     "execution_count": 24,
     "metadata": {},
     "output_type": "execute_result"
    }
   ],
   "source": [
    "predictions_ARIMA_diff = pd.Series(result, copy=True)\n",
    "predictions_ARIMA_diff.tail()"
   ],
   "metadata": {
    "collapsed": false,
    "pycharm": {
     "name": "#%%\n"
    }
   }
  },
  {
   "cell_type": "code",
   "execution_count": 25,
   "outputs": [
    {
     "data": {
      "text/plain": "78.1453704560975"
     },
     "execution_count": 25,
     "metadata": {},
     "output_type": "execute_result"
    }
   ],
   "source": [
    "predictions_ARIMA_diff.sum()"
   ],
   "metadata": {
    "collapsed": false,
    "pycharm": {
     "name": "#%%\n"
    }
   }
  },
  {
   "cell_type": "code",
   "execution_count": 26,
   "outputs": [
    {
     "data": {
      "text/plain": "996     73.654455\n997     73.632812\n998     74.062149\n999     74.276185\n1000    78.145370\nName: predicted_mean, dtype: float64"
     },
     "execution_count": 26,
     "metadata": {},
     "output_type": "execute_result"
    }
   ],
   "source": [
    "predictions_ARIMA_diff_cumsum = predictions_ARIMA_diff.cumsum()\n",
    "predictions_ARIMA_diff_cumsum.tail()"
   ],
   "metadata": {
    "collapsed": false,
    "pycharm": {
     "name": "#%%\n"
    }
   }
  },
  {
   "cell_type": "code",
   "execution_count": 28,
   "outputs": [
    {
     "data": {
      "text/plain": "996     241.004455\n997     240.182812\n998     241.062149\n999     219.576185\n1000    223.145370\ndtype: float64"
     },
     "execution_count": 28,
     "metadata": {},
     "output_type": "execute_result"
    }
   ],
   "source": [
    "predictions_ARIMA_log = pd.Series(time_series, index=time_series.index)\n",
    "predictions_ARIMA_log = predictions_ARIMA_log.add(predictions_ARIMA_diff_cumsum, fill_value=0)\n",
    "predictions_ARIMA_log.tail()"
   ],
   "metadata": {
    "collapsed": false,
    "pycharm": {
     "name": "#%%\n"
    }
   }
  },
  {
   "cell_type": "code",
   "execution_count": 38,
   "outputs": [],
   "source": [
    "df1 = predictions_ARIMA_log"
   ],
   "metadata": {
    "collapsed": false,
    "pycharm": {
     "name": "#%%\n"
    }
   }
  },
  {
   "cell_type": "code",
   "execution_count": 39,
   "outputs": [],
   "source": [
    "res = pd.concat([data_x, df1], axis=1)"
   ],
   "metadata": {
    "collapsed": false,
    "pycharm": {
     "name": "#%%\n"
    }
   }
  },
  {
   "cell_type": "code",
   "execution_count": 71,
   "outputs": [],
   "source": [
    "res = res.rename(columns={'<CLOSE>' : \"price\"})"
   ],
   "metadata": {
    "collapsed": false,
    "pycharm": {
     "name": "#%%\n"
    }
   }
  },
  {
   "cell_type": "code",
   "execution_count": 72,
   "outputs": [],
   "source": [
    "res = res.rename(columns={0 : \"priceARIMA\"})"
   ],
   "metadata": {
    "collapsed": false,
    "pycharm": {
     "name": "#%%\n"
    }
   }
  },
  {
   "cell_type": "code",
   "execution_count": 73,
   "outputs": [
    {
     "data": {
      "text/plain": "       price  priceARIMA\n700    85.66   85.660000\n701    85.54   85.540000\n702    82.64   82.520003\n703    81.29   79.899581\n704    82.32   79.362586\n...      ...         ...\n996   167.35  241.004455\n997   166.55  240.182812\n998   167.00  241.062149\n999   145.30  219.576185\n1000  145.00  223.145370\n\n[301 rows x 2 columns]",
      "text/html": "<div>\n<style scoped>\n    .dataframe tbody tr th:only-of-type {\n        vertical-align: middle;\n    }\n\n    .dataframe tbody tr th {\n        vertical-align: top;\n    }\n\n    .dataframe thead th {\n        text-align: right;\n    }\n</style>\n<table border=\"1\" class=\"dataframe\">\n  <thead>\n    <tr style=\"text-align: right;\">\n      <th></th>\n      <th>price</th>\n      <th>priceARIMA</th>\n    </tr>\n  </thead>\n  <tbody>\n    <tr>\n      <th>700</th>\n      <td>85.66</td>\n      <td>85.660000</td>\n    </tr>\n    <tr>\n      <th>701</th>\n      <td>85.54</td>\n      <td>85.540000</td>\n    </tr>\n    <tr>\n      <th>702</th>\n      <td>82.64</td>\n      <td>82.520003</td>\n    </tr>\n    <tr>\n      <th>703</th>\n      <td>81.29</td>\n      <td>79.899581</td>\n    </tr>\n    <tr>\n      <th>704</th>\n      <td>82.32</td>\n      <td>79.362586</td>\n    </tr>\n    <tr>\n      <th>...</th>\n      <td>...</td>\n      <td>...</td>\n    </tr>\n    <tr>\n      <th>996</th>\n      <td>167.35</td>\n      <td>241.004455</td>\n    </tr>\n    <tr>\n      <th>997</th>\n      <td>166.55</td>\n      <td>240.182812</td>\n    </tr>\n    <tr>\n      <th>998</th>\n      <td>167.00</td>\n      <td>241.062149</td>\n    </tr>\n    <tr>\n      <th>999</th>\n      <td>145.30</td>\n      <td>219.576185</td>\n    </tr>\n    <tr>\n      <th>1000</th>\n      <td>145.00</td>\n      <td>223.145370</td>\n    </tr>\n  </tbody>\n</table>\n<p>301 rows × 2 columns</p>\n</div>"
     },
     "execution_count": 73,
     "metadata": {},
     "output_type": "execute_result"
    }
   ],
   "source": [
    "res"
   ],
   "metadata": {
    "collapsed": false,
    "pycharm": {
     "name": "#%%\n"
    }
   }
  },
  {
   "cell_type": "code",
   "execution_count": 74,
   "outputs": [
    {
     "data": {
      "text/plain": "<AxesSubplot:>"
     },
     "execution_count": 74,
     "metadata": {},
     "output_type": "execute_result"
    },
    {
     "data": {
      "text/plain": "<Figure size 432x288 with 1 Axes>",
      "image/png": "[encoded data removed]"
     },
     "metadata": {
      "needs_background": "light"
     },
     "output_type": "display_data"
    }
   ],
   "source": [
    "res.plot.line()"
   ],
   "metadata": {
    "collapsed": false,
    "pycharm": {
     "name": "#%%\n"
    }
   }
  },
  {
   "cell_type": "markdown",
   "source": [
    "ARIMA — это хорошо, но ARIMA — это не все"
   ],
   "metadata": {
    "collapsed": false,
    "pycharm": {
     "name": "#%% md\n"
    }
   }
  },
  {
   "cell_type": "markdown",
   "source": [
    "# Задание 4. Определение волатильности.\n",
    "\n",
    "Для исходных данных (можно взять c финам.ру) найти значение волатильности за некоторый промежуток времени.\n",
    "\n",
    "- [harb](https://habr.com/ru/post/494636/)\n",
    "- [en](https://blog.quantinsti.com/volatility-and-measures-of-risk-adjusted-return-based-on-volatility/)"
   ],
   "metadata": {
    "collapsed": false
   }
  },
  {
   "cell_type": "markdown",
   "source": [
    "Данные: Акции Европы - Schneider Electric SE"
   ],
   "metadata": {
    "collapsed": false
   }
  },
  {
   "cell_type": "code",
   "execution_count": 9,
   "outputs": [],
   "source": [
    "import pandas as pd\n",
    "import numpy as np\n",
    "\n",
    "import matplotlib.pyplot as plt"
   ],
   "metadata": {
    "collapsed": false,
    "pycharm": {
     "name": "#%%\n"
    }
   }
  },
  {
   "cell_type": "code",
   "execution_count": 2,
   "outputs": [
    {
     "data": {
      "text/plain": "    <TICKER> <PER>    <DATE>  <TIME>  <CLOSE>\n300  SND-TDG     D  20220315       0   146.86\n301  SND-TDG     D  20220316       0   153.88\n302  SND-TDG     D  20220318       0   151.44\n303  SND-TDG     D  20220321       0   150.14\n304  SND-TDG     D  20220323       0   151.22",
      "text/html": "<div>\n<style scoped>\n    .dataframe tbody tr th:only-of-type {\n        vertical-align: middle;\n    }\n\n    .dataframe tbody tr th {\n        vertical-align: top;\n    }\n\n    .dataframe thead th {\n        text-align: right;\n    }\n</style>\n<table border=\"1\" class=\"dataframe\">\n  <thead>\n    <tr style=\"text-align: right;\">\n      <th></th>\n      <th>&lt;TICKER&gt;</th>\n      <th>&lt;PER&gt;</th>\n      <th>&lt;DATE&gt;</th>\n      <th>&lt;TIME&gt;</th>\n      <th>&lt;CLOSE&gt;</th>\n    </tr>\n  </thead>\n  <tbody>\n    <tr>\n      <th>300</th>\n      <td>SND-TDG</td>\n      <td>D</td>\n      <td>20220315</td>\n      <td>0</td>\n      <td>146.86</td>\n    </tr>\n    <tr>\n      <th>301</th>\n      <td>SND-TDG</td>\n      <td>D</td>\n      <td>20220316</td>\n      <td>0</td>\n      <td>153.88</td>\n    </tr>\n    <tr>\n      <th>302</th>\n      <td>SND-TDG</td>\n      <td>D</td>\n      <td>20220318</td>\n      <td>0</td>\n      <td>151.44</td>\n    </tr>\n    <tr>\n      <th>303</th>\n      <td>SND-TDG</td>\n      <td>D</td>\n      <td>20220321</td>\n      <td>0</td>\n      <td>150.14</td>\n    </tr>\n    <tr>\n      <th>304</th>\n      <td>SND-TDG</td>\n      <td>D</td>\n      <td>20220323</td>\n      <td>0</td>\n      <td>151.22</td>\n    </tr>\n  </tbody>\n</table>\n</div>"
     },
     "execution_count": 2,
     "metadata": {},
     "output_type": "execute_result"
    }
   ],
   "source": [
    "df = pd.read_csv(r'/Users/rinatmahmutov/Documents/DataSpell/Python Notebooks/data/financial_market_volatility/SND-TDG_210101_220324.csv')\n",
    "df.tail()"
   ],
   "metadata": {
    "collapsed": false,
    "pycharm": {
     "name": "#%%\n"
    }
   }
  },
  {
   "cell_type": "code",
   "execution_count": 3,
   "outputs": [
    {
     "data": {
      "text/plain": "  <TICKER> <PER>     <DATE>  <TIME>   CLOSE\n0  SND-TDG     D 2021-01-04       0  122.20\n1  SND-TDG     D 2021-01-05       0  121.00\n2  SND-TDG     D 2021-01-06       0  123.70\n3  SND-TDG     D 2021-01-07       0  126.25\n4  SND-TDG     D 2021-01-08       0  128.35",
      "text/html": "<div>\n<style scoped>\n    .dataframe tbody tr th:only-of-type {\n        vertical-align: middle;\n    }\n\n    .dataframe tbody tr th {\n        vertical-align: top;\n    }\n\n    .dataframe thead th {\n        text-align: right;\n    }\n</style>\n<table border=\"1\" class=\"dataframe\">\n  <thead>\n    <tr style=\"text-align: right;\">\n      <th></th>\n      <th>&lt;TICKER&gt;</th>\n      <th>&lt;PER&gt;</th>\n      <th>&lt;DATE&gt;</th>\n      <th>&lt;TIME&gt;</th>\n      <th>CLOSE</th>\n    </tr>\n  </thead>\n  <tbody>\n    <tr>\n      <th>0</th>\n      <td>SND-TDG</td>\n      <td>D</td>\n      <td>2021-01-04</td>\n      <td>0</td>\n      <td>122.20</td>\n    </tr>\n    <tr>\n      <th>1</th>\n      <td>SND-TDG</td>\n      <td>D</td>\n      <td>2021-01-05</td>\n      <td>0</td>\n      <td>121.00</td>\n    </tr>\n    <tr>\n      <th>2</th>\n      <td>SND-TDG</td>\n      <td>D</td>\n      <td>2021-01-06</td>\n      <td>0</td>\n      <td>123.70</td>\n    </tr>\n    <tr>\n      <th>3</th>\n      <td>SND-TDG</td>\n      <td>D</td>\n      <td>2021-01-07</td>\n      <td>0</td>\n      <td>126.25</td>\n    </tr>\n    <tr>\n      <th>4</th>\n      <td>SND-TDG</td>\n      <td>D</td>\n      <td>2021-01-08</td>\n      <td>0</td>\n      <td>128.35</td>\n    </tr>\n  </tbody>\n</table>\n</div>"
     },
     "execution_count": 3,
     "metadata": {},
     "output_type": "execute_result"
    }
   ],
   "source": [
    "df = df.rename(columns={'<CLOSE>' : \"CLOSE\"})\n",
    "df['<DATE>'] = pd.to_datetime(df['<DATE>'].astype(str), format='%Y%m%d')\n",
    "df.head()"
   ],
   "metadata": {
    "collapsed": false,
    "pycharm": {
     "name": "#%%\n"
    }
   }
  },
  {
   "cell_type": "markdown",
   "source": [
    "Скользящее окно (Moving Windows)\n",
    "\n",
    "\n",
    "Смысл скользящего окна– с каждым новым значением функция пересчитывается за заданный период времени. Этих функций большое количество. Для примера: rolling.mean(), rolling.std(), которые чаще всего и используют при анализе движения акций. rolling.mean() — это обычная скользящая средняя, которая сглаживает краткосрочные колебания и позволяет визуализировать общую тенденцию."
   ],
   "metadata": {
    "collapsed": false
   }
  },
  {
   "cell_type": "code",
   "execution_count": 11,
   "outputs": [
    {
     "data": {
      "text/plain": "<Figure size 576x432 with 1 Axes>",
      "image/png": "[encoded data removed]"
     },
     "metadata": {
      "needs_background": "light"
     },
     "output_type": "display_data"
    }
   ],
   "source": [
    "# Вычисление короткой скользящей средней\n",
    "df['40'] = df['CLOSE'].rolling(window=40).mean()\n",
    "\n",
    "# Вычисление длинной скользящей средней\n",
    "df['252'] = df['CLOSE'].rolling(window=252).mean()\n",
    "\n",
    "# Построение полученных значений\n",
    "df[['CLOSE', '40', '252']].plot(figsize=(8, 6))\n",
    "\n",
    "plt.show()"
   ],
   "metadata": {
    "collapsed": false,
    "pycharm": {
     "name": "#%%\n"
    }
   }
  },
  {
   "cell_type": "code",
   "execution_count": 7,
   "outputs": [
    {
     "name": "stdout",
     "output_type": "stream",
     "text": [
      "    <TICKER> <PER>     <DATE>  <TIME>   CLOSE   Log_Ret  Volatility\n",
      "290  SND-TDG     D 2022-02-28       0  139.68 -0.010115    0.417259\n",
      "291  SND-TDG     D 2022-03-01       0  132.68 -0.051414    0.412962\n",
      "292  SND-TDG     D 2022-03-02       0  137.94  0.038879    0.438754\n",
      "293  SND-TDG     D 2022-03-03       0  136.22 -0.012548    0.436948\n",
      "294  SND-TDG     D 2022-03-07       0  128.02 -0.062085    0.469696\n",
      "295  SND-TDG     D 2022-03-08       0  138.00  0.075067    0.538230\n",
      "296  SND-TDG     D 2022-03-09       0  145.56  0.053335    0.565032\n",
      "297  SND-TDG     D 2022-03-10       0  140.66 -0.034243    0.571656\n",
      "298  SND-TDG     D 2022-03-11       0  140.66  0.000000    0.571132\n",
      "299  SND-TDG     D 2022-03-14       0  144.92  0.029836    0.580245\n",
      "300  SND-TDG     D 2022-03-15       0  146.86  0.013298    0.581614\n",
      "301  SND-TDG     D 2022-03-16       0  153.88  0.046693    0.600584\n",
      "302  SND-TDG     D 2022-03-18       0  151.44 -0.015984    0.594280\n",
      "303  SND-TDG     D 2022-03-21       0  150.14 -0.008621    0.577201\n",
      "304  SND-TDG     D 2022-03-23       0  151.22  0.007168    0.576326\n"
     ]
    },
    {
     "data": {
      "text/plain": "array([<AxesSubplot:>, <AxesSubplot:>], dtype=object)"
     },
     "execution_count": 7,
     "metadata": {},
     "output_type": "execute_result"
    },
    {
     "data": {
      "text/plain": "<Figure size 576x432 with 2 Axes>",
      "image/png": "[encoded data removed]"
     },
     "metadata": {
      "needs_background": "light"
     },
     "output_type": "display_data"
    }
   ],
   "source": [
    "# всего данных(рабочие дни биржи)\n",
    "dpy = len(df['<DATE>'])\n",
    "\n",
    "# Определим рассматриваемый период\n",
    "w = 30\n",
    "\n",
    "# Вычислим логарифмическую доходность, используя цену закрытия\n",
    "df['Log_Ret'] = np.log(df['CLOSE'] / df['CLOSE'].shift(1))\n",
    "\n",
    "# Вычислим волатильность с помощью скользящего стандартного отклонения\n",
    "df['Volatility'] = df['Log_Ret'].rolling(window=w).std() * np.sqrt(dpy)\n",
    "print(df.tail(15))\n",
    "\n",
    "# Графики ряд цен и волатильности\n",
    "df[['CLOSE', 'Volatility']].plot(subplots=True, color='red',figsize=(8, 6))"
   ],
   "metadata": {
    "collapsed": false,
    "pycharm": {
     "name": "#%%\n"
    }
   }
  },
  {
   "cell_type": "code",
   "execution_count": null,
   "outputs": [],
   "source": [],
   "metadata": {
    "collapsed": false,
    "pycharm": {
     "name": "#%%\n"
    }
   }
  }
 ]
}