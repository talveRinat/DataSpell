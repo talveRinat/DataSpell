{
 "cells": [
  {
   "attachments": {
    "Screenshot%202021-03-19%20at%2016.05.40.png": {
     "image/png": "[encoded data removed]"
    }
   },
   "cell_type": "markdown",
   "id": "thrown-improvement",
   "metadata": {},
   "source": [
    "# Задача 1.1 - система 2 линейных уравнений\n",
    "\n",
    "Напишите программу, которая будет решать систему линейных уравнений вида:\n",
    "\n",
    "![Screenshot%202021-03-19%20at%2016.05.40.png](attachment:Screenshot%202021-03-19%20at%2016.05.40.png)\n",
    "\n",
    "На вход программа должна принимать 2 строки (используйте стандартную функцию input() Python 3).\n",
    "\n",
    "Каждая строка содержит 3 действительных числа через пробел:\n",
    "\n",
    "$ a_{i1}, a_{i2}, b_{i}$,\n",
    "\n",
    "где i - номер строки\n",
    "\n",
    "На выходе программа должна выдавать значения x и y в одну строку через пробел."
   ]
  },
  {
   "cell_type": "code",
   "execution_count": 1,
   "id": "pharmaceutical-ballot",
   "metadata": {},
   "outputs": [],
   "source": [
    "import numpy as np"
   ]
  },
  {
   "cell_type": "code",
   "execution_count": 10,
   "id": "worldwide-weekend",
   "metadata": {},
   "outputs": [
    {
     "name": "stdout",
     "output_type": "stream",
     "text": [
      "2 5 1\n",
      "1 -10 3\n",
      "1.0 -0.2\n"
     ]
    }
   ],
   "source": [
    "a11, a12, b1 = map(float, input().split()) # 2 5 1\n",
    "a21, a22, b2 = map(float, input().split()) # 1 -10 3\n",
    "\n",
    "M = np.array([[a11, a12], [a21, a22]]) # Матрица (левая часть системы)\n",
    "v = np.array([b1, b2]) # Вектор (правая часть системы)\n",
    "\n",
    "res = np.linalg.solve(M, v) #Находим решение системы\n",
    "print(*res)"
   ]
  },
  {
   "cell_type": "markdown",
   "id": "parallel-headline",
   "metadata": {},
   "source": [
    "# Задача 1.2 - система 2 линейных уравнений\n",
    "\n",
    "Напишите программу, которая будет решать систему линейных уравнений вида:\n",
    "\n",
    "$ \\left\\{\\begin{matrix} a_{11}x+a_{12}y=b_{1}&(1) \\\\ a_{21}x+a_{22}y=b_{2} &(2) \\end{matrix}\\right.$\n",
    "\n",
    "В отличие от задачи 1.1 здесь есть системы, не имеющие решений, например:\n",
    "\n",
    "$ \\left\\{\\begin{matrix} x+y=1&(3) \\\\ 2x+2y=5 &(4) \\end{matrix}\\right.$ \n",
    "\n",
    "Как мы знаем из лекций, система не имеет решения (или имеет их бесконечно много), если определитель матрицы коэффициентов равен 0:\n",
    "\n",
    "$\\Delta = \\begin{pmatrix} 1 & 1 \\\\ 2 & 2 \\end{pmatrix} = 0$ \n",
    "\n",
    "Для нахождения определителя используйте функцию numpy.linalg.det.\n",
    "\n",
    "На вход программа должна принимать 2 строки, каждая строка содержит 3 действительных числа через пробел:\n",
    "\n",
    "$ a_{i1}, a_{i2}, b_{i}$,\n",
    "\n",
    "где i - номер строки\n",
    "\n",
    "На выходе программа должна выдавать:\n",
    "\n",
    "- значения x и y в одну строку через пробел, если система имеет решение\n",
    "- строку \"Матрица системы вырожденная\", если определитель матрицы равен 0.\n"
   ]
  },
  {
   "cell_type": "code",
   "execution_count": 17,
   "id": "quick-england",
   "metadata": {},
   "outputs": [
    {
     "name": "stdout",
     "output_type": "stream",
     "text": [
      "2 5 1\n",
      "1 -10 3\n",
      "1.0 -0.2\n"
     ]
    }
   ],
   "source": [
    "a11, a12, b1 = map(float, input().split()) # 1 1 1\n",
    "a21, a22, b2 = map(float, input().split()) # 2 2 5\n",
    "\n",
    "l_det = np.linalg.det([[a11, a12], [a21, a22]])\n",
    "\n",
    "if l_det:\n",
    "    M = np.array([[a11, a12], [a21, a22]]) # Матрица (левая часть системы)\n",
    "    v = np.array([b1, b2]) # Вектор (правая часть системы)\n",
    "    res = np.linalg.solve(M, v) #Находим решение системы\n",
    "    print(*res)\n",
    "else:\n",
    "    print(\"Матрица системы вырожденная\")\n"
   ]
  },
  {
   "cell_type": "markdown",
   "id": "veterinary-services",
   "metadata": {},
   "source": [
    "# Задача 2 - система 3 линейных уравнений\n",
    "\n",
    "Напишите программу, которая будет решать систему линейных уравнений вида:\n",
    "\n",
    "$ \\left\\{\\begin{matrix} a_{11}x+a_{12}y+a_{13}z=b_{1}&(1) \\\\ a_{21}x+a_{22}y+a_{23}z=b_{2} &(2) \\\\ a_{31}x+a_{32}y+a_{33}z=b_{3} &(3) \\end{matrix}\\right.$ \n",
    "\n",
    "Для решения системы по аналогии с предыдущими задачами можно записать матрицу и вектор:\n",
    "\n",
    "$ M = \\begin{pmatrix} a_{11} & a_{12} & a_{13}\\\\ a_{21} & a_{22} & a_{23}\\\\ a_{31} & a_{32} & a_{33} \\end{pmatrix} v = \\begin{pmatrix} b_{1}\\\\b_{2} \\\\ b_{3} \\end{pmatrix}$\n",
    "\n",
    "При решении системы сделайте проверку на наличие решений.\n",
    "\n",
    " \n",
    "\n",
    "На вход программа должна принимать 3 строки, каждая строка содержит 4 действительных числа через пробел:\n",
    "\n",
    "$a_{i1}, a_{i2}, a_{i3}, b_{i}$,\n",
    "где $i$ - номер строки\n",
    "\n",
    " \n",
    "\n",
    "На выходе программа должна выдавать:\n",
    "\n",
    "- значения x, y и z в одну строку через пробел, если система имеет решение\n",
    "- строку \"Матрица системы вырожденная\", если определитель матрицы равен 0.\n"
   ]
  },
  {
   "cell_type": "code",
   "execution_count": 19,
   "id": "communist-toyota",
   "metadata": {},
   "outputs": [
    {
     "name": "stdout",
     "output_type": "stream",
     "text": [
      "3 2 -1 4 \n",
      "2 -1 5 23\n",
      "1 7 -1 5 \n",
      "2.0 1.0000000000000002 3.9999999999999996\n"
     ]
    }
   ],
   "source": [
    "a11, a12, a13, b1 = map(float, input().split()) # 3 2 -1 4  or 1 3 1 5 \n",
    "a21, a22, a23, b2 = map(float, input().split()) # 2 -1 5 23 or 2 6 2 0\n",
    "a31, a32, a33, b3 = map(float, input().split()) # 1 7 -1 5  or 1 6 1 5 \n",
    "\n",
    "l_det = np.linalg.det([[a11, a12, a13], [a21, a22, a23], [a31, a32, a33]])\n",
    "\n",
    "if l_det:\n",
    "    M = np.array([[a11, a12, a13], [a21, a22, a23], [a31, a32, a33]]) # Матрица (левая часть системы)\n",
    "    v = np.array([b1, b2, b3]) # Вектор (правая часть системы)\n",
    "    res = np.linalg.solve(M, v) #Находим решение системы\n",
    "    print(*res)\n",
    "else:\n",
    "    print(\"Матрица системы вырожденная\")\n"
   ]
  },
  {
   "cell_type": "markdown",
   "id": "beneficial-shark",
   "metadata": {},
   "source": [
    "# Задача 3 - система 4 линейных уравнений\n",
    "\n",
    "Напишите программу, которая будет решать систему линейных уравнений вида:\n",
    "\n",
    "$\\left\\{\\begin{matrix} a_{11}x_{1}+a_{12}x_{2}+a_{13}x_{3} + a_{14}x_{4}=b_{1}&(1) \\\\ a_{21}x_{1}+a_{22}x_{2}+a_{23}x_{3} + a_{24}x_{4}=b_{2}&(2) \\\\ a_{31}x_{1}+a_{32}x_{2}+a_{33}x_{3} + a_{34}x_{4}=b_{3}&(3) \\\\ a_{41}x_{1}+a_{42}x_{2}+a_{43}x_{3} + a_{44}x_{4}=b_{4}&(4) \\end{matrix}\\right.$ \n",
    "\n",
    "На вход программа должна принимать 4 строки, каждая строка содержит 5 действительных числа через пробел:\n",
    "\n",
    "$a_{i1}, a_{i2}, a_{i3}, a_{i4}, b_{i}$,\n",
    "\n",
    "где $i$ - номер строки\n",
    "\n",
    "\n",
    "На выходе программа должна выдавать:\n",
    "\n",
    "- значения  $x_{1}, x_{2}, x_{3}, x_{4}$ в одну строку через пробел, если система имеет решение\n",
    "- строку \"Матрица системы вырожденная\", если определитель матрицы равен 0.\n"
   ]
  },
  {
   "cell_type": "code",
   "execution_count": 23,
   "id": "emerging-advocate",
   "metadata": {},
   "outputs": [
    {
     "name": "stdout",
     "output_type": "stream",
     "text": [
      "1 0 1 0 2\n",
      "-1 1 -2 1 -2\n",
      "4 0 1 -2 0\n",
      "-4 4 0 1 5\n",
      "0.0 1.0 2.0 1.0\n"
     ]
    }
   ],
   "source": [
    "a11, a12, a13, a14, b1 = map(float, input().split()) # 0 0 0 0 1  or 1 0 1 0 2\n",
    "a21, a22, a23, a24, b2 = map(float, input().split()) # 2 6 2 -5 0 or -1 1 -2 1 -2\n",
    "a31, a32, a33, a34, b3 = map(float, input().split()) # 1 6 1 5 -6  or 4 0 1 -2 0\n",
    "a41, a42, a43, a44, b4 = map(float, input().split()) # 34 0 -5 1 6 or -4 4 0 1 5\n",
    "\n",
    "l_det = np.linalg.det([[a11, a12, a13, a14], \n",
    "                       [a21, a22, a23, a24], \n",
    "                       [a31, a32, a33, a34], \n",
    "                       [a41, a42, a43, a44]])\n",
    "\n",
    "if l_det:\n",
    "    M = np.array([[a11, a12, a13, a14], \n",
    "                  [a21, a22, a23, a24], \n",
    "                  [a31, a32, a33, a34], \n",
    "                  [a41, a42, a43, a44]]) # Матрица (левая часть системы)\n",
    "    \n",
    "    v = np.array([b1, b2, b3, b4]) # Вектор (правая часть системы)\n",
    "    \n",
    "    res = np.linalg.solve(M, v) #Находим решение системы\n",
    "    print(*res)\n",
    "else:\n",
    "    print(\"Матрица системы вырожденная\")\n"
   ]
  },
  {
   "cell_type": "code",
   "execution_count": 24,
   "id": "going-delicious",
   "metadata": {},
   "outputs": [
    {
     "name": "stdout",
     "output_type": "stream",
     "text": [
      "1 0 1 0 2\n",
      "-1 1 -2 1 -2\n",
      "4 0 1 -2 0\n",
      "-4 4 0 1 5\n",
      "0.0 1.0 2.0 1.0\n"
     ]
    }
   ],
   "source": [
    "import numpy as np\n",
    "import numpy.linalg as la\n",
    "\n",
    "\n",
    "size = 4\n",
    "m = np.empty((size, size))\n",
    "b = np.empty(size)\n",
    "for index in range(size):\n",
    "    *m[index], b[index] = map(float, input().strip().split())\n",
    "\n",
    "m_det = la.det(m)\n",
    "\n",
    "if m_det != 0:\n",
    "    u = la.solve(m, b)\n",
    "    print(*u)\n",
    "else:\n",
    "    print('Матрица системы вырожденная')\n"
   ]
  },
  {
   "cell_type": "markdown",
   "id": "reduced-wildlife",
   "metadata": {},
   "source": [
    "# Задача 4 - система произвольного числа линейных уравнений\n",
    "\n",
    "В этом задании необходимо объединить знания полученные в предыдущих задачах.\n",
    "\n",
    "Напишите программу, которая будет решать систему линейных уравнений вида:\n",
    "\n",
    "$\\left\\{\\begin{matrix} a_{11}x_{1}+...+ a_{1j}x_{i}=b_{1}&(1) \\\\ a_{21}x_{1}+...+ a_{2j}x_{i}=b_{2}&(2) \\\\ ... \\\\ a_{i1}x_{1}+... + a_{ij}x_{i}=b_{i}&(i) \\end{matrix}\\right.$ \n",
    "        \n",
    "На вход программа должна принимать в первой строке натуральное число i (i>1) и ещё i строк каждая строка содержит i+1 действительное число через пробел:\n",
    "\n",
    "$a_{j1}, a_{j2}, a_{j3}, ... a_{ji}, b_{j}$\n",
    "\n",
    "где $j$ - номер строки\n",
    "\n",
    "На выходе программа должна выдавать:\n",
    "\n",
    "- значения $x_{1}, x_{2}, x_{3}, ... x_{i}$ в одну строку через пробел, если система имеет решение\n",
    "- строку \"Матрица системы вырожденная\", если определитель матрицы равен 0.\n",
    "\n",
    "Важно! Среди наборов данных для проверки могут быть системы длины больше 4!"
   ]
  },
  {
   "cell_type": "code",
   "execution_count": 26,
   "id": "corporate-tenant",
   "metadata": {},
   "outputs": [
    {
     "name": "stdout",
     "output_type": "stream",
     "text": [
      "2\n",
      "1 2 3\n",
      "4 5 6\n",
      "-1.0 2.0\n"
     ]
    }
   ],
   "source": [
    "import numpy as np\n",
    "import numpy.linalg as la\n",
    "\n",
    "\n",
    "size = int(input())\n",
    "\n",
    "m = np.empty((size, size))\n",
    "b = np.empty(size)\n",
    "for index in range(size):\n",
    "    *m[index], b[index] = map(float, input().strip().split())\n",
    "\n",
    "m_det = la.det(m)\n",
    "\n",
    "if m_det != 0:\n",
    "    u = la.solve(m, b)\n",
    "    print(*u)\n",
    "else:\n",
    "    print('Матрица системы вырожденная')"
   ]
  },
  {
   "cell_type": "markdown",
   "id": "amazing-issue",
   "metadata": {},
   "source": [
    "2\n",
    "0 0 3\n",
    "4 5 6\n",
    "\n",
    "2\n",
    "1 2 3\n",
    "4 5 6"
   ]
  },
  {
   "cell_type": "markdown",
   "id": "fitting-motor",
   "metadata": {},
   "source": [
    "# Задача 4.1- Записать систему уравнений\n",
    "\n",
    "В классе 20 учеников. Среди них есть девочки и мальчики.  Девочек больше чем мальчиков на 4 человека. Сколько мальчиков и девочек в этом классе?\n",
    "\n",
    "Запишите систему уравнений, которую необходимо решить для нахождения ответа на эту задачу.\n",
    "Используйте запись, соответствующую матричному методу решения (неизвестные с коэффициентами в левой части, свободные члены в правой). В качестве неизвестных используйте x и y.\n",
    "\n",
    "Примечание. Т.к. девочки в тексте задачи встретились первыми, а мальчики вторыми (или по причине наличия только у мальчиков Y хромосомы, если хотите) предлагаем обозначить за x число девочек, а за y - мальчиков.\n"
   ]
  },
  {
   "cell_type": "markdown",
   "id": "armed-marina",
   "metadata": {},
   "source": [
    "$ \\left\\{\\begin{matrix} x+y=20&(1) \\\\ x-y=4 &(2) \\end{matrix}\\right.$"
   ]
  },
  {
   "cell_type": "markdown",
   "id": "competitive-boating",
   "metadata": {},
   "source": [
    "# Задача 4.2- Записать систему уравнений\n",
    "\n",
    "Напишите программу, решающую предыдущую задачу (4.1) для произвольных натуральных чисел a и b:\n",
    "\n",
    "В классе a учеников. Среди них есть девочки и мальчики.  Девочек больше чем мальчиков на b человек. Сколько мальчиков и девочек в этом классе?\n",
    "\n",
    "Программа должна принимать на вход 1 строку из 2 натуральных чисел, разделённых пробелом.\n",
    "\n",
    "На выходе программа должна выдавать число девочек и число мальчиков (через пробел), либо строку \"Такой класс не существует\"."
   ]
  },
  {
   "cell_type": "code",
   "execution_count": 29,
   "id": "prerequisite-placement",
   "metadata": {},
   "outputs": [
    {
     "name": "stdout",
     "output_type": "stream",
     "text": [
      "Введите a и b\n",
      "20 4\n",
      "12 8\n"
     ]
    }
   ],
   "source": [
    "size = 2\n",
    "matrix  = np.arange(size*(size + 1), dtype = float).reshape(size,size + 1)\n",
    "\n",
    "M1 = np.arange(4).reshape(2,2)\n",
    "v1 = np.arange(2).reshape(2,1)\n",
    "M1 = [[1,1], [1,-1]]\n",
    "\n",
    "print('Введите a и b')\n",
    "x = [int(t) for t in input().split()]\n",
    "v1[0]=x[0]\n",
    "v1[1]=x[1]\n",
    "\n",
    "det = np.linalg.det(M1)\n",
    "if ((det == 0)):\n",
    "    print('Такой класс не существует')\n",
    "else:\n",
    "    r = np.linalg.solve(M1,v1)\n",
    "    if ((r[1]<0) or (r[0]<0) or (r[0]+r[1] <0) or (r[0]%2!=0)):\n",
    "        print('Такой класс не существует')\n",
    "    else:\n",
    "        print(\" \".join(str(int(x)) for x in r))"
   ]
  },
  {
   "cell_type": "code",
   "execution_count": 3,
   "id": "green-friendship",
   "metadata": {},
   "outputs": [
    {
     "name": "stdout",
     "output_type": "stream",
     "text": [
      "20 4\n",
      "12 8\n"
     ]
    }
   ],
   "source": [
    "v = [int(i) for i in input('Введите a и b').split()]\n",
    "M = [[1, 1], [1, -1]]\n",
    "\n",
    "if (v[1] > v[0]) or np.linalg.det(M)==0:\n",
    "    print(\"Такой класс не существует\") \n",
    "else:\n",
    "    r = np.linalg.solve(M,v)\n",
    "    if (sum(map(int,r))==v[0]):\n",
    "        print(*(int(x) for x in r))\n",
    "    else:\n",
    "        print(\"Такой класс не существует\")"
   ]
  },
  {
   "cell_type": "markdown",
   "id": "fossil-newark",
   "metadata": {},
   "source": [
    "# Задача 5 - Найти коэффициенты многочлена\n",
    "\n",
    "Напишите программу, находящую коэффициенты многочлена n-й степени, проходящего через $n+1$ точку:\n",
    "$c_{0}+c_{1}x^{1}+c_{2}x^{2}+\\dots +c_{n}x^{n}$\n",
    "\n",
    "Программа должна принимать на вход в 1й строке натуральное число $M (M=n+1)$ после этого в цикле $M$ строк. Каждая из $M$ строк содержит 2 действительных числа: $x_{i}, y_{i}$ - координаты M точек, через которые проходит график многочлена.\n",
    "\n",
    "На выходе программа должна выдавать через пробел $n+1$ $(n+1=M)$ коэффициент многочлена:\n",
    "$c_{0}, c_{1}, c_{2} \\dots c_{n}$\n",
    "\n",
    "\n",
    "Подсказка. Для этого необходимо решить систему $n+1$ линейных уравнений:\n",
    "\n",
    "$\\left\\{\\begin{matrix} f(x_{1}) = c_{0}+c_{1}x_{1}^{1} +c_{2}x_{1}^{2} + .... +c_{n}x_{1}^{n} \\\\ f(x_{2}) = c_{0}+c_{1}x_{2}^{1} +c_{2}x_{2}^{2} + .... +c_{n}x_{2}^{n} \\\\ ... \\\\ f(x_{n}) = c_{0}+c_{1}x_{n}^{1} +c_{2}x_{n}^{2} + .... +c_{n}x_{n}^{n} \\\\ f(x_{n+1}) = c_{0}+c_{1}x_{n+1}^{1} +c_{2}x_{n+1}^{2} + .... +c_{n}x_{n+1}^{n} \\end{matrix}\\right.$"
   ]
  },
  {
   "cell_type": "code",
   "execution_count": 8,
   "id": "flush-decline",
   "metadata": {},
   "outputs": [
    {
     "name": "stdout",
     "output_type": "stream",
     "text": [
      "6\n",
      "0 1\n",
      "1 1\n",
      "2 25\n",
      "-1 1\n",
      "-2 -23\n",
      "0.5 0.90625\n",
      "1.0 0.0 0.0 -1.0 -0.0 1.0\n"
     ]
    }
   ],
   "source": [
    "import numpy as np\n",
    "import numpy.linalg as la\n",
    "\n",
    "m = int(input())\n",
    "\n",
    "X = np.empty((m, m))\n",
    "y = np.empty(m)\n",
    "\n",
    "for i in range(m):\n",
    "    xi, yi = map(float, input().split())\n",
    "    for j in range(m):\n",
    "        X[i, j] = xi ** j\n",
    "    y[i] = yi\n",
    "\n",
    "c = la.solve(X, y)\n",
    "print(*c)"
   ]
  },
  {
   "cell_type": "markdown",
   "id": "eight-convertible",
   "metadata": {},
   "source": [
    "После завершения задачи 5 вы получили подсказку из списка точек.\n",
    "\n",
    "6 точек: (0,1), (1,1), (2,25), (-1,1), (-2,-23), (0.5,0.90625)\n",
    "\n",
    "Найдите многочлен, проходящий через все эти точки.\n",
    "\n",
    "Постройте график многочлена.\n",
    "\n",
    "Для построения графика используйте модуль matplotlib."
   ]
  },
  {
   "cell_type": "code",
   "execution_count": 16,
   "id": "after-grass",
   "metadata": {},
   "outputs": [
    {
     "data": {
      "image/png": "[encoded data removed]",
      "text/plain": [
       "<Figure size 432x288 with 1 Axes>"
      ]
     },
     "metadata": {
      "needs_background": "light"
     },
     "output_type": "display_data"
    }
   ],
   "source": [
    "import matplotlib.pyplot as plt\n",
    "%matplotlib inline\n",
    "\n",
    "\n",
    "def f(x, c):\n",
    "    return np.sum(c * np.tile(x.reshape(-1, 1), m) ** np.arange(m), axis=1)\n",
    "\n",
    "x = np.arange(-2.5, 2.5, 0.1) #Массив значений аргумента\n",
    "plt.plot(x, f(x, c)) #Построение графика\n",
    "plt.xlabel(r'$x$') #Метка по оси x в формате TeX\n",
    "plt.ylabel(r'$f(x)$') #Метка по оси y в формате TeX\n",
    "plt.grid(True) #Сетка\n",
    "plt.show() #Показать график"
   ]
  }
 ],
 "metadata": {
  "kernelspec": {
   "display_name": "Python 3",
   "language": "python",
   "name": "python3"
  },
  "language_info": {
   "codemirror_mode": {
    "name": "ipython",
    "version": 3
   },
   "file_extension": ".py",
   "mimetype": "text/x-python",
   "name": "python",
   "nbconvert_exporter": "python",
   "pygments_lexer": "ipython3",
   "version": "3.8.5"
  }
 },
 "nbformat": 4,
 "nbformat_minor": 5
}
