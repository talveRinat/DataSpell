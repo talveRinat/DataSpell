{
 "cells": [
  {
   "cell_type": "markdown",
   "metadata": {},
   "source": [
    "# Спектральное разложение\n",
    "\n",
    "Спектральное разложение матрицы — это представление **квадратной** матрицы ${\\displaystyle A}$ в виде произведения трёх матриц, ${\\displaystyle A=V\\Lambda V^{-1}}$, где \n",
    "\n",
    "- ${\\displaystyle V}$ — матрица, столбцы которой являются ортонормированными собственными векторами матрицы ${\\displaystyle A}$, \n",
    "- ${\\displaystyle \\Lambda }$  — диагональная матрица с соответствующими собственными значениями на главной диагонали, \n",
    "- ${\\displaystyle V^{-1}}$ — матрица, обратная матрице ${\\displaystyle V}$.\n",
    "\n",
    "Обозначение из лекций: $X = S^T \\cdot  D \\cdot S$"
   ]
  },
  {
   "cell_type": "code",
   "execution_count": 1,
   "metadata": {},
   "outputs": [
    {
     "data": {
      "text/plain": [
       "array([[ 1.,  2., -1.],\n",
       "       [ 2.,  2.,  5.],\n",
       "       [-1.,  5., -3.]])"
      ]
     },
     "execution_count": 1,
     "metadata": {},
     "output_type": "execute_result"
    }
   ],
   "source": [
    "import numpy as np\n",
    "np.set_printoptions(precision=2, suppress=True)\n",
    "\n",
    "A = np.array([[1.0, 2.0, -1.0],\n",
    "              [2.0, 2.0, 5.0],\n",
    "              [-1.0, 5.0, -3.0]])\n",
    "A"
   ]
  },
  {
   "cell_type": "code",
   "execution_count": 2,
   "metadata": {
    "collapsed": true
   },
   "outputs": [],
   "source": [
    "v, w = np.linalg.eigh(A)"
   ]
  },
  {
   "cell_type": "code",
   "execution_count": 3,
   "metadata": {},
   "outputs": [
    {
     "data": {
      "text/plain": [
       "array([-6.58,  1.15,  5.43])"
      ]
     },
     "execution_count": 3,
     "metadata": {},
     "output_type": "execute_result"
    }
   ],
   "source": [
    "v"
   ]
  },
  {
   "cell_type": "code",
   "execution_count": 4,
   "metadata": {},
   "outputs": [
    {
     "data": {
      "text/plain": [
       "array([[-0.25,  0.93, -0.27],\n",
       "       [ 0.53, -0.11, -0.84],\n",
       "       [-0.81, -0.35, -0.47]])"
      ]
     },
     "execution_count": 4,
     "metadata": {},
     "output_type": "execute_result"
    }
   ],
   "source": [
    "w"
   ]
  },
  {
   "cell_type": "code",
   "execution_count": 5,
   "metadata": {
    "collapsed": true
   },
   "outputs": [],
   "source": [
    "D = np.diag(v)"
   ]
  },
  {
   "cell_type": "code",
   "execution_count": 6,
   "metadata": {},
   "outputs": [
    {
     "data": {
      "text/plain": [
       "array([[-6.58,  0.  ,  0.  ],\n",
       "       [ 0.  ,  1.15,  0.  ],\n",
       "       [ 0.  ,  0.  ,  5.43]])"
      ]
     },
     "execution_count": 6,
     "metadata": {},
     "output_type": "execute_result"
    }
   ],
   "source": [
    "D"
   ]
  },
  {
   "cell_type": "code",
   "execution_count": 7,
   "metadata": {
    "collapsed": true
   },
   "outputs": [],
   "source": [
    "S = w.T"
   ]
  },
  {
   "cell_type": "code",
   "execution_count": 8,
   "metadata": {},
   "outputs": [
    {
     "data": {
      "text/plain": [
       "array([[-0.25,  0.53, -0.81],\n",
       "       [ 0.93, -0.11, -0.35],\n",
       "       [-0.27, -0.84, -0.47]])"
      ]
     },
     "execution_count": 8,
     "metadata": {},
     "output_type": "execute_result"
    }
   ],
   "source": [
    "S"
   ]
  },
  {
   "cell_type": "code",
   "execution_count": 9,
   "metadata": {},
   "outputs": [
    {
     "data": {
      "text/plain": [
       "array([[-0.25,  0.93, -0.27],\n",
       "       [ 0.53, -0.11, -0.84],\n",
       "       [-0.81, -0.35, -0.47]])"
      ]
     },
     "execution_count": 9,
     "metadata": {},
     "output_type": "execute_result"
    }
   ],
   "source": [
    "S.T"
   ]
  },
  {
   "cell_type": "code",
   "execution_count": 10,
   "metadata": {},
   "outputs": [
    {
     "data": {
      "text/plain": [
       "array([[ 1.,  0.,  0.],\n",
       "       [ 0.,  1.,  0.],\n",
       "       [ 0.,  0.,  1.]])"
      ]
     },
     "execution_count": 10,
     "metadata": {},
     "output_type": "execute_result"
    }
   ],
   "source": [
    "np.dot(S.T, S)"
   ]
  },
  {
   "cell_type": "code",
   "execution_count": 11,
   "metadata": {},
   "outputs": [
    {
     "data": {
      "text/plain": [
       "array([[ 1.,  2., -1.],\n",
       "       [ 2.,  2.,  5.],\n",
       "       [-1.,  5., -3.]])"
      ]
     },
     "execution_count": 11,
     "metadata": {},
     "output_type": "execute_result"
    }
   ],
   "source": [
    "np.dot(np.dot(S.T, D), S)"
   ]
  },
  {
   "cell_type": "markdown",
   "metadata": {
    "collapsed": true
   },
   "source": [
    "## Квадратичные формы\n",
    "$$P(x, y, z) = x^2 + 2 y^2 - 3 z^2 + 4 xy + 10 yz - 2 xz$$\n",
    "\n",
    "$$\n",
    "P(x, y, z) =\n",
    "\\left(\n",
    "\\begin{array}{ccc}\n",
    "x & y & z\n",
    "\\end{array}\n",
    "\\right)\n",
    "\\left(\n",
    "\\begin{array}{ccc}\n",
    "1 & 2 & -1 \\\\\n",
    "2 & 2 & 5 \\\\\n",
    "-1 & 5 & -3 \\end{array}\n",
    "\\right)\n",
    "\\left(\n",
    "\\begin{array}{c}\n",
    "x \\\\\n",
    "y \\\\\n",
    "z \\end{array}\n",
    "\\right)\n",
    "$$"
   ]
  },
  {
   "cell_type": "code",
   "execution_count": 12,
   "metadata": {},
   "outputs": [
    {
     "name": "stdout",
     "output_type": "stream",
     "text": [
      "D =\n",
      " [[-6.58  0.    0.  ]\n",
      " [ 0.    1.15  0.  ]\n",
      " [ 0.    0.    5.43]]\n",
      "S=\n",
      " [[-0.25  0.53 -0.81]\n",
      " [ 0.93 -0.11 -0.35]\n",
      " [-0.27 -0.84 -0.47]]\n"
     ]
    }
   ],
   "source": [
    "A = np.array([[1.0, 2.0, -1.0],\n",
    "              [2.0, 2.0, 5.0],\n",
    "              [-1.0, 5.0, -3.0]])\n",
    "v, W = np.linalg.eigh(A)\n",
    "D = np.diag(v)\n",
    "S = W.T\n",
    "\n",
    "print ('D =\\n', D)\n",
    "print ('S=\\n', S)"
   ]
  },
  {
   "cell_type": "markdown",
   "metadata": {},
   "source": [
    "Таким образом,\n",
    "$$P(x, y, z) = -6.58 \\cdot \\tilde{x}^2 + 1.15 \\cdot \\tilde{y}^2 + 5.43 \\cdot \\tilde{z}^2,$$\n",
    "где\n",
    "$$\n",
    "\\left(\n",
    "\\begin{array}{c}\n",
    "\\tilde{x} \\\\\n",
    "\\tilde{y} \\\\\n",
    "\\tilde{z} \\end{array}\n",
    "\\right) =\n",
    "S\n",
    "\\left(\n",
    "\\begin{array}{c}\n",
    "x \\\\\n",
    "y \\\\\n",
    "z \\end{array}\n",
    "\\right),\n",
    "$$ т.е.\n",
    "$$\n",
    "\\tilde{x} = -0.25 x + 0.53 y - 0.81 z,\n",
    "$$\n",
    "$$\n",
    "\\tilde{y} = 0.93 x - 0.11 y - 0.35 z,\n",
    "$$\n",
    "$$\n",
    "\\tilde{z} = -0.27 x - 0.84 y - 0.47 z.\n",
    "$$"
   ]
  },
  {
   "cell_type": "markdown",
   "metadata": {},
   "source": [
    "# Сингулярное разложение\n",
    "\n",
    "Сингулярным разложением матрицы ${\\displaystyle M}$ порядка $m\\times n$ является разложение вида $M=U\\Sigma V^{*}$, где \n",
    "\n",
    "- $\\Sigma$  — матрица размера $m\\times n$ с неотрицательными элементами, у которой элементы, лежащие на главной диагонали — это сингулярные числа (а все элементы, не лежащие на главной диагонали, являются нулевыми), \n",
    "- а матрицы $U$ (порядка $m$) и $V$ (порядка $n$) — это две унитарные матрицы, состоящие из левых и правых сингулярных векторов соответственно (а $V^*$ — это сопряжённо-транспонированная матрица к $V$).\n",
    "\n",
    "\n",
    "Обозначение из лекций: $X = U \\cdot  D \\cdot V$"
   ]
  },
  {
   "cell_type": "code",
   "execution_count": 13,
   "metadata": {},
   "outputs": [
    {
     "data": {
      "text/plain": [
       "array([[ 1,  2,  0],\n",
       "       [ 0,  0,  5],\n",
       "       [ 3, -4,  2],\n",
       "       [ 1,  6,  5],\n",
       "       [ 0,  1,  0]])"
      ]
     },
     "execution_count": 13,
     "metadata": {},
     "output_type": "execute_result"
    }
   ],
   "source": [
    "X = np.array([[1, 2, 0],\n",
    "              [0, 0, 5],\n",
    "              [3, -4, 2],\n",
    "              [1, 6, 5],\n",
    "              [0, 1, 0]])\n",
    "\n",
    "X"
   ]
  },
  {
   "cell_type": "code",
   "execution_count": 14,
   "metadata": {
    "collapsed": true
   },
   "outputs": [],
   "source": [
    "U, s, W = np.linalg.svd(X)"
   ]
  },
  {
   "cell_type": "code",
   "execution_count": 15,
   "metadata": {},
   "outputs": [
    {
     "data": {
      "text/plain": [
       "array([[ 0.17,  0.16, -0.53, -0.8 , -0.16],\n",
       "       [ 0.39, -0.53,  0.61, -0.43,  0.03],\n",
       "       [-0.14, -0.82, -0.52,  0.14,  0.07],\n",
       "       [ 0.89,  0.06, -0.25,  0.38, -0.06],\n",
       "       [ 0.08,  0.11, -0.08, -0.11,  0.98]])"
      ]
     },
     "execution_count": 15,
     "metadata": {},
     "output_type": "execute_result"
    }
   ],
   "source": [
    "U"
   ]
  },
  {
   "cell_type": "code",
   "execution_count": 16,
   "metadata": {},
   "outputs": [
    {
     "data": {
      "text/plain": [
       "array([[ 0.07,  0.72,  0.69],\n",
       "       [-0.37,  0.67, -0.65],\n",
       "       [-0.93, -0.21,  0.31]])"
      ]
     },
     "execution_count": 16,
     "metadata": {},
     "output_type": "execute_result"
    }
   ],
   "source": [
    "W"
   ]
  },
  {
   "cell_type": "code",
   "execution_count": 17,
   "metadata": {},
   "outputs": [
    {
     "data": {
      "text/plain": [
       "array([[ 0.07, -0.37, -0.93],\n",
       "       [ 0.72,  0.67, -0.21],\n",
       "       [ 0.69, -0.65,  0.31]])"
      ]
     },
     "execution_count": 17,
     "metadata": {},
     "output_type": "execute_result"
    }
   ],
   "source": [
    "V = W.T\n",
    "V"
   ]
  },
  {
   "cell_type": "code",
   "execution_count": 18,
   "metadata": {},
   "outputs": [
    {
     "data": {
      "text/plain": [
       "array([ 8.82,  6.14,  2.53])"
      ]
     },
     "execution_count": 18,
     "metadata": {},
     "output_type": "execute_result"
    }
   ],
   "source": [
    "s"
   ]
  },
  {
   "cell_type": "code",
   "execution_count": 19,
   "metadata": {},
   "outputs": [
    {
     "data": {
      "text/plain": [
       "array([[ 0.,  0.,  0.],\n",
       "       [ 0.,  0.,  0.],\n",
       "       [ 0.,  0.,  0.],\n",
       "       [ 0.,  0.,  0.],\n",
       "       [ 0.,  0.,  0.]])"
      ]
     },
     "execution_count": 19,
     "metadata": {},
     "output_type": "execute_result"
    }
   ],
   "source": [
    "D = np.zeros_like(X, dtype=float)\n",
    "D"
   ]
  },
  {
   "cell_type": "code",
   "execution_count": 20,
   "metadata": {},
   "outputs": [
    {
     "data": {
      "text/plain": [
       "array([[ 8.82,  0.  ,  0.  ],\n",
       "       [ 0.  ,  6.14,  0.  ],\n",
       "       [ 0.  ,  0.  ,  2.53],\n",
       "       [ 0.  ,  0.  ,  0.  ],\n",
       "       [ 0.  ,  0.  ,  0.  ]])"
      ]
     },
     "execution_count": 20,
     "metadata": {},
     "output_type": "execute_result"
    }
   ],
   "source": [
    "D[np.diag_indices(min(X.shape))] = s\n",
    "D"
   ]
  },
  {
   "cell_type": "code",
   "execution_count": 21,
   "metadata": {},
   "outputs": [
    {
     "data": {
      "text/plain": [
       "array([[ 1.,  0., -0., -0., -0.],\n",
       "       [ 0.,  1.,  0., -0.,  0.],\n",
       "       [-0.,  0.,  1., -0., -0.],\n",
       "       [-0., -0., -0.,  1., -0.],\n",
       "       [-0.,  0., -0., -0.,  1.]])"
      ]
     },
     "execution_count": 21,
     "metadata": {},
     "output_type": "execute_result"
    }
   ],
   "source": [
    "np.dot(U.T, U)"
   ]
  },
  {
   "cell_type": "code",
   "execution_count": 22,
   "metadata": {},
   "outputs": [
    {
     "data": {
      "text/plain": [
       "array([[ 1.,  0.,  0.],\n",
       "       [ 0.,  1., -0.],\n",
       "       [ 0., -0.,  1.]])"
      ]
     },
     "execution_count": 22,
     "metadata": {},
     "output_type": "execute_result"
    }
   ],
   "source": [
    "np.dot(V.T, V)"
   ]
  },
  {
   "cell_type": "code",
   "execution_count": 23,
   "metadata": {},
   "outputs": [
    {
     "data": {
      "text/plain": [
       "array([[ 1.,  2.,  0.],\n",
       "       [ 0., -0.,  5.],\n",
       "       [ 3., -4.,  2.],\n",
       "       [ 1.,  6.,  5.],\n",
       "       [-0.,  1.,  0.]])"
      ]
     },
     "execution_count": 23,
     "metadata": {},
     "output_type": "execute_result"
    }
   ],
   "source": [
    "np.dot(np.dot(U, D), V.T)"
   ]
  },
  {
   "cell_type": "markdown",
   "metadata": {},
   "source": [
    "# Связь между спектральным и сингулярным разложениями"
   ]
  },
  {
   "cell_type": "code",
   "execution_count": 24,
   "metadata": {},
   "outputs": [
    {
     "data": {
      "text/plain": [
       "array([[ 1.,  2., -1.],\n",
       "       [ 2.,  2.,  5.],\n",
       "       [-1.,  5., -3.]])"
      ]
     },
     "execution_count": 24,
     "metadata": {},
     "output_type": "execute_result"
    }
   ],
   "source": [
    "A = np.array([[1.0, 2.0, -1.0],\n",
    "              [2.0, 2.0, 5.0],\n",
    "              [-1.0, 5.0, -3.0]])\n",
    "A"
   ]
  },
  {
   "cell_type": "markdown",
   "metadata": {},
   "source": [
    "Спектральное разложение:"
   ]
  },
  {
   "cell_type": "code",
   "execution_count": 26,
   "metadata": {},
   "outputs": [
    {
     "name": "stdout",
     "output_type": "stream",
     "text": [
      "[[-0.25  0.93 -0.27]\n",
      " [ 0.53 -0.11 -0.84]\n",
      " [-0.81 -0.35 -0.47]]\n",
      "\n",
      "[[-6.58  0.    0.  ]\n",
      " [ 0.    1.15  0.  ]\n",
      " [ 0.    0.    5.43]]\n",
      "\n",
      "[[-0.25  0.53 -0.81]\n",
      " [ 0.93 -0.11 -0.35]\n",
      " [-0.27 -0.84 -0.47]]\n"
     ]
    }
   ],
   "source": [
    "v, w = np.linalg.eigh(A)\n",
    "D_sp = np.diag(v)\n",
    "S_sp = w.T\n",
    "\n",
    "print(S_sp.T, D_sp, S_sp, sep='\\n\\n')"
   ]
  },
  {
   "cell_type": "code",
   "execution_count": 27,
   "metadata": {},
   "outputs": [
    {
     "data": {
      "text/plain": [
       "array([[ 1.,  2., -1.],\n",
       "       [ 2.,  2.,  5.],\n",
       "       [-1.,  5., -3.]])"
      ]
     },
     "execution_count": 27,
     "metadata": {},
     "output_type": "execute_result"
    }
   ],
   "source": [
    "np.dot(np.dot(S_sp.T, D_sp), S_sp)"
   ]
  },
  {
   "cell_type": "markdown",
   "metadata": {},
   "source": [
    "Сингулярное разложение:"
   ]
  },
  {
   "cell_type": "code",
   "execution_count": 28,
   "metadata": {},
   "outputs": [
    {
     "name": "stdout",
     "output_type": "stream",
     "text": [
      "[[ 0.25 -0.27  0.93]\n",
      " [-0.53 -0.84 -0.11]\n",
      " [ 0.81 -0.47 -0.35]]\n",
      "\n",
      "[[ 6.58  0.    0.  ]\n",
      " [ 0.    5.43  0.  ]\n",
      " [ 0.    0.    1.15]]\n",
      "\n",
      "[[-0.25  0.53 -0.81]\n",
      " [-0.27 -0.84 -0.47]\n",
      " [ 0.93 -0.11 -0.35]]\n"
     ]
    }
   ],
   "source": [
    "U_sin, s, W = np.linalg.svd(A)\n",
    "D_sin = np.zeros_like(A, dtype=float)\n",
    "D_sin[np.diag_indices(min(A.shape))] = s\n",
    "\n",
    "V_sin = W.T\n",
    "\n",
    "print(U_sin, D_sin, V_sin.T, sep='\\n\\n')"
   ]
  },
  {
   "cell_type": "code",
   "execution_count": 29,
   "metadata": {},
   "outputs": [
    {
     "data": {
      "text/plain": [
       "array([[ 1.,  2., -1.],\n",
       "       [ 2.,  2.,  5.],\n",
       "       [-1.,  5., -3.]])"
      ]
     },
     "execution_count": 29,
     "metadata": {},
     "output_type": "execute_result"
    }
   ],
   "source": [
    "np.dot(np.dot(U_sin, D_sin), V_sin.T)"
   ]
  },
  {
   "cell_type": "code",
   "execution_count": null,
   "metadata": {
    "collapsed": true
   },
   "outputs": [],
   "source": []
  }
 ],
 "metadata": {
  "kernelspec": {
   "display_name": "Python 3",
   "language": "python",
   "name": "python3"
  },
  "language_info": {
   "codemirror_mode": {
    "name": "ipython",
    "version": 3
   },
   "file_extension": ".py",
   "mimetype": "text/x-python",
   "name": "python",
   "nbconvert_exporter": "python",
   "pygments_lexer": "ipython3",
   "version": "3.8.5"
  }
 },
 "nbformat": 4,
 "nbformat_minor": 1
}