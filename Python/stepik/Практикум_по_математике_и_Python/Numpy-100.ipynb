{
 "cells": [
  {
   "cell_type": "code",
   "execution_count": 1,
   "id": "under-aircraft",
   "metadata": {},
   "outputs": [],
   "source": [
    "import numpy as np"
   ]
  },
  {
   "cell_type": "code",
   "execution_count": 2,
   "id": "surface-warrior",
   "metadata": {},
   "outputs": [
    {
     "name": "stdout",
     "output_type": "stream",
     "text": [
      "blas_mkl_info:\n",
      "    libraries = ['mkl_rt', 'pthread']\n",
      "    library_dirs = ['/Users/talverinat/.conda/envs/pythonProject/lib']\n",
      "    define_macros = [('SCIPY_MKL_H', None), ('HAVE_CBLAS', None)]\n",
      "    include_dirs = ['/Users/talverinat/.conda/envs/pythonProject/include']\n",
      "blas_opt_info:\n",
      "    libraries = ['mkl_rt', 'pthread']\n",
      "    library_dirs = ['/Users/talverinat/.conda/envs/pythonProject/lib']\n",
      "    define_macros = [('SCIPY_MKL_H', None), ('HAVE_CBLAS', None)]\n",
      "    include_dirs = ['/Users/talverinat/.conda/envs/pythonProject/include']\n",
      "lapack_mkl_info:\n",
      "    libraries = ['mkl_rt', 'pthread']\n",
      "    library_dirs = ['/Users/talverinat/.conda/envs/pythonProject/lib']\n",
      "    define_macros = [('SCIPY_MKL_H', None), ('HAVE_CBLAS', None)]\n",
      "    include_dirs = ['/Users/talverinat/.conda/envs/pythonProject/include']\n",
      "lapack_opt_info:\n",
      "    libraries = ['mkl_rt', 'pthread']\n",
      "    library_dirs = ['/Users/talverinat/.conda/envs/pythonProject/lib']\n",
      "    define_macros = [('SCIPY_MKL_H', None), ('HAVE_CBLAS', None)]\n",
      "    include_dirs = ['/Users/talverinat/.conda/envs/pythonProject/include']\n"
     ]
    }
   ],
   "source": [
    "np.show_config()"
   ]
  },
  {
   "cell_type": "code",
   "execution_count": 4,
   "id": "young-venice",
   "metadata": {},
   "outputs": [
    {
     "name": "stdout",
     "output_type": "stream",
     "text": [
      "1.19.2\n"
     ]
    }
   ],
   "source": [
    "print(np.__version__)"
   ]
  },
  {
   "cell_type": "markdown",
   "id": "solar-edinburgh",
   "metadata": {},
   "source": [
    "# 3\n",
    "Считайте число n\n",
    "\n",
    "Создайте в переменной Z Numpy вектор из нулей длины n."
   ]
  },
  {
   "cell_type": "code",
   "execution_count": 5,
   "id": "driven-escape",
   "metadata": {},
   "outputs": [
    {
     "name": "stdout",
     "output_type": "stream",
     "text": [
      "5\n",
      "[0. 0. 0. 0. 0.]\n"
     ]
    }
   ],
   "source": [
    "n = int(input())\n",
    "Z = np.zeros(n)\n",
    "print(Z)"
   ]
  },
  {
   "cell_type": "markdown",
   "id": "forced-executive",
   "metadata": {},
   "source": [
    "# 3.1\n",
    "\n",
    "Считайте строку, где значения заданы через пробел shape и dtype\n",
    "\n",
    "Последнее значение в строке может быть либо числом (тогда это последнее значение кортежа shape, либо строкой dtype)\n",
    "\n",
    "- shape - атрибут, задающий размеры матрицы нолей (позволяет вернуть вектор-строку, вектор-столбец, матрицу, куб и т.д.)\n",
    "- dtype - тип данных, использующихся для значений матрицы. По-умолчанию используется numpy.float64.\n",
    "\n",
    "Создайте матрицу Z размера shape, со значениями типа dtype (если dtype не указан, используйте numpy.float64)\n",
    "\n",
    "- 5\n",
    "- 2 3 bool\n",
    "- 4 int"
   ]
  },
  {
   "cell_type": "code",
   "execution_count": 60,
   "id": "technological-kenya",
   "metadata": {},
   "outputs": [],
   "source": [
    "n = input().split()\n",
    "\n",
    "if n[-1].isdigit() == False:\n",
    "    d_type = n[-1]\n",
    "    shape = [int(i) for i in n[:len(n)-1]]\n",
    "else:\n",
    "    shape = [int(i) for i in n]\n",
    "    d_type = np.float64\n",
    "    \n",
    "Z = np.zeros(shape=shape, dtype = d_type)"
   ]
  },
  {
   "cell_type": "code",
   "execution_count": 65,
   "id": "prepared-allergy",
   "metadata": {},
   "outputs": [
    {
     "name": "stdout",
     "output_type": "stream",
     "text": [
      "4 int\n"
     ]
    }
   ],
   "source": [
    "args = input().split()\n",
    "\n",
    "try:\n",
    "    Z = np.zeros(tuple(map(int, args)))\n",
    "except ValueError:\n",
    "    Z = np.zeros(tuple(map(int, args[:-1])), args[-1])"
   ]
  },
  {
   "cell_type": "code",
   "execution_count": null,
   "id": "rocky-zimbabwe",
   "metadata": {},
   "outputs": [],
   "source": [
    "params = input().split()\n",
    "t = 'float64' if params[-1].isdigit() else params.pop()\n",
    "Z = np.zeros(tuple(map(int, params)), dtype=t)"
   ]
  },
  {
   "cell_type": "markdown",
   "id": "detected-pride",
   "metadata": {},
   "source": [
    "# 4\n",
    "\n",
    "Посчитайте размер матрицы Z в байтах и выведите его на печать.\n",
    "\n",
    "Чтобы узнать размер (в байтах) 1 элемента матрицы используйте атрибут https://docs.scipy.org/doc/numpy-1.15.1/reference/generated/numpy.ndarray.itemsize.html"
   ]
  },
  {
   "cell_type": "code",
   "execution_count": 69,
   "id": "incorporated-private",
   "metadata": {},
   "outputs": [],
   "source": [
    "Z = np.zeros((10,10))\n",
    "# Z = np.array([1,2,3], dtype=np.float64)"
   ]
  },
  {
   "cell_type": "code",
   "execution_count": 70,
   "id": "attached-hindu",
   "metadata": {},
   "outputs": [
    {
     "name": "stdout",
     "output_type": "stream",
     "text": [
      "800\n",
      "800\n",
      "800\n"
     ]
    }
   ],
   "source": [
    "print(Z.itemsize*Z.size)\n",
    "print(np.prod(Z.shape) * Z.itemsize)\n",
    "print(Z.nbytes)"
   ]
  },
  {
   "cell_type": "markdown",
   "id": "floral-spending",
   "metadata": {},
   "source": [
    "# 5\n",
    "\n",
    "Выведите на печать встроенную документацию для функции add numpy, а потом объекта numpy.array."
   ]
  },
  {
   "cell_type": "code",
   "execution_count": 75,
   "id": "comprehensive-likelihood",
   "metadata": {},
   "outputs": [
    {
     "name": "stdout",
     "output_type": "stream",
     "text": [
      "add(x1, x2, /, out=None, *, where=True, casting='same_kind', order='K', dtype=None, subok=True[, signature, extobj])\n",
      "\n",
      "Add arguments element-wise.\n",
      "\n",
      "Parameters\n",
      "----------\n",
      "x1, x2 : array_like\n",
      "    The arrays to be added.\n",
      "    If ``x1.shape != x2.shape``, they must be broadcastable to a common\n",
      "    shape (which becomes the shape of the output).\n",
      "out : ndarray, None, or tuple of ndarray and None, optional\n",
      "    A location into which the result is stored. If provided, it must have\n",
      "    a shape that the inputs broadcast to. If not provided or None,\n",
      "    a freshly-allocated array is returned. A tuple (possible only as a\n",
      "    keyword argument) must have length equal to the number of outputs.\n",
      "where : array_like, optional\n",
      "    This condition is broadcast over the input. At locations where the\n",
      "    condition is True, the `out` array will be set to the ufunc result.\n",
      "    Elsewhere, the `out` array will retain its original value.\n",
      "    Note that if an uninitialized `out` array is created via the default\n",
      "    ``out=None``, locations within it where the condition is False will\n",
      "    remain uninitialized.\n",
      "**kwargs\n",
      "    For other keyword-only arguments, see the\n",
      "    :ref:`ufunc docs <ufuncs.kwargs>`.\n",
      "\n",
      "Returns\n",
      "-------\n",
      "add : ndarray or scalar\n",
      "    The sum of `x1` and `x2`, element-wise.\n",
      "    This is a scalar if both `x1` and `x2` are scalars.\n",
      "\n",
      "Notes\n",
      "-----\n",
      "Equivalent to `x1` + `x2` in terms of array broadcasting.\n",
      "\n",
      "Examples\n",
      "--------\n",
      ">>> np.add(1.0, 4.0)\n",
      "5.0\n",
      ">>> x1 = np.arange(9.0).reshape((3, 3))\n",
      ">>> x2 = np.arange(3.0)\n",
      ">>> np.add(x1, x2)\n",
      "array([[  0.,   2.,   4.],\n",
      "       [  3.,   5.,   7.],\n",
      "       [  6.,   8.,  10.]])\n",
      "array(object, dtype=None, *, copy=True, order='K', subok=False, ndmin=0)\n",
      "\n",
      "Create an array.\n",
      "\n",
      "Parameters\n",
      "----------\n",
      "object : array_like\n",
      "    An array, any object exposing the array interface, an object whose\n",
      "    __array__ method returns an array, or any (nested) sequence.\n",
      "dtype : data-type, optional\n",
      "    The desired data-type for the array.  If not given, then the type will\n",
      "    be determined as the minimum type required to hold the objects in the\n",
      "    sequence.\n",
      "copy : bool, optional\n",
      "    If true (default), then the object is copied.  Otherwise, a copy will\n",
      "    only be made if __array__ returns a copy, if obj is a nested sequence,\n",
      "    or if a copy is needed to satisfy any of the other requirements\n",
      "    (`dtype`, `order`, etc.).\n",
      "order : {'K', 'A', 'C', 'F'}, optional\n",
      "    Specify the memory layout of the array. If object is not an array, the\n",
      "    newly created array will be in C order (row major) unless 'F' is\n",
      "    specified, in which case it will be in Fortran order (column major).\n",
      "    If object is an array the following holds.\n",
      "\n",
      "    ===== ========= ===================================================\n",
      "    order  no copy                     copy=True\n",
      "    ===== ========= ===================================================\n",
      "    'K'   unchanged F & C order preserved, otherwise most similar order\n",
      "    'A'   unchanged F order if input is F and not C, otherwise C order\n",
      "    'C'   C order   C order\n",
      "    'F'   F order   F order\n",
      "    ===== ========= ===================================================\n",
      "\n",
      "    When ``copy=False`` and a copy is made for other reasons, the result is\n",
      "    the same as if ``copy=True``, with some exceptions for `A`, see the\n",
      "    Notes section. The default order is 'K'.\n",
      "subok : bool, optional\n",
      "    If True, then sub-classes will be passed-through, otherwise\n",
      "    the returned array will be forced to be a base-class array (default).\n",
      "ndmin : int, optional\n",
      "    Specifies the minimum number of dimensions that the resulting\n",
      "    array should have.  Ones will be pre-pended to the shape as\n",
      "    needed to meet this requirement.\n",
      "\n",
      "Returns\n",
      "-------\n",
      "out : ndarray\n",
      "    An array object satisfying the specified requirements.\n",
      "\n",
      "See Also\n",
      "--------\n",
      "empty_like : Return an empty array with shape and type of input.\n",
      "ones_like : Return an array of ones with shape and type of input.\n",
      "zeros_like : Return an array of zeros with shape and type of input.\n",
      "full_like : Return a new array with shape of input filled with value.\n",
      "empty : Return a new uninitialized array.\n",
      "ones : Return a new array setting values to one.\n",
      "zeros : Return a new array setting values to zero.\n",
      "full : Return a new array of given shape filled with value.\n",
      "\n",
      "\n",
      "Notes\n",
      "-----\n",
      "When order is 'A' and `object` is an array in neither 'C' nor 'F' order,\n",
      "and a copy is forced by a change in dtype, then the order of the result is\n",
      "not necessarily 'C' as expected. This is likely a bug.\n",
      "\n",
      "Examples\n",
      "--------\n",
      ">>> np.array([1, 2, 3])\n",
      "array([1, 2, 3])\n",
      "\n",
      "Upcasting:\n",
      "\n",
      ">>> np.array([1, 2, 3.0])\n",
      "array([ 1.,  2.,  3.])\n",
      "\n",
      "More than one dimension:\n",
      "\n",
      ">>> np.array([[1, 2], [3, 4]])\n",
      "array([[1, 2],\n",
      "       [3, 4]])\n",
      "\n",
      "Minimum dimensions 2:\n",
      "\n",
      ">>> np.array([1, 2, 3], ndmin=2)\n",
      "array([[1, 2, 3]])\n",
      "\n",
      "Type provided:\n",
      "\n",
      ">>> np.array([1, 2, 3], dtype=complex)\n",
      "array([ 1.+0.j,  2.+0.j,  3.+0.j])\n",
      "\n",
      "Data-type consisting of more than one element:\n",
      "\n",
      ">>> x = np.array([(1,2),(3,4)],dtype=[('a','<i4'),('b','<i4')])\n",
      ">>> x['a']\n",
      "array([1, 3])\n",
      "\n",
      "Creating an array from sub-classes:\n",
      "\n",
      ">>> np.array(np.mat('1 2; 3 4'))\n",
      "array([[1, 2],\n",
      "       [3, 4]])\n",
      "\n",
      ">>> np.array(np.mat('1 2; 3 4'), subok=True)\n",
      "matrix([[1, 2],\n",
      "        [3, 4]])\n"
     ]
    }
   ],
   "source": [
    "np.info(np.add)\n",
    "np.info(np.array)"
   ]
  },
  {
   "cell_type": "markdown",
   "id": "imperial-specialist",
   "metadata": {},
   "source": [
    "# 6\n",
    "\n",
    "Считайте 2 числа:\n",
    "\n",
    "- n - размер Numpy вектора \n",
    "- x - координата элемента вектора, который должен быть равен 1. Остальные элементы вектора должны быть равны 0.\n",
    "\n",
    "Сохраните вектор в переменную Z.\n",
    "\n",
    "n = 10\n",
    "x = 4"
   ]
  },
  {
   "cell_type": "code",
   "execution_count": 76,
   "id": "lasting-journey",
   "metadata": {},
   "outputs": [
    {
     "name": "stdout",
     "output_type": "stream",
     "text": [
      "10\n",
      "4\n"
     ]
    },
    {
     "data": {
      "text/plain": [
       "array([0., 0., 0., 0., 1., 0., 0., 0., 0., 0.])"
      ]
     },
     "execution_count": 76,
     "metadata": {},
     "output_type": "execute_result"
    }
   ],
   "source": [
    "n = int(input())\n",
    "x = int(input())\n",
    "Z = np.zeros(n)\n",
    "Z[x] = 1"
   ]
  },
  {
   "cell_type": "code",
   "execution_count": 77,
   "id": "sixth-blanket",
   "metadata": {},
   "outputs": [
    {
     "name": "stdout",
     "output_type": "stream",
     "text": [
      "10\n",
      "4\n"
     ]
    }
   ],
   "source": [
    "Z = np.zeros(int(input()))\n",
    "Z[int(input())] = 1"
   ]
  },
  {
   "cell_type": "markdown",
   "id": "valuable-island",
   "metadata": {},
   "source": [
    "# 7\n",
    "\n",
    "Считайте 2 числа n, m.\n",
    "\n",
    "Создайте вектор Z состоящий из чисел от n до m с шагом 1.\n",
    "\n",
    "n = 10 \n",
    "\n",
    "m = 50"
   ]
  },
  {
   "cell_type": "code",
   "execution_count": 78,
   "id": "adult-doctrine",
   "metadata": {},
   "outputs": [
    {
     "name": "stdout",
     "output_type": "stream",
     "text": [
      "10\n",
      "50\n"
     ]
    },
    {
     "data": {
      "text/plain": [
       "array([10, 11, 12, 13, 14, 15, 16, 17, 18, 19, 20, 21, 22, 23, 24, 25, 26,\n",
       "       27, 28, 29, 30, 31, 32, 33, 34, 35, 36, 37, 38, 39, 40, 41, 42, 43,\n",
       "       44, 45, 46, 47, 48, 49, 50])"
      ]
     },
     "execution_count": 78,
     "metadata": {},
     "output_type": "execute_result"
    }
   ],
   "source": [
    "n, m = int(input()), int(input())\n",
    "Z = np.array(range(n, m+1))"
   ]
  },
  {
   "cell_type": "code",
   "execution_count": null,
   "id": "accompanied-formation",
   "metadata": {},
   "outputs": [],
   "source": [
    "Z = np.arange(int(input()), int(input()) + 1)"
   ]
  },
  {
   "cell_type": "markdown",
   "id": "seven-heritage",
   "metadata": {},
   "source": [
    "# 8\n",
    "\n",
    "Дан вектор Z\n",
    "\n",
    "\"Разверните\" его."
   ]
  },
  {
   "cell_type": "code",
   "execution_count": 79,
   "id": "bridal-chosen",
   "metadata": {},
   "outputs": [
    {
     "data": {
      "text/plain": [
       "array([4, 3, 2, 1])"
      ]
     },
     "execution_count": 79,
     "metadata": {},
     "output_type": "execute_result"
    }
   ],
   "source": [
    "Z = np.array([1, 2, 3, 4])\n",
    "Z = Z[::-1]\n",
    "Z"
   ]
  },
  {
   "cell_type": "code",
   "execution_count": 80,
   "id": "naval-hammer",
   "metadata": {},
   "outputs": [],
   "source": [
    "Z = np.flip(Z, 0)"
   ]
  },
  {
   "cell_type": "code",
   "execution_count": 81,
   "id": "deadly-ultimate",
   "metadata": {},
   "outputs": [
    {
     "data": {
      "text/plain": [
       "array([1, 2, 3, 4])"
      ]
     },
     "execution_count": 81,
     "metadata": {},
     "output_type": "execute_result"
    }
   ],
   "source": [
    "Z"
   ]
  },
  {
   "cell_type": "markdown",
   "id": "differential-spiritual",
   "metadata": {},
   "source": [
    "# 9 \n",
    "\n",
    "Считайте 3 числа:\n",
    "\n",
    "- n - количество элементов матрицы\n",
    "- m и k - размеры матрицы (число строк и столбцов соответственно)\n",
    "\n",
    "Заполните матрицу Z числами от 0 до n-1 по порядку (сперва строки, потом столбцы).\n",
    "\n",
    "Гарантируется, что m*k = n, т.е. все элементы \"влезут\" в матрицу и не останется пустых мест."
   ]
  },
  {
   "cell_type": "code",
   "execution_count": 90,
   "id": "traditional-ebony",
   "metadata": {},
   "outputs": [
    {
     "name": "stdout",
     "output_type": "stream",
     "text": [
      "6\n",
      "2 3\n"
     ]
    }
   ],
   "source": [
    "n = int(input())\n",
    "m, k = map(int,input().split())\n",
    "\n",
    "Z = np.arange(n).reshape((m, k))"
   ]
  },
  {
   "cell_type": "code",
   "execution_count": 91,
   "id": "under-history",
   "metadata": {},
   "outputs": [
    {
     "data": {
      "text/plain": [
       "array([[0, 1, 2],\n",
       "       [3, 4, 5]])"
      ]
     },
     "execution_count": 91,
     "metadata": {},
     "output_type": "execute_result"
    }
   ],
   "source": [
    "Z"
   ]
  },
  {
   "cell_type": "markdown",
   "id": "numeric-gather",
   "metadata": {},
   "source": [
    "# 10.1\n",
    "\n",
    "Дан вектор Z\n",
    "\n",
    "Запишите в переменную NonZerros индексы ненулевых элементов.\n",
    "\n",
    "Используйте функцию https://numpy.org/doc/stable/reference/generated/numpy.nonzero.html?highlight=nonzero#numpy.nonzero"
   ]
  },
  {
   "cell_type": "code",
   "execution_count": 95,
   "id": "close-retailer",
   "metadata": {},
   "outputs": [
    {
     "data": {
      "text/plain": [
       "(array([0, 2, 4, 6]),)"
      ]
     },
     "execution_count": 95,
     "metadata": {},
     "output_type": "execute_result"
    }
   ],
   "source": [
    "Z = np.array([1, 0, 2, 0, 3, 0, 4])\n",
    "NonZerros = np.nonzero(Z)"
   ]
  },
  {
   "cell_type": "markdown",
   "id": "daily-survey",
   "metadata": {},
   "source": [
    "# 10.2\n",
    "\n",
    "Дана матрица чисел Z (Z может быть 1, 2 или даже 3 мерной).\n",
    "\n",
    "Выведите на печать список чисел из этой матрицы, которые больше 3."
   ]
  },
  {
   "cell_type": "code",
   "execution_count": 98,
   "id": "subsequent-carbon",
   "metadata": {},
   "outputs": [
    {
     "name": "stdout",
     "output_type": "stream",
     "text": [
      "[4]\n",
      "[4, 5, 6, 7, 8, 9, 9]\n",
      "[4, 5, 7, 8]\n"
     ]
    }
   ],
   "source": [
    "Z = np.array([1, 2, 3, 4])\n",
    "Z2 = np.array([[1, 2, 3],\n",
    "          [4, 5, 6],\n",
    "          [7, 8, 9],\n",
    "          [0, 0, 9]])\n",
    "Z3 = np.array([[[1, 2],\n",
    "               [4, 5]],\n",
    "              [[7, 8],\n",
    "               [0, 0]]])\n",
    "\n",
    "print(list(Z[Z>3]))\n",
    "print(list(Z2[Z2>3]))\n",
    "print(list(Z3[Z3>3]))"
   ]
  },
  {
   "cell_type": "markdown",
   "id": "solar-award",
   "metadata": {},
   "source": [
    "# 11\n",
    "\n",
    "Считайте число n\n",
    "\n",
    "Создайте единичную матрицу размера n, сохраните результат в переменную Z.\n",
    "\n",
    "https://numpy.org/doc/stable/reference/generated/numpy.eye.html?highlight=numpy%20eye#numpy.eye"
   ]
  },
  {
   "cell_type": "code",
   "execution_count": 101,
   "id": "right-marks",
   "metadata": {},
   "outputs": [
    {
     "name": "stdout",
     "output_type": "stream",
     "text": [
      "3\n"
     ]
    },
    {
     "data": {
      "text/plain": [
       "array([[1., 0., 0.],\n",
       "       [0., 1., 0.],\n",
       "       [0., 0., 1.]])"
      ]
     },
     "execution_count": 101,
     "metadata": {},
     "output_type": "execute_result"
    }
   ],
   "source": [
    "n = int(input())\n",
    "Z = np.eye(n)\n",
    "Z"
   ]
  },
  {
   "cell_type": "markdown",
   "id": "activated-kelly",
   "metadata": {},
   "source": [
    "# 12\n",
    "\n",
    "Считайте 3 числа: n, m, l.\n",
    "\n",
    "Зафиксируйте значение генератора случайных чисел Numpy с помощью\n",
    "\n",
    "numpy.random.seed(42)\n",
    "\n",
    "Создайте матрицу n*m*l из случайных чисел (от 0 до 1) и сохраните результат в переменную Z."
   ]
  },
  {
   "cell_type": "code",
   "execution_count": 104,
   "id": "desperate-permission",
   "metadata": {},
   "outputs": [
    {
     "data": {
      "text/plain": [
       "array([[[0.37454012, 0.95071431],\n",
       "        [0.73199394, 0.59865848]],\n",
       "\n",
       "       [[0.15601864, 0.15599452],\n",
       "        [0.05808361, 0.86617615]]])"
      ]
     },
     "execution_count": 104,
     "metadata": {},
     "output_type": "execute_result"
    }
   ],
   "source": [
    "np.random.seed(42)\n",
    "n, m, l = map(int,input().split())\n",
    "Z = np.random.random_sample((n, m, l))"
   ]
  },
  {
   "cell_type": "markdown",
   "id": "medieval-mattress",
   "metadata": {},
   "source": [
    "# 13\n",
    "\n",
    "Считайте 2 числа: n, m.\n",
    "\n",
    "Зафиксируйте значение генератора случайных чисел Numpy с помощью\n",
    "\n",
    "numpy.random.seed(42)\n",
    "\n",
    "Создайте матрицу n*m из случайных чисел (от 0 до 1).\n",
    "Выведите на печать значение минимального и максимального чисел в получившейся матрице (каждое с новой строки)."
   ]
  },
  {
   "cell_type": "code",
   "execution_count": 107,
   "id": "artistic-psychiatry",
   "metadata": {},
   "outputs": [
    {
     "name": "stdout",
     "output_type": "stream",
     "text": [
      "2 6\n",
      "0.020584494295802447\n",
      "0.9699098521619943\n"
     ]
    }
   ],
   "source": [
    "n, m = map(int, input().split())\n",
    "np.random.seed(42)\n",
    "Z = np.random.random_sample((n, m))\n",
    "print(np.min(Z))\n",
    "print(np.max(Z))"
   ]
  },
  {
   "cell_type": "markdown",
   "id": "deadly-distributor",
   "metadata": {},
   "source": [
    "# 14\n",
    "\n",
    "Считайте 2 числа: n, m.\n",
    "\n",
    "Зафиксируйте значение генератора случайных чисел Numpy с помощью\n",
    "\n",
    "numpy.random.seed(42)\n",
    "\n",
    "Создайте матрицу n*m из случайных чисел (от 0 до 1).\n",
    "Выведите на печать значение среднего для всей матрицы."
   ]
  },
  {
   "cell_type": "code",
   "execution_count": 108,
   "id": "interesting-transportation",
   "metadata": {},
   "outputs": [
    {
     "name": "stdout",
     "output_type": "stream",
     "text": [
      "30 30\n",
      "0.4923750160905882\n"
     ]
    }
   ],
   "source": [
    "n, m = map(int, input().split())\n",
    "np.random.seed(42)\n",
    "Z = np.random.random_sample((n, m))\n",
    "print(np.mean(Z))"
   ]
  },
  {
   "cell_type": "markdown",
   "id": "pressed-federation",
   "metadata": {},
   "source": [
    "# 14.2\n",
    "\n",
    "Считайте 2 числа: n, m.\n",
    "\n",
    "Зафиксируйте значение генератора случайных чисел Numpy с помощью\n",
    "\n",
    "numpy.random.seed(42)\n",
    "\n",
    "Создайте матрицу n*m из случайных чисел (от 0 до 1).\n",
    "Найдите среднее значение для каждого из столбцов.\n",
    "Выведите на печать значение минимального и максимального среднего по столбцам (каждое с новой строки).\n",
    "\n",
    "ПРИМЕР\n",
    "\n",
    "[Image: https://ucarecdn.com/3365e7de-3640-463c-8e48-3bc4a0668413/]\n",
    "\n",
    "- 0.15, 0.55 и 0.88 - средние значения по столбцам.\n",
    "- 0.15 - минимальное среднее\n",
    "- 0.88 - максимальное среднее\n",
    "\n",
    "\n",
    "Используйте атрибут axis функции https://docs.scipy.org/doc/numpy-1.13.0/reference/generated/numpy.mean.html"
   ]
  },
  {
   "cell_type": "code",
   "execution_count": 111,
   "id": "three-general",
   "metadata": {},
   "outputs": [
    {
     "name": "stdout",
     "output_type": "stream",
     "text": [
      "3 4\n",
      "0.270220682758469\n",
      "0.8115814940446553\n"
     ]
    }
   ],
   "source": [
    "n, m = map(int, input().split())\n",
    "np.random.seed(42)\n",
    "Z = np.random.random_sample((n, m))\n",
    "my_mean = np.mean(Z, axis = 0)\n",
    "print(np.min(my_mean))\n",
    "print(np.max(my_mean))"
   ]
  },
  {
   "cell_type": "markdown",
   "id": "talented-prompt",
   "metadata": {},
   "source": [
    "# 15\n",
    "\n",
    "Считайте 2 числа: n, m.\n",
    "Создайте матрицу размера n*m такую что:\n",
    "\n",
    "- На границе матрицы будут стоять 1\n",
    "- Внутри матрицы будут стоять 0\n",
    "\n",
    "Сохраните матрицу в переменную Z."
   ]
  },
  {
   "cell_type": "code",
   "execution_count": 124,
   "id": "first-chosen",
   "metadata": {},
   "outputs": [
    {
     "name": "stdout",
     "output_type": "stream",
     "text": [
      "10 10\n"
     ]
    },
    {
     "data": {
      "text/plain": [
       "array([[1., 1., 1., 1., 1., 1., 1., 1., 1., 1.],\n",
       "       [1., 0., 0., 0., 0., 0., 0., 0., 0., 1.],\n",
       "       [1., 0., 0., 0., 0., 0., 0., 0., 0., 1.],\n",
       "       [1., 0., 0., 0., 0., 0., 0., 0., 0., 1.],\n",
       "       [1., 0., 0., 0., 0., 0., 0., 0., 0., 1.],\n",
       "       [1., 0., 0., 0., 0., 0., 0., 0., 0., 1.],\n",
       "       [1., 0., 0., 0., 0., 0., 0., 0., 0., 1.],\n",
       "       [1., 0., 0., 0., 0., 0., 0., 0., 0., 1.],\n",
       "       [1., 0., 0., 0., 0., 0., 0., 0., 0., 1.],\n",
       "       [1., 1., 1., 1., 1., 1., 1., 1., 1., 1.]])"
      ]
     },
     "execution_count": 124,
     "metadata": {},
     "output_type": "execute_result"
    }
   ],
   "source": [
    "n, m = map(int, input().split())\n",
    "Z = np.zeros((n, m))\n",
    "Z[:, 0] = 1\n",
    "Z[:, -1] = 1\n",
    "Z[0, :] = 1\n",
    "Z[-1, :] = 1\n",
    "Z"
   ]
  },
  {
   "cell_type": "markdown",
   "id": "atomic-specialist",
   "metadata": {},
   "source": [
    "# 16\n",
    "\n",
    "Имеется матрица Z\n",
    "\n",
    "Добавьте вокруг имеющихся значений матрицы \"забор\" из 0.\n",
    "\n",
    "Результат должен быть сохранён в ту же переменную Z.\n",
    "\n",
    "Попробуйте использовать функцию https://numpy.org/doc/stable/reference/generated/numpy.pad.html?highlight=numpy%20pad#numpy.pad"
   ]
  },
  {
   "cell_type": "code",
   "execution_count": 134,
   "id": "asian-measurement",
   "metadata": {},
   "outputs": [
    {
     "data": {
      "text/plain": [
       "array([[0, 0, 0, 0, 0],\n",
       "       [0, 1, 2, 3, 0],\n",
       "       [0, 4, 5, 6, 0],\n",
       "       [0, 7, 8, 9, 0],\n",
       "       [0, 0, 0, 0, 0]])"
      ]
     },
     "execution_count": 134,
     "metadata": {},
     "output_type": "execute_result"
    }
   ],
   "source": [
    "Z = np.array([[1, 2, 3],\n",
    "              [4, 5, 6],\n",
    "              [7, 8, 9]])\n",
    "\n",
    "def pad_with(vector, pad_width, iaxis, kwargs):\n",
    "\n",
    "    pad_value = kwargs.get('padder', 0)\n",
    "\n",
    "    vector[:pad_width[0]] = pad_value\n",
    "\n",
    "    vector[-pad_width[1]:] = pad_value\n",
    "\n",
    "\n",
    "\n",
    "np.pad(Z, 1, pad_with)\n"
   ]
  },
  {
   "cell_type": "code",
   "execution_count": 135,
   "id": "wrapped-caribbean",
   "metadata": {},
   "outputs": [],
   "source": [
    "Z = np.pad(Z,(1, 1), 'constant', constant_values = 0)\n",
    "# Z = numpy.pad(Z, 1, 'constant')"
   ]
  },
  {
   "cell_type": "markdown",
   "id": "local-birmingham",
   "metadata": {},
   "source": [
    "# 17\n",
    "\n",
    "Что вернёт каждое из выражений?"
   ]
  },
  {
   "cell_type": "code",
   "execution_count": 137,
   "id": "absent-seeker",
   "metadata": {},
   "outputs": [
    {
     "data": {
      "text/plain": [
       "False"
      ]
     },
     "execution_count": 137,
     "metadata": {},
     "output_type": "execute_result"
    }
   ],
   "source": [
    "np.inf > np.nan "
   ]
  },
  {
   "cell_type": "code",
   "execution_count": 138,
   "id": "affecting-marathon",
   "metadata": {},
   "outputs": [
    {
     "data": {
      "text/plain": [
       "True"
      ]
     },
     "execution_count": 138,
     "metadata": {},
     "output_type": "execute_result"
    }
   ],
   "source": [
    "np.nan in set([np.nan]) "
   ]
  },
  {
   "cell_type": "code",
   "execution_count": 139,
   "id": "owned-roots",
   "metadata": {},
   "outputs": [
    {
     "data": {
      "text/plain": [
       "True"
      ]
     },
     "execution_count": 139,
     "metadata": {},
     "output_type": "execute_result"
    }
   ],
   "source": [
    "np.isnan(np.nan) "
   ]
  },
  {
   "cell_type": "code",
   "execution_count": 140,
   "id": "coral-citation",
   "metadata": {},
   "outputs": [
    {
     "data": {
      "text/plain": [
       "nan"
      ]
     },
     "execution_count": 140,
     "metadata": {},
     "output_type": "execute_result"
    }
   ],
   "source": [
    "0 * np.nan "
   ]
  },
  {
   "cell_type": "code",
   "execution_count": 141,
   "id": "integrated-hardwood",
   "metadata": {},
   "outputs": [
    {
     "data": {
      "text/plain": [
       "nan"
      ]
     },
     "execution_count": 141,
     "metadata": {},
     "output_type": "execute_result"
    }
   ],
   "source": [
    "np.nan - np.nan "
   ]
  },
  {
   "cell_type": "code",
   "execution_count": 142,
   "id": "operational-beverage",
   "metadata": {},
   "outputs": [
    {
     "data": {
      "text/plain": [
       "False"
      ]
     },
     "execution_count": 142,
     "metadata": {},
     "output_type": "execute_result"
    }
   ],
   "source": [
    "0.3 == 3 * 0.1 "
   ]
  },
  {
   "cell_type": "code",
   "execution_count": 143,
   "id": "skilled-phenomenon",
   "metadata": {},
   "outputs": [
    {
     "data": {
      "text/plain": [
       "False"
      ]
     },
     "execution_count": 143,
     "metadata": {},
     "output_type": "execute_result"
    }
   ],
   "source": [
    "np.nan == np.nan"
   ]
  },
  {
   "cell_type": "code",
   "execution_count": 145,
   "id": "close-easter",
   "metadata": {},
   "outputs": [
    {
     "name": "stdout",
     "output_type": "stream",
     "text": [
      "140506605037296\n",
      "140506605037296\n",
      "True\n",
      "False\n"
     ]
    }
   ],
   "source": [
    "n = np.nan\n",
    "m = np.nan\n",
    "print(id(n), id(m), sep='\\n')\n",
    "print(id(n) == id(m))\n",
    "print(n == m)"
   ]
  },
  {
   "cell_type": "markdown",
   "id": "quality-mention",
   "metadata": {},
   "source": [
    "# 18.1\n",
    "\n",
    "Считайте число n.\n",
    "\n",
    "Создайте диагональную матрицу размера n*n. На главной диагонали должны быть числа от 1 до n.\n",
    "\n",
    "Сохраните матрицу в переменную Z."
   ]
  },
  {
   "cell_type": "code",
   "execution_count": 173,
   "id": "broad-nirvana",
   "metadata": {},
   "outputs": [
    {
     "name": "stdout",
     "output_type": "stream",
     "text": [
      "3\n"
     ]
    },
    {
     "data": {
      "text/plain": [
       "array([[1, 0, 0],\n",
       "       [0, 2, 0],\n",
       "       [0, 0, 3]])"
      ]
     },
     "execution_count": 173,
     "metadata": {},
     "output_type": "execute_result"
    }
   ],
   "source": [
    "n = int(input())\n",
    "Z = np.diag((np.arange(1, n + 1)))\n",
    "Z"
   ]
  },
  {
   "cell_type": "markdown",
   "id": "incorporated-salvation",
   "metadata": {},
   "source": [
    "# 18.2\n",
    "\n",
    "Считайте 2 числа:\n",
    "\n",
    "- x - сдвиг для единственной ненулевой диагонали в матрице.\n",
    "- k - верхняя граница для интервала чисел на диагонали (т.е. если k = 5, то на диагонали будут стоять числа 1, 2, 3, 4 и 5)\n",
    "\n",
    "Договоримся о значениях x:\n",
    "\n",
    "- x = 0 - это главная диагональ матрицы\n",
    "- x<0 - диагональ сдвигается вниз на |x| ячеек (если x = -1, то первая не нулевая ячейка будет с координатами (1,0))\n",
    "- x>0 - диагональ сдвигается вправо на |x| ячеек (если x = 1, то первая ненулевая ячейка будет с координатами (0,1))\n",
    "\n",
    "Обратите внимание, что размер матрицы изменяется в зависимости от сдвига, т.к. вам надо уместить все числа от 1 до k!\n",
    "\n",
    "Сохраните такую матрицу в переменную Z.\n",
    "- 1 2\n",
    "- -1 2\n",
    "- 0 2"
   ]
  },
  {
   "cell_type": "code",
   "execution_count": 177,
   "id": "designed-chocolate",
   "metadata": {},
   "outputs": [
    {
     "name": "stdout",
     "output_type": "stream",
     "text": [
      "1 2\n"
     ]
    },
    {
     "data": {
      "text/plain": [
       "array([[0, 1, 0],\n",
       "       [0, 0, 2],\n",
       "       [0, 0, 0]])"
      ]
     },
     "execution_count": 177,
     "metadata": {},
     "output_type": "execute_result"
    }
   ],
   "source": [
    "x, k  = map(int, input().split())\n",
    "Z = np.diag((np.arange(1, k + 1)), k = x)\n",
    "Z"
   ]
  },
  {
   "cell_type": "markdown",
   "id": "demonstrated-concept",
   "metadata": {},
   "source": [
    "# 19 (21)\n",
    "\n",
    "\n",
    "Считайте 2 числа: n, m.\n",
    "\n",
    "Создайте матрицу размера n*m и \"раскрасьте\" её в шахматную раскраску.\n",
    "\n",
    "- 0 - \"чёрное\"\n",
    "- 1 - \"белое\"\n",
    "\n",
    "Ячейка с координатами (0, 0) всегда \"чёрная\" (т.е. элемент (0, 0) равен 0).\n",
    "\n",
    "Матрицу сохраните в переменную Z."
   ]
  },
  {
   "cell_type": "code",
   "execution_count": 191,
   "id": "received-material",
   "metadata": {},
   "outputs": [
    {
     "name": "stdout",
     "output_type": "stream",
     "text": [
      "8 8 \n"
     ]
    },
    {
     "data": {
      "text/plain": [
       "array([[0., 1., 0., 1., 0., 1., 0., 1.],\n",
       "       [1., 0., 1., 0., 1., 0., 1., 0.],\n",
       "       [0., 1., 0., 1., 0., 1., 0., 1.],\n",
       "       [1., 0., 1., 0., 1., 0., 1., 0.],\n",
       "       [0., 1., 0., 1., 0., 1., 0., 1.],\n",
       "       [1., 0., 1., 0., 1., 0., 1., 0.],\n",
       "       [0., 1., 0., 1., 0., 1., 0., 1.],\n",
       "       [1., 0., 1., 0., 1., 0., 1., 0.]])"
      ]
     },
     "execution_count": 191,
     "metadata": {},
     "output_type": "execute_result"
    }
   ],
   "source": [
    "n, m =  map(int, input().split())\n",
    "Z = np.zeros((n, m))\n",
    "Z[::2, 1::2] = 1\n",
    "Z[1::2, ::2] = 1\n",
    "Z"
   ]
  },
  {
   "cell_type": "code",
   "execution_count": 193,
   "id": "marked-sarah",
   "metadata": {},
   "outputs": [
    {
     "data": {
      "text/plain": [
       "array([[0., 1., 0., 1., 0., 1., 0., 1.],\n",
       "       [1., 0., 1., 0., 1., 0., 1., 0.],\n",
       "       [0., 1., 0., 1., 0., 1., 0., 1.],\n",
       "       [1., 0., 1., 0., 1., 0., 1., 0.],\n",
       "       [0., 1., 0., 1., 0., 1., 0., 1.],\n",
       "       [1., 0., 1., 0., 1., 0., 1., 0.],\n",
       "       [0., 1., 0., 1., 0., 1., 0., 1.],\n",
       "       [1., 0., 1., 0., 1., 0., 1., 0.]])"
      ]
     },
     "execution_count": 193,
     "metadata": {},
     "output_type": "execute_result"
    }
   ],
   "source": [
    "Z = np.ones((n,m))\n",
    "Z[::2, ::2] = 0\n",
    "Z[1::2,1::2] = 0\n",
    "Z"
   ]
  },
  {
   "cell_type": "code",
   "execution_count": 195,
   "id": "angry-prospect",
   "metadata": {},
   "outputs": [
    {
     "data": {
      "text/plain": [
       "array([[0., 1., 0., 1., 0., 1., 0., 1.],\n",
       "       [1., 0., 1., 0., 1., 0., 1., 0.],\n",
       "       [0., 1., 0., 1., 0., 1., 0., 1.],\n",
       "       [1., 0., 1., 0., 1., 0., 1., 0.],\n",
       "       [0., 1., 0., 1., 0., 1., 0., 1.],\n",
       "       [1., 0., 1., 0., 1., 0., 1., 0.],\n",
       "       [0., 1., 0., 1., 0., 1., 0., 1.],\n",
       "       [1., 0., 1., 0., 1., 0., 1., 0.]])"
      ]
     },
     "execution_count": 195,
     "metadata": {},
     "output_type": "execute_result"
    }
   ],
   "source": [
    "Z = np.tile([[0.,1.],[1.,0.]], (1+n//2,1+m//2) )[:n,:m]\n",
    "Z"
   ]
  },
  {
   "cell_type": "markdown",
   "id": "hindu-jackson",
   "metadata": {},
   "source": [
    "# 20\n",
    "\n",
    "Если у нас есть матрица (или numpy массив большей размерности), то её можно представить в линейном виде:\n",
    "\n",
    "Идея в том, что можно каждому элементу матрицы можно поставить в соответствие индекс.\n",
    "\n",
    "Функция numpy.unravel_index проводит обратную операцию - по индексу элемента определяет его \"координаты\" в матрице.\n",
    "\n",
    "\n",
    "Даны:\n",
    "\n",
    "- индекс i\n",
    "- numpy массив Z\n",
    "\n",
    "Определите \"координаты\" элемента с индексом i в Z и выведите кортеж с координатами на печать."
   ]
  },
  {
   "cell_type": "code",
   "execution_count": 200,
   "id": "dress-yahoo",
   "metadata": {},
   "outputs": [
    {
     "data": {
      "text/plain": [
       "(1, 2)"
      ]
     },
     "execution_count": 200,
     "metadata": {},
     "output_type": "execute_result"
    }
   ],
   "source": [
    "i = 6\n",
    "Z = np.array([[ 0,  1,  2,  3],\n",
    "              [ 4,  5,  6,  7],\n",
    "              [ 8,  9, 10, 11]])\n",
    "\n",
    "np.unravel_index(i, np.shape(Z)) "
   ]
  },
  {
   "cell_type": "markdown",
   "id": "biological-writing",
   "metadata": {},
   "source": [
    "# 22 Нормализация\n",
    "\n",
    "Используйте формулу $x_n = (x -\\mu) / \\sigma$ ,\n",
    "\n",
    "где\n",
    "\n",
    "- x - старое значение\n",
    "- x_n - новое значение\n",
    "- $\\mu$ - среднее значение (по всей матрице)\n",
    "- $\\sigma$ - стандартное отклонение (по всей матрице)\n",
    "\n",
    "для того чтобы \"нормализовать\" матрицу."
   ]
  },
  {
   "cell_type": "code",
   "execution_count": 4,
   "id": "intensive-scratch",
   "metadata": {},
   "outputs": [
    {
     "data": {
      "text/plain": [
       "array([[ 1.19, -1.54, -0.17],\n",
       "       [-0.85,  0.17,  1.19]])"
      ]
     },
     "execution_count": 4,
     "metadata": {},
     "output_type": "execute_result"
    }
   ],
   "source": [
    "Y = np.array([[1, 2],\n",
    "              [2, 1]])\n",
    "\n",
    "YY = np.array([[99, 11, 55],\n",
    "               [33, 66, 99]])\n",
    "\n",
    "Z = np.round((Y - np.mean(Y)) / np.std(Y), 2)\n",
    "ZZ = np.round((YY - np.mean(YY)) / np.std(YY), 2)\n",
    "ZZ"
   ]
  },
  {
   "cell_type": "markdown",
   "id": "according-federal",
   "metadata": {},
   "source": [
    "# 24.1 Скалярное произведение векторов\n",
    "\n",
    "Переменные A и B содержат по numpy вектору. Найдите их скалярное произведение и сохраните в переменную Z.\n",
    "\n",
    "A и B могут содержать как int, так и float."
   ]
  },
  {
   "cell_type": "code",
   "execution_count": 7,
   "id": "ultimate-tribute",
   "metadata": {},
   "outputs": [
    {
     "data": {
      "text/plain": [
       "39.5"
      ]
     },
     "execution_count": 7,
     "metadata": {},
     "output_type": "execute_result"
    }
   ],
   "source": [
    "A = np.array([1.5, 2.5, 3.5])\n",
    "B = np.array([4, 5, 6])\n",
    "\n",
    "AA = np.array([1, 3, 5, 7, 9])\n",
    "BB = np.array([-2, 4, -6, 8, -10])\n",
    "np.dot(AA, BB)\n",
    "\n",
    "# ввели с питона 3.5\n",
    "Z = A@B\n",
    "Z"
   ]
  },
  {
   "cell_type": "markdown",
   "id": "sized-evaluation",
   "metadata": {},
   "source": [
    "# 24.2 Умножение матриц\n",
    "\n",
    "Даны 2 матрицы: A и B.\n",
    "\n",
    "Найдите произведение матриц и сохраните его в переменную Z.\n",
    "\n",
    "Если найти произведение матриц невозможно, то запишите в Z строку: \"Упс! Что-то пошло не так...\""
   ]
  },
  {
   "cell_type": "code",
   "execution_count": 9,
   "id": "brutal-interest",
   "metadata": {},
   "outputs": [
    {
     "data": {
      "text/plain": [
       "array([[ 77. ],\n",
       "       [189.5]])"
      ]
     },
     "execution_count": 9,
     "metadata": {},
     "output_type": "execute_result"
    }
   ],
   "source": [
    "A = np.array([\n",
    "    [1, 2, 3],\n",
    "    [4, 5, 6]\n",
    "])\n",
    "B = np.array([\n",
    "    [11.5],\n",
    "    [12.5],\n",
    "    [13.5]\n",
    "])\n",
    "\n",
    "Z = A@B\n",
    "Z"
   ]
  },
  {
   "cell_type": "code",
   "execution_count": 13,
   "id": "uniform-machine",
   "metadata": {},
   "outputs": [
    {
     "name": "stdout",
     "output_type": "stream",
     "text": [
      "Упс! Что-то пошло не так...\n"
     ]
    }
   ],
   "source": [
    "A = np.array([\n",
    "    [1, 2, 3],\n",
    "    [4, 5, 6]\n",
    "])\n",
    "B = np.array([\n",
    "    [11.5, 12.5, 13.5]\n",
    "])\n",
    "try:\n",
    "    Z = A@B\n",
    "except:\n",
    "    Z = \"Упс! Что-то пошло не так...\""
   ]
  },
  {
   "cell_type": "markdown",
   "id": "cultural-walker",
   "metadata": {},
   "source": [
    "# 25\n",
    "\n",
    "Поменяйте знак всех чисел из интервала (3; 9), хранящихся в векторе Z."
   ]
  },
  {
   "cell_type": "code",
   "execution_count": 34,
   "id": "common-longer",
   "metadata": {},
   "outputs": [
    {
     "data": {
      "text/plain": [
       "array([ 0,  1,  2,  3, -4, -5, -6, -7, -8,  9, 10])"
      ]
     },
     "execution_count": 34,
     "metadata": {},
     "output_type": "execute_result"
    }
   ],
   "source": [
    "Z = np.arange(11)\n",
    "\n",
    "Z = np.where((Z>3)&(Z<9), -Z, Z)\n",
    "# или\n",
    "# Z[(3 < Z) & (Z < 8)] *= -1"
   ]
  },
  {
   "cell_type": "markdown",
   "id": "dedicated-sewing",
   "metadata": {},
   "source": [
    "# 26\n",
    "\n",
    "Что выведет на печать код:"
   ]
  },
  {
   "cell_type": "code",
   "execution_count": 35,
   "id": "three-doctrine",
   "metadata": {},
   "outputs": [
    {
     "name": "stdout",
     "output_type": "stream",
     "text": [
      "9\n",
      "10\n"
     ]
    }
   ],
   "source": [
    "print(sum(range(5),-1))\n",
    "from numpy import *\n",
    "print(sum(range(5),-1))"
   ]
  },
  {
   "cell_type": "markdown",
   "id": "sublime-quantum",
   "metadata": {},
   "source": [
    "# 27\n",
    "\n",
    "Предположим, Z - целочисленный вектор, например:\n",
    "\n",
    "Z = np.array([1, 2, 3, 4, 5, 6, 7])\n",
    "\n",
    "Какие из операций возможны (не приведут к ошибке)?"
   ]
  },
  {
   "cell_type": "code",
   "execution_count": 36,
   "id": "similar-guard",
   "metadata": {},
   "outputs": [],
   "source": [
    "Z = np.array([1, 2, 3, 4, 5, 6, 7])"
   ]
  },
  {
   "cell_type": "code",
   "execution_count": 45,
   "id": "faced-campus",
   "metadata": {},
   "outputs": [
    {
     "data": {
      "text/plain": [
       "array([ 1,  2,  4,  8, 16, 32, 64])"
      ]
     },
     "execution_count": 45,
     "metadata": {},
     "output_type": "execute_result"
    }
   ],
   "source": [
    "# Z/1/1\n",
    "\n",
    "# Z<z>Z\n",
    "\n",
    "# 1j*Z # комплексная единица\n",
    "\n",
    "# Z**Z\n",
    "\n",
    "# Z <- Z # знак \"меньше\" и унарный минус. Проверяется условие Z поэлементно меньше -Z\n",
    "\n",
    "2 << Z >> 2 "
   ]
  },
  {
   "cell_type": "markdown",
   "id": "hazardous-benefit",
   "metadata": {},
   "source": [
    "Если по простому:\n",
    "\n",
    "$x << y =$ это тоже самое что и x * 2**y\n",
    "\n",
    "$x >> y =$ тоже самое что и x // 2**y\n"
   ]
  },
  {
   "cell_type": "markdown",
   "id": "regional-graph",
   "metadata": {},
   "source": [
    "# 28\n",
    "\n",
    "Сопоставьте выражения и результат их выполнения"
   ]
  },
  {
   "cell_type": "code",
   "execution_count": 46,
   "id": "neither-facial",
   "metadata": {},
   "outputs": [
    {
     "name": "stderr",
     "output_type": "stream",
     "text": [
      "<ipython-input-46-3585dcb7ab9b>:1: RuntimeWarning: invalid value encountered in true_divide\n",
      "  np.array(0) / np.array(0)\n"
     ]
    },
    {
     "data": {
      "text/plain": [
       "nan"
      ]
     },
     "execution_count": 46,
     "metadata": {},
     "output_type": "execute_result"
    }
   ],
   "source": [
    "np.array(0) / np.array(0)"
   ]
  },
  {
   "cell_type": "code",
   "execution_count": 47,
   "id": "inner-background",
   "metadata": {},
   "outputs": [
    {
     "name": "stderr",
     "output_type": "stream",
     "text": [
      "<ipython-input-47-4764261090d0>:1: RuntimeWarning: divide by zero encountered in floor_divide\n",
      "  np.array(0) // np.array(0)\n"
     ]
    },
    {
     "data": {
      "text/plain": [
       "0"
      ]
     },
     "execution_count": 47,
     "metadata": {},
     "output_type": "execute_result"
    }
   ],
   "source": [
    "np.array(0) // np.array(0)"
   ]
  },
  {
   "cell_type": "code",
   "execution_count": 48,
   "id": "transsexual-escape",
   "metadata": {},
   "outputs": [
    {
     "data": {
      "text/plain": [
       "array([-9.22337204e+18])"
      ]
     },
     "execution_count": 48,
     "metadata": {},
     "output_type": "execute_result"
    }
   ],
   "source": [
    "np.array([np.nan]).astype(int).astype(float)"
   ]
  },
  {
   "cell_type": "markdown",
   "id": "satisfied-military",
   "metadata": {},
   "source": [
    "# 29\n",
    "\n",
    "Вектор A содержит float числа как больше, так и меньше нуля.\n",
    "\n",
    "Округлите их до целых и результат запишите в переменную Z. Округление должно быть \"от нуля\", т.е.:\n",
    "\n",
    "- положительные числа округляем всегда вверх до целого\n",
    "- отрицательные числа округляем всегда вниз до целого\n",
    "- 0 остаётся 0"
   ]
  },
  {
   "cell_type": "code",
   "execution_count": 49,
   "id": "bound-dominant",
   "metadata": {},
   "outputs": [
    {
     "data": {
      "text/plain": [
       "array([-4., -6.,  0.,  3., 10.])"
      ]
     },
     "execution_count": 49,
     "metadata": {},
     "output_type": "execute_result"
    }
   ],
   "source": [
    "A = np.array([-3.1, -5.9, 0, 2.2, 9.8])\n",
    "\n",
    "# медленный вариант\n",
    "Z = np.where(A < 0, np.floor(A), np.ceil(A))\n",
    "\n",
    "# быстрый вариант \n",
    "ZZ = np.copysign(np.ceil(np.absolute(A)), A)"
   ]
  },
  {
   "cell_type": "markdown",
   "id": "anonymous-county",
   "metadata": {},
   "source": [
    "# 30\n",
    "\n",
    "Даны 2 вектора целых чисел A и B.\n",
    "\n",
    "Найдите числа, встречающиеся в обоих векторах и составьте их по возрастанию в вектор Z.\n",
    "\n",
    "Если пересечений нет, то вектор Z будет пустым."
   ]
  },
  {
   "cell_type": "code",
   "execution_count": 50,
   "id": "indonesian-ranking",
   "metadata": {},
   "outputs": [
    {
     "data": {
      "text/plain": [
       "array([1, 3, 7])"
      ]
     },
     "execution_count": 50,
     "metadata": {},
     "output_type": "execute_result"
    }
   ],
   "source": [
    "A = np.array([0, 9, 7, 1, 3, 7, 5, 2, 5, 1])\n",
    "B = np.array([3, 1, 3, 7, 4, 1, 8, 1, 1, 8])\n",
    "\n",
    "np.intersect1d(A, B)"
   ]
  },
  {
   "cell_type": "code",
   "execution_count": 51,
   "id": "paperback-kernel",
   "metadata": {},
   "outputs": [
    {
     "data": {
      "text/plain": [
       "array([-5,  2])"
      ]
     },
     "execution_count": 51,
     "metadata": {},
     "output_type": "execute_result"
    }
   ],
   "source": [
    "A = np.arange(-5, 5)\n",
    "B = np.array([9, -5, 2])\n",
    "\n",
    "np.intersect1d(A, B)"
   ]
  },
  {
   "cell_type": "markdown",
   "id": "prescription-crisis",
   "metadata": {},
   "source": [
    "# 31\n",
    "\n",
    "Suicide mode on\n",
    "\n",
    "В Numpy можно предусмотреть различное поведение в случае ошибок (а не только то, что мы наблюдали в задаче 28). Для этого используется функция https://numpy.org/doc/stable/reference/generated/numpy.seterr.html\n",
    "\n",
    "Отключите вывод всех ошибок (это довольно опасное поведение)"
   ]
  },
  {
   "cell_type": "code",
   "execution_count": null,
   "id": "composite-possible",
   "metadata": {},
   "outputs": [],
   "source": [
    "# решение\n",
    "np.seterr(all=\"ignore\")"
   ]
  },
  {
   "cell_type": "code",
   "execution_count": 52,
   "id": "endless-quality",
   "metadata": {},
   "outputs": [],
   "source": [
    "with np.errstate(divide='ignore'):\n",
    "    Z = np.ones(1) / 0"
   ]
  },
  {
   "cell_type": "code",
   "execution_count": 53,
   "id": "thirty-herald",
   "metadata": {},
   "outputs": [
    {
     "data": {
      "text/plain": [
       "array([inf])"
      ]
     },
     "execution_count": 53,
     "metadata": {},
     "output_type": "execute_result"
    }
   ],
   "source": [
    "Z"
   ]
  },
  {
   "cell_type": "markdown",
   "id": "covered-dream",
   "metadata": {},
   "source": [
    "# 32\n",
    "Что можно сказать о выражении\n"
   ]
  },
  {
   "cell_type": "code",
   "execution_count": 54,
   "id": "sound-munich",
   "metadata": {},
   "outputs": [
    {
     "name": "stderr",
     "output_type": "stream",
     "text": [
      "<ipython-input-54-16339fbc685e>:1: RuntimeWarning: invalid value encountered in sqrt\n",
      "  np.sqrt(-1) == np.emath.sqrt(-1)\n"
     ]
    },
    {
     "data": {
      "text/plain": [
       "False"
      ]
     },
     "execution_count": 54,
     "metadata": {},
     "output_type": "execute_result"
    }
   ],
   "source": [
    "np.sqrt(-1) == np.emath.sqrt(-1)"
   ]
  },
  {
   "cell_type": "markdown",
   "id": "negative-modern",
   "metadata": {},
   "source": [
    "# 33\n",
    "\n",
    "Изучите работу с датами (https://docs.scipy.org/doc/numpy-1.15.0/reference/arrays.datetime.html) и выберите верные утверждения:\n"
   ]
  },
  {
   "cell_type": "code",
   "execution_count": 55,
   "id": "sustained-rocket",
   "metadata": {},
   "outputs": [
    {
     "data": {
      "text/plain": [
       "numpy.datetime64('NaT')"
      ]
     },
     "execution_count": 55,
     "metadata": {},
     "output_type": "execute_result"
    }
   ],
   "source": [
    "np.datetime64('nat')-1"
   ]
  },
  {
   "cell_type": "code",
   "execution_count": 56,
   "id": "opened-fortune",
   "metadata": {},
   "outputs": [
    {
     "data": {
      "text/plain": [
       "numpy.datetime64('2021-03-12')"
      ]
     },
     "execution_count": 56,
     "metadata": {},
     "output_type": "execute_result"
    }
   ],
   "source": [
    "np.datetime64('today') "
   ]
  },
  {
   "cell_type": "code",
   "execution_count": 57,
   "id": "floral-english",
   "metadata": {},
   "outputs": [
    {
     "ename": "ValueError",
     "evalue": "Error parsing datetime string \"tomorrow\" at position 0",
     "output_type": "error",
     "traceback": [
      "\u001b[0;31m---------------------------------------------------------------------------\u001b[0m",
      "\u001b[0;31mValueError\u001b[0m                                Traceback (most recent call last)",
      "\u001b[0;32m<ipython-input-57-efd981ce970e>\u001b[0m in \u001b[0;36m<module>\u001b[0;34m\u001b[0m\n\u001b[0;32m----> 1\u001b[0;31m \u001b[0mnp\u001b[0m\u001b[0;34m.\u001b[0m\u001b[0mdatetime64\u001b[0m\u001b[0;34m(\u001b[0m\u001b[0;34m'tomorrow'\u001b[0m\u001b[0;34m)\u001b[0m\u001b[0;34m\u001b[0m\u001b[0;34m\u001b[0m\u001b[0m\n\u001b[0m",
      "\u001b[0;31mValueError\u001b[0m: Error parsing datetime string \"tomorrow\" at position 0"
     ]
    }
   ],
   "source": [
    "np.datetime64('tomorrow') "
   ]
  },
  {
   "cell_type": "code",
   "execution_count": 58,
   "id": "driven-treat",
   "metadata": {},
   "outputs": [
    {
     "data": {
      "text/plain": [
       "numpy.datetime64('2021-03-11')"
      ]
     },
     "execution_count": 58,
     "metadata": {},
     "output_type": "execute_result"
    }
   ],
   "source": [
    "np.datetime64('today')-1 "
   ]
  },
  {
   "cell_type": "code",
   "execution_count": 59,
   "id": "paperback-absolute",
   "metadata": {},
   "outputs": [
    {
     "ename": "ValueError",
     "evalue": "Error parsing datetime string \"yesterday\" at position 0",
     "output_type": "error",
     "traceback": [
      "\u001b[0;31m---------------------------------------------------------------------------\u001b[0m",
      "\u001b[0;31mValueError\u001b[0m                                Traceback (most recent call last)",
      "\u001b[0;32m<ipython-input-59-c60c80f448d6>\u001b[0m in \u001b[0;36m<module>\u001b[0;34m\u001b[0m\n\u001b[0;32m----> 1\u001b[0;31m \u001b[0mnp\u001b[0m\u001b[0;34m.\u001b[0m\u001b[0mdatetime64\u001b[0m\u001b[0;34m(\u001b[0m\u001b[0;34m'yesterday'\u001b[0m\u001b[0;34m)\u001b[0m\u001b[0;34m\u001b[0m\u001b[0;34m\u001b[0m\u001b[0m\n\u001b[0m",
      "\u001b[0;31mValueError\u001b[0m: Error parsing datetime string \"yesterday\" at position 0"
     ]
    }
   ],
   "source": [
    "np.datetime64('yesterday')"
   ]
  },
  {
   "cell_type": "code",
   "execution_count": 60,
   "id": "competitive-expert",
   "metadata": {},
   "outputs": [
    {
     "data": {
      "text/plain": [
       "numpy.datetime64('NaT')"
      ]
     },
     "execution_count": 60,
     "metadata": {},
     "output_type": "execute_result"
    }
   ],
   "source": [
    "np.datetime64('nat')+1 "
   ]
  },
  {
   "cell_type": "code",
   "execution_count": 61,
   "id": "distributed-evanescence",
   "metadata": {},
   "outputs": [
    {
     "data": {
      "text/plain": [
       "numpy.datetime64('NaT')"
      ]
     },
     "execution_count": 61,
     "metadata": {},
     "output_type": "execute_result"
    }
   ],
   "source": [
    "np.datetime64('nat')"
   ]
  },
  {
   "cell_type": "code",
   "execution_count": 62,
   "id": "geological-honolulu",
   "metadata": {},
   "outputs": [
    {
     "data": {
      "text/plain": [
       "numpy.datetime64('2021-03-13')"
      ]
     },
     "execution_count": 62,
     "metadata": {},
     "output_type": "execute_result"
    }
   ],
   "source": [
    "np.datetime64('today')+1"
   ]
  },
  {
   "cell_type": "markdown",
   "id": "employed-highland",
   "metadata": {},
   "source": [
    "# 34\n",
    "\n",
    "- 1-я входная строка - год (опционально месяц и день) в формате ISO начала отсчёта\n",
    "- 2-я входная строка - год (опционально месяц и день) в формате ISO окончания отсчёта\n",
    "\n",
    "Составьте список (numpy array) дат с шагом в 1 день от начала до окончания отсчёта (последний день не включается).\n",
    "Результат должен представлять из себя список дат в формате ISO.\n",
    "Пример - 2005-02-25, где\n",
    "\n",
    "- 2005 - год\n",
    "- 02 - месяц\n",
    "- 25 - день\n",
    "\n",
    "Запишите результат в переменную Z"
   ]
  },
  {
   "cell_type": "code",
   "execution_count": 63,
   "id": "defined-findings",
   "metadata": {},
   "outputs": [
    {
     "name": "stdout",
     "output_type": "stream",
     "text": [
      "2016-07\n",
      "2016-08\n"
     ]
    }
   ],
   "source": [
    "Z = np.arange(input(), input(), dtype='datetime64[D]')"
   ]
  },
  {
   "cell_type": "code",
   "execution_count": 64,
   "id": "reliable-length",
   "metadata": {},
   "outputs": [
    {
     "data": {
      "text/plain": [
       "array(['2016-07-01', '2016-07-02', '2016-07-03', '2016-07-04',\n",
       "       '2016-07-05', '2016-07-06', '2016-07-07', '2016-07-08',\n",
       "       '2016-07-09', '2016-07-10', '2016-07-11', '2016-07-12',\n",
       "       '2016-07-13', '2016-07-14', '2016-07-15', '2016-07-16',\n",
       "       '2016-07-17', '2016-07-18', '2016-07-19', '2016-07-20',\n",
       "       '2016-07-21', '2016-07-22', '2016-07-23', '2016-07-24',\n",
       "       '2016-07-25', '2016-07-26', '2016-07-27', '2016-07-28',\n",
       "       '2016-07-29', '2016-07-30', '2016-07-31'], dtype='datetime64[D]')"
      ]
     },
     "execution_count": 64,
     "metadata": {},
     "output_type": "execute_result"
    }
   ],
   "source": [
    "Z"
   ]
  },
  {
   "cell_type": "markdown",
   "id": "worst-bubble",
   "metadata": {},
   "source": [
    "# 36\n",
    "\n",
    "Существует по крайней мере 5 способов получить из вектора случайных float чисел вектор чисел только с целой частью:\n",
    "\n",
    "- Целочисленное деление и векторные операции\n",
    "- Округление \"вниз\"\n",
    "- Округление \"вверх\" и вычет 1 (важно, что этот способ работает только для \"случайных\" чисел. Если число УЖЕ целое, то такая манипуляция приведёт к получению числа на 1 меньше исходного, т.е. ошибке)\n",
    "- Приведение к целочисленному типу\n",
    "- \"Усечение\" или округление в сторону нуля с помощью функции https://numpy.org/doc/stable/reference/generated/numpy.trunc.html"
   ]
  },
  {
   "cell_type": "code",
   "execution_count": 65,
   "id": "prescribed-shield",
   "metadata": {},
   "outputs": [
    {
     "data": {
      "text/plain": [
       "array([3., 9., 5., 5., 2., 2., 1., 5., 9., 7.])"
      ]
     },
     "execution_count": 65,
     "metadata": {},
     "output_type": "execute_result"
    }
   ],
   "source": [
    "Z = np.random.uniform(0,10,10)\n",
    "\n",
    "#1\n",
    "Z - Z%1"
   ]
  },
  {
   "cell_type": "code",
   "execution_count": 66,
   "id": "lightweight-interference",
   "metadata": {},
   "outputs": [
    {
     "data": {
      "text/plain": [
       "array([3., 9., 5., 5., 2., 2., 1., 5., 9., 7.])"
      ]
     },
     "execution_count": 66,
     "metadata": {},
     "output_type": "execute_result"
    }
   ],
   "source": [
    "#2\n",
    "np.floor(Z)"
   ]
  },
  {
   "cell_type": "code",
   "execution_count": 67,
   "id": "returning-scene",
   "metadata": {},
   "outputs": [
    {
     "data": {
      "text/plain": [
       "array([3., 9., 5., 5., 2., 2., 1., 5., 9., 7.])"
      ]
     },
     "execution_count": 67,
     "metadata": {},
     "output_type": "execute_result"
    }
   ],
   "source": [
    "#3\n",
    "np.ceil(Z)-1"
   ]
  },
  {
   "cell_type": "code",
   "execution_count": 68,
   "id": "identical-bathroom",
   "metadata": {},
   "outputs": [
    {
     "data": {
      "text/plain": [
       "array([3, 9, 5, 5, 2, 2, 1, 5, 9, 7])"
      ]
     },
     "execution_count": 68,
     "metadata": {},
     "output_type": "execute_result"
    }
   ],
   "source": [
    "#4\n",
    "Z.astype(int)"
   ]
  },
  {
   "cell_type": "code",
   "execution_count": 69,
   "id": "addressed-handbook",
   "metadata": {},
   "outputs": [
    {
     "data": {
      "text/plain": [
       "array([3., 9., 5., 5., 2., 2., 1., 5., 9., 7.])"
      ]
     },
     "execution_count": 69,
     "metadata": {},
     "output_type": "execute_result"
    }
   ],
   "source": [
    "#5\n",
    "np.trunc(Z)"
   ]
  },
  {
   "cell_type": "markdown",
   "id": "contemporary-relaxation",
   "metadata": {},
   "source": [
    "# 37.1\n",
    "\n",
    "На вход подаётся 2 строки:\n",
    "\n",
    "- 1-я строка содержит 2 натуральных числа: n, m\n",
    "- 2-я строка содержит число k\n",
    "\n",
    "Создайте матрицу размера n*m такую, что каждая её строка содержит числа от k до k+m-1 (с шагом 1).\n",
    "\n",
    "Ответ запишите в переменную Z\n",
    "\n",
    "3 5\n",
    "\n",
    "0"
   ]
  },
  {
   "cell_type": "code",
   "execution_count": 90,
   "id": "broke-baker",
   "metadata": {},
   "outputs": [
    {
     "name": "stdout",
     "output_type": "stream",
     "text": [
      "5 4\n",
      "-5\n"
     ]
    },
    {
     "data": {
      "text/plain": [
       "array([[-5., -4., -3., -2.],\n",
       "       [-5., -4., -3., -2.],\n",
       "       [-5., -4., -3., -2.],\n",
       "       [-5., -4., -3., -2.],\n",
       "       [-5., -4., -3., -2.]])"
      ]
     },
     "execution_count": 90,
     "metadata": {},
     "output_type": "execute_result"
    }
   ],
   "source": [
    "n, m = map(int, input().split())\n",
    "k = int(input())\n",
    "\n",
    "Z = np.tile(np.arange(k, k+m, dtype=float), n).reshape((n, m))\n",
    "Z"
   ]
  },
  {
   "cell_type": "markdown",
   "id": "micro-ministry",
   "metadata": {},
   "source": [
    "# 37.2\n",
    "\n",
    "На вход подаётся 2 строки:\n",
    "\n",
    "- 1-я строка содержит 2 натуральных числа: n, m\n",
    "- 2-я строка содержит число k\n",
    "\n",
    "Создайте матрицу размера n*m такую, что каждый её столбец содержит числа от k до k+n-1 (с шагом 1).\n",
    "\n",
    "Ответ запишите в переменную Z"
   ]
  },
  {
   "cell_type": "code",
   "execution_count": 93,
   "id": "changed-terrace",
   "metadata": {},
   "outputs": [
    {
     "name": "stdout",
     "output_type": "stream",
     "text": [
      "3 5\n",
      "0\n"
     ]
    },
    {
     "data": {
      "text/plain": [
       "array([[0., 0., 0., 0., 0.],\n",
       "       [1., 1., 1., 1., 1.],\n",
       "       [2., 2., 2., 2., 2.]])"
      ]
     },
     "execution_count": 93,
     "metadata": {},
     "output_type": "execute_result"
    }
   ],
   "source": [
    "n, m = map(int, input().split())\n",
    "k = int(input())\n",
    "\n",
    "Z = np.tile(np.arange(k, k+n, dtype=float), m).reshape((m, n)).T\n",
    "Z"
   ]
  },
  {
   "cell_type": "markdown",
   "id": "creative-consortium",
   "metadata": {},
   "source": [
    "# 38\n",
    "\n",
    "Переменная V содержит итерируемый объект.\n",
    "\n",
    "Превратите его в одномерный numpy массив и сохраните в переменную Z. Массив будет содержать только числа типа float."
   ]
  },
  {
   "cell_type": "code",
   "execution_count": 95,
   "id": "unsigned-music",
   "metadata": {},
   "outputs": [
    {
     "data": {
      "text/plain": [
       "array([ 0.        ,  0.84147098,  0.90929743,  0.14112001, -0.7568025 ,\n",
       "       -0.95892427, -0.2794155 ,  0.6569866 ,  0.98935825,  0.41211849])"
      ]
     },
     "execution_count": 95,
     "metadata": {},
     "output_type": "execute_result"
    }
   ],
   "source": [
    "V = map(np.sin, range(10))\n",
    "# V = range(10)\n",
    "# V = {1:2, 3:4}\n",
    "\n",
    "Z = np.fromiter(V, float)\n",
    "Z"
   ]
  },
  {
   "cell_type": "markdown",
   "id": "instant-thumbnail",
   "metadata": {},
   "source": [
    "# 39.1 (деление отрезка на N+1 часть)\n",
    "\n",
    "На вход подаются 3 числа (каждое с новой строки):\n",
    "\n",
    "- start\n",
    "- stop\n",
    "- n\n",
    "\n",
    "Составьте список (numpy.array) из n точек на отрезке (start, stop), попарно равноудалённых друг от друга и от концов отрезка (т.е. разделите отрезок на n+1 часть). Округлите значения точек до 3 знака после запятой.\n",
    "\n",
    "Результат сохраните в переменную Z."
   ]
  },
  {
   "cell_type": "code",
   "execution_count": 103,
   "id": "pressed-armor",
   "metadata": {},
   "outputs": [
    {
     "name": "stdout",
     "output_type": "stream",
     "text": [
      "0\n",
      "1\n",
      "9\n"
     ]
    },
    {
     "data": {
      "text/plain": [
       "array([0.1, 0.2, 0.3, 0.4, 0.5, 0.6, 0.7, 0.8, 0.9])"
      ]
     },
     "execution_count": 103,
     "metadata": {},
     "output_type": "execute_result"
    }
   ],
   "source": [
    "start = int(input())\n",
    "stop = int(input())\n",
    "n = int(input())\n",
    "\n",
    "Z = np.around(np.linspace(start, stop, num=n+2), 3)[1:-1]\n",
    "ZZ = np.around(np.linspace(start, stop, n + 1, endpoint=False), 3)[1:]\n",
    "ZZ"
   ]
  },
  {
   "cell_type": "markdown",
   "id": "nasty-boating",
   "metadata": {},
   "source": [
    "# 39.2\n",
    "\n",
    "На вход подаются 3 числа (каждое с новой строки):\n",
    "\n",
    "- start\n",
    "- stop\n",
    "- n\n",
    "\n",
    "Составьте список из n точек на отрезке [start, stop] в геометрической прогрессии, включая start и stop.\n",
    "\n",
    "Округлите значения точек до 3 знака после запятой.\n",
    "\n",
    "Результат сохраните в переменную Z."
   ]
  },
  {
   "cell_type": "code",
   "execution_count": 106,
   "id": "incorporated-manor",
   "metadata": {},
   "outputs": [
    {
     "name": "stdout",
     "output_type": "stream",
     "text": [
      "1\n",
      "1000\n",
      "4\n"
     ]
    }
   ],
   "source": [
    "start = int(input())\n",
    "stop = int(input())\n",
    "n = int(input())\n",
    "\n",
    "Z = np.geomspace(start, stop, num=n).round(3)\n",
    "Z"
   ]
  },
  {
   "cell_type": "markdown",
   "id": "spread-sunrise",
   "metadata": {},
   "source": [
    "# 40\n",
    "\n",
    "Считайте 2 числа:\n",
    "\n",
    "- seed\n",
    "- n\n",
    "\n",
    "С помощью Numpy сгенерируйте n случайных чисел из интервала (0, 1) с фиксированным seed (https://numpy.org/doc/stable/reference/random/generated/numpy.random.seed.html), отсортируйте их по возрастанию и сохраните в переменную Z."
   ]
  },
  {
   "cell_type": "code",
   "execution_count": 108,
   "id": "composed-growing",
   "metadata": {},
   "outputs": [
    {
     "name": "stdout",
     "output_type": "stream",
     "text": [
      "5\n",
      "5\n"
     ]
    },
    {
     "data": {
      "text/plain": [
       "[0.20671915533942642,\n",
       " 0.22199317108973948,\n",
       " 0.48841118879482914,\n",
       " 0.8707323061773764,\n",
       " 0.9186109079379216]"
      ]
     },
     "execution_count": 108,
     "metadata": {},
     "output_type": "execute_result"
    }
   ],
   "source": [
    "seed = int(input())\n",
    "n = int(input())\n",
    "\n",
    "np.random.seed(seed)\n",
    "Z = np.sort(np.random.random(n))\n",
    "Z"
   ]
  },
  {
   "cell_type": "code",
   "execution_count": null,
   "id": "electric-gathering",
   "metadata": {},
   "outputs": [],
   "source": []
  }
 ],
 "metadata": {
  "kernelspec": {
   "display_name": "Python 3",
   "language": "python",
   "name": "python3"
  },
  "language_info": {
   "codemirror_mode": {
    "name": "ipython",
    "version": 3
   },
   "file_extension": ".py",
   "mimetype": "text/x-python",
   "name": "python",
   "nbconvert_exporter": "python",
   "pygments_lexer": "ipython3",
   "version": "3.8.5"
  }
 },
 "nbformat": 4,
 "nbformat_minor": 5
}
