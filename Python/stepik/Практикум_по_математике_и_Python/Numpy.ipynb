{
 "cells": [
  {
   "cell_type": "code",
   "execution_count": 1,
   "id": "magnetic-dominant",
   "metadata": {},
   "outputs": [],
   "source": [
    "import numpy as np"
   ]
  },
  {
   "cell_type": "markdown",
   "id": "threatened-gateway",
   "metadata": {},
   "source": [
    "На вход подаётся список чисел (строка, где числа разделены запятой).\n",
    "\n",
    "Создайте и сохраните:\n",
    "\n",
    "- в переменную V1 Numpy вектор из этих чисел в том же порядке\n",
    "- в переменную V2 Numpy вектор, содержащий только предпоследнее число (это должен быть именно вектор!)\n",
    "- в переменную V3 Numpy вектор из этих чисел в обратном порядке\n",
    "- в переменную V4 Numpy вектор из этих чисел, начиная с 0-ого, через 2 (т.е. каждое третье число)\n",
    "- в переменную V5 Numpy вектор, созданный из генератора Range, содержащий столько элементов, сколько было передано чисел на вход"
   ]
  },
  {
   "cell_type": "code",
   "execution_count": 4,
   "id": "enormous-brief",
   "metadata": {},
   "outputs": [
    {
     "name": "stdout",
     "output_type": "stream",
     "text": [
      "Enter multiple value: 1, 2, 3, 4, 5.0, 6, 7, 8, 9, 10\n"
     ]
    }
   ],
   "source": [
    "x = [float(x) for x in input(\"Enter multiple value: \").split(',')]"
   ]
  },
  {
   "cell_type": "code",
   "execution_count": 6,
   "id": "municipal-orientation",
   "metadata": {},
   "outputs": [],
   "source": [
    "v1 = np.array(x)\n",
    "v1"
   ]
  },
  {
   "cell_type": "code",
   "execution_count": 15,
   "id": "ongoing-budget",
   "metadata": {},
   "outputs": [
    {
     "data": {
      "text/plain": [
       "array([9.])"
      ]
     },
     "execution_count": 15,
     "metadata": {},
     "output_type": "execute_result"
    }
   ],
   "source": [
    "v2 = np.array([x[-2]])\n",
    "v2"
   ]
  },
  {
   "cell_type": "code",
   "execution_count": 10,
   "id": "union-myanmar",
   "metadata": {},
   "outputs": [
    {
     "data": {
      "text/plain": [
       "array([10.,  9.,  8.,  7.,  6.,  5.,  4.,  3.,  2.,  1.])"
      ]
     },
     "execution_count": 10,
     "metadata": {},
     "output_type": "execute_result"
    }
   ],
   "source": [
    "v3 = np.array(x[::-1])\n",
    "v3"
   ]
  },
  {
   "cell_type": "code",
   "execution_count": 12,
   "id": "abstract-malaysia",
   "metadata": {},
   "outputs": [
    {
     "data": {
      "text/plain": [
       "array([ 1.,  4.,  7., 10.])"
      ]
     },
     "execution_count": 12,
     "metadata": {},
     "output_type": "execute_result"
    }
   ],
   "source": [
    "v4 = np.array(x[0::3])\n",
    "v4"
   ]
  },
  {
   "cell_type": "code",
   "execution_count": 13,
   "id": "designing-farming",
   "metadata": {},
   "outputs": [
    {
     "data": {
      "text/plain": [
       "array([0, 1, 2, 3, 4, 5, 6, 7, 8, 9])"
      ]
     },
     "execution_count": 13,
     "metadata": {},
     "output_type": "execute_result"
    }
   ],
   "source": [
    "v5 = np.array(range(len(x)))\n",
    "v5"
   ]
  },
  {
   "cell_type": "markdown",
   "id": "occupied-store",
   "metadata": {},
   "source": [
    "На вход подаётся 2 списка целых чисел (они представляют из себя вектора равной длины, т.е. с одинаковым количеством элементов).\n",
    "\n",
    "Используя векторные операции создайте и сохраните:\n",
    "\n",
    "- в переменную V1 Numpy вектор с числами из 1 строки\n",
    "- в переменную V2 Numpy вектор с числами из 2 строки\n",
    "- в переменную V3 Numpy вектор с покоординатными суммами V1 и V2\n",
    "- в переменную V4 Numpy вектор с покоординатными произведениями каждого второго числа V1 на каждое второе число V2, развёрнутого в обратном порядке"
   ]
  },
  {
   "cell_type": "code",
   "execution_count": 25,
   "id": "another-insulation",
   "metadata": {},
   "outputs": [
    {
     "name": "stdout",
     "output_type": "stream",
     "text": [
      "1, 2, 3, 4\n",
      "10, 20, 30, 40\n"
     ]
    }
   ],
   "source": [
    "V1 = np.fromstring(input(), dtype=int, sep=', ')\n",
    "V2 = np.fromstring(input(), dtype=int, sep=', ')"
   ]
  },
  {
   "cell_type": "code",
   "execution_count": 26,
   "id": "behavioral-limit",
   "metadata": {},
   "outputs": [
    {
     "data": {
      "text/plain": [
       "array([11, 22, 33, 44])"
      ]
     },
     "execution_count": 26,
     "metadata": {},
     "output_type": "execute_result"
    }
   ],
   "source": [
    "V3 = V1+V2\n",
    "V3"
   ]
  },
  {
   "cell_type": "code",
   "execution_count": 29,
   "id": "african-promise",
   "metadata": {},
   "outputs": [
    {
     "data": {
      "text/plain": [
       "array([40, 60])"
      ]
     },
     "execution_count": 29,
     "metadata": {},
     "output_type": "execute_result"
    }
   ],
   "source": [
    "V4 = V1[::2] * V2[::-2]\n",
    "V4"
   ]
  },
  {
   "cell_type": "markdown",
   "id": "round-stylus",
   "metadata": {},
   "source": [
    "На вход подаётся 2 набора целых чисел.\n",
    "\n",
    "Создайте вектор V такой, что он будет содержать числа из 1 набора, делящиеся нацело на предпоследнее число из 2 набора и разделённые на это число.\n",
    "\n",
    "Если таких чисел не найдётся, то вектор V будет пустым (т.е. не будет содержать элементов)."
   ]
  },
  {
   "cell_type": "code",
   "execution_count": 37,
   "id": "liable-gregory",
   "metadata": {},
   "outputs": [
    {
     "name": "stdout",
     "output_type": "stream",
     "text": [
      "1, 2, 3, 4, 5, 6\n",
      "1, 2, 3, 4\n"
     ]
    }
   ],
   "source": [
    "V1 = np.fromstring(input(), sep=',', dtype=int)\n",
    "V2 = np.fromstring(input(), sep=',', dtype=int)[-2]\n",
    "V = V1[V1 % V2 == 0] / V2"
   ]
  },
  {
   "cell_type": "code",
   "execution_count": 38,
   "id": "light-current",
   "metadata": {},
   "outputs": [
    {
     "data": {
      "text/plain": [
       "array([1., 2.])"
      ]
     },
     "execution_count": 38,
     "metadata": {},
     "output_type": "execute_result"
    }
   ],
   "source": [
    "V"
   ]
  },
  {
   "cell_type": "code",
   "execution_count": 53,
   "id": "italian-carrier",
   "metadata": {},
   "outputs": [
    {
     "name": "stdout",
     "output_type": "stream",
     "text": [
      "17.999999999999993\n"
     ]
    }
   ],
   "source": [
    "def len_a(a1, a2):\n",
    "    #длина отрезка по координатам точек a1(x1, y1) и a2(x2, y2)\n",
    "    #((a1[0] - a2[0])**2 + (a1[1] - a2[1])**2) ** 0.5\n",
    "    return sum((a1-a2)**2)**0.5 \n",
    "\n",
    "A1 = np.array((-1, 1))\n",
    "A2 = np.array((2, 5))\n",
    "A3 = np.array((5, -3))\n",
    "\n",
    "# пл. треугольника по формуле герона\n",
    "a = len_a(A1, A2)\n",
    "b = len_a(A2, A3)\n",
    "c = len_a(A1, A3)\n",
    "\n",
    "p = (a + b + c) / 2\n",
    "\n",
    "S = (p * (p - a) * (p - b) * (p - c)) ** 0.5\n",
    "\n",
    "print(S)"
   ]
  },
  {
   "cell_type": "markdown",
   "id": "editorial-publisher",
   "metadata": {},
   "source": [
    "Переменная M1 содержит Numpy матрицу.\n",
    "\n",
    "Произведите операции последовательно:\n",
    "\n",
    "1. Замените значения в предпоследней строке на значения по формуле:\n",
    "\n",
    "$sin(x*π/6)$, где x - старое значение\n",
    "\n",
    "2. Замените значения в предпоследнем столбце на значения по формуле:\n",
    "\n",
    "$e^x$\n",
    "\n",
    " \n",
    "\n",
    "Примечание. Для ячейки на пересечении предпоследнего столбца и предпоследней строки значение ячейки будет изменено по формуле: \n",
    "\n",
    "$e^$$(sin(x*π/6))$\n",
    "\n",
    " \n",
    "\n",
    "Результат запишите в переменную M2"
   ]
  },
  {
   "cell_type": "code",
   "execution_count": 69,
   "id": "supreme-insulin",
   "metadata": {},
   "outputs": [],
   "source": [
    "M1 = np.array((\n",
    "    (1., 2., 3., 0.),\n",
    "    (4., 5., 6., 0.),\n",
    "    (0., 1., 1., 6.),\n",
    "    (7., 8., 9., 0.)\n",
    "))"
   ]
  },
  {
   "cell_type": "code",
   "execution_count": 75,
   "id": "legislative-hunger",
   "metadata": {},
   "outputs": [],
   "source": [
    "M2 = M1.copy()\n",
    "M2[-2] = np.sin(M2[-2]*np.pi/6)\n",
    "M2[:, -2] = np.exp(M2[:, -2])"
   ]
  }
 ],
 "metadata": {
  "kernelspec": {
   "display_name": "Python 3",
   "language": "python",
   "name": "python3"
  },
  "language_info": {
   "codemirror_mode": {
    "name": "ipython",
    "version": 3
   },
   "file_extension": ".py",
   "mimetype": "text/x-python",
   "name": "python",
   "nbconvert_exporter": "python",
   "pygments_lexer": "ipython3",
   "version": "3.8.5"
  }
 },
 "nbformat": 4,
 "nbformat_minor": 5
}
