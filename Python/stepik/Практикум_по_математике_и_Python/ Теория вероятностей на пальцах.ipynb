{
 "cells": [
  {
   "attachments": {
    "image.png": {
     "image/png": "[encoded data removed]"
    }
   },
   "cell_type": "markdown",
   "id": "essential-shannon",
   "metadata": {},
   "source": [
    "Для практического знакомства с теорией вероятности мы воспользуемся методом Монте-Карло. В дальнейшем мы уделим больше внимания практическому применению метода, а пока просто используем его элементы.\n",
    "\n",
    "## Метод Монте-Карло\n",
    "\n",
    "Это метод моделирования некоторого процесса с помощью случайных чисел. Грубо говоря, мы много раз бросаем шарик на крутящуюся рулетку, подсчитываем как часто выпадает \"зеро\" и делаем на этом основании выводы.\n",
    "\n",
    "https://ru.wikipedia.org/wiki/%D0%9C%D0%B5%D1%82%D0%BE%D0%B4_%D0%9C%D0%BE%D0%BD%D1%82%D0%B5-%D0%9A%D0%B0%D1%80%D0%BB%D0%BE\n",
    "\n",
    "Метод позволяет в том числе решать задачи по теории вероятности. Менее эффективно, чем аналитические способы, однако позволяет. Для этого фактически мы используем *классическое определение*: вероятность это отношение числа всех благоприятных событий к числу всех событий.\n",
    "\n",
    "https://ru.wikipedia.org/wiki/%D0%92%D0%B5%D1%80%D0%BE%D1%8F%D1%82%D0%BD%D0%BE%D1%81%D1%82%D1%8C#%D0%9A%D0%BB%D0%B0%D1%81%D1%81%D0%B8%D1%87%D0%B5%D1%81%D0%BA%D0%BE%D0%B5_%D0%BE%D0%BF%D1%80%D0%B5%D0%B4%D0%B5%D0%BB%D0%B5%D0%BD%D0%B8%D0%B5\n",
    "\n",
    "Предположим, у нас есть игральный кубик с 6 гранями (1, 2, 3, 4, 5, 6). Какова вероятность выпадения 1 очка?\n",
    "\n",
    "Для решения задачи просто бросим кубик 10000 раз, посмотрим сколько раз выпадет 1 и поделим число 1 к числу бросков. Используем модуль random:\n",
    "\n",
    "import random\n",
    "dice = [1, 2, 3, 4, 5, 6]\n",
    "results = [random.choice(dice) for i in range(10000)]\n",
    "results.count(1)/len(results)\n",
    "\n",
    "Обычно получается довольно похоже на правду.\n",
    "\n",
    "![image.png](attachment:image.png) \n",
    "\n",
    "Примечание.\n",
    "\n",
    "Задачи этого раздела решаются с помощью генерации случайных наборов данных. Это означает, что при определённом стечении обстоятельств у вас даже 10 бросков монеты может выпасть \"на ребро\". Поэтому в задачах допускается небольшое отклонение от эталонного ответа (как правило в пределах 1 десятой). Тем более эталон тоже получается методом Монте-Карло и может отличаться от истинного значения вероятности.\n"
   ]
  },
  {
   "cell_type": "markdown",
   "id": "organic-graduate",
   "metadata": {},
   "source": [
    "# Разминка\n",
    "\n",
    "В D&D используются самые разные \"кубики\" для моделирования какого-то действия. С 4, 6, 8, 10, 12, 20 и даже особое устройство, со 100 гранями.\n",
    "\n",
    "На вход подаётся количество граней у эмулируемой игральной кости.\n",
    "\n",
    "Выведите на печать вероятность в процентах выпадения грани 1, округлив до 1 знака после запятой."
   ]
  },
  {
   "cell_type": "code",
   "execution_count": 1,
   "id": "harmful-beast",
   "metadata": {},
   "outputs": [
    {
     "name": "stdout",
     "output_type": "stream",
     "text": [
      "100\n",
      "1.0%\n"
     ]
    }
   ],
   "source": [
    "import random\n",
    "\n",
    "\n",
    "dice = [i for i in range(1, int(input())+1)]\n",
    "results = [random.choice(dice) for _ in range(1000000)]\n",
    "print(f'{round(results.count(1)/len(results)*100,1)}%')"
   ]
  },
  {
   "cell_type": "markdown",
   "id": "central-publication",
   "metadata": {},
   "source": [
    "# Задача 1.1\n",
    "\n",
    "На вход подаётся 2 числа: n, m\n",
    "\n",
    "- n - число подброшенных абсолютно одинаковых монет (независимо)\n",
    "- m - число решек, которые нас интересуют\n",
    "\n",
    "Выведите на печать вероятность в процентах выпадения ровно m решек при броске n монет, округлив до 1 знака после запятой."
   ]
  },
  {
   "cell_type": "code",
   "execution_count": 24,
   "id": "statewide-worship",
   "metadata": {},
   "outputs": [
    {
     "name": "stdout",
     "output_type": "stream",
     "text": [
      "Введите число монет: 3\n",
      "Введите число решек: 0\n",
      "12.6%\n"
     ]
    }
   ],
   "source": [
    "import random\n",
    "\n",
    "\n",
    "def simulate(n, k, prob = 0.5, trials = 1_000_000):\n",
    "    successes = 0\n",
    "    for i in range(trials):\n",
    "        trial = ''.join('Решка' if random.random() < prob else 'Орел' for _ in range(n))\n",
    "        if trial.count('Решка') == k: successes += 1\n",
    "    return successes/trials\n",
    "\n",
    "\n",
    "n = int(input(\"Введите число монет: \"))\n",
    "m = int(input(\"Введите число решек: \"))\n",
    "\n",
    "res = simulate(n, m)\n",
    "\n",
    "print(f'{round(res * 100, 1)}%')"
   ]
  },
  {
   "cell_type": "markdown",
   "id": "baking-nudist",
   "metadata": {},
   "source": [
    "# Задача 1.2\n",
    "\n",
    "На вход подаётся 2 числа: n, m\n",
    "\n",
    "- n - число подброшенных абсолютно одинаковых монет (независимо)\n",
    "- m - число решек, которые нас интересуют\n",
    "\n",
    "Выведите на печать вероятность в процентах выпадения не более m решек при броске n монет, округлив до 1 знака после запятой."
   ]
  },
  {
   "cell_type": "code",
   "execution_count": 25,
   "id": "drawn-christianity",
   "metadata": {},
   "outputs": [
    {
     "name": "stdout",
     "output_type": "stream",
     "text": [
      "Введите число монет: 3\n",
      "Введите число решек: 2\n",
      "87.5%\n"
     ]
    }
   ],
   "source": [
    "import random\n",
    "\n",
    "\n",
    "def simulate(n, k, prob = 0.5, trials = 1_000_000):\n",
    "    successes = 0\n",
    "    for i in range(trials):\n",
    "        trial = ''.join('Решка' if random.random() < prob else 'Орел' for _ in range(n))\n",
    "        if trial.count('Решка') <= k: successes += 1\n",
    "    return successes/trials\n",
    "\n",
    "\n",
    "n = int(input(\"Введите число монет: \"))\n",
    "m = int(input(\"Введите число решек: \"))\n",
    "\n",
    "res = simulate(n, m)\n",
    "\n",
    "print(f'{round(res * 100, 1)}%')"
   ]
  },
  {
   "cell_type": "code",
   "execution_count": 26,
   "id": "fresh-termination",
   "metadata": {},
   "outputs": [
    {
     "name": "stdout",
     "output_type": "stream",
     "text": [
      "3\n",
      "1\n",
      "50.0%\n"
     ]
    }
   ],
   "source": [
    "# Аналитическое решение\n",
    "from math import factorial\n",
    "\n",
    "\n",
    "def comb(n, m):\n",
    "    return factorial(n) / (factorial(n - m) * factorial(m))\n",
    "\n",
    "\n",
    "n = int(input()) #число испытаний\n",
    "m = int(input()) #число решек\n",
    "\n",
    "p = 1 - sum(comb(n, m) for m in range(m + 1, n + 1)) / 2 ** n\n",
    "\n",
    "print(f'{p * 100}%')"
   ]
  },
  {
   "cell_type": "code",
   "execution_count": 27,
   "id": "floppy-rings",
   "metadata": {},
   "outputs": [
    {
     "name": "stdout",
     "output_type": "stream",
     "text": [
      "5\n",
      "3\n",
      "81.3%\n"
     ]
    }
   ],
   "source": [
    "import random\n",
    "\n",
    "\n",
    "n, m = int(input()), int(input())\n",
    "s = 1_000_000  # количество бросков\n",
    "r = 0  # сколько раз выпало то что надо\n",
    "\n",
    "for _ in range(s):\n",
    "    temp = sum(random.randint(0, 1) for _ in range(n))\n",
    "    r += int(temp <= m)\n",
    "\n",
    "    \n",
    "print(f'{round(r*100/s, 1)}%')"
   ]
  },
  {
   "cell_type": "markdown",
   "id": "combined-disability",
   "metadata": {},
   "source": [
    "С одной игральной костью дело обстоит до неприличия просто. \n",
    "\n",
    "Напомню, что вероятность находится по формуле $P=m/n$, \n",
    "\n",
    "где $n$ - число всех равновозможных элементарных исходов эксперимента с подбрасыванием кубика или кости, \n",
    "\n",
    "а $m$ - число тех исходов, которые благоприятствуют событию. "
   ]
  },
  {
   "cell_type": "markdown",
   "id": "packed-poison",
   "metadata": {},
   "source": [
    "# Задача 2.1\n",
    "\n",
    "Брошено N игральных костей с M гранями (см. разминочную задачу). Какова вероятность выпадения ровно K очков в сумме?\n",
    "\n",
    "На вход подаётся 3 числа: N, M, K\n",
    "\n",
    "Выведите на печать вероятность в процентах, округлив до 1 знака после запятой."
   ]
  },
  {
   "cell_type": "code",
   "execution_count": 135,
   "id": "directed-teaching",
   "metadata": {},
   "outputs": [
    {
     "name": "stdout",
     "output_type": "stream",
     "text": [
      "3\n",
      "4\n",
      "6\n",
      "4.7%\n"
     ]
    }
   ],
   "source": [
    "# Аналитическое решение\n",
    "# Работает с \n",
    "# 2\n",
    "# 6\n",
    "# 7\n",
    "\n",
    "# 16.6%\n",
    "\n",
    "import numpy as np \n",
    "\n",
    "\n",
    "N = int(input())\n",
    "M = int(input())\n",
    "K = int(input())\n",
    "\n",
    "arrays = [np.arange(1, M+1) for _ in range(M)]\n",
    "\n",
    "matrix = np.matrix(arrays)\n",
    "\n",
    "for i in range(1, M+1):\n",
    "    matrix[i-1, :] += i \n",
    "    \n",
    "    \n",
    "m = (matrix == K).sum() \n",
    "\n",
    "n = M**N \n",
    "\n",
    "print(f'{round(m*100/n, 1)}%')"
   ]
  },
  {
   "cell_type": "code",
   "execution_count": 145,
   "id": "engaging-egypt",
   "metadata": {},
   "outputs": [
    {
     "name": "stdout",
     "output_type": "stream",
     "text": [
      "5\n",
      "10\n",
      "15\n",
      "2.0%\n"
     ]
    }
   ],
   "source": [
    "N = int(input())\n",
    "M = int(input())\n",
    "K = int(input())\n",
    "\n",
    "\n",
    "def f(m, n, x): \n",
    "    table=[[0]*(x + 1) for i in range(n + 1)]\n",
    "    for j in range(1, min(m + 1, x + 1)): \n",
    "        table[1][j]=1\n",
    "\n",
    "    for i in range(2, n+1): \n",
    "        for j in range(1, x+1): \n",
    "            for k in range(1, min(m+1, j)): \n",
    "                table[i][j]+=table[i-1][j-k] \n",
    "\n",
    "    return table[-1][-1] \n",
    "\n",
    "\n",
    "m = f(N, M, K)\n",
    "n = M**N\n",
    "\n",
    "print(f'{round(m*100/n, 1)}%')"
   ]
  },
  {
   "cell_type": "code",
   "execution_count": 146,
   "id": "conditional-courtesy",
   "metadata": {},
   "outputs": [
    {
     "name": "stdout",
     "output_type": "stream",
     "text": [
      "5\n",
      "10\n",
      "15\n",
      "2.0%\n"
     ]
    }
   ],
   "source": [
    "N = int(input())\n",
    "M = int(input())\n",
    "K = int(input())\n",
    "\n",
    "\n",
    "def fun(f, d, s): \n",
    "    mem = [[0 for i in range(s+1)] for j in range(d+1)] \n",
    "    mem[0][0] = 1\n",
    "    for i in range(1, d+1): \n",
    "        for j in range(1, s+1):  \n",
    "            mem[i][j] = mem[i][j - 1] + mem[i - 1][j - 1] \n",
    "            if j - f - 1 >= 0: \n",
    "                mem[i][j] -= mem[i - 1][j - f - 1] \n",
    "    return mem[d][s] \n",
    "\n",
    "\n",
    "m = fun(N, M, K)\n",
    "n = M**N\n",
    "\n",
    "print(f'{round(m*100/n, 1)}%')\n"
   ]
  },
  {
   "cell_type": "code",
   "execution_count": 149,
   "id": "impressed-advice",
   "metadata": {},
   "outputs": [
    {
     "name": "stdout",
     "output_type": "stream",
     "text": [
      "3\n",
      "4\n",
      "6\n",
      "15.6%\n"
     ]
    }
   ],
   "source": [
    "\n",
    "N = int(input())\n",
    "M = int(input())\n",
    "K = int(input())\n",
    "\n",
    "def count(n, m, k):\n",
    "    if n == 0:\n",
    "        return 1 if (k == 0) else 0\n",
    " \n",
    "    if k < 0 or m * n < k or n > k:\n",
    "        return 0\n",
    " \n",
    "    result = 0\n",
    " \n",
    "    for i in range(1, m + 1):\n",
    "        result += count(n - 1, m, k - i)\n",
    " \n",
    "    return result\n",
    " \n",
    "\n",
    "m = count(N,M,K)\n",
    "n = M**N\n",
    "print(f'{round(m*100/n, 1)}%')"
   ]
  },
  {
   "cell_type": "code",
   "execution_count": null,
   "id": "scenic-afghanistan",
   "metadata": {},
   "outputs": [],
   "source": [
    "# Монте-Карло\n",
    "import random\n",
    "import numpy as np\n",
    "\n",
    "\n",
    "n = int(input())\n",
    "m = int(input())\n",
    "k = int(input())\n",
    "\n",
    "dices = np.arange(m) + 1\n",
    "\n",
    "results = [sum(random.choices(dices, k=n)) for i in range(300000)]\n",
    "\n",
    "ttl = 100 * results.count(k) / len(results)\n",
    "\n",
    "print(f'{round(ttl,1)}%')"
   ]
  },
  {
   "cell_type": "code",
   "execution_count": null,
   "id": "billion-absence",
   "metadata": {},
   "outputs": [],
   "source": [
    "# Аналитическое решение (не Монте-Карло). \n",
    "# Создаем все множество комбинаций n костей с m гранями, \n",
    "#а потом сравниваем каждую комбинацию с суммой k.\n",
    "import numpy as np\n",
    "from itertools import product\n",
    "\n",
    "\n",
    "n = int(input())\n",
    "m = int(input())\n",
    "k = int(input())\n",
    "\n",
    "# Общее количество исходов:\n",
    "r = m**n\n",
    "res = 0\n",
    "\n",
    "# Создаем матрицу (в строке значения на гранях кости, кол-во строк = кол-ву костей)\n",
    "kosti = np.tile(np.arange(1, m+1), [n, 1])\n",
    "\n",
    "\n",
    "# Создаем итератор перебора различных комбинаций\n",
    "combine = product(*kosti, repeat=1) # * - распакуем матрицу\n",
    "\n",
    "\n",
    "# Посчитаем сумму в кортежах \n",
    "for comb in combine:\n",
    "    if sum(comb) == k:\n",
    "        res += 1\n",
    "\n",
    "\n",
    "print('{:.1%}'.format(res/r))"
   ]
  },
  {
   "cell_type": "markdown",
   "id": "electoral-miami",
   "metadata": {},
   "source": [
    "# Задача 2.2\n",
    "\n",
    "Брошено N игральных костей с M гранями. Какова вероятность выпадения K или больше очков в сумме?\n",
    "\n",
    "На вход подаётся 3 числа: N, M, K\n",
    "\n",
    "Выведите на печать вероятность в процентах, округлив до 1 знака после запятой."
   ]
  },
  {
   "cell_type": "code",
   "execution_count": 8,
   "id": "indie-fossil",
   "metadata": {},
   "outputs": [
    {
     "name": "stdout",
     "output_type": "stream",
     "text": [
      "3\n",
      "4\n",
      "8\n",
      "50.0%\n"
     ]
    }
   ],
   "source": [
    "from random import choice\n",
    "\n",
    "\n",
    "n, m, k = [int(input()) for _ in range(3)]\n",
    "\n",
    "iters = 1_000_000\n",
    "\n",
    "dice = [i+1 for i in range(m)]\n",
    "\n",
    "positive = sum(1 for _ in range(iters) if sum([choice(dice) for _ in range(n)]) >= k)\n",
    "\n",
    "print(f'{round(positive/iters * 100, 1)}%')"
   ]
  },
  {
   "cell_type": "markdown",
   "id": "fancy-myanmar",
   "metadata": {},
   "source": [
    "# Задача 3.1\n",
    "\n",
    "Лента длиной L сантиметров разрезается на 2 куска в случайном месте.\n",
    "\n",
    "Найдите вероятность того, что один из кусков имеет длину не менее M сантиметров.\n",
    "\n",
    "На вход подаётся 2 числа: L, M\n",
    "\n",
    "Выведите на печать вероятность в процентах, округлив до 1 знака после запятой."
   ]
  },
  {
   "cell_type": "markdown",
   "id": "wrapped-packaging",
   "metadata": {},
   "source": [
    "Здесь мы имеем дело с непрерывными случайными величинами. Поскольку M имеет равные шансы оказаться равной любому числу из интервала [0, L], то плотность вероятности будет описываться прямой вида f(M) = a*M + b. Первая точка прямой - это значение при M = L (Вероятность получить один из отрезов не менее L равно нулю). f(M) = 0. Вторая точка M = L/2 (Вероятность получить один из отрезов не менее L/2 равно 1). f(M) = 1. Получаем систему линейных уравнений, находим коэффициенты a и b и задаем функцию."
   ]
  },
  {
   "cell_type": "code",
   "execution_count": 1,
   "id": "broad-effectiveness",
   "metadata": {},
   "outputs": [
    {
     "name": "stdout",
     "output_type": "stream",
     "text": [
      "100\n",
      "80\n",
      "40.0%\n"
     ]
    }
   ],
   "source": [
    "def f(l, m):\n",
    "    if m <= l/2:\n",
    "        return 1\n",
    "    elif m >= l:\n",
    "        return 0\n",
    "    else:\n",
    "        return (-2*m/l) + 2\n",
    "    \n",
    "L = int(input())\n",
    "M = int(input())\n",
    "\n",
    "print('{:.1%}'.format(f(L, M)))"
   ]
  },
  {
   "cell_type": "code",
   "execution_count": 5,
   "id": "contrary-rebate",
   "metadata": {},
   "outputs": [
    {
     "name": "stdout",
     "output_type": "stream",
     "text": [
      "100\n",
      "80\n",
      "39.9%\n"
     ]
    }
   ],
   "source": [
    "from random import uniform\n",
    "\n",
    "L = int(input())\n",
    "M = int(input())\n",
    "res = 0\n",
    "iters = 1_000_000\n",
    "\n",
    "for i in range(iters):\n",
    "    j = uniform(0, L)\n",
    "    if (j >= M) or (L-j >= M):\n",
    "        res += 1\n",
    "\n",
    "\n",
    "print('{:.1%}'.format(res/iters))\n"
   ]
  },
  {
   "cell_type": "markdown",
   "id": "printable-recipe",
   "metadata": {},
   "source": [
    "Лента длиной L сантиметров разрезается на N кусков в случайных местах (т.е. делают N-1 разрез).\n",
    "\n",
    "Найдите вероятность того, что один из кусков имеет длину не менее M сантиметров.\n",
    "\n",
    "На вход подаётся 3 числа: L, N, M\n",
    "\n",
    "Выведите на печать вероятность в процентах, округлив до 1 знака после запятой."
   ]
  },
  {
   "cell_type": "markdown",
   "id": "identified-particle",
   "metadata": {},
   "source": [
    "Пример L=100, N = 4, M = 30\n",
    "\n",
    "Cгенерим 3  числа между 0-100\n",
    "\n",
    "Cгенеренные числа в отсортированном виде:  [10,  30,  60]\n",
    "\n",
    "В конце можно добавить сам L:  [10.0,  30,  60, 100]\n",
    "\n",
    "Находим расстояние между числами, это есть длины кусков ленты.\n",
    "\n",
    "[10,  20, 30,  40] \n",
    "\n",
    "Максимальное расстоение - 40, оно больше M, значит его добавим в массив."
   ]
  },
  {
   "cell_type": "markdown",
   "id": "gross-corruption",
   "metadata": {},
   "source": [
    "Совет тут может быть только один алгоритмически - создать N-1 чисел, упорядочить их по возрастанию, вычислить интервалы между началом и 1 точкой, между 1 и 2 точкой, ... между N-2 точкой и N,-1 между N-1 точкой и концом. Посмотреть есть ли среди интервалов хотя бы 1 (можно взять самый большой интервал), который не меньше M.\n",
    "\n",
    "Повторить процедуру много-много раз. Посчитать сколько раз подходящий интервал нашёлся, из всех опытов.\n",
    "\n",
    "Важно понимать, что если в опыте получилось 2 подходящих интервала, это всё равно 1 удача. Важно не забывать что числа могут генерироваться в любом порядке, поэтому правильно считать интервалы.\n",
    "\n",
    "Ну по крайней мере я бы придерживался такой схемы."
   ]
  },
  {
   "cell_type": "code",
   "execution_count": 2,
   "id": "clean-death",
   "metadata": {},
   "outputs": [
    {
     "name": "stdout",
     "output_type": "stream",
     "text": [
      "100\n",
      "2\n",
      "80\n",
      "40.1%\n"
     ]
    }
   ],
   "source": [
    "import numpy as np \n",
    "\n",
    "\n",
    "L = int(input())  # длина ленты\n",
    "N = int(input())  # кол-во кусков\n",
    "M = int(input())  # длина куска\n",
    "result = 0        # кол-во удач\n",
    "iters = 1_000_000 # кол-во экспериментов \n",
    "\n",
    "for i in range(iters):\n",
    "    j = np.random.uniform(0,L,N-1) # точки где мы делаем разрез\n",
    "    j = np.append(j,[L, 0])        # добовляем начало и конец отрезка \n",
    "    j = np.sort(j)                  \n",
    "    j = np.diff(j)                 #  вычислить интервалы между точками a[i+1] - a[i] \n",
    "    j = np.max(j)\n",
    "    if (j >= M):                   # наш разрезанный кусок больше предположенного куска\n",
    "        result += 1\n",
    "\n",
    "\n",
    "print('{:.1%}'.format(result/iters))"
   ]
  },
  {
   "cell_type": "markdown",
   "id": "reasonable-transaction",
   "metadata": {},
   "source": [
    "# Задача 4.1\n",
    "\n",
    "В трамвайном парке имеются N трамваев маршрута №1 и M трамваев маршрута №2. Какова вероятность того, что вторым по счету на линию выйдет трамвай маршрута №1?\n",
    "\n",
    "На вход подаётся 2 числа: N, M\n",
    "\n",
    "Выведите на печать вероятность в процентах, округлив до 1 знака после запятой."
   ]
  },
  {
   "cell_type": "code",
   "execution_count": 7,
   "id": "juvenile-canyon",
   "metadata": {},
   "outputs": [
    {
     "name": "stdout",
     "output_type": "stream",
     "text": [
      "15\n",
      "10\n",
      "60.0%\n"
     ]
    }
   ],
   "source": [
    "# аналетическое \n",
    "N = float(input())\n",
    "M = float(input())\n",
    "\n",
    "P = (N/(N+M)) * ((N-1)/(M+N-1))  +  (M/(N+M)) * (N/(N+M-1))\n",
    "\n",
    "print('{:.1%}'.format(P))"
   ]
  },
  {
   "cell_type": "code",
   "execution_count": 18,
   "id": "american-issue",
   "metadata": {},
   "outputs": [
    {
     "name": "stdout",
     "output_type": "stream",
     "text": [
      "15\n",
      "10\n",
      "60.1%\n"
     ]
    }
   ],
   "source": [
    "# теоретическое \n",
    "import random\n",
    "\n",
    "\n",
    "n, m, iters, result = int(input()), int(input()), 1_000_000, 0\n",
    "tram = [1] * n + [2] * m # список трамваев \n",
    "\n",
    "for _ in range(iters):\n",
    "    random.shuffle(tram)\n",
    "    if tram[1] == 1:\n",
    "        result += 1\n",
    "\n",
    "print('{:.1%}'.format(result/iters))"
   ]
  },
  {
   "cell_type": "markdown",
   "id": "inner-black",
   "metadata": {},
   "source": [
    "# Задача 4.2\n",
    "\n",
    "В трамвайном парке имеются N трамваев маршрута №1 и M трамваев маршрута №2. Какова вероятность того, что K-м по счету на линию выйдет трамвай маршрута №1?\n",
    "\n",
    "На вход подаётся 3 числа: N, M, K"
   ]
  },
  {
   "cell_type": "code",
   "execution_count": 38,
   "id": "affected-fossil",
   "metadata": {},
   "outputs": [
    {
     "name": "stdout",
     "output_type": "stream",
     "text": [
      "15\n",
      "10\n",
      "2\n",
      "60.0%\n"
     ]
    }
   ],
   "source": [
    "import numpy as np \n",
    "\n",
    "\n",
    "n, m, k, iters, result = int(input()), int(input()), int(input()), 1_000_000, 0\n",
    "tram = [1] * n + [2] * m  # список трамваев \n",
    "\n",
    "for _ in range(iters):\n",
    "    np.random.shuffle(tram)\n",
    "    if tram[k-1] == 1:\n",
    "        result += 1\n",
    "\n",
    "print('{:.1%}'.format(result/iters))"
   ]
  },
  {
   "cell_type": "markdown",
   "id": "compressed-choir",
   "metadata": {},
   "source": [
    "# Задача 4.3\n",
    "\n",
    "Ситуация усложняется. В трамвайном парке может быть много больше чем 2 вида маршрутов. И для поездки на работу или домой вам может подойти не 1, а сразу несколько маршрутов.\n",
    "\n",
    "- В 1 строке передаются идентификаторы маршрутов (это могут быть как числа, так и цифро-буквенные обозначения), разделённые пробелами\n",
    "- Во 2 строке передаётся количество трамваев каждого маршрута в парке (в том же порядке в котором передавались их идентификаторы)\n",
    "- В 3 строке передаются идентификаторы (1 или несколько) целевых трамваев, разделённые пробелами (гарантируется, что все они есть в депо)\n",
    "- В 4 строке передаётся номер идущего по счёту трамвая (число)\n",
    "\n",
    "Какова вероятность того что этот трамвай принадлежит одному из целевых маршрутов?"
   ]
  },
  {
   "cell_type": "code",
   "execution_count": 62,
   "id": "entire-hormone",
   "metadata": {},
   "outputs": [
    {
     "name": "stdout",
     "output_type": "stream",
     "text": [
      "1 2 3 4 5\n",
      "1 2 3 4 5\n",
      "1 3 5 \n",
      "1\n",
      "60.0%\n"
     ]
    }
   ],
   "source": [
    "import numpy as np \n",
    "\n",
    "\n",
    "# Вытянуть многомерный список\n",
    "def list_pull(L):\n",
    "    return [x for y in L for x in list_pull(y)] if isinstance(L, list) else [L]\n",
    "\n",
    "\n",
    "tram_depo = list(map(list_pull, input().split())) # трамвая в депо\n",
    "cnt_tram = list(map(int, input().split()))        # их кол-во\n",
    "tram_need = list(input().split())                 # подходящие трамваи \n",
    "k = int(input())                                  # каким должен быть по счету \n",
    "park = []\n",
    "iters = 1_000_000\n",
    "result = 0\n",
    "\n",
    "# сколько и какие трамвая в депо\n",
    "for i in range(len(tram_depo)):\n",
    "    park += tram_depo[i] * cnt_tram[i]  \n",
    "    \n",
    "    \n",
    "for _ in range(iters):\n",
    "    np.random.shuffle(park)\n",
    "    if park[k-1] in tram_need:\n",
    "        result += 1\n",
    "\n",
    "\n",
    "print('{:.1%}'.format(result/iters))"
   ]
  },
  {
   "cell_type": "markdown",
   "id": "funded-district",
   "metadata": {},
   "source": [
    "# Задача 5\n",
    "\n",
    "Из ящика, содержащего N билетов с номерами 1, 2,...,N вынимают по одному все билеты. Предполагается, что все последовательности номеров билетов имеют одинаковые вероятности. Найти вероятность того, что хотя бы у одного билета порядковый номер совпадает с собственным.\n",
    "\n",
    "На вход подаётся 1 число - N\n",
    "\n",
    "Выведите на печать вероятность в процентах, округлив до 1 знака после запятой.\n",
    "\n",
    "напоминает задачу с фантами "
   ]
  },
  {
   "cell_type": "code",
   "execution_count": 78,
   "id": "accepting-luxury",
   "metadata": {},
   "outputs": [
    {
     "name": "stdout",
     "output_type": "stream",
     "text": [
      "4\n",
      "62.5%\n"
     ]
    }
   ],
   "source": [
    "import random\n",
    "\n",
    "\n",
    "n = int(input())\n",
    "iters = 1_000_000\n",
    "result = 0\n",
    "\n",
    "for _ in range(iters):\n",
    "    if all(map(lambda x,y: x - y,range(n),random.sample(range(n),n))):\n",
    "        result += 1\n",
    "\n",
    "result = iters - result\n",
    "    \n",
    "print('{:.1%}'.format(result/iters))"
   ]
  },
  {
   "cell_type": "code",
   "execution_count": null,
   "id": "deadly-shareware",
   "metadata": {},
   "outputs": [],
   "source": [
    "import numpy as np\n",
    "\n",
    "\n",
    "num, tries, success = int(input()), 1000000, 0\n",
    "\n",
    "tickets = np.arange(1, num+1)\n",
    "\n",
    "golden_standart = np.arange(1, num+1)\n",
    "\n",
    "for _ in range(tries):\n",
    "    np.random.shuffle(tickets)\n",
    "    success+=(1 if any(tickets==golden_standart) else 0)\n",
    "    \n",
    "    \n",
    "print('{:.1%}'.format(success/tries))"
   ]
  },
  {
   "cell_type": "markdown",
   "id": "faced-profile",
   "metadata": {},
   "source": [
    "# Задача 6\n",
    "\n",
    "🂡🂢🂣🂤🂥🂦🂧🂨🂩🂪🂫🂭🂮\n",
    "\n",
    "🂱🂲🂳🂴🂵🂶🂷🂸🂹🂺🂻🂽🂾\n",
    "\n",
    "🃁🃂🃃🃄🃅🃆🃇🃈🃉🃊🃋🃍🃎\n",
    "\n",
    "🃑🃒🃓🃔🃕🃖🃗🃘🃙🃚🃛🃝🃞\n",
    "\n",
    "Это полный набор символов Unicode, соответствующих всем 52 игральным картам стандартной колоды карт - https://en.wikipedia.org/wiki/Playing_cards_in_Unicode\n",
    "\n",
    "Особенно нас интересуют тузы:\n",
    "🂡🂱🃁🃑\n",
    "\n",
    "На вход подаётся строка из символов-карт. Гарантируется, что в ней есть все 4 туза ровно по 1 экземпляру, однако остальные карты могут отсутствовать или дублироваться.\n",
    "\n",
    "Колода хорошо равномерно перемешивается.\n",
    "\n",
    "Какова вероятность, что все 4 туза в ней идут подряд (не важно в каком порядке)?\n",
    "\n",
    "in1:\n",
    "\n",
    "🂡🂦🂧🂨🂩🂪🂫🂭🂮🂱🂶🂷🂸🂹🂺🂻🂽🂾🃁🃆🃇🃈🃉🃊🃋🃍🃎🃑🃖🃗🃘🃙🃚🃛🃝🃞\n",
    "\n",
    "out1: 0.06%\n",
    "\n",
    "in2:\n",
    "\n",
    "🂡🂱🃁🃑🃖🃖🃖🃖🃖🃖🃖🃖🃖🃖🃖🃖🃖🃖🃖🃖🃖🃖🃖🃖🃖🃖🃖🃖🃖🃖🃖🃖🃖🃖🃖🃖\n",
    "\n",
    "out2: 0.06%\n",
    "\n",
    "in3:\n",
    "\n",
    "🂡🂱🃁🃑🃖\n",
    "\n",
    "out3:\n",
    "\n",
    "40.12%"
   ]
  },
  {
   "cell_type": "code",
   "execution_count": 98,
   "id": "matched-fraction",
   "metadata": {},
   "outputs": [
    {
     "name": "stdout",
     "output_type": "stream",
     "text": [
      "🂡🂦🂧🂨🂩🂪🂫🂭🂮🂱🂶🂷🂸🂹🂺🂻🂽🂾🃁🃆🃇🃈🃉🃊🃋🃍🃎🃑🃖🃗🃘🃙🃚🃛🃝🃞\n",
      "0.06%\n"
     ]
    }
   ],
   "source": [
    "# аналетическое решение \n",
    "n = input()\n",
    "l = len(n)\n",
    "p = ((4*3*2*1)/(l*(l-1)*(l-2)))\n",
    "print('{:.2%}'.format(p))"
   ]
  },
  {
   "cell_type": "code",
   "execution_count": 99,
   "id": "interesting-consultation",
   "metadata": {},
   "outputs": [
    {
     "name": "stdout",
     "output_type": "stream",
     "text": [
      "🂡🂱🃁🃑🃖\n",
      "40.00%\n"
     ]
    }
   ],
   "source": [
    "from math import factorial \n",
    "\n",
    "\n",
    "x = len(input())\n",
    "print('{:.2%}'.format((factorial(x-4+1)*factorial(4))/factorial(x)))"
   ]
  },
  {
   "cell_type": "code",
   "execution_count": 108,
   "id": "iraqi-percentage",
   "metadata": {},
   "outputs": [
    {
     "name": "stdout",
     "output_type": "stream",
     "text": [
      "🂡🂱🃁🃑🃖\n",
      "40.00%\n"
     ]
    }
   ],
   "source": [
    "# Монте-Карло \n",
    "import numpy as np\n",
    "\n",
    "# считаем кол-во всего карт\n",
    "x = len(input())\n",
    "# создадим 4 туза и другие карты \n",
    "cards = np.concatenate((np.zeros(x-4), np.ones(4)))\n",
    "\n",
    "iters = 10_000_000\n",
    "success = 0\n",
    "\n",
    "for _ in range(iters):\n",
    "    y = 0\n",
    "    np.random.shuffle(cards)\n",
    "    \n",
    "    for j in range(x):\n",
    "        if cards[j] and y == 0: \n",
    "            y += 1\n",
    "        elif cards[j] and y > 0 and cards[j-1]: \n",
    "            y += 1\n",
    "\n",
    "\n",
    "    if y == 4: \n",
    "        success+=1\n",
    "\n",
    "print('{:.2%}'.format(success / iters))"
   ]
  }
 ],
 "metadata": {
  "kernelspec": {
   "display_name": "Python 3",
   "language": "python",
   "name": "python3"
  },
  "language_info": {
   "codemirror_mode": {
    "name": "ipython",
    "version": 3
   },
   "file_extension": ".py",
   "mimetype": "text/x-python",
   "name": "python",
   "nbconvert_exporter": "python",
   "pygments_lexer": "ipython3",
   "version": "3.8.5"
  }
 },
 "nbformat": 4,
 "nbformat_minor": 5
}
