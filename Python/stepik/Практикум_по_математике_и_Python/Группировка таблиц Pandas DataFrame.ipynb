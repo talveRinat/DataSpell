{
 "cells": [
  {
   "cell_type": "code",
   "execution_count": 8,
   "id": "official-brazil",
   "metadata": {},
   "outputs": [],
   "source": [
    "import pandas as pd"
   ]
  },
  {
   "cell_type": "markdown",
   "id": "comfortable-washington",
   "metadata": {},
   "source": [
    "В файле torg.csv представлена выгрузка со склада интернет-магазина.\n",
    "\n",
    "Обратите внимание на нестандартный разделитель!\n",
    "\n",
    "Товаров какого цвета больше всего на складе?"
   ]
  },
  {
   "cell_type": "code",
   "execution_count": 15,
   "id": "spiritual-moscow",
   "metadata": {},
   "outputs": [],
   "source": [
    "df = pd.read_csv(\"torg.csv\", sep=';')"
   ]
  },
  {
   "cell_type": "code",
   "execution_count": 16,
   "id": "biological-wright",
   "metadata": {},
   "outputs": [
    {
     "data": {
      "text/html": [
       "<div>\n",
       "<style scoped>\n",
       "    .dataframe tbody tr th:only-of-type {\n",
       "        vertical-align: middle;\n",
       "    }\n",
       "\n",
       "    .dataframe tbody tr th {\n",
       "        vertical-align: top;\n",
       "    }\n",
       "\n",
       "    .dataframe thead th {\n",
       "        text-align: right;\n",
       "    }\n",
       "</style>\n",
       "<table border=\"1\" class=\"dataframe\">\n",
       "  <thead>\n",
       "    <tr style=\"text-align: right;\">\n",
       "      <th></th>\n",
       "      <th>IE_XML_ID</th>\n",
       "      <th>IE_NAME</th>\n",
       "      <th>IP_PROP30</th>\n",
       "      <th>IP_PROP31</th>\n",
       "      <th>IP_PROP32</th>\n",
       "      <th>CP_QUANTITY</th>\n",
       "      <th>CR_PRICE_1_USD</th>\n",
       "    </tr>\n",
       "  </thead>\n",
       "  <tbody>\n",
       "    <tr>\n",
       "      <th>0</th>\n",
       "      <td>179</td>\n",
       "      <td>Штаны Полосатый Рейс</td>\n",
       "      <td>purple</td>\n",
       "      <td>NaN</td>\n",
       "      <td>L</td>\n",
       "      <td>99</td>\n",
       "      <td>29.06</td>\n",
       "    </tr>\n",
       "    <tr>\n",
       "      <th>1</th>\n",
       "      <td>181</td>\n",
       "      <td>Штаны Полосатый Рейс</td>\n",
       "      <td>purple</td>\n",
       "      <td>NaN</td>\n",
       "      <td>XL</td>\n",
       "      <td>100</td>\n",
       "      <td>29.06</td>\n",
       "    </tr>\n",
       "    <tr>\n",
       "      <th>2</th>\n",
       "      <td>182</td>\n",
       "      <td>Штаны Полосатый Рейс</td>\n",
       "      <td>purple</td>\n",
       "      <td>NaN</td>\n",
       "      <td>XS</td>\n",
       "      <td>100</td>\n",
       "      <td>29.06</td>\n",
       "    </tr>\n",
       "    <tr>\n",
       "      <th>3</th>\n",
       "      <td>183</td>\n",
       "      <td>Штаны Полосатый Рейс</td>\n",
       "      <td>purple</td>\n",
       "      <td>NaN</td>\n",
       "      <td>M</td>\n",
       "      <td>100</td>\n",
       "      <td>29.06</td>\n",
       "    </tr>\n",
       "    <tr>\n",
       "      <th>4</th>\n",
       "      <td>184</td>\n",
       "      <td>Штаны Полосатый Рейс</td>\n",
       "      <td>purple</td>\n",
       "      <td>NaN</td>\n",
       "      <td>S</td>\n",
       "      <td>100</td>\n",
       "      <td>29.06</td>\n",
       "    </tr>\n",
       "    <tr>\n",
       "      <th>...</th>\n",
       "      <td>...</td>\n",
       "      <td>...</td>\n",
       "      <td>...</td>\n",
       "      <td>...</td>\n",
       "      <td>...</td>\n",
       "      <td>...</td>\n",
       "      <td>...</td>\n",
       "    </tr>\n",
       "    <tr>\n",
       "      <th>270</th>\n",
       "      <td>639</td>\n",
       "      <td>Ремень Грубая Кожа</td>\n",
       "      <td>brown</td>\n",
       "      <td>NaN</td>\n",
       "      <td>L</td>\n",
       "      <td>100</td>\n",
       "      <td>10.39</td>\n",
       "    </tr>\n",
       "    <tr>\n",
       "      <th>271</th>\n",
       "      <td>641</td>\n",
       "      <td>Ремень Грубая Кожа</td>\n",
       "      <td>brown</td>\n",
       "      <td>NaN</td>\n",
       "      <td>XL</td>\n",
       "      <td>100</td>\n",
       "      <td>10.39</td>\n",
       "    </tr>\n",
       "    <tr>\n",
       "      <th>272</th>\n",
       "      <td>642</td>\n",
       "      <td>Ремень Грубая Кожа</td>\n",
       "      <td>brown</td>\n",
       "      <td>NaN</td>\n",
       "      <td>XS</td>\n",
       "      <td>100</td>\n",
       "      <td>10.39</td>\n",
       "    </tr>\n",
       "    <tr>\n",
       "      <th>273</th>\n",
       "      <td>643</td>\n",
       "      <td>Ремень Грубая Кожа</td>\n",
       "      <td>brown</td>\n",
       "      <td>NaN</td>\n",
       "      <td>M</td>\n",
       "      <td>100</td>\n",
       "      <td>10.39</td>\n",
       "    </tr>\n",
       "    <tr>\n",
       "      <th>274</th>\n",
       "      <td>644</td>\n",
       "      <td>Ремень Грубая Кожа</td>\n",
       "      <td>brown</td>\n",
       "      <td>NaN</td>\n",
       "      <td>S</td>\n",
       "      <td>100</td>\n",
       "      <td>10.39</td>\n",
       "    </tr>\n",
       "  </tbody>\n",
       "</table>\n",
       "<p>275 rows × 7 columns</p>\n",
       "</div>"
      ],
      "text/plain": [
       "     IE_XML_ID               IE_NAME IP_PROP30  IP_PROP31 IP_PROP32  \\\n",
       "0          179  Штаны Полосатый Рейс    purple        NaN         L   \n",
       "1          181  Штаны Полосатый Рейс    purple        NaN        XL   \n",
       "2          182  Штаны Полосатый Рейс    purple        NaN        XS   \n",
       "3          183  Штаны Полосатый Рейс    purple        NaN         M   \n",
       "4          184  Штаны Полосатый Рейс    purple        NaN         S   \n",
       "..         ...                   ...       ...        ...       ...   \n",
       "270        639    Ремень Грубая Кожа     brown        NaN         L   \n",
       "271        641    Ремень Грубая Кожа     brown        NaN        XL   \n",
       "272        642    Ремень Грубая Кожа     brown        NaN        XS   \n",
       "273        643    Ремень Грубая Кожа     brown        NaN         M   \n",
       "274        644    Ремень Грубая Кожа     brown        NaN         S   \n",
       "\n",
       "     CP_QUANTITY  CR_PRICE_1_USD  \n",
       "0             99           29.06  \n",
       "1            100           29.06  \n",
       "2            100           29.06  \n",
       "3            100           29.06  \n",
       "4            100           29.06  \n",
       "..           ...             ...  \n",
       "270          100           10.39  \n",
       "271          100           10.39  \n",
       "272          100           10.39  \n",
       "273          100           10.39  \n",
       "274          100           10.39  \n",
       "\n",
       "[275 rows x 7 columns]"
      ]
     },
     "execution_count": 16,
     "metadata": {},
     "output_type": "execute_result"
    }
   ],
   "source": [
    "df"
   ]
  },
  {
   "cell_type": "code",
   "execution_count": 26,
   "id": "three-fraction",
   "metadata": {},
   "outputs": [
    {
     "data": {
      "text/html": [
       "<div>\n",
       "<style scoped>\n",
       "    .dataframe tbody tr th:only-of-type {\n",
       "        vertical-align: middle;\n",
       "    }\n",
       "\n",
       "    .dataframe tbody tr th {\n",
       "        vertical-align: top;\n",
       "    }\n",
       "\n",
       "    .dataframe thead th {\n",
       "        text-align: right;\n",
       "    }\n",
       "</style>\n",
       "<table border=\"1\" class=\"dataframe\">\n",
       "  <thead>\n",
       "    <tr style=\"text-align: right;\">\n",
       "      <th></th>\n",
       "      <th>IE_XML_ID</th>\n",
       "      <th>IE_NAME</th>\n",
       "      <th>IP_PROP31</th>\n",
       "      <th>IP_PROP32</th>\n",
       "      <th>CP_QUANTITY</th>\n",
       "      <th>CR_PRICE_1_USD</th>\n",
       "    </tr>\n",
       "    <tr>\n",
       "      <th>IP_PROP30</th>\n",
       "      <th></th>\n",
       "      <th></th>\n",
       "      <th></th>\n",
       "      <th></th>\n",
       "      <th></th>\n",
       "      <th></th>\n",
       "    </tr>\n",
       "  </thead>\n",
       "  <tbody>\n",
       "    <tr>\n",
       "      <th>azure</th>\n",
       "      <td>5</td>\n",
       "      <td>5</td>\n",
       "      <td>0</td>\n",
       "      <td>5</td>\n",
       "      <td>5</td>\n",
       "      <td>5</td>\n",
       "    </tr>\n",
       "    <tr>\n",
       "      <th>black</th>\n",
       "      <td>50</td>\n",
       "      <td>50</td>\n",
       "      <td>5</td>\n",
       "      <td>45</td>\n",
       "      <td>50</td>\n",
       "      <td>50</td>\n",
       "    </tr>\n",
       "    <tr>\n",
       "      <th>blue</th>\n",
       "      <td>20</td>\n",
       "      <td>20</td>\n",
       "      <td>5</td>\n",
       "      <td>15</td>\n",
       "      <td>20</td>\n",
       "      <td>20</td>\n",
       "    </tr>\n",
       "    <tr>\n",
       "      <th>brown</th>\n",
       "      <td>35</td>\n",
       "      <td>35</td>\n",
       "      <td>10</td>\n",
       "      <td>25</td>\n",
       "      <td>35</td>\n",
       "      <td>35</td>\n",
       "    </tr>\n",
       "    <tr>\n",
       "      <th>flowers</th>\n",
       "      <td>5</td>\n",
       "      <td>5</td>\n",
       "      <td>5</td>\n",
       "      <td>0</td>\n",
       "      <td>5</td>\n",
       "      <td>5</td>\n",
       "    </tr>\n",
       "    <tr>\n",
       "      <th>green</th>\n",
       "      <td>15</td>\n",
       "      <td>15</td>\n",
       "      <td>0</td>\n",
       "      <td>15</td>\n",
       "      <td>15</td>\n",
       "      <td>15</td>\n",
       "    </tr>\n",
       "    <tr>\n",
       "      <th>jeans</th>\n",
       "      <td>5</td>\n",
       "      <td>5</td>\n",
       "      <td>5</td>\n",
       "      <td>0</td>\n",
       "      <td>5</td>\n",
       "      <td>5</td>\n",
       "    </tr>\n",
       "    <tr>\n",
       "      <th>orangered</th>\n",
       "      <td>5</td>\n",
       "      <td>5</td>\n",
       "      <td>0</td>\n",
       "      <td>5</td>\n",
       "      <td>5</td>\n",
       "      <td>5</td>\n",
       "    </tr>\n",
       "    <tr>\n",
       "      <th>pink</th>\n",
       "      <td>20</td>\n",
       "      <td>20</td>\n",
       "      <td>5</td>\n",
       "      <td>15</td>\n",
       "      <td>20</td>\n",
       "      <td>20</td>\n",
       "    </tr>\n",
       "    <tr>\n",
       "      <th>purple</th>\n",
       "      <td>25</td>\n",
       "      <td>25</td>\n",
       "      <td>5</td>\n",
       "      <td>20</td>\n",
       "      <td>25</td>\n",
       "      <td>25</td>\n",
       "    </tr>\n",
       "    <tr>\n",
       "      <th>red</th>\n",
       "      <td>25</td>\n",
       "      <td>25</td>\n",
       "      <td>5</td>\n",
       "      <td>20</td>\n",
       "      <td>25</td>\n",
       "      <td>25</td>\n",
       "    </tr>\n",
       "    <tr>\n",
       "      <th>redblue</th>\n",
       "      <td>5</td>\n",
       "      <td>5</td>\n",
       "      <td>0</td>\n",
       "      <td>5</td>\n",
       "      <td>5</td>\n",
       "      <td>5</td>\n",
       "    </tr>\n",
       "    <tr>\n",
       "      <th>see</th>\n",
       "      <td>10</td>\n",
       "      <td>10</td>\n",
       "      <td>0</td>\n",
       "      <td>10</td>\n",
       "      <td>10</td>\n",
       "      <td>10</td>\n",
       "    </tr>\n",
       "    <tr>\n",
       "      <th>white</th>\n",
       "      <td>50</td>\n",
       "      <td>50</td>\n",
       "      <td>10</td>\n",
       "      <td>40</td>\n",
       "      <td>50</td>\n",
       "      <td>50</td>\n",
       "    </tr>\n",
       "  </tbody>\n",
       "</table>\n",
       "</div>"
      ],
      "text/plain": [
       "           IE_XML_ID  IE_NAME  IP_PROP31  IP_PROP32  CP_QUANTITY  \\\n",
       "IP_PROP30                                                          \n",
       "azure              5        5          0          5            5   \n",
       "black             50       50          5         45           50   \n",
       "blue              20       20          5         15           20   \n",
       "brown             35       35         10         25           35   \n",
       "flowers            5        5          5          0            5   \n",
       "green             15       15          0         15           15   \n",
       "jeans              5        5          5          0            5   \n",
       "orangered          5        5          0          5            5   \n",
       "pink              20       20          5         15           20   \n",
       "purple            25       25          5         20           25   \n",
       "red               25       25          5         20           25   \n",
       "redblue            5        5          0          5            5   \n",
       "see               10       10          0         10           10   \n",
       "white             50       50         10         40           50   \n",
       "\n",
       "           CR_PRICE_1_USD  \n",
       "IP_PROP30                  \n",
       "azure                   5  \n",
       "black                  50  \n",
       "blue                   20  \n",
       "brown                  35  \n",
       "flowers                 5  \n",
       "green                  15  \n",
       "jeans                   5  \n",
       "orangered               5  \n",
       "pink                   20  \n",
       "purple                 25  \n",
       "red                    25  \n",
       "redblue                 5  \n",
       "see                    10  \n",
       "white                  50  "
      ]
     },
     "execution_count": 26,
     "metadata": {},
     "output_type": "execute_result"
    }
   ],
   "source": [
    "df.groupby(['IP_PROP30']).count()"
   ]
  },
  {
   "cell_type": "code",
   "execution_count": 25,
   "id": "treated-simple",
   "metadata": {},
   "outputs": [
    {
     "data": {
      "text/plain": [
       "white        50\n",
       "black        50\n",
       "brown        35\n",
       "purple       25\n",
       "red          25\n",
       "pink         20\n",
       "blue         20\n",
       "green        15\n",
       "see          10\n",
       "jeans         5\n",
       "azure         5\n",
       "redblue       5\n",
       "flowers       5\n",
       "orangered     5\n",
       "Name: IP_PROP30, dtype: int64"
      ]
     },
     "execution_count": 25,
     "metadata": {},
     "output_type": "execute_result"
    }
   ],
   "source": [
    "df['IP_PROP30'].value_counts()"
   ]
  },
  {
   "cell_type": "code",
   "execution_count": 27,
   "id": "broad-label",
   "metadata": {},
   "outputs": [
    {
     "name": "stdout",
     "output_type": "stream",
     "text": [
      "CP_QUANTITY    black\n",
      "dtype: object\n"
     ]
    }
   ],
   "source": [
    "df_group = df[['IP_PROP30', 'CP_QUANTITY']].groupby('IP_PROP30')\n",
    "print(df_group.sum().idxmax())"
   ]
  },
  {
   "cell_type": "markdown",
   "id": "republican-lender",
   "metadata": {},
   "source": [
    "В файле torg.csv представлена выгрузка со склада интернет-магазина.\n",
    "\n",
    "Сгруппируйте размеры представленных товаров по суммарному количеству единиц товара на складе.\n",
    "\n",
    "Учитывайте, что результат группировки (после применения итоговой функции) - обычный датафрейм, т.е. к нему применимы все обычные функции, например, https://pandas.pydata.org/pandas-docs/stable/reference/api/pandas.DataFrame.sort_values.html\n",
    "\n",
    "Отсортируйте размеры по увеличению остатков на складе.\n",
    "\n",
    "Если товаров одного размера одинаковое количество, то размеры сортируются \"лексикографически\" (да, мы не будем морочиться)"
   ]
  },
  {
   "cell_type": "code",
   "execution_count": 40,
   "id": "regulated-installation",
   "metadata": {},
   "outputs": [
    {
     "data": {
      "text/html": [
       "<div>\n",
       "<style scoped>\n",
       "    .dataframe tbody tr th:only-of-type {\n",
       "        vertical-align: middle;\n",
       "    }\n",
       "\n",
       "    .dataframe tbody tr th {\n",
       "        vertical-align: top;\n",
       "    }\n",
       "\n",
       "    .dataframe thead th {\n",
       "        text-align: right;\n",
       "    }\n",
       "</style>\n",
       "<table border=\"1\" class=\"dataframe\">\n",
       "  <thead>\n",
       "    <tr style=\"text-align: right;\">\n",
       "      <th></th>\n",
       "      <th>CP_QUANTITY</th>\n",
       "    </tr>\n",
       "    <tr>\n",
       "      <th>IP_PROP32</th>\n",
       "      <th></th>\n",
       "    </tr>\n",
       "  </thead>\n",
       "  <tbody>\n",
       "    <tr>\n",
       "      <th>M</th>\n",
       "      <td>4198</td>\n",
       "    </tr>\n",
       "    <tr>\n",
       "      <th>S</th>\n",
       "      <td>4198</td>\n",
       "    </tr>\n",
       "    <tr>\n",
       "      <th>XS</th>\n",
       "      <td>4299</td>\n",
       "    </tr>\n",
       "    <tr>\n",
       "      <th>L</th>\n",
       "      <td>4397</td>\n",
       "    </tr>\n",
       "    <tr>\n",
       "      <th>XL</th>\n",
       "      <td>4399</td>\n",
       "    </tr>\n",
       "  </tbody>\n",
       "</table>\n",
       "</div>"
      ],
      "text/plain": [
       "           CP_QUANTITY\n",
       "IP_PROP32             \n",
       "M                 4198\n",
       "S                 4198\n",
       "XS                4299\n",
       "L                 4397\n",
       "XL                4399"
      ]
     },
     "execution_count": 40,
     "metadata": {},
     "output_type": "execute_result"
    }
   ],
   "source": [
    "df1 = df[['IP_PROP32', 'CP_QUANTITY']].groupby(['IP_PROP32']).sum()\n",
    "df1.sort_values(by='CP_QUANTITY')"
   ]
  },
  {
   "cell_type": "markdown",
   "id": "fancy-application",
   "metadata": {},
   "source": [
    "В этом задании представлена выгрузка складских остатков (выгрузка отличается от ранее представленной тем, что при каждом решении генерируется новая выгрузка из 200 позиций).\n",
    "\n",
    "Найдите суммарную стоимость всех розовых (pink) вещей большого размера (XL).\n",
    "\n",
    "Учитывайте, что цена указана за 1 единицу товара."
   ]
  },
  {
   "cell_type": "code",
   "execution_count": 66,
   "id": "standard-flour",
   "metadata": {},
   "outputs": [
    {
     "data": {
      "text/plain": [
       "5479.0"
      ]
     },
     "execution_count": 66,
     "metadata": {},
     "output_type": "execute_result"
    }
   ],
   "source": [
    "df = pd.read_csv('dataset_345422_8.txt', sep=';')\n",
    "df = df[df['IP_PROP30']=='pink']\n",
    "df = df[df['IP_PROP32']=='XL']\n",
    "m = df['CP_QUANTITY']*df['CR_PRICE_1_USD']\n",
    "m.sum()"
   ]
  },
  {
   "cell_type": "code",
   "execution_count": 60,
   "id": "southern-receipt",
   "metadata": {},
   "outputs": [
    {
     "name": "stdout",
     "output_type": "stream",
     "text": [
      "5479.0\n"
     ]
    }
   ],
   "source": [
    "df = pd.read_csv('dataset_345422_8.txt', sep=';', index_col=0)\n",
    "df['cost'] = df.CP_QUANTITY * df.CR_PRICE_1_USD\n",
    "print(df.groupby(['IP_PROP30', 'IP_PROP32']).cost.sum().loc['pink', 'XL'])"
   ]
  },
  {
   "cell_type": "markdown",
   "id": "hired-marriage",
   "metadata": {},
   "source": [
    "В файле StudentsPerformance.csv представлен фрагмент выгрузки об абитуриентах. Информация разбита на категории:\n",
    "\n",
    "- gender — пол абитуриента  (female - женщина, male - мужчина);\n",
    "- race/ethnicity — национальность (зашифрована в виде значений \"group A\", \"group B\" и т.д.);\n",
    "- parental level of education — уровень образования родителей;\n",
    "- lunch — насколько качественно пообедал абитуриент перед тестом;\n",
    "- test preparation course — закончил ли абитуриент подготовительные курсы;\n",
    "- math score — оценка по математике;\n",
    "- reading score — оценка по чтению;\n",
    "- writing score — оценка по письму.\n",
    "\n",
    "Каково максимальное медианное значение оценки по чтению у групп, разделенных по признаку \"пол абитуриента\" и \"национальность\" ?"
   ]
  },
  {
   "cell_type": "code",
   "execution_count": 67,
   "id": "automated-tattoo",
   "metadata": {},
   "outputs": [],
   "source": [
    "df = pd.read_csv(\"https://stepik.org/media/attachments/lesson/345422/StudentsPerformance.csv\")"
   ]
  },
  {
   "cell_type": "code",
   "execution_count": 80,
   "id": "fixed-kitty",
   "metadata": {},
   "outputs": [
    {
     "name": "stdout",
     "output_type": "stream",
     "text": [
      "76.0\n"
     ]
    }
   ],
   "source": [
    "group = df.groupby(['gender', 'race/ethnicity'])\n",
    "print(group['reading score'].median().max())"
   ]
  },
  {
   "cell_type": "markdown",
   "id": "buried-reservation",
   "metadata": {},
   "source": [
    "Продолжаем работать с датасетом StudentsPerformance.csv\n",
    "\n",
    "Какое среднее значение оценок по всем предметам у мальчиков из такой же группы с уровнем образования как у родителей девочек, получивших максимальную среднюю оценку по всем предметам?\n",
    "\n",
    "Ответ округлите до одного знака после запятой."
   ]
  },
  {
   "cell_type": "code",
   "execution_count": 87,
   "id": "complimentary-worth",
   "metadata": {},
   "outputs": [
    {
     "name": "stdout",
     "output_type": "stream",
     "text": [
      "cost    68.8\n",
      "dtype: float64\n"
     ]
    }
   ],
   "source": [
    "# создаем колонку со средними значениями по всем предметам у каждого ученика, \n",
    "# axis=1 - сложение по значениям столбцов каждого ученика\n",
    "df['cost'] = df[['math score', 'reading score', 'writing score']].mean(axis=1)\n",
    "\n",
    "# отбираем девочек, группируем по учебным заведениям родителей девочек и агрегируем по столбцу среднего балла, \n",
    "# находим средний балл для данной группировки. Есть указать внутри groupby(...., as_index=False),\n",
    "# столбец останется столбцом, не став индексом\n",
    "par_lv = df[df.gender == 'female'].groupby(['parental level of education']).aggregate({'cost':'mean'})\n",
    "\n",
    "# получаем значение учебного заведения для которого максимален средний балл родителей девочек. \n",
    "# Обращаю внимание что при группировке столбец становится индексом, именно поэтому я достаю его методом \n",
    "# .idxmax()[0]. \n",
    "par_degree = par_lv.idxmax()[0]\n",
    "\n",
    "# отбираем из датафрейма значения учебных заведений умных родителей девочек и мальчиков, \n",
    "# агрегируем по среднему баллу столбца cost\n",
    "ans= df[(df['parental level of education'] == par_degree) & (df.gender == 'male')].aggregate({'cost':'mean'})\n",
    "\n",
    "# округляем и выводим на печать\n",
    "print(round(ans, 1))"
   ]
  },
  {
   "cell_type": "markdown",
   "id": "adverse-electron",
   "metadata": {},
   "source": [
    "Для этого задания используется случайно генерируемая выборка из 100 записей об использовании велодорожек Монреаля по датам. В выгрузке присутствуют данные только о 7 дорожках (в остальных пустые значения).\n",
    "\n",
    "Посчитайте среднюю посещаемость каждой велодорожки отдельно по дням недели.\n",
    "\n",
    "Какой день недели (в среднем) наиболее посещаем?\n",
    "\n",
    "Используйте английские названия дней недели:\n",
    "\n",
    "days = ['Monday', 'Tuesday', 'Wednesday', 'Thursday', 'Friday', 'Saturday', 'Sunday']\n",
    "\n",
    "Учитывайте, что в конкретной случайной выборке наиболее популярным может стать не только любой день недели, но и любая велодорожка!\n",
    "\n",
    "Примечание. в этом уроке мы уже парсили датафрейм с датами. У объекта типа \"дата\" есть метод weekday(), который возвращает номер дня недели (число от 0 до 6)."
   ]
  },
  {
   "cell_type": "code",
   "execution_count": 97,
   "id": "western-trademark",
   "metadata": {},
   "outputs": [
    {
     "data": {
      "text/plain": [
       "'Wednesday'"
      ]
     },
     "execution_count": 97,
     "metadata": {},
     "output_type": "execute_result"
    }
   ],
   "source": [
    "df = pd.read_csv('dataset_345422_14.txt', parse_dates=['Date'],)\n",
    "\n",
    "df['Date'] = pd.to_datetime(df['Date'])\n",
    "# получим название недели\n",
    "df = df.assign(weekday=df['Date'].dt.day_name())\n",
    "\n",
    "# средняя посещаемость каждой велодорожки отдельно по дням недели\n",
    "df_mean = df.groupby(by=['weekday']).mean()\n",
    "\n",
    "df_sum = df_mean.sum(axis=\"columns\")\n",
    "df_sum.idxmax()"
   ]
  },
  {
   "cell_type": "markdown",
   "id": "working-upset",
   "metadata": {},
   "source": [
    "В файле football_players.csv представлен фрагмент выгрузки датасета о футболистах.\n",
    "\n",
    "Посчитайте среднюю и медианную зарплату \"Wage\" футболистов из разных клубов \"Club\".\n",
    "\n",
    "В скольких клубах средняя и медианная зарплаты совпадают?"
   ]
  },
  {
   "cell_type": "code",
   "execution_count": 99,
   "id": "psychological-valve",
   "metadata": {},
   "outputs": [
    {
     "name": "stdout",
     "output_type": "stream",
     "text": [
      "52\n"
     ]
    }
   ],
   "source": [
    "df = pd.read_csv('https://stepik.org/media/attachments/lesson/345422/football_players.csv')\n",
    "\n",
    "mn = df[['Club', 'Wage']].groupby('Club').mean()\n",
    "\n",
    "med = df[['Club', 'Wage']].groupby('Club').median()\n",
    "\n",
    "print(sum(mn.Wage == med.Wage))"
   ]
  },
  {
   "cell_type": "code",
   "execution_count": 100,
   "id": "vocational-drawing",
   "metadata": {},
   "outputs": [
    {
     "data": {
      "text/plain": [
       "52"
      ]
     },
     "execution_count": 100,
     "metadata": {},
     "output_type": "execute_result"
    }
   ],
   "source": [
    "df.groupby('Club')['Wage'].agg(lambda x: x.mean() == x.median()).sum()"
   ]
  },
  {
   "cell_type": "markdown",
   "id": "secure-jurisdiction",
   "metadata": {},
   "source": [
    "На основе датасета dataset_file_storage.csv урока Визуализация данных с помощью Seaborn:\n",
    "\n",
    "Посчитайте количество организаций (CompanyID), у которых суммарный объем файлов (FileSize) хотя бы одного проекта \n",
    "\n",
    "(ProjectID) превышает средний объем файлов по всем проектам.\n",
    "\n",
    "Описание полей датасета:\n",
    "\n",
    "- ProjectID (число) - id проекта в рамках которого загружен файл, привязка к элементам другой таблицы\n",
    "- UserID (число) - id пользователя, загрузившего файл, привязка к элементам другой таблицы\n",
    "- uploadServerUnixTime (число) - время загрузки файла на сервер в формате UnixTime\n",
    "- CompanyID (число) - id организации которой принадлежит пользователь, привязка элемента другой таблицы\n",
    "- FileSize (число) - размер файла в байтах\n",
    "- TypeDocs (строка) - раздел в который загружен файл"
   ]
  },
  {
   "cell_type": "code",
   "execution_count": 105,
   "id": "positive-shoulder",
   "metadata": {},
   "outputs": [
    {
     "name": "stdout",
     "output_type": "stream",
     "text": [
      "14\n"
     ]
    }
   ],
   "source": [
    "df = pd.read_csv('https://stepik.org/media/attachments/lesson/313078/dataset_file_storage.csv', sep=';')\n",
    "\n",
    "mean_sum = df.groupby(['ProjectID']).FileSize.sum().mean()\n",
    "\n",
    "grp = df.groupby(['CompanyID', 'ProjectID'], as_index=False).FileSize.sum().rename(columns={'FileSize': 'volume'})\n",
    "\n",
    "print(grp.query('volume > @mean_sum').CompanyID.nunique())"
   ]
  },
  {
   "cell_type": "markdown",
   "id": "resident-detector",
   "metadata": {},
   "source": [
    "На какую сумму купили и оплатили носков любых видов (как мужских, так и женских)?\n",
    "\n",
    "P.S. В рамках задачи гольфы != носки =)\n",
    "\n",
    "https://pandas.pydata.org/pandas-docs/stable/reference/api/pandas.Series.str.contains.html"
   ]
  },
  {
   "cell_type": "code",
   "execution_count": 136,
   "id": "mathematical-module",
   "metadata": {},
   "outputs": [
    {
     "data": {
      "text/plain": [
       "1389"
      ]
     },
     "execution_count": 136,
     "metadata": {},
     "output_type": "execute_result"
    }
   ],
   "source": [
    "# считали данные\n",
    "order_df = pd.read_csv('https://stepik.org/media/attachments/lesson/274304/orders.csv', sep=';') \n",
    "product_df = pd.read_csv('https://stepik.org/media/attachments/lesson/274304/Products.csv', sep=';')\n",
    "\n",
    "# объеденили таблицы\n",
    "df = pd.merge(order_df, product_df, how='inner', left_on=('ID товара'), right_on=('Product_ID'))\n",
    "\n",
    "# отфильтровали по условию\n",
    "paid_socks = df[(df[\"Name\"].str.contains(\"Носки\")) & (df[\"Оплачен\"] == \"Да\")]\n",
    "\n",
    "# посчитали на какую сумму оплатили носков\n",
    "sum(paid_socks['Количество'] * paid_socks['Price'])"
   ]
  },
  {
   "cell_type": "code",
   "execution_count": null,
   "id": "enhanced-inventory",
   "metadata": {},
   "outputs": [],
   "source": []
  }
 ],
 "metadata": {
  "kernelspec": {
   "display_name": "Python 3",
   "language": "python",
   "name": "python3"
  },
  "language_info": {
   "codemirror_mode": {
    "name": "ipython",
    "version": 3
   },
   "file_extension": ".py",
   "mimetype": "text/x-python",
   "name": "python",
   "nbconvert_exporter": "python",
   "pygments_lexer": "ipython3",
   "version": "3.8.8"
  }
 },
 "nbformat": 4,
 "nbformat_minor": 5
}
