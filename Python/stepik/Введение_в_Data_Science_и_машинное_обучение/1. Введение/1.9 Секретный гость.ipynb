{
 "cells": [
  {
   "cell_type": "markdown",
   "id": "virgin-washington",
   "metadata": {},
   "source": [
    "- [видео](https://www.youtube.com/watch?v=YBzYGfWRGCg)\n",
    "- [подкаст](https://vk.com/seva?w=wall91670994_3923)\n",
    "\n",
    "Тезисы из видео:\n",
    "\n",
    "1. При построении карьеры в Data Science важно иметь готовые проекты, чтобы на собеседовании направить диалог по удобному для себя руслу, да и просто продемонстрировать свои конкурентные преимущества\n",
    "\n",
    "2. Датасеты для анализа можно брать с kaggle, открытых источников, или просто собирать при помощи парсеров. причём последний вариант даёт плюс к компетенциям, поскольку вы покажете умение кодить и получать данные для своих моделей\n",
    "\n",
    "3. Важны soft-skills\n",
    "\n",
    "4. Важно и нужно уметь отвечать на вопросы не \"Сколько?\", а \"Почему?\". Поскольку получение цифр не даёт информации, а анализ этих цифр, анализ причин почему цифры именно такие, и как они сформировались - позволяет представить некоторую картину в процессах.\n",
    "\n",
    "5. Работайте с API и хакатонами. Поднатаскайтесь в плане работы с проектами, пусть даже через API проекта. Пишите свои проекты и ссылайтесь на них в резюме."
   ]
  },
  {
   "cell_type": "markdown",
   "id": "quantitative-baseline",
   "metadata": {},
   "source": [
    "- [видео](https://www.youtube.com/watch?v=w-0NdY8y-4Y)\n",
    "- [сайт](http://x5-academy.ru)\n",
    "\n",
    "Тезисы из видео:\n",
    "\n",
    "1. Валера рассказал о своем переезде в Facebook и чем он теперь будет заниматься\n",
    "2. Как проходит найм в таких компаниях как Facebook и Google\n",
    "3. Самые новые тренды сейчас развиваются в DS, трансформеры и contrastive learning \n",
    "4. Как машинное обучение применяется в АБ тестах"
   ]
  },
  {
   "cell_type": "markdown",
   "id": "running-spanking",
   "metadata": {},
   "source": [
    "- [видео](https://www.youtube.com/watch?v=SMRI4qKgyq8)\n",
    "\n",
    "Тезисы из видео:\n",
    "\n",
    "1. про Soft и Hard-skill'ы Аналитиков\n",
    "2. что хочет видеть работодатель от junior-Аналитика\n",
    "3. о том, как проходят собеседования на позицию Аналитика\n",
    "4. покажет примеры тестовых заданий\n",
    "5. о том, на что обращают внимание в резюме"
   ]
  },
  {
   "cell_type": "code",
   "execution_count": null,
   "id": "skilled-atmosphere",
   "metadata": {},
   "outputs": [],
   "source": []
  }
 ],
 "metadata": {
  "kernelspec": {
   "display_name": "Python 3",
   "language": "python",
   "name": "python3"
  },
  "language_info": {
   "codemirror_mode": {
    "name": "ipython",
    "version": 3
   },
   "file_extension": ".py",
   "mimetype": "text/x-python",
   "name": "python",
   "nbconvert_exporter": "python",
   "pygments_lexer": "ipython3",
   "version": "3.8.8"
  }
 },
 "nbformat": 4,
 "nbformat_minor": 5
}
