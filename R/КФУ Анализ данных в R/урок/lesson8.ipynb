{
 "cells": [
  {
   "cell_type": "markdown",
   "id": "furnished-battle",
   "metadata": {},
   "source": [
    "# Другие тесты\n",
    "- var.test()   сравнение дисперсий \n",
    "- ks.test()    критерий согласия: Колмогорова -- одновыборочный, Смирнов -- двувыборочный. для прерывных величин\n",
    "- chisq.test()  хи-квадрат"
   ]
  },
  {
   "cell_type": "code",
   "execution_count": 26,
   "id": "fuzzy-falls",
   "metadata": {},
   "outputs": [],
   "source": [
    "n <- 20\n",
    "\n",
    "x <- rnorm(n)\n",
    "y <- rnorm(n)\n",
    "z <- runif(n)\n",
    "\n",
    "aa2 <- sample(LETTERS[1:2], n, rep=T)\n",
    "aa3 <- sample(LETTERS[1:3], n, rep=T)\n",
    "f_aa2 <- as.factor(aa2)"
   ]
  },
  {
   "cell_type": "code",
   "execution_count": 5,
   "id": "atmospheric-principal",
   "metadata": {},
   "outputs": [
    {
     "data": {
      "text/plain": [
       "\n",
       "\tF test to compare two variances\n",
       "\n",
       "data:  x and y\n",
       "F = 0.7346, num df = 19, denom df = 19, p-value = 0.5079\n",
       "alternative hypothesis: true ratio of variances is not equal to 1\n",
       "95 percent confidence interval:\n",
       " 0.2907632 1.8559283\n",
       "sample estimates:\n",
       "ratio of variances \n",
       "          0.734599 \n"
      ]
     },
     "metadata": {},
     "output_type": "display_data"
    }
   ],
   "source": [
    "var.test(x, y)"
   ]
  },
  {
   "cell_type": "code",
   "execution_count": 6,
   "id": "immediate-strip",
   "metadata": {},
   "outputs": [
    {
     "name": "stdout",
     "output_type": "stream",
     "text": [
      "List of 9\n",
      " $ statistic  : Named num 0.735\n",
      "  ..- attr(*, \"names\")= chr \"F\"\n",
      " $ parameter  : Named int [1:2] 19 19\n",
      "  ..- attr(*, \"names\")= chr [1:2] \"num df\" \"denom df\"\n",
      " $ p.value    : num 0.508\n",
      " $ conf.int   : num [1:2] 0.291 1.856\n",
      "  ..- attr(*, \"conf.level\")= num 0.95\n",
      " $ estimate   : Named num 0.735\n",
      "  ..- attr(*, \"names\")= chr \"ratio of variances\"\n",
      " $ null.value : Named num 1\n",
      "  ..- attr(*, \"names\")= chr \"ratio of variances\"\n",
      " $ alternative: chr \"two.sided\"\n",
      " $ method     : chr \"F test to compare two variances\"\n",
      " $ data.name  : chr \"x and y\"\n",
      " - attr(*, \"class\")= chr \"htest\"\n"
     ]
    }
   ],
   "source": [
    "str(var.test(x, y))"
   ]
  },
  {
   "cell_type": "code",
   "execution_count": 7,
   "id": "rental-hierarchy",
   "metadata": {},
   "outputs": [
    {
     "name": "stdout",
     "output_type": "stream",
     "text": [
      "List of 10\n",
      " $ statistic  : Named num 1.09\n",
      "  ..- attr(*, \"names\")= chr \"t\"\n",
      " $ parameter  : Named num 37.1\n",
      "  ..- attr(*, \"names\")= chr \"df\"\n",
      " $ p.value    : num 0.283\n",
      " $ conf.int   : num [1:2] -0.35 1.16\n",
      "  ..- attr(*, \"conf.level\")= num 0.95\n",
      " $ estimate   : Named num [1:2] 0.175 -0.231\n",
      "  ..- attr(*, \"names\")= chr [1:2] \"mean of x\" \"mean of y\"\n",
      " $ null.value : Named num 0\n",
      "  ..- attr(*, \"names\")= chr \"difference in means\"\n",
      " $ stderr     : num 0.373\n",
      " $ alternative: chr \"two.sided\"\n",
      " $ method     : chr \"Welch Two Sample t-test\"\n",
      " $ data.name  : chr \"x and y\"\n",
      " - attr(*, \"class\")= chr \"htest\"\n"
     ]
    }
   ],
   "source": [
    "str(t.test(x, y))"
   ]
  },
  {
   "cell_type": "code",
   "execution_count": 8,
   "id": "amended-shepherd",
   "metadata": {},
   "outputs": [
    {
     "data": {
      "text/html": [
       "<strong>$method</strong> = 'F test to compare two variances'"
      ],
      "text/latex": [
       "\\textbf{\\$method} = 'F test to compare two variances'"
      ],
      "text/markdown": [
       "**$method** = 'F test to compare two variances'"
      ],
      "text/plain": [
       "$method\n",
       "[1] \"F test to compare two variances\"\n"
      ]
     },
     "metadata": {},
     "output_type": "display_data"
    }
   ],
   "source": [
    "var.test(x, y)[8]"
   ]
  },
  {
   "cell_type": "code",
   "execution_count": 9,
   "id": "center-ground",
   "metadata": {},
   "outputs": [
    {
     "name": "stdout",
     "output_type": "stream",
     "text": [
      "List of 1\n",
      " $ method: chr \"F test to compare two variances\"\n"
     ]
    }
   ],
   "source": [
    "str(var.test(x, y)[8])"
   ]
  },
  {
   "cell_type": "code",
   "execution_count": 10,
   "id": "lesbian-comment",
   "metadata": {},
   "outputs": [
    {
     "name": "stdout",
     "output_type": "stream",
     "text": [
      " chr \"F test to compare two variances\"\n"
     ]
    }
   ],
   "source": [
    "str(var.test(x, y)[[8]])"
   ]
  },
  {
   "cell_type": "code",
   "execution_count": 12,
   "id": "norwegian-robin",
   "metadata": {},
   "outputs": [
    {
     "name": "stdout",
     "output_type": "stream",
     "text": [
      " chr \"Welch Two Sample t-test\"\n"
     ]
    }
   ],
   "source": [
    "str(t.test(x, y)[[9]])"
   ]
  },
  {
   "cell_type": "code",
   "execution_count": 13,
   "id": "sound-compilation",
   "metadata": {},
   "outputs": [
    {
     "name": "stdout",
     "output_type": "stream",
     "text": [
      " chr \"F test to compare two variances\"\n"
     ]
    }
   ],
   "source": [
    "str(var.test(x, y)$method)"
   ]
  },
  {
   "cell_type": "code",
   "execution_count": 14,
   "id": "british-reform",
   "metadata": {},
   "outputs": [
    {
     "name": "stdout",
     "output_type": "stream",
     "text": [
      " chr \"Welch Two Sample t-test\"\n"
     ]
    }
   ],
   "source": [
    "str(t.test(x, y)$method)"
   ]
  },
  {
   "cell_type": "code",
   "execution_count": 16,
   "id": "ignored-colony",
   "metadata": {},
   "outputs": [
    {
     "name": "stdout",
     "output_type": "stream",
     "text": [
      "[1] \"two.sided\"\n",
      "[1] \"two.sided\"\n",
      "[1] \"F test to compare two variances\"\n",
      "[1] \"Welch Two Sample t-test\"\n"
     ]
    }
   ],
   "source": [
    "# обращение к нескольким элементам списка\n",
    "for(i in c('alternative', 'method')){\n",
    "    print(var.test(x, y)[[i]])\n",
    "    print(t.test(x, y)[[i]])\n",
    "}"
   ]
  },
  {
   "cell_type": "code",
   "execution_count": 21,
   "id": "favorite-devil",
   "metadata": {},
   "outputs": [],
   "source": [
    "# функция выводит p-value и название\n",
    "\n",
    "prov <- function(x, y, test, res=c(\"Отвергаем H0\", \"Принимаем H0\"), alfa=0.05){\n",
    "    test_xy <- test(x,y)\n",
    "    cat('Проверяется: ', test_xy$method, '\\n')\n",
    "    cat('На уровне', format(test_xy$p.value, dig=2), '\\n' )\n",
    "    cat(res[1+(test_xy$p.value>alfa)])\n",
    "}"
   ]
  },
  {
   "cell_type": "code",
   "execution_count": 22,
   "id": "raised-surface",
   "metadata": {},
   "outputs": [
    {
     "name": "stdout",
     "output_type": "stream",
     "text": [
      "Проверяется:  Welch Two Sample t-test \n",
      "На уровне 0.28 \n",
      "Принимаем H0"
     ]
    }
   ],
   "source": [
    "prov(x, y, t.test)"
   ]
  },
  {
   "cell_type": "code",
   "execution_count": 23,
   "id": "planned-lindsay",
   "metadata": {},
   "outputs": [
    {
     "name": "stdout",
     "output_type": "stream",
     "text": [
      "Проверяется:  Welch Two Sample t-test \n",
      "На уровне 0.28 \n",
      "среднее совпадает"
     ]
    }
   ],
   "source": [
    "prov(x, y, t.test, c('среднее не совпадает','среднее совпадает'))"
   ]
  },
  {
   "cell_type": "code",
   "execution_count": 27,
   "id": "concerned-acoustic",
   "metadata": {},
   "outputs": [
    {
     "name": "stdout",
     "output_type": "stream",
     "text": [
      "Проверяется:  Welch Two Sample t-test \n",
      "На уровне 0.012 \n",
      "среднее не совпадает"
     ]
    }
   ],
   "source": [
    "prov(x, z, t.test, c('среднее не совпадает','среднее совпадает'))"
   ]
  },
  {
   "cell_type": "code",
   "execution_count": 29,
   "id": "concerned-insurance",
   "metadata": {},
   "outputs": [
    {
     "name": "stdout",
     "output_type": "stream",
     "text": [
      "Проверяется:  F test to compare two variances \n",
      "На уровне 3.8e-07 \n",
      "среднее не совпадает"
     ]
    }
   ],
   "source": [
    "prov(x, z, var.test, c('среднее не совпадает','среднее совпадает'))"
   ]
  },
  {
   "cell_type": "markdown",
   "id": "accepting-correspondence",
   "metadata": {},
   "source": [
    "# хи-квадрат\n",
    "требует группировки \n",
    "\n",
    "аргументами являются размеры групп"
   ]
  },
  {
   "cell_type": "code",
   "execution_count": 35,
   "id": "dress-bridges",
   "metadata": {},
   "outputs": [
    {
     "name": "stderr",
     "output_type": "stream",
     "text": [
      "Warning message in chisq.test(c(4, 5, 3, 7)):\n",
      "“Chi-squared approximation may be incorrect”"
     ]
    },
    {
     "data": {
      "text/plain": [
       "\n",
       "\tChi-squared test for given probabilities\n",
       "\n",
       "data:  c(4, 5, 3, 7)\n",
       "X-squared = 1.8421, df = 3, p-value = 0.6058\n"
      ]
     },
     "metadata": {},
     "output_type": "display_data"
    }
   ],
   "source": [
    "chisq.test(c(4, 5, 3, 7))"
   ]
  },
  {
   "cell_type": "code",
   "execution_count": 34,
   "id": "adult-saudi",
   "metadata": {},
   "outputs": [
    {
     "data": {
      "text/plain": [
       "\n",
       "(-1.33,-0.589] (-0.589,0.145]  (0.145,0.878]   (0.878,1.61] \n",
       "             8              3              2              7 "
      ]
     },
     "metadata": {},
     "output_type": "display_data"
    }
   ],
   "source": [
    "# подсчет данных в группах\n",
    "table(cut(x, 4))"
   ]
  },
  {
   "cell_type": "code",
   "execution_count": 36,
   "id": "ecological-ivory",
   "metadata": {},
   "outputs": [
    {
     "data": {
      "text/plain": [
       "\n",
       "\tChi-squared test for given probabilities\n",
       "\n",
       "data:  table(cut(x, 4))\n",
       "X-squared = 5.2, df = 3, p-value = 0.1577\n"
      ]
     },
     "metadata": {},
     "output_type": "display_data"
    }
   ],
   "source": [
    "chisq.test(table(cut(x, 4)))"
   ]
  },
  {
   "cell_type": "code",
   "execution_count": 37,
   "id": "smoking-chrome",
   "metadata": {},
   "outputs": [
    {
     "data": {
      "text/plain": [
       "\n",
       "\tChi-squared test for given probabilities\n",
       "\n",
       "data:  table(cut(xx, 4))\n",
       "X-squared = 639, df = 3, p-value < 2.2e-16\n"
      ]
     },
     "metadata": {},
     "output_type": "display_data"
    }
   ],
   "source": [
    "xx <- rnorm(1000)\n",
    "chisq.test(table(cut(xx, 4)))"
   ]
  },
  {
   "cell_type": "code",
   "execution_count": 38,
   "id": "willing-astrology",
   "metadata": {},
   "outputs": [
    {
     "data": {
      "text/plain": [
       "\n",
       "\tChi-squared test for given probabilities\n",
       "\n",
       "data:  table(cut(zz, 50))\n",
       "X-squared = 33.3, df = 49, p-value = 0.9579\n"
      ]
     },
     "metadata": {},
     "output_type": "display_data"
    }
   ],
   "source": [
    "zz <- runif(1000)\n",
    "chisq.test(table(cut(zz, 50)))"
   ]
  },
  {
   "cell_type": "code",
   "execution_count": 40,
   "id": "urban-germany",
   "metadata": {},
   "outputs": [
    {
     "name": "stderr",
     "output_type": "stream",
     "text": [
      "Warning message in chisq.test(table(cut(xx, 4)), table(cut(zz, 4))):\n",
      "“Chi-squared approximation may be incorrect”"
     ]
    },
    {
     "data": {
      "text/plain": [
       "\n",
       "\tPearson's Chi-squared test\n",
       "\n",
       "data:  table(cut(xx, 4)) and table(cut(zz, 4))\n",
       "X-squared = 12, df = 9, p-value = 0.2133\n"
      ]
     },
     "metadata": {},
     "output_type": "display_data"
    }
   ],
   "source": [
    "chisq.test(table(cut(xx, 4)), table(cut(zz, 4)))"
   ]
  },
  {
   "cell_type": "code",
   "execution_count": 42,
   "id": "anticipated-freeze",
   "metadata": {},
   "outputs": [
    {
     "data": {
      "text/plain": [
       "\n",
       "\tPearson's Chi-squared test\n",
       "\n",
       "data:  table(cut(xx, 4), cut(zz, 4))\n",
       "X-squared = 9.8297, df = 9, p-value = 0.3644\n"
      ]
     },
     "metadata": {},
     "output_type": "display_data"
    }
   ],
   "source": [
    "chisq.test(table(cut(xx, 4), cut(zz, 4)))"
   ]
  },
  {
   "cell_type": "code",
   "execution_count": 43,
   "id": "official-jacksonville",
   "metadata": {},
   "outputs": [
    {
     "data": {
      "text/plain": [
       "                \n",
       "                 (-0.000352,0.25] (0.25,0.5] (0.5,0.75] (0.75,1]\n",
       "  (-3.23,-1.59]                17         11         10       14\n",
       "  (-1.59,0.0436]              125        114        113      114\n",
       "  (0.0436,1.68]                98        112        106      117\n",
       "  (1.68,3.32]                   6         17         14       12"
      ]
     },
     "metadata": {},
     "output_type": "display_data"
    }
   ],
   "source": [
    "table(cut(xx, 4), cut(zz, 4))"
   ]
  },
  {
   "cell_type": "code",
   "execution_count": 44,
   "id": "comic-title",
   "metadata": {},
   "outputs": [
    {
     "data": {
      "text/plain": [
       "\n",
       "\tPearson's Chi-squared test\n",
       "\n",
       "data:  cut(xx, 4) and cut(zz, 4)\n",
       "X-squared = 9.8297, df = 9, p-value = 0.3644\n"
      ]
     },
     "metadata": {},
     "output_type": "display_data"
    }
   ],
   "source": [
    "chisq.test(cut(xx, 4), cut(zz, 4))"
   ]
  },
  {
   "cell_type": "code",
   "execution_count": 45,
   "id": "theoretical-judgment",
   "metadata": {},
   "outputs": [
    {
     "name": "stderr",
     "output_type": "stream",
     "text": [
      "Warning message in chisq.test(c(1, 2, 3, 4), c(2, 2, 3, 6)):\n",
      "“Chi-squared approximation may be incorrect”"
     ]
    },
    {
     "data": {
      "text/plain": [
       "\n",
       "\tPearson's Chi-squared test\n",
       "\n",
       "data:  c(1, 2, 3, 4) and c(2, 2, 3, 6)\n",
       "X-squared = 8, df = 6, p-value = 0.2381\n"
      ]
     },
     "metadata": {},
     "output_type": "display_data"
    }
   ],
   "source": [
    "# группирует одинаковые значения и поэтому df=6\n",
    "chisq.test(c(1, 2, 3, 4), c(2, 2, 3, 6))"
   ]
  },
  {
   "cell_type": "code",
   "execution_count": 46,
   "id": "offshore-mixture",
   "metadata": {},
   "outputs": [
    {
     "name": "stderr",
     "output_type": "stream",
     "text": [
      "Warning message in chisq.test(table(c(1, 2, 3, 4), c(2, 2, 3, 6))):\n",
      "“Chi-squared approximation may be incorrect”"
     ]
    },
    {
     "data": {
      "text/plain": [
       "\n",
       "\tPearson's Chi-squared test\n",
       "\n",
       "data:  table(c(1, 2, 3, 4), c(2, 2, 3, 6))\n",
       "X-squared = 8, df = 6, p-value = 0.2381\n"
      ]
     },
     "metadata": {},
     "output_type": "display_data"
    }
   ],
   "source": [
    "chisq.test(table(c(1, 2, 3, 4), c(2, 2, 3, 6)))"
   ]
  },
  {
   "cell_type": "code",
   "execution_count": null,
   "id": "joined-regulation",
   "metadata": {},
   "outputs": [],
   "source": []
  }
 ],
 "metadata": {
  "kernelspec": {
   "display_name": "R",
   "language": "R",
   "name": "ir"
  },
  "language_info": {
   "codemirror_mode": "r",
   "file_extension": ".r",
   "mimetype": "text/x-r-source",
   "name": "R",
   "pygments_lexer": "r",
   "version": "3.6.1"
  }
 },
 "nbformat": 4,
 "nbformat_minor": 5
}
