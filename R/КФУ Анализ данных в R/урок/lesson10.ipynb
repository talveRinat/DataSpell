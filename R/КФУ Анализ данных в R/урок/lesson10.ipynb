{
 "cells": [
  {
   "cell_type": "code",
   "execution_count": 1,
   "id": "alternative-corporation",
   "metadata": {},
   "outputs": [
    {
     "data": {
      "text/html": [
       "<table>\n",
       "<tbody>\n",
       "\t<tr><td>1</td><td>3</td></tr>\n",
       "\t<tr><td>2</td><td>4</td></tr>\n",
       "\t<tr><td>3</td><td>5</td></tr>\n",
       "\t<tr><td>4</td><td>6</td></tr>\n",
       "\t<tr><td>5</td><td>7</td></tr>\n",
       "</tbody>\n",
       "</table>\n"
      ],
      "text/latex": [
       "\\begin{tabular}{ll}\n",
       "\t 1 & 3\\\\\n",
       "\t 2 & 4\\\\\n",
       "\t 3 & 5\\\\\n",
       "\t 4 & 6\\\\\n",
       "\t 5 & 7\\\\\n",
       "\\end{tabular}\n"
      ],
      "text/markdown": [
       "\n",
       "| 1 | 3 |\n",
       "| 2 | 4 |\n",
       "| 3 | 5 |\n",
       "| 4 | 6 |\n",
       "| 5 | 7 |\n",
       "\n"
      ],
      "text/plain": [
       "     [,1] [,2]\n",
       "[1,] 1    3   \n",
       "[2,] 2    4   \n",
       "[3,] 3    5   \n",
       "[4,] 4    6   \n",
       "[5,] 5    7   "
      ]
     },
     "metadata": {},
     "output_type": "display_data"
    }
   ],
   "source": [
    "matrix(cbind(1:5, 3:7), 5, 2)"
   ]
  },
  {
   "cell_type": "code",
   "execution_count": 14,
   "id": "deluxe-flavor",
   "metadata": {},
   "outputs": [
    {
     "name": "stdout",
     "output_type": "stream",
     "text": [
      "Sepal.Length \n",
      " mean= 5.843333 \n",
      "Sepal.Width \n",
      " mean= 3.057333 \n",
      "Petal.Length \n",
      " mean= 3.758 \n",
      "Petal.Width \n",
      " mean= 1.199333 \n"
     ]
    }
   ],
   "source": [
    "for(i in 1:4){\n",
    "    cat(names(iris[i]), \"\\n mean=\", mean(iris[, i]), \"\\n\")\n",
    "}"
   ]
  },
  {
   "cell_type": "code",
   "execution_count": 7,
   "id": "unnecessary-ceramic",
   "metadata": {},
   "outputs": [
    {
     "data": {
      "text/html": [
       "'Sepal.Length'"
      ],
      "text/latex": [
       "'Sepal.Length'"
      ],
      "text/markdown": [
       "'Sepal.Length'"
      ],
      "text/plain": [
       "[1] \"Sepal.Length\""
      ]
     },
     "metadata": {},
     "output_type": "display_data"
    }
   ],
   "source": [
    "names(iris[i])"
   ]
  },
  {
   "cell_type": "code",
   "execution_count": null,
   "id": "foster-conversion",
   "metadata": {},
   "outputs": [],
   "source": [
    "# обращение ко всему столбцу \n",
    "iris[i]"
   ]
  },
  {
   "cell_type": "code",
   "execution_count": null,
   "id": "opened-scheduling",
   "metadata": {},
   "outputs": [],
   "source": [
    "# обращение к элементам столбца\n",
    "iris[, i]\n",
    "\n",
    "# для образение к таблице [, ]\n",
    "# для обращение к вектору [[]]"
   ]
  },
  {
   "cell_type": "code",
   "execution_count": 15,
   "id": "variable-papua",
   "metadata": {},
   "outputs": [
    {
     "name": "stdout",
     "output_type": "stream",
     "text": [
      "Sepal.Length \n",
      " mean= 5.843333 \n",
      "Sepal.Width \n",
      " mean= 3.057333 \n",
      "Petal.Length \n",
      " mean= 3.758 \n",
      "Petal.Width \n",
      " mean= 1.199333 \n"
     ]
    },
    {
     "name": "stderr",
     "output_type": "stream",
     "text": [
      "Warning message in mean.default(iris[, i]):\n",
      "“argument is not numeric or logical: returning NA”"
     ]
    },
    {
     "name": "stdout",
     "output_type": "stream",
     "text": [
      "Species \n",
      " mean= NA \n"
     ]
    }
   ],
   "source": [
    "for(i in names(iris)){\n",
    "    cat(i, \"\\n mean=\", mean(iris[, i]), \"\\n\" )\n",
    "}"
   ]
  },
  {
   "cell_type": "code",
   "execution_count": 17,
   "id": "future-mount",
   "metadata": {},
   "outputs": [
    {
     "data": {
      "text/html": [
       "<dl class=dl-horizontal>\n",
       "\t<dt>Sepal.Length</dt>\n",
       "\t\t<dd>TRUE</dd>\n",
       "\t<dt>Sepal.Width</dt>\n",
       "\t\t<dd>TRUE</dd>\n",
       "\t<dt>Petal.Length</dt>\n",
       "\t\t<dd>TRUE</dd>\n",
       "\t<dt>Petal.Width</dt>\n",
       "\t\t<dd>TRUE</dd>\n",
       "\t<dt>Species</dt>\n",
       "\t\t<dd>FALSE</dd>\n",
       "</dl>\n"
      ],
      "text/latex": [
       "\\begin{description*}\n",
       "\\item[Sepal.Length] TRUE\n",
       "\\item[Sepal.Width] TRUE\n",
       "\\item[Petal.Length] TRUE\n",
       "\\item[Petal.Width] TRUE\n",
       "\\item[Species] FALSE\n",
       "\\end{description*}\n"
      ],
      "text/markdown": [
       "Sepal.Length\n",
       ":   TRUESepal.Width\n",
       ":   TRUEPetal.Length\n",
       ":   TRUEPetal.Width\n",
       ":   TRUESpecies\n",
       ":   FALSE\n",
       "\n"
      ],
      "text/plain": [
       "Sepal.Length  Sepal.Width Petal.Length  Petal.Width      Species \n",
       "        TRUE         TRUE         TRUE         TRUE        FALSE "
      ]
     },
     "metadata": {},
     "output_type": "display_data"
    }
   ],
   "source": [
    "sapply(iris, is.numeric)"
   ]
  },
  {
   "cell_type": "code",
   "execution_count": 24,
   "id": "heard-retro",
   "metadata": {},
   "outputs": [
    {
     "name": "stdout",
     "output_type": "stream",
     "text": [
      "Sepal.Length \n",
      " mean= 5.843333 \n",
      "Sepal.Width \n",
      " mean= 3.057333 \n",
      "Petal.Length \n",
      " mean= 3.758 \n",
      "Petal.Width \n",
      " mean= 1.199333 \n"
     ]
    }
   ],
   "source": [
    "n <- sapply(iris, is.numeric)\n",
    "for (i in names(iris[n])){\n",
    "        cat(i, \"\\n mean=\", mean(iris[, i]), \"\\n\" )\n",
    "}"
   ]
  },
  {
   "cell_type": "code",
   "execution_count": 26,
   "id": "operational-cooking",
   "metadata": {},
   "outputs": [
    {
     "data": {
      "text/html": [
       "<table>\n",
       "<thead><tr><th scope=col>Sepal.Length</th><th scope=col>Sepal.Width</th><th scope=col>Petal.Length</th><th scope=col>Petal.Width</th></tr></thead>\n",
       "<tbody>\n",
       "\t<tr><td>5.843333</td><td>3.057333</td><td>3.758   </td><td>1.199333</td></tr>\n",
       "</tbody>\n",
       "</table>\n"
      ],
      "text/latex": [
       "\\begin{tabular}{llll}\n",
       " Sepal.Length & Sepal.Width & Petal.Length & Petal.Width\\\\\n",
       "\\hline\n",
       "\t 5.843333 & 3.057333 & 3.758    & 1.199333\\\\\n",
       "\\end{tabular}\n"
      ],
      "text/markdown": [
       "\n",
       "| Sepal.Length | Sepal.Width | Petal.Length | Petal.Width |\n",
       "|---|---|---|---|\n",
       "| 5.843333 | 3.057333 | 3.758    | 1.199333 |\n",
       "\n"
      ],
      "text/plain": [
       "     Sepal.Length Sepal.Width Petal.Length Petal.Width\n",
       "[1,] 5.843333     3.057333    3.758        1.199333   "
      ]
     },
     "metadata": {},
     "output_type": "display_data"
    }
   ],
   "source": [
    "t(apply(iris[n], 2, mean))"
   ]
  },
  {
   "cell_type": "code",
   "execution_count": 36,
   "id": "authorized-expansion",
   "metadata": {},
   "outputs": [
    {
     "name": "stdout",
     "output_type": "stream",
     "text": [
      "mean= 5.843333 \n",
      "sd= 0.83 \n",
      "mean= 3.057333 \n",
      "sd= 0.44 \n",
      "mean= 3.758 \n",
      "sd= 1.8 \n",
      "mean= 1.199333 \n",
      "sd= 0.76 \n"
     ]
    }
   ],
   "source": [
    "n <- sapply(iris, is.numeric)\n",
    "# cat лучше print\n",
    "for (i in iris[n]){\n",
    "    cat(\"mean=\", mean(i), \"\\n\" )\n",
    "    cat(\"sd=\", format(sd(i), dig=2), \"\\n\")\n",
    "}"
   ]
  },
  {
   "cell_type": "code",
   "execution_count": 37,
   "id": "growing-movement",
   "metadata": {},
   "outputs": [],
   "source": [
    "tt <- t.test(rnorm(20))"
   ]
  },
  {
   "cell_type": "code",
   "execution_count": 39,
   "id": "desirable-vocabulary",
   "metadata": {},
   "outputs": [
    {
     "name": "stdout",
     "output_type": "stream",
     "text": [
      "         t \n",
      "-0.7473922 \n",
      "df \n",
      "19 \n",
      "[1] 0.463977\n",
      "[1] -0.4916342  0.2329090\n",
      "attr(,\"conf.level\")\n",
      "[1] 0.95\n",
      " mean of x \n",
      "-0.1293626 \n",
      "mean \n",
      "   0 \n",
      "[1] 0.1730853\n",
      "[1] \"two.sided\"\n",
      "[1] \"One Sample t-test\"\n",
      "[1] \"rnorm(20)\"\n"
     ]
    }
   ],
   "source": [
    "for(i in tt){\n",
    "    print(i)\n",
    "}"
   ]
  },
  {
   "cell_type": "code",
   "execution_count": 46,
   "id": "commercial-guard",
   "metadata": {},
   "outputs": [],
   "source": [
    "x <- sample(1:6, 10, rep=T)"
   ]
  },
  {
   "cell_type": "code",
   "execution_count": 47,
   "id": "biological-makeup",
   "metadata": {},
   "outputs": [
    {
     "data": {
      "text/html": [
       "<table>\n",
       "<tbody>\n",
       "\t<tr><td>5</td><td>5</td><td>2</td><td>6</td><td>3</td><td>3</td><td>6</td><td>4</td><td>3</td><td>5</td></tr>\n",
       "</tbody>\n",
       "</table>\n"
      ],
      "text/latex": [
       "\\begin{tabular}{llllllllll}\n",
       "\t 5 & 5 & 2 & 6 & 3 & 3 & 6 & 4 & 3 & 5\\\\\n",
       "\\end{tabular}\n"
      ],
      "text/markdown": [
       "\n",
       "| 5 | 5 | 2 | 6 | 3 | 3 | 6 | 4 | 3 | 5 |\n",
       "\n"
      ],
      "text/plain": [
       "     [,1] [,2] [,3] [,4] [,5] [,6] [,7] [,8] [,9] [,10]\n",
       "[1,] 5    5    2    6    3    3    6    4    3    5    "
      ]
     },
     "metadata": {},
     "output_type": "display_data"
    }
   ],
   "source": [
    "t(x)"
   ]
  },
  {
   "cell_type": "code",
   "execution_count": 48,
   "id": "duplicate-defense",
   "metadata": {},
   "outputs": [
    {
     "data": {
      "text/html": [
       "<ol class=list-inline>\n",
       "\t<li>2</li>\n",
       "\t<li>6</li>\n",
       "\t<li>6</li>\n",
       "\t<li>4</li>\n",
       "</ol>\n"
      ],
      "text/latex": [
       "\\begin{enumerate*}\n",
       "\\item 2\n",
       "\\item 6\n",
       "\\item 6\n",
       "\\item 4\n",
       "\\end{enumerate*}\n"
      ],
      "text/markdown": [
       "1. 2\n",
       "2. 6\n",
       "3. 6\n",
       "4. 4\n",
       "\n",
       "\n"
      ],
      "text/plain": [
       "[1] 2 6 6 4"
      ]
     },
     "metadata": {},
     "output_type": "display_data"
    }
   ],
   "source": [
    "x[x%%2==0]"
   ]
  },
  {
   "cell_type": "code",
   "execution_count": 58,
   "id": "authentic-eight",
   "metadata": {},
   "outputs": [
    {
     "data": {
      "text/html": [
       "<ol class=list-inline>\n",
       "\t<li>'зачтено'</li>\n",
       "\t<li>'зачтено'</li>\n",
       "\t<li>'зачтено'</li>\n",
       "\t<li>'не зачтено'</li>\n",
       "\t<li>'зачтено'</li>\n",
       "\t<li>'не зачтено'</li>\n",
       "\t<li>'зачтено'</li>\n",
       "\t<li>'зачтено'</li>\n",
       "\t<li>'зачтено'</li>\n",
       "\t<li>'не зачтено'</li>\n",
       "\t<li>'зачтено'</li>\n",
       "\t<li>'зачтено'</li>\n",
       "\t<li>'не зачтено'</li>\n",
       "\t<li>'зачтено'</li>\n",
       "\t<li>'зачтено'</li>\n",
       "\t<li>'не зачтено'</li>\n",
       "\t<li>'не зачтено'</li>\n",
       "\t<li>'зачтено'</li>\n",
       "\t<li>'зачтено'</li>\n",
       "\t<li>'не зачтено'</li>\n",
       "\t<li>'зачтено'</li>\n",
       "\t<li>'зачтено'</li>\n",
       "\t<li>'зачтено'</li>\n",
       "\t<li>'зачтено'</li>\n",
       "\t<li>'зачтено'</li>\n",
       "</ol>\n"
      ],
      "text/latex": [
       "\\begin{enumerate*}\n",
       "\\item 'зачтено'\n",
       "\\item 'зачтено'\n",
       "\\item 'зачтено'\n",
       "\\item 'не зачтено'\n",
       "\\item 'зачтено'\n",
       "\\item 'не зачтено'\n",
       "\\item 'зачтено'\n",
       "\\item 'зачтено'\n",
       "\\item 'зачтено'\n",
       "\\item 'не зачтено'\n",
       "\\item 'зачтено'\n",
       "\\item 'зачтено'\n",
       "\\item 'не зачтено'\n",
       "\\item 'зачтено'\n",
       "\\item 'зачтено'\n",
       "\\item 'не зачтено'\n",
       "\\item 'не зачтено'\n",
       "\\item 'зачтено'\n",
       "\\item 'зачтено'\n",
       "\\item 'не зачтено'\n",
       "\\item 'зачтено'\n",
       "\\item 'зачтено'\n",
       "\\item 'зачтено'\n",
       "\\item 'зачтено'\n",
       "\\item 'зачтено'\n",
       "\\end{enumerate*}\n"
      ],
      "text/markdown": [
       "1. 'зачтено'\n",
       "2. 'зачтено'\n",
       "3. 'зачтено'\n",
       "4. 'не зачтено'\n",
       "5. 'зачтено'\n",
       "6. 'не зачтено'\n",
       "7. 'зачтено'\n",
       "8. 'зачтено'\n",
       "9. 'зачтено'\n",
       "10. 'не зачтено'\n",
       "11. 'зачтено'\n",
       "12. 'зачтено'\n",
       "13. 'не зачтено'\n",
       "14. 'зачтено'\n",
       "15. 'зачтено'\n",
       "16. 'не зачтено'\n",
       "17. 'не зачтено'\n",
       "18. 'зачтено'\n",
       "19. 'зачтено'\n",
       "20. 'не зачтено'\n",
       "21. 'зачтено'\n",
       "22. 'зачтено'\n",
       "23. 'зачтено'\n",
       "24. 'зачтено'\n",
       "25. 'зачтено'\n",
       "\n",
       "\n"
      ],
      "text/plain": [
       " [1] \"зачтено\"    \"зачтено\"    \"зачтено\"    \"не зачтено\" \"зачтено\"   \n",
       " [6] \"не зачтено\" \"зачтено\"    \"зачтено\"    \"зачтено\"    \"не зачтено\"\n",
       "[11] \"зачтено\"    \"зачтено\"    \"не зачтено\" \"зачтено\"    \"зачтено\"   \n",
       "[16] \"не зачтено\" \"не зачтено\" \"зачтено\"    \"зачтено\"    \"не зачтено\"\n",
       "[21] \"зачтено\"    \"зачтено\"    \"зачтено\"    \"зачтено\"    \"зачтено\"   "
      ]
     },
     "metadata": {},
     "output_type": "display_data"
    }
   ],
   "source": [
    "x <- sample(2:5, 25, rep=T)\n",
    "res <- c('зачтено', 'не зачтено')\n",
    "res[ifelse(x>2, 1, 2)]"
   ]
  },
  {
   "cell_type": "code",
   "execution_count": 85,
   "id": "private-contributor",
   "metadata": {},
   "outputs": [
    {
     "data": {
      "text/html": [
       "<ol class=list-inline>\n",
       "\t<li>'не зачтено'</li>\n",
       "\t<li>'зачтено'</li>\n",
       "\t<li>'зачтено'</li>\n",
       "\t<li>'зачтено'</li>\n",
       "\t<li>'зачтено'</li>\n",
       "\t<li>'не зачтено'</li>\n",
       "\t<li>'зачтено'</li>\n",
       "\t<li>'зачтено'</li>\n",
       "\t<li>'зачтено'</li>\n",
       "\t<li>'зачтено'</li>\n",
       "\t<li>'зачтено'</li>\n",
       "\t<li>'зачтено'</li>\n",
       "\t<li>'зачтено'</li>\n",
       "\t<li>'зачтено'</li>\n",
       "\t<li>'зачтено'</li>\n",
       "\t<li>'зачтено'</li>\n",
       "\t<li>'не зачтено'</li>\n",
       "\t<li>'зачтено'</li>\n",
       "\t<li>'не зачтено'</li>\n",
       "\t<li>'зачтено'</li>\n",
       "\t<li>'не зачтено'</li>\n",
       "\t<li>'зачтено'</li>\n",
       "\t<li>'зачтено'</li>\n",
       "\t<li>'зачтено'</li>\n",
       "\t<li>'не зачтено'</li>\n",
       "</ol>\n"
      ],
      "text/latex": [
       "\\begin{enumerate*}\n",
       "\\item 'не зачтено'\n",
       "\\item 'зачтено'\n",
       "\\item 'зачтено'\n",
       "\\item 'зачтено'\n",
       "\\item 'зачтено'\n",
       "\\item 'не зачтено'\n",
       "\\item 'зачтено'\n",
       "\\item 'зачтено'\n",
       "\\item 'зачтено'\n",
       "\\item 'зачтено'\n",
       "\\item 'зачтено'\n",
       "\\item 'зачтено'\n",
       "\\item 'зачтено'\n",
       "\\item 'зачтено'\n",
       "\\item 'зачтено'\n",
       "\\item 'зачтено'\n",
       "\\item 'не зачтено'\n",
       "\\item 'зачтено'\n",
       "\\item 'не зачтено'\n",
       "\\item 'зачтено'\n",
       "\\item 'не зачтено'\n",
       "\\item 'зачтено'\n",
       "\\item 'зачтено'\n",
       "\\item 'зачтено'\n",
       "\\item 'не зачтено'\n",
       "\\end{enumerate*}\n"
      ],
      "text/markdown": [
       "1. 'не зачтено'\n",
       "2. 'зачтено'\n",
       "3. 'зачтено'\n",
       "4. 'зачтено'\n",
       "5. 'зачтено'\n",
       "6. 'не зачтено'\n",
       "7. 'зачтено'\n",
       "8. 'зачтено'\n",
       "9. 'зачтено'\n",
       "10. 'зачтено'\n",
       "11. 'зачтено'\n",
       "12. 'зачтено'\n",
       "13. 'зачтено'\n",
       "14. 'зачтено'\n",
       "15. 'зачтено'\n",
       "16. 'зачтено'\n",
       "17. 'не зачтено'\n",
       "18. 'зачтено'\n",
       "19. 'не зачтено'\n",
       "20. 'зачтено'\n",
       "21. 'не зачтено'\n",
       "22. 'зачтено'\n",
       "23. 'зачтено'\n",
       "24. 'зачтено'\n",
       "25. 'не зачтено'\n",
       "\n",
       "\n"
      ],
      "text/plain": [
       " [1] \"не зачтено\" \"зачтено\"    \"зачтено\"    \"зачтено\"    \"зачтено\"   \n",
       " [6] \"не зачтено\" \"зачтено\"    \"зачтено\"    \"зачтено\"    \"зачтено\"   \n",
       "[11] \"зачтено\"    \"зачтено\"    \"зачтено\"    \"зачтено\"    \"зачтено\"   \n",
       "[16] \"зачтено\"    \"не зачтено\" \"зачтено\"    \"не зачтено\" \"зачтено\"   \n",
       "[21] \"не зачтено\" \"зачтено\"    \"зачтено\"    \"зачтено\"    \"не зачтено\""
      ]
     },
     "metadata": {},
     "output_type": "display_data"
    }
   ],
   "source": [
    "res <- c('не зачтено', 'зачтено')\n",
    "x <- sample(2:5, 25, rep=T)\n",
    "res[(x>2)+1]"
   ]
  },
  {
   "cell_type": "code",
   "execution_count": 78,
   "id": "qualified-anime",
   "metadata": {},
   "outputs": [
    {
     "data": {
      "text/html": [
       "<table>\n",
       "<tbody>\n",
       "\t<tr><td>1</td><td>3</td></tr>\n",
       "\t<tr><td>2</td><td>4</td></tr>\n",
       "\t<tr><td>3</td><td>5</td></tr>\n",
       "\t<tr><td>4</td><td>6</td></tr>\n",
       "\t<tr><td>5</td><td>7</td></tr>\n",
       "</tbody>\n",
       "</table>\n"
      ],
      "text/latex": [
       "\\begin{tabular}{ll}\n",
       "\t 1 & 3\\\\\n",
       "\t 2 & 4\\\\\n",
       "\t 3 & 5\\\\\n",
       "\t 4 & 6\\\\\n",
       "\t 5 & 7\\\\\n",
       "\\end{tabular}\n"
      ],
      "text/markdown": [
       "\n",
       "| 1 | 3 |\n",
       "| 2 | 4 |\n",
       "| 3 | 5 |\n",
       "| 4 | 6 |\n",
       "| 5 | 7 |\n",
       "\n"
      ],
      "text/plain": [
       "     [,1] [,2]\n",
       "[1,] 1    3   \n",
       "[2,] 2    4   \n",
       "[3,] 3    5   \n",
       "[4,] 4    6   \n",
       "[5,] 5    7   "
      ]
     },
     "metadata": {},
     "output_type": "display_data"
    }
   ],
   "source": [
    "aa <- cbind(1:5, 3:7)\n",
    "aa"
   ]
  },
  {
   "cell_type": "code",
   "execution_count": 79,
   "id": "eastern-elimination",
   "metadata": {},
   "outputs": [
    {
     "data": {
      "text/html": [
       "<ol class=list-inline>\n",
       "\t<li>1.58113883008419</li>\n",
       "\t<li>1.58113883008419</li>\n",
       "</ol>\n"
      ],
      "text/latex": [
       "\\begin{enumerate*}\n",
       "\\item 1.58113883008419\n",
       "\\item 1.58113883008419\n",
       "\\end{enumerate*}\n"
      ],
      "text/markdown": [
       "1. 1.58113883008419\n",
       "2. 1.58113883008419\n",
       "\n",
       "\n"
      ],
      "text/plain": [
       "[1] 1.581139 1.581139"
      ]
     },
     "metadata": {},
     "output_type": "display_data"
    }
   ],
   "source": [
    "apply(aa, 2, sd)"
   ]
  },
  {
   "cell_type": "code",
   "execution_count": 80,
   "id": "talented-waters",
   "metadata": {},
   "outputs": [
    {
     "data": {
      "text/html": [
       "<table>\n",
       "<tbody>\n",
       "\t<tr><td>1</td><td>1</td></tr>\n",
       "\t<tr><td>1</td><td>1</td></tr>\n",
       "</tbody>\n",
       "</table>\n"
      ],
      "text/latex": [
       "\\begin{tabular}{ll}\n",
       "\t 1 & 1\\\\\n",
       "\t 1 & 1\\\\\n",
       "\\end{tabular}\n"
      ],
      "text/markdown": [
       "\n",
       "| 1 | 1 |\n",
       "| 1 | 1 |\n",
       "\n"
      ],
      "text/plain": [
       "     [,1] [,2]\n",
       "[1,] 1    1   \n",
       "[2,] 1    1   "
      ]
     },
     "metadata": {},
     "output_type": "display_data"
    }
   ],
   "source": [
    "cor(aa)"
   ]
  },
  {
   "cell_type": "code",
   "execution_count": 82,
   "id": "printable-escape",
   "metadata": {},
   "outputs": [
    {
     "data": {
      "text/html": [
       "<ol class=list-inline>\n",
       "\t<li>0.0494162568625775</li>\n",
       "\t<li>0.0494162568625775</li>\n",
       "</ol>\n"
      ],
      "text/latex": [
       "\\begin{enumerate*}\n",
       "\\item 0.0494162568625775\n",
       "\\item 0.0494162568625775\n",
       "\\end{enumerate*}\n"
      ],
      "text/markdown": [
       "1. 0.0494162568625775\n",
       "2. 0.0494162568625775\n",
       "\n",
       "\n"
      ],
      "text/plain": [
       "[1] 0.04941626 0.04941626"
      ]
     },
     "metadata": {},
     "output_type": "display_data"
    }
   ],
   "source": [
    "test <- function (x){\n",
    "    if(sd(x) > 0){\n",
    "        t.test(x~c('a', 'a', 'a', 'b', 'b'))$p.value\n",
    "    }\n",
    "}\n",
    "apply(aa, 2, test)"
   ]
  },
  {
   "cell_type": "code",
   "execution_count": 83,
   "id": "younger-excuse",
   "metadata": {},
   "outputs": [
    {
     "data": {
      "text/html": [
       "<ol>\n",
       "\t<li>0.0494162568625775</li>\n",
       "\t<li>NULL</li>\n",
       "</ol>\n"
      ],
      "text/latex": [
       "\\begin{enumerate}\n",
       "\\item 0.0494162568625775\n",
       "\\item NULL\n",
       "\\end{enumerate}\n"
      ],
      "text/markdown": [
       "1. 0.0494162568625775\n",
       "2. NULL\n",
       "\n",
       "\n"
      ],
      "text/plain": [
       "[[1]]\n",
       "[1] 0.04941626\n",
       "\n",
       "[[2]]\n",
       "NULL\n"
      ]
     },
     "metadata": {},
     "output_type": "display_data"
    }
   ],
   "source": [
    "aa <- cbind(1:5, 6)\n",
    "apply(aa, 2, test)"
   ]
  },
  {
   "cell_type": "code",
   "execution_count": 86,
   "id": "reasonable-harvest",
   "metadata": {},
   "outputs": [
    {
     "data": {
      "text/html": [
       "<ol class=list-inline>\n",
       "\t<li>'зачтено'</li>\n",
       "\t<li>'зачтено'</li>\n",
       "\t<li>'зачтено'</li>\n",
       "\t<li>'не зачтено'</li>\n",
       "\t<li>'зачтено'</li>\n",
       "\t<li>'зачтено'</li>\n",
       "\t<li>'зачтено'</li>\n",
       "\t<li>'зачтено'</li>\n",
       "\t<li>'не зачтено'</li>\n",
       "\t<li>'зачтено'</li>\n",
       "\t<li>'не зачтено'</li>\n",
       "\t<li>'зачтено'</li>\n",
       "\t<li>'не зачтено'</li>\n",
       "\t<li>'не зачтено'</li>\n",
       "\t<li>'зачтено'</li>\n",
       "\t<li>'зачтено'</li>\n",
       "\t<li>'зачтено'</li>\n",
       "\t<li>'зачтено'</li>\n",
       "\t<li>'зачтено'</li>\n",
       "\t<li>'не зачтено'</li>\n",
       "\t<li>'зачтено'</li>\n",
       "\t<li>'зачтено'</li>\n",
       "\t<li>'не зачтено'</li>\n",
       "\t<li>'зачтено'</li>\n",
       "\t<li>'зачтено'</li>\n",
       "</ol>\n"
      ],
      "text/latex": [
       "\\begin{enumerate*}\n",
       "\\item 'зачтено'\n",
       "\\item 'зачтено'\n",
       "\\item 'зачтено'\n",
       "\\item 'не зачтено'\n",
       "\\item 'зачтено'\n",
       "\\item 'зачтено'\n",
       "\\item 'зачтено'\n",
       "\\item 'зачтено'\n",
       "\\item 'не зачтено'\n",
       "\\item 'зачтено'\n",
       "\\item 'не зачтено'\n",
       "\\item 'зачтено'\n",
       "\\item 'не зачтено'\n",
       "\\item 'не зачтено'\n",
       "\\item 'зачтено'\n",
       "\\item 'зачтено'\n",
       "\\item 'зачтено'\n",
       "\\item 'зачтено'\n",
       "\\item 'зачтено'\n",
       "\\item 'не зачтено'\n",
       "\\item 'зачтено'\n",
       "\\item 'зачтено'\n",
       "\\item 'не зачтено'\n",
       "\\item 'зачтено'\n",
       "\\item 'зачтено'\n",
       "\\end{enumerate*}\n"
      ],
      "text/markdown": [
       "1. 'зачтено'\n",
       "2. 'зачтено'\n",
       "3. 'зачтено'\n",
       "4. 'не зачтено'\n",
       "5. 'зачтено'\n",
       "6. 'зачтено'\n",
       "7. 'зачтено'\n",
       "8. 'зачтено'\n",
       "9. 'не зачтено'\n",
       "10. 'зачтено'\n",
       "11. 'не зачтено'\n",
       "12. 'зачтено'\n",
       "13. 'не зачтено'\n",
       "14. 'не зачтено'\n",
       "15. 'зачтено'\n",
       "16. 'зачтено'\n",
       "17. 'зачтено'\n",
       "18. 'зачтено'\n",
       "19. 'зачтено'\n",
       "20. 'не зачтено'\n",
       "21. 'зачтено'\n",
       "22. 'зачтено'\n",
       "23. 'не зачтено'\n",
       "24. 'зачтено'\n",
       "25. 'зачтено'\n",
       "\n",
       "\n"
      ],
      "text/plain": [
       " [1] \"зачтено\"    \"зачтено\"    \"зачтено\"    \"не зачтено\" \"зачтено\"   \n",
       " [6] \"зачтено\"    \"зачтено\"    \"зачтено\"    \"не зачтено\" \"зачтено\"   \n",
       "[11] \"не зачтено\" \"зачтено\"    \"не зачтено\" \"не зачтено\" \"зачтено\"   \n",
       "[16] \"зачтено\"    \"зачтено\"    \"зачтено\"    \"зачтено\"    \"не зачтено\"\n",
       "[21] \"зачтено\"    \"зачтено\"    \"не зачтено\" \"зачтено\"    \"зачтено\"   "
      ]
     },
     "metadata": {},
     "output_type": "display_data"
    }
   ],
   "source": [
    "x <- sample(2:5, 25, rep=T)\n",
    "ifelse(x>2, 'зачтено', 'не зачтено')"
   ]
  },
  {
   "cell_type": "code",
   "execution_count": 92,
   "id": "distributed-slide",
   "metadata": {},
   "outputs": [],
   "source": [
    "chet <- function(x){\n",
    "    n <- 0\n",
    "    for(i in x){\n",
    "        if(i%%2 == 0){\n",
    "            n <- n+1\n",
    "        }\n",
    "    }\n",
    "    return(paste(\"n=\", n))\n",
    "}"
   ]
  },
  {
   "cell_type": "code",
   "execution_count": 93,
   "id": "invisible-ideal",
   "metadata": {},
   "outputs": [
    {
     "data": {
      "text/html": [
       "'n= 15'"
      ],
      "text/latex": [
       "'n= 15'"
      ],
      "text/markdown": [
       "'n= 15'"
      ],
      "text/plain": [
       "[1] \"n= 15\""
      ]
     },
     "metadata": {},
     "output_type": "display_data"
    }
   ],
   "source": [
    "chet(x)"
   ]
  },
  {
   "cell_type": "code",
   "execution_count": 95,
   "id": "sitting-plasma",
   "metadata": {},
   "outputs": [
    {
     "data": {
      "text/html": [
       "15"
      ],
      "text/latex": [
       "15"
      ],
      "text/markdown": [
       "15"
      ],
      "text/plain": [
       "[1] 15"
      ]
     },
     "metadata": {},
     "output_type": "display_data"
    }
   ],
   "source": [
    "sum(x%%2 == 0)"
   ]
  },
  {
   "cell_type": "code",
   "execution_count": null,
   "id": "fifth-catch",
   "metadata": {},
   "outputs": [],
   "source": []
  }
 ],
 "metadata": {
  "kernelspec": {
   "display_name": "R",
   "language": "R",
   "name": "ir"
  },
  "language_info": {
   "codemirror_mode": "r",
   "file_extension": ".r",
   "mimetype": "text/x-r-source",
   "name": "R",
   "pygments_lexer": "r",
   "version": "3.6.1"
  }
 },
 "nbformat": 4,
 "nbformat_minor": 5
}
