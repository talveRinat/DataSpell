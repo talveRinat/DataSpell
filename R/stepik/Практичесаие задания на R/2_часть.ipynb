{
 "cells": [
  {
   "cell_type": "markdown",
   "id": "meaning-television",
   "metadata": {},
   "source": [
    "Пример 1\n",
    "---\n",
    "Начнем с простого и вспомним, как применять логистическую регрессию в R. Напишите функцию get_coefficients, которая получает на вход dataframe с двумя переменными x ( фактор с произвольным числом градаций) и y ( фактор с двумя градациями). Функция строит логистическую модель, где y — зависимая переменная, а x — независимая, и возвращает вектор со значением экспоненты коэффициентов модели. "
   ]
  },
  {
   "cell_type": "code",
   "execution_count": 1,
   "id": "cutting-portrait",
   "metadata": {},
   "outputs": [],
   "source": [
    "test_data <- read.csv(\"https://stepik.org/media/attachments/course/524/test_data_01.csv\")\n",
    "test_data <- transform(test_data, x = factor(x), y = factor(y)) "
   ]
  },
  {
   "cell_type": "code",
   "execution_count": 19,
   "id": "alert-sending",
   "metadata": {},
   "outputs": [],
   "source": [
    "get_coefficients <- function(dataset){\n",
    "    fit <- glm(test_data$y~test_data$x, family = \"binomial\")\n",
    "    a <- coef(fit)\n",
    "    return (sapply(a, exp))\n",
    "    }"
   ]
  },
  {
   "cell_type": "code",
   "execution_count": 20,
   "id": "encouraging-tracy",
   "metadata": {},
   "outputs": [
    {
     "data": {
      "text/html": [
       "<dl class=dl-horizontal>\n",
       "\t<dt>(Intercept)</dt>\n",
       "\t\t<dd>0.9</dd>\n",
       "\t<dt>test_data$x2</dt>\n",
       "\t\t<dd>2.53968253968006</dd>\n",
       "\t<dt>test_data$x3</dt>\n",
       "\t\t<dd>0.666666666666671</dd>\n",
       "</dl>\n"
      ],
      "text/latex": [
       "\\begin{description*}\n",
       "\\item[(Intercept)] 0.9\n",
       "\\item[test\\textbackslash{}\\_data\\textbackslash{}\\$x2] 2.53968253968006\n",
       "\\item[test\\textbackslash{}\\_data\\textbackslash{}\\$x3] 0.666666666666671\n",
       "\\end{description*}\n"
      ],
      "text/markdown": [
       "(Intercept)\n",
       ":   0.9test_data$x2\n",
       ":   2.53968253968006test_data$x3\n",
       ":   0.666666666666671\n",
       "\n"
      ],
      "text/plain": [
       " (Intercept) test_data$x2 test_data$x3 \n",
       "   0.9000000    2.5396825    0.6666667 "
      ]
     },
     "metadata": {},
     "output_type": "display_data"
    }
   ],
   "source": [
    "get_coefficients(test_data)"
   ]
  },
  {
   "cell_type": "code",
   "execution_count": null,
   "id": "cutting-attribute",
   "metadata": {},
   "outputs": [],
   "source": [
    "# решение степика\n",
    "get_coefficients  <- function(dataset){    \n",
    "    fit <- glm(y ~ x, dataset, family = 'binomial')    \n",
    "    return(exp(fit$coefficients))    \n",
    "}"
   ]
  },
  {
   "cell_type": "markdown",
   "id": "protected-flush",
   "metadata": {},
   "source": [
    "Пример 2\n",
    "----\n",
    "Если в нашей модели есть количественные предикторы, то в интерцепте мы будем иметь значение, соответствующее базовому уровню категориальных предикторов и нулевому уровню количественных. Это не всегда осмысленно. Например, нам не интересен прогноз для людей нулевого возраста или роста. В таких ситуациях количественную переменную имеет смысл предварительно центрировать так, чтобы ноль являлся средним значением переменной. Самый простой способ центрировать переменную — отнять от каждого наблюдения среднее значение всех наблюдений.\n",
    "\n",
    "$xcentered_{i}= x_{i} - \\bar{x}$\n",
    "\n",
    "В этом задании вашей задачей будет  написать функцию centered, которая получает на вход датафрейм и имена переменных, которые необходимо центрировать так, как это описано выше. Функция должна возвращать этот же датафрейм, только с центрированными указанными переменными."
   ]
  },
  {
   "cell_type": "code",
   "execution_count": 44,
   "id": "announced-probability",
   "metadata": {},
   "outputs": [
    {
     "name": "stderr",
     "output_type": "stream",
     "text": [
      "Warning message in file(file, \"rt\"):\n",
      "“URL 'https://stepic.org/media/attachments/course/524/cen_data.csv': status was 'Couldn't resolve host name'”"
     ]
    },
    {
     "ename": "ERROR",
     "evalue": "Error in file(file, \"rt\"): cannot open the connection to 'https://stepic.org/media/attachments/course/524/cen_data.csv'\n",
     "output_type": "error",
     "traceback": [
      "Error in file(file, \"rt\"): cannot open the connection to 'https://stepic.org/media/attachments/course/524/cen_data.csv'\nTraceback:\n",
      "1. read.csv(\"https://stepic.org/media/attachments/course/524/cen_data.csv\")",
      "2. read.table(file = file, header = header, sep = sep, quote = quote, \n .     dec = dec, fill = fill, comment.char = comment.char, ...)",
      "3. file(file, \"rt\")"
     ]
    }
   ],
   "source": [
    "test_data <- read.csv(\"https://stepic.org/media/attachments/course/524/cen_data.csv\")\n",
    "test_data"
   ]
  },
  {
   "cell_type": "code",
   "execution_count": 42,
   "id": "civilian-interface",
   "metadata": {},
   "outputs": [],
   "source": [
    "centered <- function(test_data, var_names){\n",
    "    for (i in var_names){\n",
    "        mn <- mean(test_data[[i]])\n",
    "        test_data[i] = test_data[i] - mn\n",
    "    }\n",
    "    return(test_data)\n",
    "}"
   ]
  },
  {
   "cell_type": "code",
   "execution_count": 43,
   "id": "bored-murder",
   "metadata": {},
   "outputs": [
    {
     "data": {
      "text/html": [
       "<table>\n",
       "<thead><tr><th scope=col>X1</th><th scope=col>X2</th><th scope=col>X3</th><th scope=col>X4</th></tr></thead>\n",
       "<tbody>\n",
       "\t<tr><td>-1.04</td><td>-1.2 </td><td>10.7 </td><td>-0.62</td></tr>\n",
       "\t<tr><td>-1.44</td><td> 1.9 </td><td> 9.7 </td><td> 1.68</td></tr>\n",
       "\t<tr><td> 0.06</td><td>-3.5 </td><td> 8.4 </td><td> 1.78</td></tr>\n",
       "\t<tr><td> 0.06</td><td> 0.0 </td><td> 7.7 </td><td>-2.92</td></tr>\n",
       "\t<tr><td> 2.36</td><td> 2.8 </td><td>12.3 </td><td> 0.08</td></tr>\n",
       "</tbody>\n",
       "</table>\n"
      ],
      "text/latex": [
       "\\begin{tabular}{r|llll}\n",
       " X1 & X2 & X3 & X4\\\\\n",
       "\\hline\n",
       "\t -1.04 & -1.2  & 10.7  & -0.62\\\\\n",
       "\t -1.44 &  1.9  &  9.7  &  1.68\\\\\n",
       "\t  0.06 & -3.5  &  8.4  &  1.78\\\\\n",
       "\t  0.06 &  0.0  &  7.7  & -2.92\\\\\n",
       "\t  2.36 &  2.8  & 12.3  &  0.08\\\\\n",
       "\\end{tabular}\n"
      ],
      "text/markdown": [
       "\n",
       "| X1 | X2 | X3 | X4 |\n",
       "|---|---|---|---|\n",
       "| -1.04 | -1.2  | 10.7  | -0.62 |\n",
       "| -1.44 |  1.9  |  9.7  |  1.68 |\n",
       "|  0.06 | -3.5  |  8.4  |  1.78 |\n",
       "|  0.06 |  0.0  |  7.7  | -2.92 |\n",
       "|  2.36 |  2.8  | 12.3  |  0.08 |\n",
       "\n"
      ],
      "text/plain": [
       "  X1    X2   X3   X4   \n",
       "1 -1.04 -1.2 10.7 -0.62\n",
       "2 -1.44  1.9  9.7  1.68\n",
       "3  0.06 -3.5  8.4  1.78\n",
       "4  0.06  0.0  7.7 -2.92\n",
       "5  2.36  2.8 12.3  0.08"
      ]
     },
     "metadata": {},
     "output_type": "display_data"
    }
   ],
   "source": [
    "var_names = c(\"X4\", \"X2\", \"X1\")\n",
    "centered(test_data, var_names)"
   ]
  },
  {
   "cell_type": "code",
   "execution_count": null,
   "id": "defensive-lighter",
   "metadata": {},
   "outputs": [],
   "source": [
    "# решение степика\n",
    "centered <- function(test_data, var_names){    \n",
    "    test_data[var_names] <- sapply(test_data[var_names], function(x) x - mean(x))    \n",
    "    return(test_data)    \n",
    "}"
   ]
  },
  {
   "cell_type": "markdown",
   "id": "thorough-prison",
   "metadata": {},
   "source": [
    "Пример 3\n",
    "----\n",
    "Представьте, что мы работаем в аэропорту в службе безопасности и сканируем багаж пассажиров. В нашем распоряжении есть информация о результатах проверки багажа за предыдущие месяцы. Про каждую вещь мы знаем:\n",
    "\n",
    "являлся ли багаж запрещенным - is_prohibited (No - разрешенный, Yes - запрещенный) \n",
    "его массу (кг) - weight\n",
    "длину (см) - length\n",
    "ширину (см) - width\n",
    "тип багажа (сумка или чемодан) - type.\n",
    "\n",
    "Напишите функцию get_features , которая получает на вход набор данных о багаже. Строит логистическую регрессию, где зависимая переменная ﻿ - ﻿являлся ли багаж запрещенным, а предикторы - остальные переменные,﻿ и возвращает вектор с названиями статистически значимых переменных (p < 0.05) (в модели без взаимодействия). Если в данных нет значимых предикторов, функция возвращает строку с сообщением  \"Prediction makes no sense\"."
   ]
  },
  {
   "cell_type": "code",
   "execution_count": 77,
   "id": "lyric-orange",
   "metadata": {},
   "outputs": [
    {
     "name": "stdout",
     "output_type": "stream",
     "text": [
      "'data.frame':\t60 obs. of  5 variables:\n",
      " $ is_prohibited: Factor w/ 2 levels \"No\",\"Yes\": 1 1 1 1 1 1 1 1 1 1 ...\n",
      " $ weight       : int  69 79 82 81 84 81 64 76 77 88 ...\n",
      " $ length       : int  53 52 54 50 48 51 53 52 53 52 ...\n",
      " $ width        : int  17 21 20 23 19 20 16 20 23 23 ...\n",
      " $ type         : Factor w/ 2 levels \"Bag\",\"Suitcase\": 2 1 2 1 2 1 2 1 2 1 ...\n"
     ]
    }
   ],
   "source": [
    "test_data <- read.csv(\"https://stepic.org/media/attachments/course/524/test_luggage_1.csv\")\n",
    "str(test_data)"
   ]
  },
  {
   "cell_type": "code",
   "execution_count": 53,
   "id": "conceptual-manchester",
   "metadata": {},
   "outputs": [],
   "source": [
    "test_data2 <- read.csv(\"https://stepic.org/media/attachments/course/524/test_luggage_2.csv\")"
   ]
  },
  {
   "cell_type": "code",
   "execution_count": 90,
   "id": "spread-smile",
   "metadata": {},
   "outputs": [],
   "source": [
    "get_features <- function(dataset){\n",
    "    fit <- glm(is_prohibited ~ weight + length + width + type , dataset, family = \"binomial\")\n",
    "    result <- anova(fit, test = \"Chisq\") #тут и будет вся нужная информация!\n",
    "    result <- na.omit(result)\n",
    "    if(sum(result[['Pr(>Chi)']]<0.05) == 0){\n",
    "        return(\"Prediction makes no sense\")\n",
    "    }\n",
    "    else{\n",
    "        return(rownames(subset(result,`Pr(>Chi)`<0.05)))\n",
    "    }\n",
    "}\n",
    "\n"
   ]
  },
  {
   "cell_type": "code",
   "execution_count": 97,
   "id": "common-atlas",
   "metadata": {},
   "outputs": [
    {
     "data": {
      "text/html": [
       "'Prediction makes no sense'"
      ],
      "text/latex": [
       "'Prediction makes no sense'"
      ],
      "text/markdown": [
       "'Prediction makes no sense'"
      ],
      "text/plain": [
       "[1] \"Prediction makes no sense\""
      ]
     },
     "metadata": {},
     "output_type": "display_data"
    }
   ],
   "source": [
    "get_features(test_data)"
   ]
  },
  {
   "cell_type": "code",
   "execution_count": null,
   "id": "optimum-extreme",
   "metadata": {},
   "outputs": [],
   "source": [
    "# решение степика\n",
    "get_features <- function(test_data){    \n",
    "    fit <- glm(is_prohibited ~., test_data, family = 'binomial')    \n",
    "    result <- anova(fit, test = 'Chisq')    \n",
    "    if (all(result$`Pr(>Chi)`[-1] > 0.05)){      \n",
    "        return('Prediction makes no sense')}    \n",
    "    return(rownames(result)[-1] [result$`Pr(>Chi)`[-1] < 0.05])  \n",
    "}"
   ]
  },
  {
   "cell_type": "code",
   "execution_count": 100,
   "id": "cognitive-identification",
   "metadata": {},
   "outputs": [
    {
     "data": {
      "text/html": [
       "<ol class=list-inline>\n",
       "\t<li>0.184893999985825</li>\n",
       "\t<li>0.0108566827699814</li>\n",
       "\t<li>0.00246201334555758</li>\n",
       "\t<li>0.010004911611501</li>\n",
       "</ol>\n"
      ],
      "text/latex": [
       "\\begin{enumerate*}\n",
       "\\item 0.184893999985825\n",
       "\\item 0.0108566827699814\n",
       "\\item 0.00246201334555758\n",
       "\\item 0.010004911611501\n",
       "\\end{enumerate*}\n"
      ],
      "text/markdown": [
       "1. 0.184893999985825\n",
       "2. 0.0108566827699814\n",
       "3. 0.00246201334555758\n",
       "4. 0.010004911611501\n",
       "\n",
       "\n"
      ],
      "text/plain": [
       "[1] 0.184894000 0.010856683 0.002462013 0.010004912"
      ]
     },
     "metadata": {},
     "output_type": "display_data"
    }
   ],
   "source": [
    "fit <- glm(is_prohibited ~., test_data2, family = 'binomial')    \n",
    "result <- anova(fit, test = 'Chisq') \n",
    "result$`Pr(>Chi)`[-1]"
   ]
  },
  {
   "cell_type": "code",
   "execution_count": 104,
   "id": "framed-audit",
   "metadata": {},
   "outputs": [
    {
     "data": {
      "text/html": [
       "<ol class=list-inline>\n",
       "\t<li>&lt;NA&gt;</li>\n",
       "\t<li>0.184893999985825</li>\n",
       "\t<li>0.0108566827699814</li>\n",
       "\t<li>0.00246201334555758</li>\n",
       "\t<li>0.010004911611501</li>\n",
       "</ol>\n"
      ],
      "text/latex": [
       "\\begin{enumerate*}\n",
       "\\item <NA>\n",
       "\\item 0.184893999985825\n",
       "\\item 0.0108566827699814\n",
       "\\item 0.00246201334555758\n",
       "\\item 0.010004911611501\n",
       "\\end{enumerate*}\n"
      ],
      "text/markdown": [
       "1. &lt;NA&gt;\n",
       "2. 0.184893999985825\n",
       "3. 0.0108566827699814\n",
       "4. 0.00246201334555758\n",
       "5. 0.010004911611501\n",
       "\n",
       "\n"
      ],
      "text/plain": [
       "[1]          NA 0.184894000 0.010856683 0.002462013 0.010004912"
      ]
     },
     "metadata": {},
     "output_type": "display_data"
    }
   ],
   "source": [
    "result$`Pr(>Chi)`"
   ]
  },
  {
   "cell_type": "code",
   "execution_count": 103,
   "id": "broke-pennsylvania",
   "metadata": {},
   "outputs": [
    {
     "data": {
      "text/html": [
       "<table>\n",
       "<thead><tr><th></th><th scope=col>Df</th><th scope=col>Deviance</th><th scope=col>Resid. Df</th><th scope=col>Resid. Dev</th><th scope=col>Pr(&gt;Chi)</th></tr></thead>\n",
       "<tbody>\n",
       "\t<tr><th scope=row>NULL</th><td>NA         </td><td>      NA   </td><td>29         </td><td>41.58883   </td><td>         NA</td></tr>\n",
       "\t<tr><th scope=row>weight</th><td> 1         </td><td>1.757841   </td><td>28         </td><td>39.83099   </td><td>0.184894000</td></tr>\n",
       "\t<tr><th scope=row>length</th><td> 1         </td><td>6.488626   </td><td>27         </td><td>33.34236   </td><td>0.010856683</td></tr>\n",
       "\t<tr><th scope=row>width</th><td> 1         </td><td>9.168611   </td><td>26         </td><td>24.17375   </td><td>0.002462013</td></tr>\n",
       "\t<tr><th scope=row>type</th><td> 1         </td><td>6.634022   </td><td>25         </td><td>17.53973   </td><td>0.010004912</td></tr>\n",
       "</tbody>\n",
       "</table>\n"
      ],
      "text/latex": [
       "\\begin{tabular}{r|lllll}\n",
       "  & Df & Deviance & Resid. Df & Resid. Dev & Pr(>Chi)\\\\\n",
       "\\hline\n",
       "\tNULL & NA          &       NA    & 29          & 41.58883    &          NA\\\\\n",
       "\tweight &  1          & 1.757841    & 28          & 39.83099    & 0.184894000\\\\\n",
       "\tlength &  1          & 6.488626    & 27          & 33.34236    & 0.010856683\\\\\n",
       "\twidth &  1          & 9.168611    & 26          & 24.17375    & 0.002462013\\\\\n",
       "\ttype &  1          & 6.634022    & 25          & 17.53973    & 0.010004912\\\\\n",
       "\\end{tabular}\n"
      ],
      "text/markdown": [
       "\n",
       "| <!--/--> | Df | Deviance | Resid. Df | Resid. Dev | Pr(>Chi) |\n",
       "|---|---|---|---|---|---|\n",
       "| NULL | NA          |       NA    | 29          | 41.58883    |          NA |\n",
       "| weight |  1          | 1.757841    | 28          | 39.83099    | 0.184894000 |\n",
       "| length |  1          | 6.488626    | 27          | 33.34236    | 0.010856683 |\n",
       "| width |  1          | 9.168611    | 26          | 24.17375    | 0.002462013 |\n",
       "| type |  1          | 6.634022    | 25          | 17.53973    | 0.010004912 |\n",
       "\n"
      ],
      "text/plain": [
       "       Df Deviance Resid. Df Resid. Dev Pr(>Chi)   \n",
       "NULL   NA       NA 29        41.58883            NA\n",
       "weight  1 1.757841 28        39.83099   0.184894000\n",
       "length  1 6.488626 27        33.34236   0.010856683\n",
       "width   1 9.168611 26        24.17375   0.002462013\n",
       "type    1 6.634022 25        17.53973   0.010004912"
      ]
     },
     "metadata": {},
     "output_type": "display_data"
    }
   ],
   "source": [
    "result"
   ]
  },
  {
   "cell_type": "markdown",
   "id": "continent-there",
   "metadata": {},
   "source": [
    "Пример 3\n",
    "----\n",
    "Интересной особенностью логистической регрессии является тот факт, что ее предсказания — это не конкретный класс, к которому мы отнесем новое наблюдение, а вероятность отнесения к каждому из классов! Если вас интересует, как принимать решение о классификации новых объектов в логистической регрессии, посмотрите наш урок по этой теме в курсе по R, где мы разбираем этот вопрос.\n",
    "\n",
    "В результате, построив регрессионную модель, мы можем сделать вероятностное предсказание для каждого нового наблюдения. Иногда при решении практических задач бывает важным обратить внимание на те объекты, которые получили максимальное значение вероятности принадлежности к одному из классов.\n",
    "\n",
    "Продолжим нашу работу в службе безопасности! Разобравшись с тем, какие предикторы могут помогать нам предсказывать запрещенный багаж, давайте применим наши знания для повышения безопасности в аэропорту. Обучим наш алгоритм различать запрещенный и разрешенный багаж на уже имеющихся данных и применим его для сканирования нового багажа!\n",
    "\n",
    "Напишите функцию, которая принимает на вход два набора данных. Первый dataframe, как и в предыдущей задаче, содержит информацию об уже осмотренном багаже (запрещенный или нет, вес, длина, ширина, тип сумки). \n",
    "\n",
    "Второй набор данных — это информация о новом багаже, который сканируется прямо сейчас. В данных также есть информация:  вес, длина, ширина, тип сумки и имя пассажира (смотри описание переменных в примере). \n",
    "\n",
    "Используя первый набор данных, обучите регрессионную модель различать запрещенный и разрешенный багаж. При помощи полученной модели для каждого наблюдения в новых данных предскажите вероятность того, что багаж является запрещенным. Пассажиров, чей багаж получил максимальное значение вероятности, мы попросим пройти дополнительную проверку. \n",
    "\n",
    "Итого, ваша функция принимает два набора данных и возвращает имя пассажира с наиболее подозрительным багажом. Если несколько пассажиров получили максимальное значение вероятности, то верните вектор с несколькими именами. \n",
    "\n",
    "В этой задаче для предсказания будем использовать все предикторы, даже если некоторые из них оказались незначимыми. Для предсказания стройте модель без взаимодействия предикторов."
   ]
  },
  {
   "cell_type": "code",
   "execution_count": 1,
   "id": "excellent-creator",
   "metadata": {},
   "outputs": [
    {
     "name": "stdout",
     "output_type": "stream",
     "text": [
      "'data.frame':\t30 obs. of  5 variables:\n",
      " $ is_prohibited: Factor w/ 2 levels \"No\",\"Yes\": 1 1 1 1 1 1 1 1 1 1 ...\n",
      " $ weight       : int  81 72 79 89 87 91 74 76 74 84 ...\n",
      " $ length       : int  49 49 60 49 54 42 54 49 49 53 ...\n",
      " $ width        : int  13 25 22 24 13 25 17 22 12 26 ...\n",
      " $ type         : Factor w/ 2 levels \"Bag\",\"Suitcase\": 2 2 2 2 2 2 2 2 2 2 ...\n"
     ]
    }
   ],
   "source": [
    "test_data <- read.csv(\"https://stepic.org/media/attachments/course/524/test_data_passangers.csv\")\n",
    "str(test_data)"
   ]
  },
  {
   "cell_type": "code",
   "execution_count": 2,
   "id": "respective-airline",
   "metadata": {},
   "outputs": [
    {
     "name": "stdout",
     "output_type": "stream",
     "text": [
      "'data.frame':\t10 obs. of  5 variables:\n",
      " $ weight    : int  81 80 76 87 80 70 95 72 73 76\n",
      " $ length    : int  56 47 54 59 59 53 54 42 45 49\n",
      " $ width     : int  24 18 20 19 19 21 19 22 23 18\n",
      " $ type      : Factor w/ 2 levels \"Bag\",\"Suitcase\": 2 1 1 1 2 1 2 2 2 1\n",
      " $ passangers: Factor w/ 10 levels \"Anatoliy\",\"Bob\",..: 2 1 3 6 9 8 10 5 4 7\n"
     ]
    }
   ],
   "source": [
    "data_for_predict <-read.csv(\"https://stepic.org/media/attachments/course/524/predict_passangers.csv\")\n",
    "str(data_for_predict)"
   ]
  },
  {
   "cell_type": "code",
   "execution_count": 25,
   "id": "becoming-status",
   "metadata": {},
   "outputs": [],
   "source": [
    "most_suspicious <- function(test_data, data_for_predict){\n",
    "    fit <- glm(is_prohibited ~., test_data, family = 'binomial')\n",
    "    pr <- predict(fit, newdata = data_for_predict)\n",
    "    return(data_for_predict['passangers'][which.max(exp(pr)),])\n",
    "}"
   ]
  },
  {
   "cell_type": "code",
   "execution_count": 26,
   "id": "bottom-probability",
   "metadata": {},
   "outputs": [
    {
     "data": {
      "text/html": [
       "Svetozar\n",
       "<details>\n",
       "\t<summary style=display:list-item;cursor:pointer>\n",
       "\t\t<strong>Levels</strong>:\n",
       "\t</summary>\n",
       "\t<ol class=list-inline>\n",
       "\t\t<li>'Anatoliy'</li>\n",
       "\t\t<li>'Bob'</li>\n",
       "\t\t<li>'Ivan'</li>\n",
       "\t\t<li>'Martin'</li>\n",
       "\t\t<li>'Nikolay'</li>\n",
       "\t\t<li>'Polina'</li>\n",
       "\t\t<li>'Poul'</li>\n",
       "\t\t<li>'Svetozar'</li>\n",
       "\t\t<li>'Velimir'</li>\n",
       "\t\t<li>'Vsevolod'</li>\n",
       "\t</ol>\n",
       "</details>"
      ],
      "text/latex": [
       "Svetozar\n",
       "\\emph{Levels}: \\begin{enumerate*}\n",
       "\\item 'Anatoliy'\n",
       "\\item 'Bob'\n",
       "\\item 'Ivan'\n",
       "\\item 'Martin'\n",
       "\\item 'Nikolay'\n",
       "\\item 'Polina'\n",
       "\\item 'Poul'\n",
       "\\item 'Svetozar'\n",
       "\\item 'Velimir'\n",
       "\\item 'Vsevolod'\n",
       "\\end{enumerate*}\n"
      ],
      "text/markdown": [
       "Svetozar\n",
       "**Levels**: 1. 'Anatoliy'\n",
       "2. 'Bob'\n",
       "3. 'Ivan'\n",
       "4. 'Martin'\n",
       "5. 'Nikolay'\n",
       "6. 'Polina'\n",
       "7. 'Poul'\n",
       "8. 'Svetozar'\n",
       "9. 'Velimir'\n",
       "10. 'Vsevolod'\n",
       "\n",
       "\n"
      ],
      "text/plain": [
       "[1] Svetozar\n",
       "10 Levels: Anatoliy Bob Ivan Martin Nikolay Polina Poul Svetozar ... Vsevolod"
      ]
     },
     "metadata": {},
     "output_type": "display_data"
    }
   ],
   "source": [
    "most_suspicious(test_data, data_for_predict)"
   ]
  },
  {
   "cell_type": "code",
   "execution_count": null,
   "id": "happy-antigua",
   "metadata": {},
   "outputs": [],
   "source": [
    "# решение степика \n",
    "most_suspicious <- function(test_data, data_for_predict){ \n",
    "    \n",
    "    # модель логистической регрессии\n",
    "    fit <- glm(is_prohibited ~., test_data, family = 'binomial')\n",
    "    \n",
    "    # делаем вероятностное предсказание для каждого нового наблюдения\n",
    "    probs <- predict(fit, newdata = data_for_predict, type = 'response') \n",
    "    \n",
    "    # получаем номер(а) пассажиров с максимальной вероятностью подозрительного багажа \n",
    "    index <- which(probs == max(probs))  \n",
    "    \n",
    "    # получаем имя(имена) подозрительных пассажиров \n",
    "    passanger_name <- data_for_predict$passangers[index]\n",
    "    \n",
    "    return(passanger_name)    \n",
    "}"
   ]
  },
  {
   "cell_type": "markdown",
   "id": "starting-sacrifice",
   "metadata": {},
   "source": [
    "Пример 4\n",
    "----\n",
    "Напишите функцию normality_test, которая получает на вход dataframe с произвольным количеством переменных разных типов (количественные, строки, факторы) и проверяет нормальность распределения количественных переменных. Функция должна возвращать вектор значений p-уровней значимости теста shapiro.test для каждой количественной переменной.\n",
    "\n",
    "Вот такая задача уж точно встретится вам в реальной практике не один раз!\n",
    "\n",
    "```r\n",
    "> normality_test(iris)\n",
    "Sepal.Length  Sepal.Width Petal.Length  Petal.Width \n",
    "1.018116e-02 1.011543e-01 7.412263e-10 1.680465e-08 \n",
    "\n",
    "> test <- read.csv(\"https://stepic.org/media/attachments/course/524/test.csv\")\n",
    "> normality_test(test)\n",
    "         V1          V3          V5          V6 \n",
    "0.568208352 0.245833708 0.314189423 0.009373741 \n",
    "```"
   ]
  },
  {
   "cell_type": "code",
   "execution_count": 81,
   "id": "proud-revision",
   "metadata": {},
   "outputs": [
    {
     "name": "stdout",
     "output_type": "stream",
     "text": [
      "'data.frame':\t10 obs. of  6 variables:\n",
      " $ V1: num  10.03 12.45 9.97 10.53 6.59 ...\n",
      " $ V2: Factor w/ 10 levels \"a\",\"b\",\"f\",\"g\",..: 8 9 1 3 2 5 4 7 6 10\n",
      " $ V3: num  9.35 11.61 7.02 12.24 7.72 ...\n",
      " $ V4: Factor w/ 10 levels \"a\",\"b\",\"f\",\"g\",..: 8 9 1 3 2 5 4 7 6 10\n",
      " $ V5: num  9.91 10.07 8.85 7.22 14.31 ...\n",
      " $ V6: num  11.23 6.41 11.38 8.71 10.08 ...\n"
     ]
    }
   ],
   "source": [
    "test <- read.csv(\"https://stepic.org/media/attachments/course/524/test.csv\")\n",
    "str(test)"
   ]
  },
  {
   "cell_type": "code",
   "execution_count": 54,
   "id": "returning-frame",
   "metadata": {},
   "outputs": [],
   "source": [
    "normality_test <- function(dataset){\n",
    "    num_clm <- sapply(dataset, is.numeric)\n",
    "    result <- sapply(dataset[num_clm ], shapiro.test)\n",
    "    t(unlist(result['p.value', ]))\n",
    "}"
   ]
  },
  {
   "cell_type": "code",
   "execution_count": 55,
   "id": "internal-chicago",
   "metadata": {},
   "outputs": [
    {
     "data": {
      "text/html": [
       "<table>\n",
       "<thead><tr><th scope=col>Sepal.Length</th><th scope=col>Sepal.Width</th><th scope=col>Petal.Length</th><th scope=col>Petal.Width</th></tr></thead>\n",
       "<tbody>\n",
       "\t<tr><td>0.01018116  </td><td>0.1011543   </td><td>7.412263e-10</td><td>1.680465e-08</td></tr>\n",
       "</tbody>\n",
       "</table>\n"
      ],
      "text/latex": [
       "\\begin{tabular}{llll}\n",
       " Sepal.Length & Sepal.Width & Petal.Length & Petal.Width\\\\\n",
       "\\hline\n",
       "\t 0.01018116   & 0.1011543    & 7.412263e-10 & 1.680465e-08\\\\\n",
       "\\end{tabular}\n"
      ],
      "text/markdown": [
       "\n",
       "| Sepal.Length | Sepal.Width | Petal.Length | Petal.Width |\n",
       "|---|---|---|---|\n",
       "| 0.01018116   | 0.1011543    | 7.412263e-10 | 1.680465e-08 |\n",
       "\n"
      ],
      "text/plain": [
       "     Sepal.Length Sepal.Width Petal.Length Petal.Width \n",
       "[1,] 0.01018116   0.1011543   7.412263e-10 1.680465e-08"
      ]
     },
     "metadata": {},
     "output_type": "display_data"
    }
   ],
   "source": [
    "normality_test(iris)"
   ]
  },
  {
   "cell_type": "code",
   "execution_count": null,
   "id": "coordinated-serum",
   "metadata": {},
   "outputs": [],
   "source": [
    "# решение степика\n",
    "normality_test <- function(dataset){    \n",
    "    numeric_var <- sapply(dataset, is.numeric)  \n",
    "    sapply(dataset[numeric_var], function(x) shapiro.test(x)$p.value)    \n",
    "}"
   ]
  },
  {
   "cell_type": "code",
   "execution_count": 85,
   "id": "lined-superior",
   "metadata": {},
   "outputs": [
    {
     "data": {
      "text/html": [
       "<table>\n",
       "<thead><tr><th scope=col>expr</th><th scope=col>min</th><th scope=col>lq</th><th scope=col>mean</th><th scope=col>median</th><th scope=col>uq</th><th scope=col>max</th><th scope=col>neval</th></tr></thead>\n",
       "<tbody>\n",
       "\t<tr><td>normality_test1(test)</td><td> 329.477             </td><td> 347.480             </td><td> 444.0844            </td><td> 364.757             </td><td> 399.765             </td><td> 3384.048            </td><td>100                  </td></tr>\n",
       "\t<tr><td>normality_test2(test)</td><td> 340.440             </td><td> 354.181             </td><td> 447.1293            </td><td> 371.354             </td><td> 400.225             </td><td> 3910.533            </td><td>100                  </td></tr>\n",
       "\t<tr><td>normality_test3(test)</td><td>1749.914             </td><td>1808.055             </td><td>2246.9136            </td><td>1889.149             </td><td>2096.615             </td><td>15866.920            </td><td>100                  </td></tr>\n",
       "</tbody>\n",
       "</table>\n"
      ],
      "text/latex": [
       "\\begin{tabular}{r|llllllll}\n",
       " expr & min & lq & mean & median & uq & max & neval\\\\\n",
       "\\hline\n",
       "\t normality\\_test1(test) &  329.477                &  347.480                &  444.0844               &  364.757                &  399.765                &  3384.048               & 100                    \\\\\n",
       "\t normality\\_test2(test) &  340.440                &  354.181                &  447.1293               &  371.354                &  400.225                &  3910.533               & 100                    \\\\\n",
       "\t normality\\_test3(test) & 1749.914                & 1808.055                & 2246.9136               & 1889.149                & 2096.615                & 15866.920               & 100                    \\\\\n",
       "\\end{tabular}\n"
      ],
      "text/markdown": [
       "\n",
       "| expr | min | lq | mean | median | uq | max | neval |\n",
       "|---|---|---|---|---|---|---|---|\n",
       "| normality_test1(test) |  329.477              |  347.480              |  444.0844             |  364.757              |  399.765              |  3384.048             | 100                   |\n",
       "| normality_test2(test) |  340.440              |  354.181              |  447.1293             |  371.354              |  400.225              |  3910.533             | 100                   |\n",
       "| normality_test3(test) | 1749.914              | 1808.055              | 2246.9136             | 1889.149              | 2096.615              | 15866.920             | 100                   |\n",
       "\n"
      ],
      "text/plain": [
       "  expr                  min      lq       mean      median   uq       max      \n",
       "1 normality_test1(test)  329.477  347.480  444.0844  364.757  399.765  3384.048\n",
       "2 normality_test2(test)  340.440  354.181  447.1293  371.354  400.225  3910.533\n",
       "3 normality_test3(test) 1749.914 1808.055 2246.9136 1889.149 2096.615 15866.920\n",
       "  neval\n",
       "1 100  \n",
       "2 100  \n",
       "3 100  "
      ]
     },
     "metadata": {},
     "output_type": "display_data"
    }
   ],
   "source": [
    "normality_test1 <- function(dataset){\n",
    "    sapply(Filter(is.numeric, dataset), function(x) shapiro.test(x)$p.value)\n",
    "}\n",
    "\n",
    "normality_test2 <- function(dataset){    \n",
    "    numeric_var <- sapply(dataset, is.numeric)  \n",
    "    sapply(dataset[numeric_var], function(x) shapiro.test(x)$p.value)    \n",
    "}\n",
    "\n",
    "library('dplyr')\n",
    "normality_test3 <- function(dataset){\n",
    "    sapply(select_if(dataset, is.numeric), function(x) shapiro.test(x)$p.value)\n",
    "}\n",
    "\n",
    "library('microbenchmark')\n",
    "t <- microbenchmark(normality_test1(test),\n",
    "                    normality_test2(test),\n",
    "                    normality_test3(test))\n",
    "           \n",
    "summary(t)"
   ]
  },
  {
   "cell_type": "markdown",
   "id": "descending-metabolism",
   "metadata": {},
   "source": [
    "Пример 5\n",
    "---\n",
    "Напишите функцию smart_anova, которая получает на вход dataframe с двумя переменными x и y. Переменная x — это количественная переменная, переменная y - фактор, разбивает наблюдения на три группы.\n",
    "\n",
    "Если распределения во всех группах значимо не отличаются от нормального, а дисперсии в группах гомогенны, функция должна сравнить три группы при помощи дисперсионного анализа и вернуть ﻿именованный вектор со значением p-value, имя элемента — \"ANOVA\".\n",
    "\n",
    "Если хотя ﻿бы в одной группе распределение значимо отличается от нормального или дисперсии негомогенны, функция сравнивает группы при помощи критерия Краскела — Уоллиса и возвращает именованный вектор со значением p-value, имя вектора  — \"KW\".\n",
    "\n",
    "Распределение будем считать значимо отклонившимся от нормального, если в тесте shapiro.test() p < 0.05.\n",
    "\n",
    "Дисперсии будем считать не гомогенными, если в тесте bartlett.test() p < 0.05.\n",
    "\n",
    "Пример работы функции:\n",
    "```r\n",
    "> test_data <- read.csv(\"https://stepic.org/media/attachments/course/524/s_anova_test.csv\")\n",
    "> str(test_data)\n",
    "'data.frame':\t30 obs. of  2 variables:\n",
    " $ x: num  1.08 0.07 -1.02 -0.45 0.81 -1.27 -0.75 1.47 -0.2 -1.48 ...\n",
    " $ y: Factor w/ 3 levels \"A\",\"B\",\"C\": 1 1 1 1 1 1 1 1 1 1 ...\n",
    "> smart_anova(test_data)\n",
    "   ANOVA \n",
    "0.265298\n",
    "```"
   ]
  },
  {
   "cell_type": "code",
   "execution_count": 1,
   "id": "synthetic-warrant",
   "metadata": {},
   "outputs": [],
   "source": [
    "test_data <- read.csv(\"https://stepic.org/media/attachments/course/524/s_anova_test.csv\")"
   ]
  },
  {
   "cell_type": "code",
   "execution_count": null,
   "id": "floppy-february",
   "metadata": {},
   "outputs": [],
   "source": [
    "smart_anova <- function(test){  \n",
    "    p_normal <- unlist(by(test[, 1], test[, 2], function(x) shapiro.test(x)$p.value))   \n",
    "    sd_equal <- bartlett.test(x ~ y, test)$p.value  \n",
    "    if (all(p_normal > 0.05) & sd_equal > 0.05){    \n",
    "        fit <- aov(x ~ y, test)    \n",
    "        result <- c(ANOVA = summary(fit)[[1]]$'Pr(>F)'[1])     \n",
    "    } else {    \n",
    "        fit <- kruskal.test(x ~ y, test)    \n",
    "        result <- c(KW = fit$p.value)\n",
    "    }    \n",
    "    return(result)   \n",
    "}"
   ]
  },
  {
   "cell_type": "code",
   "execution_count": 68,
   "id": "light-effects",
   "metadata": {},
   "outputs": [],
   "source": [
    "# вытащить p_value: anova(aov(x ~ y, df))$P[1]\n",
    "smart_anova <- function(df){\n",
    "    all.normal <- all(aggregate(x ~ y, df, function(x) shapiro.test(x)$p)$x >= 0.05)\n",
    "    all.homogen <- bartlett.test(x ~ y, df)$p.value >= 0.05\n",
    "                                \n",
    "    if(all.normal & all.homogen){\n",
    "    c(ANOVA = anova(aov(x ~ y, df))$P[1])\n",
    "        \n",
    "  } else {\n",
    "    c(KW = kruskal.test(x ~ y, df)$p.value)\n",
    "  }\n",
    "}"
   ]
  },
  {
   "cell_type": "code",
   "execution_count": 69,
   "id": "fundamental-prize",
   "metadata": {},
   "outputs": [
    {
     "data": {
      "text/html": [
       "<strong>ANOVA:</strong> 0.265298044673807"
      ],
      "text/latex": [
       "\\textbf{ANOVA:} 0.265298044673807"
      ],
      "text/markdown": [
       "**ANOVA:** 0.265298044673807"
      ],
      "text/plain": [
       "   ANOVA \n",
       "0.265298 "
      ]
     },
     "metadata": {},
     "output_type": "display_data"
    }
   ],
   "source": [
    "smart_anova(test_data)"
   ]
  },
  {
   "cell_type": "markdown",
   "id": "burning-october",
   "metadata": {},
   "source": [
    "Пример 6\n",
    "---\n",
    "Напишите функцию normality_by, которая принимает на вход dataframe c тремя переменными. Первая переменная количественная, вторая и третья имеют две градации и разбивают наши наблюдения на группы. Функция должна проверять распределение на нормальность в каждой получившейся группе и возвращать dataframe с результатами применения теста shapiro.test (формат вывода смотри ниже).\n",
    "\n",
    "Рассмотрим пример работы функции. В данных mtcars есть две группирующие переменные am и vs, и обе переменные имеют две градации 0 и 1. В результате получаем 4 группы:\n",
    "\n",
    "```\n",
    "am vs\n",
    "1 1\n",
    "1 0\n",
    "0 1\n",
    "0 0\n",
    "```\n",
    "\n",
    "Теперь для переменной mpg в каждой из четырех групп можно проверить распределение на нормальность при помощи функции shapiro.test  и вывести получившийся p-value:\n",
    "\n",
    "```r\n",
    "> normality_by(mtcars[, c(\"mpg\", \"am\", \"vs\")])\n",
    "  am vs   p_value\n",
    "1  0  0 0.5041144\n",
    "2  0  1 0.6181271\n",
    "3  1  0 0.5841903\n",
    "4  1  1 0.4168822\n",
    "\n",
    "> test_data <- read.csv(\"https://stepic.org/media/attachments/course/524/test_for_norm.csv\")\n",
    "> str(test_data)\n",
    "'data.frame': 40 obs. of  3 variables:\n",
    " $ x: num  10.9 14 8.1 11 9.5 11 8.5 11.7 5.4 6.8 ...\n",
    " $ y: int  1 1 0 1 1 0 0 0 0 1 ...\n",
    " $ z: int  2 2 2 3 3 3 3 3 2 3 ...\n",
    "> normality_by(test_data)\n",
    "  y z    p_value\n",
    "1 0 2 0.21976723\n",
    "2 0 3 0.62381802\n",
    "3 1 2 0.19603547\n",
    "4 1 3 0.04782269\n",
    "```\n",
    "\n",
    "Итого: функция должна возвращать dataframe размером 4 на 3. \n",
    "\n",
    "Название столбцов:\n",
    "\n",
    "1. — имя первой группирующей переменной\n",
    "2. — имя второй группирующей переменной\n",
    "3. — p_value "
   ]
  },
  {
   "cell_type": "code",
   "execution_count": 78,
   "id": "tender-austria",
   "metadata": {},
   "outputs": [],
   "source": [
    "test_data <- read.csv(\"https://stepic.org/media/attachments/course/524/test_for_norm.csv\")"
   ]
  },
  {
   "cell_type": "code",
   "execution_count": null,
   "id": "aging-personal",
   "metadata": {},
   "outputs": [],
   "source": [
    "normality_by <- function(test){    \n",
    "    grouped_data <- aggregate(test[,1],by=list(test[,2], test[,3]),                                  \n",
    "        FUN = function(x) {shapiro.test(x)$p.value})                                  \n",
    "    names(grouped_data) <- c(colnames(test)[2:3],'p_value')                                  \n",
    "    return(grouped_data)    \n",
    "}"
   ]
  },
  {
   "cell_type": "code",
   "execution_count": 79,
   "id": "aerial-fitness",
   "metadata": {},
   "outputs": [
    {
     "data": {
      "text/html": [
       "<table>\n",
       "<thead><tr><th scope=col>y</th><th scope=col>z</th><th scope=col>p.value</th></tr></thead>\n",
       "<tbody>\n",
       "\t<tr><td>0         </td><td>2         </td><td>0.21976723</td></tr>\n",
       "\t<tr><td>0         </td><td>3         </td><td>0.62381802</td></tr>\n",
       "\t<tr><td>1         </td><td>2         </td><td>0.19603547</td></tr>\n",
       "\t<tr><td>1         </td><td>3         </td><td>0.04782269</td></tr>\n",
       "</tbody>\n",
       "</table>\n"
      ],
      "text/latex": [
       "\\begin{tabular}{r|lll}\n",
       " y & z & p.value\\\\\n",
       "\\hline\n",
       "\t 0          & 2          & 0.21976723\\\\\n",
       "\t 0          & 3          & 0.62381802\\\\\n",
       "\t 1          & 2          & 0.19603547\\\\\n",
       "\t 1          & 3          & 0.04782269\\\\\n",
       "\\end{tabular}\n"
      ],
      "text/markdown": [
       "\n",
       "| y | z | p.value |\n",
       "|---|---|---|\n",
       "| 0          | 2          | 0.21976723 |\n",
       "| 0          | 3          | 0.62381802 |\n",
       "| 1          | 2          | 0.19603547 |\n",
       "| 1          | 3          | 0.04782269 |\n",
       "\n"
      ],
      "text/plain": [
       "  y z p.value   \n",
       "1 0 2 0.21976723\n",
       "2 0 3 0.62381802\n",
       "3 1 2 0.19603547\n",
       "4 1 3 0.04782269"
      ]
     },
     "metadata": {},
     "output_type": "display_data"
    }
   ],
   "source": [
    "library(\"dplyr\")\n",
    "test_data %>% \n",
    "  group_by(y, z) %>% \n",
    "  summarise(p.value = shapiro.test(x)$p.value)"
   ]
  },
  {
   "cell_type": "code",
   "execution_count": 86,
   "id": "patent-emergency",
   "metadata": {},
   "outputs": [],
   "source": [
    "# Используя dplyr (при условии, что мы знаем имена переменных в данных):\n",
    "library('dplyr')    \n",
    "normality_by <- function(test_data){    \n",
    "    result <- test_data %>% \n",
    "        group_by(y, z) %>%     \n",
    "        summarize(p_value = shapiro.test(x)$p.value)     \n",
    "    return(result)    \n",
    "}\n",
    "   "
   ]
  },
  {
   "cell_type": "code",
   "execution_count": null,
   "id": "capable-flesh",
   "metadata": {},
   "outputs": [],
   "source": [
    "# Более общее решениее\n",
    "library('dplyr')    \n",
    "get_p_value <- function(x){      \n",
    "    shapiro.test(x)$p.value    \n",
    "}    \n",
    "normality_by <- function(test){    \n",
    "    grouped <- test %>%    \n",
    "        group_by_(.dots = colnames(.)[2:3]) %>%         \n",
    "        summarise_each(funs(get_p_value))         \n",
    "        names(grouped)[3] <- 'p_value'\n",
    "    \n",
    "    return(grouped)         \n",
    "}"
   ]
  },
  {
   "cell_type": "code",
   "execution_count": null,
   "id": "speaking-butler",
   "metadata": {},
   "outputs": [],
   "source": [
    "normality_by <- function(test){\n",
    "  colnames(test)[1] <- 'p_value'\n",
    "  aggregate(p_value ~ . ,test,function(x) shapiro.test(x)$p.value)\n",
    "}"
   ]
  },
  {
   "cell_type": "markdown",
   "id": "apparent-gentleman",
   "metadata": {},
   "source": [
    "Пример 7\n",
    "----\n",
    "Тесты тестами, а графики никто не отменял! Мой вам совет: всегда визуализируйте ваши переменные и их взаимосвязи. Иногда то, что сразу становится видным на графике (например, выброс или очевидно странная форма распределения), может ускользнуть от внимания во время статистического анализа. \n",
    "\n",
    "При помощи библиотеки ggplot2 визуализируйте распределение переменной Sepal.Length в трех группах в данных Iris. Сохраните график в переменную obj, но не выводите график на печать.\n",
    "\n",
    "Должно получиться:\n",
    "\n",
    "[Image: https://ucarecdn.com/eac34dba-774d-4e90-9e97-e6c053b7dd97/]\n",
    "\n",
    "\n",
    "\n",
    "\n",
    "\n",
    "\n",
    "\n",
    "\n",
    "На ответ это не повлияет, но чтобы сделать плотности распределения прозрачными, используйте аргумент alpha в настройках geom_density:\n",
    "\n",
    "```r\n",
    "geom_density(alpha = 0.2) \n",
    "# величина значения alpha определяет степень прозрачности\n",
    "```\n",
    " \n",
    "\n",
    "Классные графики в ggplot2, не правда ли?) А при помощи чего вы визуализируете даные?\n"
   ]
  },
  {
   "cell_type": "code",
   "execution_count": 94,
   "id": "elementary-consultancy",
   "metadata": {},
   "outputs": [],
   "source": [
    "library(ggplot2)\n",
    "obj <- ggplot(iris, aes(Sepal.Length, fill = Species)) + \n",
    "    geom_density(alpha = 0.2)"
   ]
  },
  {
   "cell_type": "code",
   "execution_count": 95,
   "id": "right-today",
   "metadata": {},
   "outputs": [
    {
     "data": {
      "image/png": "[encoded data removed]",
      "text/plain": [
       "plot without title"
      ]
     },
     "metadata": {},
     "output_type": "display_data"
    }
   ],
   "source": [
    "obj"
   ]
  }
 ],
 "metadata": {
  "kernelspec": {
   "display_name": "R",
   "language": "R",
   "name": "ir"
  },
  "language_info": {
   "codemirror_mode": "r",
   "file_extension": ".r",
   "mimetype": "text/x-r-source",
   "name": "R",
   "pygments_lexer": "r",
   "version": "3.6.1"
  }
 },
 "nbformat": 4,
 "nbformat_minor": 5
}
