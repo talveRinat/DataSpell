{
 "cells": [
  {
   "cell_type": "markdown",
   "id": "authentic-compact",
   "metadata": {},
   "source": [
    "Считаем файл и запишем в переменную `dann` данные файла"
   ]
  },
  {
   "cell_type": "code",
   "execution_count": 41,
   "id": "incorporate-river",
   "metadata": {},
   "outputs": [],
   "source": [
    "dann <- read.csv2(\"withNA.csv\", stringsAsFactors=TRUE)"
   ]
  },
  {
   "cell_type": "code",
   "execution_count": 42,
   "id": "extraordinary-basket",
   "metadata": {},
   "outputs": [
    {
     "data": {
      "text/html": [
       "<table>\n",
       "<thead><tr><th scope=col>Kl</th><th scope=col>X</th><th scope=col>Y</th><th scope=col>Z</th><th scope=col>Gr</th></tr></thead>\n",
       "<tbody>\n",
       "\t<tr><td>a   </td><td>0.2 </td><td> 5.0</td><td> 5.0</td><td>I   </td></tr>\n",
       "\t<tr><td>a   </td><td>0.4 </td><td> 8.1</td><td> 8.1</td><td>II  </td></tr>\n",
       "\t<tr><td>b   </td><td> NA </td><td>18.1</td><td>18.1</td><td>I   </td></tr>\n",
       "\t<tr><td>c   </td><td>0.8 </td><td>13.6</td><td>13.6</td><td>III </td></tr>\n",
       "\t<tr><td>b   </td><td>1.2 </td><td>19.2</td><td>19.2</td><td>I   </td></tr>\n",
       "\t<tr><td>a   </td><td>1.2 </td><td>  NA</td><td>  NA</td><td>II  </td></tr>\n",
       "\t<tr><td>c   </td><td>1.7 </td><td> 5.9</td><td> 6.1</td><td>I   </td></tr>\n",
       "\t<tr><td>c   </td><td>1.9 </td><td>15.4</td><td>15.5</td><td>II  </td></tr>\n",
       "\t<tr><td>b   </td><td>1.9 </td><td> 1.1</td><td> 2.2</td><td>III </td></tr>\n",
       "\t<tr><td>a   </td><td>2.1 </td><td>  NA</td><td>10.8</td><td>III </td></tr>\n",
       "</tbody>\n",
       "</table>\n"
      ],
      "text/latex": [
       "\\begin{tabular}{r|lllll}\n",
       " Kl & X & Y & Z & Gr\\\\\n",
       "\\hline\n",
       "\t a    & 0.2  &  5.0 &  5.0 & I   \\\\\n",
       "\t a    & 0.4  &  8.1 &  8.1 & II  \\\\\n",
       "\t b    &  NA  & 18.1 & 18.1 & I   \\\\\n",
       "\t c    & 0.8  & 13.6 & 13.6 & III \\\\\n",
       "\t b    & 1.2  & 19.2 & 19.2 & I   \\\\\n",
       "\t a    & 1.2  &   NA &   NA & II  \\\\\n",
       "\t c    & 1.7  &  5.9 &  6.1 & I   \\\\\n",
       "\t c    & 1.9  & 15.4 & 15.5 & II  \\\\\n",
       "\t b    & 1.9  &  1.1 &  2.2 & III \\\\\n",
       "\t a    & 2.1  &   NA & 10.8 & III \\\\\n",
       "\\end{tabular}\n"
      ],
      "text/markdown": [
       "\n",
       "| Kl | X | Y | Z | Gr |\n",
       "|---|---|---|---|---|\n",
       "| a    | 0.2  |  5.0 |  5.0 | I    |\n",
       "| a    | 0.4  |  8.1 |  8.1 | II   |\n",
       "| b    |  NA  | 18.1 | 18.1 | I    |\n",
       "| c    | 0.8  | 13.6 | 13.6 | III  |\n",
       "| b    | 1.2  | 19.2 | 19.2 | I    |\n",
       "| a    | 1.2  |   NA |   NA | II   |\n",
       "| c    | 1.7  |  5.9 |  6.1 | I    |\n",
       "| c    | 1.9  | 15.4 | 15.5 | II   |\n",
       "| b    | 1.9  |  1.1 |  2.2 | III  |\n",
       "| a    | 2.1  |   NA | 10.8 | III  |\n",
       "\n"
      ],
      "text/plain": [
       "   Kl X   Y    Z    Gr \n",
       "1  a  0.2  5.0  5.0 I  \n",
       "2  a  0.4  8.1  8.1 II \n",
       "3  b   NA 18.1 18.1 I  \n",
       "4  c  0.8 13.6 13.6 III\n",
       "5  b  1.2 19.2 19.2 I  \n",
       "6  a  1.2   NA   NA II \n",
       "7  c  1.7  5.9  6.1 I  \n",
       "8  c  1.9 15.4 15.5 II \n",
       "9  b  1.9  1.1  2.2 III\n",
       "10 a  2.1   NA 10.8 III"
      ]
     },
     "metadata": {},
     "output_type": "display_data"
    }
   ],
   "source": [
    "dann"
   ]
  },
  {
   "cell_type": "code",
   "execution_count": 43,
   "id": "eight-tyler",
   "metadata": {},
   "outputs": [
    {
     "name": "stdout",
     "output_type": "stream",
     "text": [
      "'data.frame':\t10 obs. of  5 variables:\n",
      " $ Kl: Factor w/ 3 levels \"a\",\"b\",\"c\": 1 1 2 3 2 1 3 3 2 1\n",
      " $ X : num  0.2 0.4 NA 0.8 1.2 1.2 1.7 1.9 1.9 2.1\n",
      " $ Y : num  5 8.1 18.1 13.6 19.2 NA 5.9 15.4 1.1 NA\n",
      " $ Z : num  5 8.1 18.1 13.6 19.2 NA 6.1 15.5 2.2 10.8\n",
      " $ Gr: Factor w/ 3 levels \"I\",\"II\",\"III\": 1 2 1 3 1 2 1 2 3 3\n"
     ]
    }
   ],
   "source": [
    "str(dann)"
   ]
  },
  {
   "cell_type": "markdown",
   "id": "exterior-recording",
   "metadata": {},
   "source": [
    "разабъем таблицу данных `dann[2:4]` на отдельные наборы данных,\n",
    "\n",
    "группируем по первому и последнему столбцу `dann[c(1, 5)]`\n",
    "\n",
    "пропуски заменяем средним значением применив функцию `mean`\n"
   ]
  },
  {
   "cell_type": "code",
   "execution_count": 44,
   "id": "valued-rating",
   "metadata": {},
   "outputs": [],
   "source": [
    "means <- aggregate(x=dann[2:4], by=dann[c(1,5)], FUN=mean, na.rm=T)"
   ]
  },
  {
   "cell_type": "code",
   "execution_count": 45,
   "id": "bottom-pulse",
   "metadata": {},
   "outputs": [
    {
     "data": {
      "text/html": [
       "<table>\n",
       "<thead><tr><th scope=col>Kl</th><th scope=col>Gr</th><th scope=col>X</th><th scope=col>Y</th><th scope=col>Z</th></tr></thead>\n",
       "<tbody>\n",
       "\t<tr><td>a    </td><td>I    </td><td>0.2  </td><td> 5.00</td><td> 5.00</td></tr>\n",
       "\t<tr><td>b    </td><td>I    </td><td>1.2  </td><td>18.65</td><td>18.65</td></tr>\n",
       "\t<tr><td>c    </td><td>I    </td><td>1.7  </td><td> 5.90</td><td> 6.10</td></tr>\n",
       "\t<tr><td>a    </td><td>II   </td><td>0.8  </td><td> 8.10</td><td> 8.10</td></tr>\n",
       "\t<tr><td>c    </td><td>II   </td><td>1.9  </td><td>15.40</td><td>15.50</td></tr>\n",
       "\t<tr><td>a    </td><td>III  </td><td>2.1  </td><td>  NaN</td><td>10.80</td></tr>\n",
       "\t<tr><td>b    </td><td>III  </td><td>1.9  </td><td> 1.10</td><td> 2.20</td></tr>\n",
       "\t<tr><td>c    </td><td>III  </td><td>0.8  </td><td>13.60</td><td>13.60</td></tr>\n",
       "</tbody>\n",
       "</table>\n"
      ],
      "text/latex": [
       "\\begin{tabular}{r|lllll}\n",
       " Kl & Gr & X & Y & Z\\\\\n",
       "\\hline\n",
       "\t a     & I     & 0.2   &  5.00 &  5.00\\\\\n",
       "\t b     & I     & 1.2   & 18.65 & 18.65\\\\\n",
       "\t c     & I     & 1.7   &  5.90 &  6.10\\\\\n",
       "\t a     & II    & 0.8   &  8.10 &  8.10\\\\\n",
       "\t c     & II    & 1.9   & 15.40 & 15.50\\\\\n",
       "\t a     & III   & 2.1   &   NaN & 10.80\\\\\n",
       "\t b     & III   & 1.9   &  1.10 &  2.20\\\\\n",
       "\t c     & III   & 0.8   & 13.60 & 13.60\\\\\n",
       "\\end{tabular}\n"
      ],
      "text/markdown": [
       "\n",
       "| Kl | Gr | X | Y | Z |\n",
       "|---|---|---|---|---|\n",
       "| a     | I     | 0.2   |  5.00 |  5.00 |\n",
       "| b     | I     | 1.2   | 18.65 | 18.65 |\n",
       "| c     | I     | 1.7   |  5.90 |  6.10 |\n",
       "| a     | II    | 0.8   |  8.10 |  8.10 |\n",
       "| c     | II    | 1.9   | 15.40 | 15.50 |\n",
       "| a     | III   | 2.1   |   NaN | 10.80 |\n",
       "| b     | III   | 1.9   |  1.10 |  2.20 |\n",
       "| c     | III   | 0.8   | 13.60 | 13.60 |\n",
       "\n"
      ],
      "text/plain": [
       "  Kl Gr  X   Y     Z    \n",
       "1 a  I   0.2  5.00  5.00\n",
       "2 b  I   1.2 18.65 18.65\n",
       "3 c  I   1.7  5.90  6.10\n",
       "4 a  II  0.8  8.10  8.10\n",
       "5 c  II  1.9 15.40 15.50\n",
       "6 a  III 2.1   NaN 10.80\n",
       "7 b  III 1.9  1.10  2.20\n",
       "8 c  III 0.8 13.60 13.60"
      ]
     },
     "metadata": {},
     "output_type": "display_data"
    }
   ],
   "source": [
    "means"
   ]
  },
  {
   "cell_type": "markdown",
   "id": "cleared-diversity",
   "metadata": {},
   "source": [
    "Не все пропущенные знечения смогли заменить средним "
   ]
  },
  {
   "cell_type": "code",
   "execution_count": 52,
   "id": "grateful-sugar",
   "metadata": {},
   "outputs": [
    {
     "data": {
      "text/html": [
       "TRUE"
      ],
      "text/latex": [
       "TRUE"
      ],
      "text/markdown": [
       "TRUE"
      ],
      "text/plain": [
       "[1] TRUE"
      ]
     },
     "metadata": {},
     "output_type": "display_data"
    }
   ],
   "source": [
    "any(is.na(means))"
   ]
  },
  {
   "cell_type": "markdown",
   "id": "directed-bennett",
   "metadata": {},
   "source": [
    "объеденим первый и последний столбец(наши факторные значения). Получим только один фактор столбец и дадим ему название categ"
   ]
  },
  {
   "cell_type": "code",
   "execution_count": 53,
   "id": "billion-rebel",
   "metadata": {},
   "outputs": [],
   "source": [
    "mmm<-cbind(categ=paste0(means[, 1], means[, 2]) ,means[3:5], stringsAsFactors=TRUE)"
   ]
  },
  {
   "cell_type": "code",
   "execution_count": 54,
   "id": "second-longer",
   "metadata": {},
   "outputs": [
    {
     "data": {
      "text/html": [
       "<table>\n",
       "<thead><tr><th scope=col>categ</th><th scope=col>X</th><th scope=col>Y</th><th scope=col>Z</th></tr></thead>\n",
       "<tbody>\n",
       "\t<tr><td>aI   </td><td>0.2  </td><td> 5.00</td><td> 5.00</td></tr>\n",
       "\t<tr><td>bI   </td><td>1.2  </td><td>18.65</td><td>18.65</td></tr>\n",
       "\t<tr><td>cI   </td><td>1.7  </td><td> 5.90</td><td> 6.10</td></tr>\n",
       "\t<tr><td>aII  </td><td>0.8  </td><td> 8.10</td><td> 8.10</td></tr>\n",
       "\t<tr><td>cII  </td><td>1.9  </td><td>15.40</td><td>15.50</td></tr>\n",
       "\t<tr><td>aIII </td><td>2.1  </td><td>  NaN</td><td>10.80</td></tr>\n",
       "\t<tr><td>bIII </td><td>1.9  </td><td> 1.10</td><td> 2.20</td></tr>\n",
       "\t<tr><td>cIII </td><td>0.8  </td><td>13.60</td><td>13.60</td></tr>\n",
       "</tbody>\n",
       "</table>\n"
      ],
      "text/latex": [
       "\\begin{tabular}{r|llll}\n",
       " categ & X & Y & Z\\\\\n",
       "\\hline\n",
       "\t aI    & 0.2   &  5.00 &  5.00\\\\\n",
       "\t bI    & 1.2   & 18.65 & 18.65\\\\\n",
       "\t cI    & 1.7   &  5.90 &  6.10\\\\\n",
       "\t aII   & 0.8   &  8.10 &  8.10\\\\\n",
       "\t cII   & 1.9   & 15.40 & 15.50\\\\\n",
       "\t aIII  & 2.1   &   NaN & 10.80\\\\\n",
       "\t bIII  & 1.9   &  1.10 &  2.20\\\\\n",
       "\t cIII  & 0.8   & 13.60 & 13.60\\\\\n",
       "\\end{tabular}\n"
      ],
      "text/markdown": [
       "\n",
       "| categ | X | Y | Z |\n",
       "|---|---|---|---|\n",
       "| aI    | 0.2   |  5.00 |  5.00 |\n",
       "| bI    | 1.2   | 18.65 | 18.65 |\n",
       "| cI    | 1.7   |  5.90 |  6.10 |\n",
       "| aII   | 0.8   |  8.10 |  8.10 |\n",
       "| cII   | 1.9   | 15.40 | 15.50 |\n",
       "| aIII  | 2.1   |   NaN | 10.80 |\n",
       "| bIII  | 1.9   |  1.10 |  2.20 |\n",
       "| cIII  | 0.8   | 13.60 | 13.60 |\n",
       "\n"
      ],
      "text/plain": [
       "  categ X   Y     Z    \n",
       "1 aI    0.2  5.00  5.00\n",
       "2 bI    1.2 18.65 18.65\n",
       "3 cI    1.7  5.90  6.10\n",
       "4 aII   0.8  8.10  8.10\n",
       "5 cII   1.9 15.40 15.50\n",
       "6 aIII  2.1   NaN 10.80\n",
       "7 bIII  1.9  1.10  2.20\n",
       "8 cIII  0.8 13.60 13.60"
      ]
     },
     "metadata": {},
     "output_type": "display_data"
    }
   ],
   "source": [
    "mmm"
   ]
  },
  {
   "cell_type": "markdown",
   "id": "wound-stewart",
   "metadata": {},
   "source": [
    "сделаем сортировку по столбцу categ "
   ]
  },
  {
   "cell_type": "code",
   "execution_count": 55,
   "id": "junior-letter",
   "metadata": {},
   "outputs": [],
   "source": [
    "mmm <- mmm[order(mmm[, 1]), ]"
   ]
  },
  {
   "cell_type": "code",
   "execution_count": 56,
   "id": "handed-saskatchewan",
   "metadata": {},
   "outputs": [
    {
     "data": {
      "text/html": [
       "<table>\n",
       "<thead><tr><th></th><th scope=col>categ</th><th scope=col>X</th><th scope=col>Y</th><th scope=col>Z</th></tr></thead>\n",
       "<tbody>\n",
       "\t<tr><th scope=row>1</th><td>aI   </td><td>0.2  </td><td> 5.00</td><td> 5.00</td></tr>\n",
       "\t<tr><th scope=row>4</th><td>aII  </td><td>0.8  </td><td> 8.10</td><td> 8.10</td></tr>\n",
       "\t<tr><th scope=row>6</th><td>aIII </td><td>2.1  </td><td>  NaN</td><td>10.80</td></tr>\n",
       "\t<tr><th scope=row>2</th><td>bI   </td><td>1.2  </td><td>18.65</td><td>18.65</td></tr>\n",
       "\t<tr><th scope=row>7</th><td>bIII </td><td>1.9  </td><td> 1.10</td><td> 2.20</td></tr>\n",
       "\t<tr><th scope=row>3</th><td>cI   </td><td>1.7  </td><td> 5.90</td><td> 6.10</td></tr>\n",
       "\t<tr><th scope=row>5</th><td>cII  </td><td>1.9  </td><td>15.40</td><td>15.50</td></tr>\n",
       "\t<tr><th scope=row>8</th><td>cIII </td><td>0.8  </td><td>13.60</td><td>13.60</td></tr>\n",
       "</tbody>\n",
       "</table>\n"
      ],
      "text/latex": [
       "\\begin{tabular}{r|llll}\n",
       "  & categ & X & Y & Z\\\\\n",
       "\\hline\n",
       "\t1 & aI    & 0.2   &  5.00 &  5.00\\\\\n",
       "\t4 & aII   & 0.8   &  8.10 &  8.10\\\\\n",
       "\t6 & aIII  & 2.1   &   NaN & 10.80\\\\\n",
       "\t2 & bI    & 1.2   & 18.65 & 18.65\\\\\n",
       "\t7 & bIII  & 1.9   &  1.10 &  2.20\\\\\n",
       "\t3 & cI    & 1.7   &  5.90 &  6.10\\\\\n",
       "\t5 & cII   & 1.9   & 15.40 & 15.50\\\\\n",
       "\t8 & cIII  & 0.8   & 13.60 & 13.60\\\\\n",
       "\\end{tabular}\n"
      ],
      "text/markdown": [
       "\n",
       "| <!--/--> | categ | X | Y | Z |\n",
       "|---|---|---|---|---|\n",
       "| 1 | aI    | 0.2   |  5.00 |  5.00 |\n",
       "| 4 | aII   | 0.8   |  8.10 |  8.10 |\n",
       "| 6 | aIII  | 2.1   |   NaN | 10.80 |\n",
       "| 2 | bI    | 1.2   | 18.65 | 18.65 |\n",
       "| 7 | bIII  | 1.9   |  1.10 |  2.20 |\n",
       "| 3 | cI    | 1.7   |  5.90 |  6.10 |\n",
       "| 5 | cII   | 1.9   | 15.40 | 15.50 |\n",
       "| 8 | cIII  | 0.8   | 13.60 | 13.60 |\n",
       "\n"
      ],
      "text/plain": [
       "  categ X   Y     Z    \n",
       "1 aI    0.2  5.00  5.00\n",
       "4 aII   0.8  8.10  8.10\n",
       "6 aIII  2.1   NaN 10.80\n",
       "2 bI    1.2 18.65 18.65\n",
       "7 bIII  1.9  1.10  2.20\n",
       "3 cI    1.7  5.90  6.10\n",
       "5 cII   1.9 15.40 15.50\n",
       "8 cIII  0.8 13.60 13.60"
      ]
     },
     "metadata": {},
     "output_type": "display_data"
    }
   ],
   "source": [
    "mmm"
   ]
  },
  {
   "cell_type": "markdown",
   "id": "subjective-vatican",
   "metadata": {},
   "source": [
    "В первоначальной таблице было 10 объетов, а в таблице `mmm` содержится только 8 объектов.\n",
    "\n",
    "Вернем потерянные объекты.\n",
    "\n",
    "Запишем результат в `dann_m`."
   ]
  },
  {
   "cell_type": "code",
   "execution_count": 57,
   "id": "random-mortality",
   "metadata": {},
   "outputs": [],
   "source": [
    "dann_m <- mmm[as.factor(paste0(dann[,1], dann[,5])), ]"
   ]
  },
  {
   "cell_type": "code",
   "execution_count": 58,
   "id": "divided-dance",
   "metadata": {},
   "outputs": [
    {
     "data": {
      "text/html": [
       "<table>\n",
       "<thead><tr><th></th><th scope=col>categ</th><th scope=col>X</th><th scope=col>Y</th><th scope=col>Z</th></tr></thead>\n",
       "<tbody>\n",
       "\t<tr><th scope=row>1</th><td>aI   </td><td>0.2  </td><td> 5.00</td><td> 5.00</td></tr>\n",
       "\t<tr><th scope=row>4</th><td>aII  </td><td>0.8  </td><td> 8.10</td><td> 8.10</td></tr>\n",
       "\t<tr><th scope=row>2</th><td>bI   </td><td>1.2  </td><td>18.65</td><td>18.65</td></tr>\n",
       "\t<tr><th scope=row>8</th><td>cIII </td><td>0.8  </td><td>13.60</td><td>13.60</td></tr>\n",
       "\t<tr><th scope=row>2.1</th><td>bI   </td><td>1.2  </td><td>18.65</td><td>18.65</td></tr>\n",
       "\t<tr><th scope=row>4.1</th><td>aII  </td><td>0.8  </td><td> 8.10</td><td> 8.10</td></tr>\n",
       "\t<tr><th scope=row>3</th><td>cI   </td><td>1.7  </td><td> 5.90</td><td> 6.10</td></tr>\n",
       "\t<tr><th scope=row>5</th><td>cII  </td><td>1.9  </td><td>15.40</td><td>15.50</td></tr>\n",
       "\t<tr><th scope=row>7</th><td>bIII </td><td>1.9  </td><td> 1.10</td><td> 2.20</td></tr>\n",
       "\t<tr><th scope=row>6</th><td>aIII </td><td>2.1  </td><td>  NaN</td><td>10.80</td></tr>\n",
       "</tbody>\n",
       "</table>\n"
      ],
      "text/latex": [
       "\\begin{tabular}{r|llll}\n",
       "  & categ & X & Y & Z\\\\\n",
       "\\hline\n",
       "\t1 & aI    & 0.2   &  5.00 &  5.00\\\\\n",
       "\t4 & aII   & 0.8   &  8.10 &  8.10\\\\\n",
       "\t2 & bI    & 1.2   & 18.65 & 18.65\\\\\n",
       "\t8 & cIII  & 0.8   & 13.60 & 13.60\\\\\n",
       "\t2.1 & bI    & 1.2   & 18.65 & 18.65\\\\\n",
       "\t4.1 & aII   & 0.8   &  8.10 &  8.10\\\\\n",
       "\t3 & cI    & 1.7   &  5.90 &  6.10\\\\\n",
       "\t5 & cII   & 1.9   & 15.40 & 15.50\\\\\n",
       "\t7 & bIII  & 1.9   &  1.10 &  2.20\\\\\n",
       "\t6 & aIII  & 2.1   &   NaN & 10.80\\\\\n",
       "\\end{tabular}\n"
      ],
      "text/markdown": [
       "\n",
       "| <!--/--> | categ | X | Y | Z |\n",
       "|---|---|---|---|---|\n",
       "| 1 | aI    | 0.2   |  5.00 |  5.00 |\n",
       "| 4 | aII   | 0.8   |  8.10 |  8.10 |\n",
       "| 2 | bI    | 1.2   | 18.65 | 18.65 |\n",
       "| 8 | cIII  | 0.8   | 13.60 | 13.60 |\n",
       "| 2.1 | bI    | 1.2   | 18.65 | 18.65 |\n",
       "| 4.1 | aII   | 0.8   |  8.10 |  8.10 |\n",
       "| 3 | cI    | 1.7   |  5.90 |  6.10 |\n",
       "| 5 | cII   | 1.9   | 15.40 | 15.50 |\n",
       "| 7 | bIII  | 1.9   |  1.10 |  2.20 |\n",
       "| 6 | aIII  | 2.1   |   NaN | 10.80 |\n",
       "\n"
      ],
      "text/plain": [
       "    categ X   Y     Z    \n",
       "1   aI    0.2  5.00  5.00\n",
       "4   aII   0.8  8.10  8.10\n",
       "2   bI    1.2 18.65 18.65\n",
       "8   cIII  0.8 13.60 13.60\n",
       "2.1 bI    1.2 18.65 18.65\n",
       "4.1 aII   0.8  8.10  8.10\n",
       "3   cI    1.7  5.90  6.10\n",
       "5   cII   1.9 15.40 15.50\n",
       "7   bIII  1.9  1.10  2.20\n",
       "6   aIII  2.1   NaN 10.80"
      ]
     },
     "metadata": {},
     "output_type": "display_data"
    }
   ],
   "source": [
    "dann_m"
   ]
  }
 ],
 "metadata": {
  "kernelspec": {
   "display_name": "Python 3",
   "language": "python",
   "name": "python3"
  },
  "language_info": {
   "codemirror_mode": {
    "name": "ipython",
    "version": 3
   },
   "file_extension": ".py",
   "mimetype": "text/x-python",
   "name": "python",
   "nbconvert_exporter": "python",
   "pygments_lexer": "ipython3",
   "version": "3.8.8"
  }
 },
 "nbformat": 4,
 "nbformat_minor": 5
}
