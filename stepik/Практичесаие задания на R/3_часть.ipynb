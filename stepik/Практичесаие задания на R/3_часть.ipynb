{
 "cells": [
  {
   "cell_type": "markdown",
   "id": "august-composite",
   "metadata": {},
   "source": [
    "Пример 1\n",
    "----\n",
    "Напишите функцию smart_hclust, которая получает на вход dataframe  с произвольным числом количественных переменных и число кластеров, которое необходимо выделить при помощи иерархической кластеризации.\n",
    "\n",
    "Функция должна в исходный набор данных добавлять новую переменную фактор - cluster  -- номер кластера, к которому отнесено каждое из наблюдений.\n",
    "\n",
    "Пример работы функции:\n",
    "\n",
    "```r \n",
    "> test_data <- read.csv(\"https://stepic.org/media/attachments/course/524/test_data_hclust.csv\")\n",
    "> str(test_data)\n",
    "'data.frame':  12 obs. of  5 variables:\n",
    " $ X1: int  11 9 9 9 7 9 16 23 15 19 ...\n",
    " $ X2: int  7 10 2 11 9 11 20 18 21 20 ...\n",
    " $ X3: int  10 10 12 8 10 9 22 21 14 15 ...\n",
    " $ X4: int  10 8 14 10 11 6 19 24 21 17 ...\n",
    " $ X5: int  8 6 11 3 14 9 16 16 21 17 ...\n",
    "\n",
    "> smart_hclust(test_data, 3) # выделено три кластера\n",
    "   X1 X2 X3 X4 X5 cluster\n",
    "1  11  7 10 10  8       1\n",
    "2   9 10 10  8  6       1\n",
    "3   9  2 12 14 11       1\n",
    "4   9 11  8 10  3       1\n",
    "5   7  9 10 11 14       1\n",
    "6   9 11  9  6  9       1\n",
    "7  16 20 22 19 16       2\n",
    "8  23 18 21 24 16       2\n",
    "9  15 21 14 21 21       3\n",
    "10 19 20 15 17 17       3\n",
    "11 20 24 21 20 19       2\n",
    "12 22 19 27 22 19       2\n",
    "```\n",
    " \n",
    "В этой и следующей задаче на кластерный анализ предполагается, что мы используем функцию hclust() для кластеризации данных с параметрами по умолчанию:\n",
    "\n",
    "```r\n",
    "hclust(d, method = \"complete\", members = NULL)\n",
    "```\n",
    " \n",
    "Для расчета матрицы расстояний предполагается, что используется функция dist() также с параметрами по умолчанию:\n",
    "\n",
    "```r\n",
    "dist(x, method = \"euclidean\", diag = FALSE, upper = FALSE, p = 2)\n",
    "```\n",
    "\n",
    "Для выделения желаемого числа кластеров по результатам иерархической кластеризации воспользуйтесь функцией cutree().\n",
    "\n",
    "Иными словами, для кластеризации данных swiss на три кластера мы бы использовали команды:\n",
    "\n",
    "```r\n",
    "dist_matrix <- dist(swiss) # расчет матрицы расстояний\n",
    "fit <- hclust(dist_matrix) # иерархическая кластеризация \n",
    "cluster <- cutree(fit, 3) # номер кластера для каждого наблюдения\n",
    "````"
   ]
  },
  {
   "cell_type": "code",
   "execution_count": 23,
   "id": "hydraulic-internet",
   "metadata": {},
   "outputs": [],
   "source": [
    "smart_hclust <-  function(test_data, cluster_number){\n",
    "    dist_matrix <- dist(test_data)\n",
    "    fit <- hclust(dist_matrix)\n",
    "    cluster <- cutree(fit, cluster_number)\n",
    "    test_data['cluster'] <- as.factor(cluster)\n",
    "    return(test_data)\n",
    "}"
   ]
  },
  {
   "cell_type": "code",
   "execution_count": 27,
   "id": "turned-cedar",
   "metadata": {},
   "outputs": [],
   "source": [
    "test_data <- read.csv(\"https://stepic.org/media/attachments/course/524/test_data_hclust.csv\")\n",
    "a <- smart_hclust(test_data, 3)"
   ]
  },
  {
   "cell_type": "code",
   "execution_count": 28,
   "id": "sealed-guidance",
   "metadata": {},
   "outputs": [
    {
     "name": "stdout",
     "output_type": "stream",
     "text": [
      "'data.frame':\t12 obs. of  6 variables:\n",
      " $ X1     : int  11 9 9 9 7 9 16 23 15 19 ...\n",
      " $ X2     : int  7 10 2 11 9 11 20 18 21 20 ...\n",
      " $ X3     : int  10 10 12 8 10 9 22 21 14 15 ...\n",
      " $ X4     : int  10 8 14 10 11 6 19 24 21 17 ...\n",
      " $ X5     : int  8 6 11 3 14 9 16 16 21 17 ...\n",
      " $ cluster: Factor w/ 3 levels \"1\",\"2\",\"3\": 1 1 1 1 1 1 2 2 3 3 ...\n"
     ]
    }
   ],
   "source": [
    "str(a)"
   ]
  },
  {
   "cell_type": "code",
   "execution_count": null,
   "id": "related-equation",
   "metadata": {},
   "outputs": [],
   "source": [
    "# решение степика \n",
    "smart_hclust <- function(test_data, n_cluster){    \n",
    "    d <- dist(test_data)    \n",
    "    fit <- hclust(d)    \n",
    "    test_data$cluster <- factor(cutree(fit, k = n_cluster))    \n",
    "    return(test_data)    \n",
    "}"
   ]
  },
  {
   "cell_type": "code",
   "execution_count": 61,
   "id": "broke-meaning",
   "metadata": {},
   "outputs": [],
   "source": [
    "smart_hclust<-  function(test_data, cluster_number){\n",
    "    library(\"dplyr\")\n",
    "    cluster <- test_data %>%\n",
    "        dist() %>%\n",
    "        hclust() %>%\n",
    "        cutree(cluster_number) %>%\n",
    "        as.factor()\n",
    "    \n",
    "  test_data$cluster <- cluster  \n",
    "  return(test_data)\n",
    "}"
   ]
  },
  {
   "cell_type": "code",
   "execution_count": 62,
   "id": "ongoing-concentrate",
   "metadata": {},
   "outputs": [
    {
     "data": {
      "text/html": [
       "<table>\n",
       "<thead><tr><th scope=col>X1</th><th scope=col>X2</th><th scope=col>X3</th><th scope=col>X4</th><th scope=col>X5</th><th scope=col>cluster</th></tr></thead>\n",
       "<tbody>\n",
       "\t<tr><td>11</td><td> 7</td><td>10</td><td>10</td><td> 8</td><td>1 </td></tr>\n",
       "\t<tr><td> 9</td><td>10</td><td>10</td><td> 8</td><td> 6</td><td>1 </td></tr>\n",
       "\t<tr><td> 9</td><td> 2</td><td>12</td><td>14</td><td>11</td><td>1 </td></tr>\n",
       "\t<tr><td> 9</td><td>11</td><td> 8</td><td>10</td><td> 3</td><td>1 </td></tr>\n",
       "\t<tr><td> 7</td><td> 9</td><td>10</td><td>11</td><td>14</td><td>1 </td></tr>\n",
       "\t<tr><td> 9</td><td>11</td><td> 9</td><td> 6</td><td> 9</td><td>1 </td></tr>\n",
       "\t<tr><td>16</td><td>20</td><td>22</td><td>19</td><td>16</td><td>2 </td></tr>\n",
       "\t<tr><td>23</td><td>18</td><td>21</td><td>24</td><td>16</td><td>2 </td></tr>\n",
       "\t<tr><td>15</td><td>21</td><td>14</td><td>21</td><td>21</td><td>3 </td></tr>\n",
       "\t<tr><td>19</td><td>20</td><td>15</td><td>17</td><td>17</td><td>3 </td></tr>\n",
       "\t<tr><td>20</td><td>24</td><td>21</td><td>20</td><td>19</td><td>2 </td></tr>\n",
       "\t<tr><td>22</td><td>19</td><td>27</td><td>22</td><td>19</td><td>2 </td></tr>\n",
       "</tbody>\n",
       "</table>\n"
      ],
      "text/latex": [
       "\\begin{tabular}{r|llllll}\n",
       " X1 & X2 & X3 & X4 & X5 & cluster\\\\\n",
       "\\hline\n",
       "\t 11 &  7 & 10 & 10 &  8 & 1 \\\\\n",
       "\t  9 & 10 & 10 &  8 &  6 & 1 \\\\\n",
       "\t  9 &  2 & 12 & 14 & 11 & 1 \\\\\n",
       "\t  9 & 11 &  8 & 10 &  3 & 1 \\\\\n",
       "\t  7 &  9 & 10 & 11 & 14 & 1 \\\\\n",
       "\t  9 & 11 &  9 &  6 &  9 & 1 \\\\\n",
       "\t 16 & 20 & 22 & 19 & 16 & 2 \\\\\n",
       "\t 23 & 18 & 21 & 24 & 16 & 2 \\\\\n",
       "\t 15 & 21 & 14 & 21 & 21 & 3 \\\\\n",
       "\t 19 & 20 & 15 & 17 & 17 & 3 \\\\\n",
       "\t 20 & 24 & 21 & 20 & 19 & 2 \\\\\n",
       "\t 22 & 19 & 27 & 22 & 19 & 2 \\\\\n",
       "\\end{tabular}\n"
      ],
      "text/markdown": [
       "\n",
       "| X1 | X2 | X3 | X4 | X5 | cluster |\n",
       "|---|---|---|---|---|---|\n",
       "| 11 |  7 | 10 | 10 |  8 | 1  |\n",
       "|  9 | 10 | 10 |  8 |  6 | 1  |\n",
       "|  9 |  2 | 12 | 14 | 11 | 1  |\n",
       "|  9 | 11 |  8 | 10 |  3 | 1  |\n",
       "|  7 |  9 | 10 | 11 | 14 | 1  |\n",
       "|  9 | 11 |  9 |  6 |  9 | 1  |\n",
       "| 16 | 20 | 22 | 19 | 16 | 2  |\n",
       "| 23 | 18 | 21 | 24 | 16 | 2  |\n",
       "| 15 | 21 | 14 | 21 | 21 | 3  |\n",
       "| 19 | 20 | 15 | 17 | 17 | 3  |\n",
       "| 20 | 24 | 21 | 20 | 19 | 2  |\n",
       "| 22 | 19 | 27 | 22 | 19 | 2  |\n",
       "\n"
      ],
      "text/plain": [
       "   X1 X2 X3 X4 X5 cluster\n",
       "1  11  7 10 10  8 1      \n",
       "2   9 10 10  8  6 1      \n",
       "3   9  2 12 14 11 1      \n",
       "4   9 11  8 10  3 1      \n",
       "5   7  9 10 11 14 1      \n",
       "6   9 11  9  6  9 1      \n",
       "7  16 20 22 19 16 2      \n",
       "8  23 18 21 24 16 2      \n",
       "9  15 21 14 21 21 3      \n",
       "10 19 20 15 17 17 3      \n",
       "11 20 24 21 20 19 2      \n",
       "12 22 19 27 22 19 2      "
      ]
     },
     "metadata": {},
     "output_type": "display_data"
    }
   ],
   "source": [
    "test_data <- read.csv(\"https://stepic.org/media/attachments/course/524/test_data_hclust.csv\")\n",
    "a <- smart_hclust(test_data, 3)\n",
    "a"
   ]
  },
  {
   "cell_type": "markdown",
   "id": "coordinate-facial",
   "metadata": {},
   "source": [
    "Пример 2\n",
    "----\n",
    "Интересной особенностью кластерного анализа является тот факт, что мы получаем только итоговый ответ, к какому кластеру принадлежит каждое наблюдение. Однако мы не знаем, по каким переменным различаются выделенные кластеры. Поэтому, если нас интересует не только сам факт того, что мы смогли выделить кластеры в наших данных, но мы также хотим понять, чем же они различаются, разумно сравнить кластеры между собой по имеющимся переменным.\n",
    "\n",
    "Напишите функцию get_difference, которая получает на вход два аргумента: \n",
    "\n",
    "- test_data — набор данных с произвольным числом количественных переменных.\n",
    "- n_cluster — число кластеров, которое нужно выделить в данных при помощи иерархической кластеризации.\n",
    "\n",
    "Функция должна вернуть названия переменных, по которым были обнаружен значимые различия между выделенными кластерами (p < 0.05)﻿. Иными словами, после того, как мы выделили заданное число кластеров, мы добавляем в исходные данные новую группирующую переменную — номер кластера, и сравниваем получившиеся группы между собой по количественным переменным при помощи дисперсионного анализа.\n",
    "\n",
    "Пример работы функции:\n",
    "\n",
    "В первом наборе данных, очевидно, что два кластера будут значимо различаться только по переменной V2.\n",
    "\n",
    "```r\n",
    "> test_data <- read.csv(\"https://stepic.org/media/attachments/course/524/cluster_1.csv\")\n",
    "> get_difference﻿(test_data, 2)\n",
    "[1] \"V2\" \n",
    "```\n",
    "\n",
    "Во втором наборе данных при выделении двух кластеров значимые различия получаются по обеим переменным.\n",
    "\n",
    "```r\n",
    "> test_data <- read.csv(\"https://stepic.org/media/attachments/course/524/cluster_2.csv\")\n",
    "> get_difference﻿(test_data, 2)\n",
    "[1] \"V1\" \"V2\"\n",
    "```\n",
    "\n",
    "Подсказки:\n",
    "\n",
    "1. Не забудьте перевести переменную с номером кластера в фактор! \n",
    "2. Вы можете использовать вашу функцию из предыдущего задания.\n",
    "3. Для поиска различий используйте ANOVA (функция aov). Давайте договоримся, что для наших целей мы не будем проверять данные на соответствие требованиями к применению этого критерия и не будем думать о поправке на множественные сравнения."
   ]
  },
  {
   "cell_type": "code",
   "execution_count": 76,
   "id": "touched-manner",
   "metadata": {},
   "outputs": [],
   "source": [
    "get_difference <-  function(test_data, n_cluster){\n",
    "    dist_matrix <- dist(test_data) \n",
    "    fit <- hclust(dist_matrix) \n",
    "    new_data <- test_data\n",
    "    new_data$cluster <- factor(cutree(fit, n_cluster))\n",
    "    p_val <- sapply(test_data, function(x) summary(aov(x ~ cluster, new_data))[[1]][[\"Pr(>F)\"]][[1]])\n",
    "    names(test_data[p_val < 0.05])\n",
    "}\n",
    "\n",
    "test_data <- read.csv(\"https://stepic.org/media/attachments/course/524/cluster_1.csv\")\n",
    "a <- get_difference(test_data, 2)"
   ]
  },
  {
   "cell_type": "code",
   "execution_count": null,
   "id": "sitting-message",
   "metadata": {},
   "outputs": [],
   "source": [
    "get_difference <- function(test_data, n_cluster){    \n",
    "    dist_matrix <- dist(test_data)    \n",
    "    fit <- hclust(dist_matrix)    \n",
    "    test_data$cluster <- as.factor(cutree(fit, n_cluster))    \n",
    "    p_val <- sapply(test_data[,-ncol(test_data)],    \n",
    "        function(x) {summary(aov(x~cluster, test_data))[[1]][1,'Pr(>F)']})    \n",
    "    return(names(p_val)[p_val < 0.05])    \n",
    "}"
   ]
  },
  {
   "cell_type": "code",
   "execution_count": null,
   "id": "incredible-samoa",
   "metadata": {},
   "outputs": [],
   "source": [
    "get_difference <- function(df, n_clusters){\n",
    "    fit <- hclust(dist(df))\n",
    "    cluster <- factor(cutree(fit, n_clusters))\n",
    "    is.good <- sapply(df, function(x) anova(aov(x ~ cluster))$P[1] < 0.05)\n",
    "    names(df)[is.good]\n",
    "}"
   ]
  },
  {
   "cell_type": "markdown",
   "id": "fancy-emerald",
   "metadata": {},
   "source": [
    "Пример 3\n",
    "---\n",
    "Напишите функцию get_pc, которая получает на вход dataframe с произвольным числом количественных переменных. Функция должна выполнять анализ главных компонент и добавлять в исходные данные две новые колонки со значениями первой и второй главной компоненты. Новые переменные должны называться \"PC1\"  и \"PC2\" соответственно.\n",
    "\n",
    "Пример работы функции:\n",
    "```r\n",
    "> test_data <- read.csv(\"https://stepic.org/media/attachments/course/524/pca_test.csv\")\n",
    "\n",
    "> test_data\n",
    "  V1 V2 V3 V4 V5\n",
    "1 13 15 12 13 12\n",
    "2 16 11  8 12  6\n",
    "3 15  7 10 12 13\n",
    "4 12 11  6  6  4\n",
    "5 11 13 13 10 12\n",
    "\n",
    "> get_pc(test_data)\n",
    "  V1 V2 V3 V4 V5  PC1  PC2\n",
    "1 13 15 12 13 12 -4.5  2.4\n",
    "2 16 11  8 12  6  3.0 -1.9\n",
    "3 15  7 10 12 13 -2.8 -5.1\n",
    "4 12 11  6  6  4  7.8  1.7\n",
    "5 11 13 13 10 12 -3.6  3.0﻿\n",
    "```\n",
    " \n",
    "\n",
    "Для выполнения анализа главных компонент используйте функцию ﻿prcomp(). Изучите результат применения этой функции к данным, чтобы найти, где хранятся значения выделенных главных компонент.\n"
   ]
  },
  {
   "cell_type": "code",
   "execution_count": 98,
   "id": "silent-ownership",
   "metadata": {},
   "outputs": [
    {
     "name": "stdout",
     "output_type": "stream",
     "text": [
      "List of 5\n",
      " $ sdev    : num [1:5] 5.28 3.42 2.45 5.63e-01 9.30e-16\n",
      " $ rotation: num [1:5, 1:5] 0.0271 -0.1276 -0.5133 -0.3967 -0.7497 ...\n",
      "  ..- attr(*, \"dimnames\")=List of 2\n",
      "  .. ..$ : chr [1:5] \"V1\" \"V2\" \"V3\" \"V4\" ...\n",
      "  .. ..$ : chr [1:5] \"PC1\" \"PC2\" \"PC3\" \"PC4\" ...\n",
      " $ center  : Named num [1:5] 13.4 11.4 9.8 10.6 9.4\n",
      "  ..- attr(*, \"names\")= chr [1:5] \"V1\" \"V2\" \"V3\" \"V4\" ...\n",
      " $ scale   : logi FALSE\n",
      " $ x       : num [1:5, 1:5] -4.5 3.04 -2.75 7.84 -3.62 ...\n",
      "  ..- attr(*, \"dimnames\")=List of 2\n",
      "  .. ..$ : NULL\n",
      "  .. ..$ : chr [1:5] \"PC1\" \"PC2\" \"PC3\" \"PC4\" ...\n",
      " - attr(*, \"class\")= chr \"prcomp\"\n"
     ]
    }
   ],
   "source": [
    "test_data <- read.csv(\"https://stepic.org/media/attachments/course/524/pca_test.csv\")\n",
    "fit <- prcomp(test_data)\n",
    "str(fit)"
   ]
  },
  {
   "cell_type": "code",
   "execution_count": 99,
   "id": "straight-graduate",
   "metadata": {},
   "outputs": [
    {
     "data": {
      "text/html": [
       "<table>\n",
       "<thead><tr><th scope=col>PC1</th><th scope=col>PC2</th><th scope=col>PC3</th><th scope=col>PC4</th><th scope=col>PC5</th></tr></thead>\n",
       "<tbody>\n",
       "\t<tr><td>-4.500822    </td><td> 2.364595    </td><td> 2.054657    </td><td>-0.6400616   </td><td> 1.115373e-15</td></tr>\n",
       "\t<tr><td> 3.039182    </td><td>-1.929687    </td><td> 3.234643    </td><td> 0.5067212   </td><td> 1.004351e-15</td></tr>\n",
       "\t<tr><td>-2.752467    </td><td>-5.076265    </td><td>-1.868558    </td><td>-0.2096502   </td><td> 1.004351e-15</td></tr>\n",
       "\t<tr><td> 7.837194    </td><td> 1.688535    </td><td>-1.581097    </td><td>-0.3276701   </td><td>-2.168944e-16</td></tr>\n",
       "\t<tr><td>-3.623088    </td><td> 2.952822    </td><td>-1.839644    </td><td> 0.6706607   </td><td> 1.004351e-15</td></tr>\n",
       "</tbody>\n",
       "</table>\n"
      ],
      "text/latex": [
       "\\begin{tabular}{lllll}\n",
       " PC1 & PC2 & PC3 & PC4 & PC5\\\\\n",
       "\\hline\n",
       "\t -4.500822     &  2.364595     &  2.054657     & -0.6400616    &  1.115373e-15\\\\\n",
       "\t  3.039182     & -1.929687     &  3.234643     &  0.5067212    &  1.004351e-15\\\\\n",
       "\t -2.752467     & -5.076265     & -1.868558     & -0.2096502    &  1.004351e-15\\\\\n",
       "\t  7.837194     &  1.688535     & -1.581097     & -0.3276701    & -2.168944e-16\\\\\n",
       "\t -3.623088     &  2.952822     & -1.839644     &  0.6706607    &  1.004351e-15\\\\\n",
       "\\end{tabular}\n"
      ],
      "text/markdown": [
       "\n",
       "| PC1 | PC2 | PC3 | PC4 | PC5 |\n",
       "|---|---|---|---|---|\n",
       "| -4.500822     |  2.364595     |  2.054657     | -0.6400616    |  1.115373e-15 |\n",
       "|  3.039182     | -1.929687     |  3.234643     |  0.5067212    |  1.004351e-15 |\n",
       "| -2.752467     | -5.076265     | -1.868558     | -0.2096502    |  1.004351e-15 |\n",
       "|  7.837194     |  1.688535     | -1.581097     | -0.3276701    | -2.168944e-16 |\n",
       "| -3.623088     |  2.952822     | -1.839644     |  0.6706607    |  1.004351e-15 |\n",
       "\n"
      ],
      "text/plain": [
       "     PC1       PC2       PC3       PC4        PC5          \n",
       "[1,] -4.500822  2.364595  2.054657 -0.6400616  1.115373e-15\n",
       "[2,]  3.039182 -1.929687  3.234643  0.5067212  1.004351e-15\n",
       "[3,] -2.752467 -5.076265 -1.868558 -0.2096502  1.004351e-15\n",
       "[4,]  7.837194  1.688535 -1.581097 -0.3276701 -2.168944e-16\n",
       "[5,] -3.623088  2.952822 -1.839644  0.6706607  1.004351e-15"
      ]
     },
     "metadata": {},
     "output_type": "display_data"
    }
   ],
   "source": [
    "fit$x"
   ]
  },
  {
   "cell_type": "code",
   "execution_count": 96,
   "id": "exceptional-tunnel",
   "metadata": {},
   "outputs": [],
   "source": [
    "get_pc <- function(d){\n",
    "    x_num <- prcomp(test_data)$x\n",
    "    d$PC1 <- round(x_num[, \"PC1\"], dig=1)\n",
    "    d$PC2 <- round(x_num[, \"PC2\"], dig=1)\n",
    "    return(d)\n",
    "}"
   ]
  },
  {
   "cell_type": "code",
   "execution_count": 97,
   "id": "arctic-mobile",
   "metadata": {},
   "outputs": [
    {
     "data": {
      "text/html": [
       "<table>\n",
       "<thead><tr><th scope=col>V1</th><th scope=col>V2</th><th scope=col>V3</th><th scope=col>V4</th><th scope=col>V5</th><th scope=col>PC1</th><th scope=col>PC2</th></tr></thead>\n",
       "<tbody>\n",
       "\t<tr><td>13  </td><td>15  </td><td>12  </td><td>13  </td><td>12  </td><td>-4.5</td><td> 2.4</td></tr>\n",
       "\t<tr><td>16  </td><td>11  </td><td> 8  </td><td>12  </td><td> 6  </td><td> 3.0</td><td>-1.9</td></tr>\n",
       "\t<tr><td>15  </td><td> 7  </td><td>10  </td><td>12  </td><td>13  </td><td>-2.8</td><td>-5.1</td></tr>\n",
       "\t<tr><td>12  </td><td>11  </td><td> 6  </td><td> 6  </td><td> 4  </td><td> 7.8</td><td> 1.7</td></tr>\n",
       "\t<tr><td>11  </td><td>13  </td><td>13  </td><td>10  </td><td>12  </td><td>-3.6</td><td> 3.0</td></tr>\n",
       "</tbody>\n",
       "</table>\n"
      ],
      "text/latex": [
       "\\begin{tabular}{r|lllllll}\n",
       " V1 & V2 & V3 & V4 & V5 & PC1 & PC2\\\\\n",
       "\\hline\n",
       "\t 13   & 15   & 12   & 13   & 12   & -4.5 &  2.4\\\\\n",
       "\t 16   & 11   &  8   & 12   &  6   &  3.0 & -1.9\\\\\n",
       "\t 15   &  7   & 10   & 12   & 13   & -2.8 & -5.1\\\\\n",
       "\t 12   & 11   &  6   &  6   &  4   &  7.8 &  1.7\\\\\n",
       "\t 11   & 13   & 13   & 10   & 12   & -3.6 &  3.0\\\\\n",
       "\\end{tabular}\n"
      ],
      "text/markdown": [
       "\n",
       "| V1 | V2 | V3 | V4 | V5 | PC1 | PC2 |\n",
       "|---|---|---|---|---|---|---|\n",
       "| 13   | 15   | 12   | 13   | 12   | -4.5 |  2.4 |\n",
       "| 16   | 11   |  8   | 12   |  6   |  3.0 | -1.9 |\n",
       "| 15   |  7   | 10   | 12   | 13   | -2.8 | -5.1 |\n",
       "| 12   | 11   |  6   |  6   |  4   |  7.8 |  1.7 |\n",
       "| 11   | 13   | 13   | 10   | 12   | -3.6 |  3.0 |\n",
       "\n"
      ],
      "text/plain": [
       "  V1 V2 V3 V4 V5 PC1  PC2 \n",
       "1 13 15 12 13 12 -4.5  2.4\n",
       "2 16 11  8 12  6  3.0 -1.9\n",
       "3 15  7 10 12 13 -2.8 -5.1\n",
       "4 12 11  6  6  4  7.8  1.7\n",
       "5 11 13 13 10 12 -3.6  3.0"
      ]
     },
     "metadata": {},
     "output_type": "display_data"
    }
   ],
   "source": [
    "test_data <- read.csv(\"https://stepic.org/media/attachments/course/524/pca_test.csv\")\n",
    "get_pc(test_data)"
   ]
  },
  {
   "cell_type": "code",
   "execution_count": null,
   "id": "steady-alignment",
   "metadata": {},
   "outputs": [],
   "source": [
    "# решение степика \n",
    "get_pc <- function(test){    \n",
    "    fit <- prcomp(test)    \n",
    "    test<- cbind(test, fit$x[,1:2])    \n",
    "    return(test)    \n",
    "}"
   ]
  },
  {
   "cell_type": "markdown",
   "id": "political-morocco",
   "metadata": {},
   "source": [
    "Пример 4\n",
    "----\n",
    "Усложним предыдущую задачу! Напишите функцию get_pca2, которая принимает на вход dataframe с произвольным числом количественных переменных. Функция должна рассчитать, какое минимальное число главных компонент объясняет больше 90% изменчивости в исходных данных и добавлять значения этих компонент в исходный dataframe в виде новых переменных.\n",
    "\n",
    "Рассмотрим работу функции на примере встроенных данных swiss:\n",
    "\n",
    "```r\n",
    "# посмотрим сколько главных компонент объясняют больше 90% изменчивости в данных\n",
    "> fit <- prcomp(swiss)\n",
    "> summary(fit)\n",
    "Importance of components:\n",
    "                          PC1     PC2      PC3     PC4     PC5    PC6\n",
    "Standard deviation     43.836 21.6022 12.05342 4.75916 3.65754 2.4882\n",
    "Proportion of Variance  0.746  0.1812  0.05641 0.00879 0.00519 0.0024\n",
    "Cumulative Proportion   0.746  0.9272  0.98361 0.99240 0.99760 1.0000\n",
    "\n",
    "# в нашем случае уже две компоненты объясняют больше 90% изменчивости\n",
    "# значит значения первых двух компонент нужно добавить в исходные данные\n",
    "\n",
    "# пример работы функции:\n",
    "> result  <- get_pca2(swiss)\n",
    "> str(result)\n",
    "```\n",
    "```\n",
    "'data.frame':  47 obs. of  8 variables:\n",
    "     $ Fertility       : num  80.2 83.1 92.5 85.8 76.9 76.1 83.8 92.4 82.4 82.9 \n",
    "     $ Agriculture     : num  17 45.1 39.7 36.5 43.5 35.3 70.2 67.8 53.3 45.2 ...\n",
    "     $ Examination     : int  15 6 5 12 17 9 16 14 12 16 \n",
    "     $ Education       : int  12 9 5 7 15 7 7 8 7 13 ...\n",
    "     $ Catholic        : num  9.96 84.84 93.4 33.77 5.16 \n",
    "     $ Infant.Mortality: num  22.2 22.2 20.2 20.3 20.6 26.6 23.6 24.9 21 24.4 ...\n",
    "     $ PC1             : num  37.03 -42.8 -51.08 7.72 35.03\n",
    "     $ PC2             : num  -17.43 -14.69 -19.27 -5.46 5.13 ...\n",
    "```"
   ]
  },
  {
   "cell_type": "markdown",
   "id": "incident-directive",
   "metadata": {},
   "source": [
    "Тесты"
   ]
  },
  {
   "cell_type": "code",
   "execution_count": 33,
   "id": "applied-framework",
   "metadata": {},
   "outputs": [
    {
     "name": "stdout",
     "output_type": "stream",
     "text": [
      "'data.frame':\t47 obs. of  8 variables:\n",
      " $ Fertility       : num  80.2 83.1 92.5 85.8 76.9 76.1 83.8 92.4 82.4 82.9 ...\n",
      " $ Agriculture     : num  17 45.1 39.7 36.5 43.5 35.3 70.2 67.8 53.3 45.2 ...\n",
      " $ Examination     : int  15 6 5 12 17 9 16 14 12 16 ...\n",
      " $ Education       : int  12 9 5 7 15 7 7 8 7 13 ...\n",
      " $ Catholic        : num  9.96 84.84 93.4 33.77 5.16 ...\n",
      " $ Infant.Mortality: num  22.2 22.2 20.2 20.3 20.6 26.6 23.6 24.9 21 24.4 ...\n",
      " $ PC1             : num  37.03 -42.8 -51.08 7.72 35.03 ...\n",
      " $ PC2             : num  -17.43 -14.69 -19.27 -5.46 5.13 ...\n"
     ]
    }
   ],
   "source": [
    "result  <- get_pca2(swiss)\n",
    "str(result)"
   ]
  },
  {
   "cell_type": "code",
   "execution_count": 35,
   "id": "local-tackle",
   "metadata": {},
   "outputs": [
    {
     "name": "stdout",
     "output_type": "stream",
     "text": [
      "List of 6\n",
      " $ sdev      : num [1:6] 43.84 21.6 12.05 4.76 3.66 ...\n",
      " $ rotation  : num [1:6, 1:6] -0.1516 -0.2812 0.1221 0.0633 -0.9375 ...\n",
      "  ..- attr(*, \"dimnames\")=List of 2\n",
      "  .. ..$ : chr [1:6] \"Fertility\" \"Agriculture\" \"Examination\" \"Education\" ...\n",
      "  .. ..$ : chr [1:6] \"PC1\" \"PC2\" \"PC3\" \"PC4\" ...\n",
      " $ center    : Named num [1:6] 70.1 50.7 16.5 11 41.1 ...\n",
      "  ..- attr(*, \"names\")= chr [1:6] \"Fertility\" \"Agriculture\" \"Examination\" \"Education\" ...\n",
      " $ scale     : logi FALSE\n",
      " $ x         : num [1:47, 1:6] 37.03 -42.8 -51.08 7.72 35.03 ...\n",
      "  ..- attr(*, \"dimnames\")=List of 2\n",
      "  .. ..$ : chr [1:47] \"Courtelary\" \"Delemont\" \"Franches-Mnt\" \"Moutier\" ...\n",
      "  .. ..$ : chr [1:6] \"PC1\" \"PC2\" \"PC3\" \"PC4\" ...\n",
      " $ importance: num [1:3, 1:6] 43.836 0.746 0.746 21.602 0.181 ...\n",
      "  ..- attr(*, \"dimnames\")=List of 2\n",
      "  .. ..$ : chr [1:3] \"Standard deviation\" \"Proportion of Variance\" \"Cumulative Proportion\"\n",
      "  .. ..$ : chr [1:6] \"PC1\" \"PC2\" \"PC3\" \"PC4\" ...\n",
      " - attr(*, \"class\")= chr \"summary.prcomp\"\n"
     ]
    }
   ],
   "source": [
    "fit <- prcomp(swiss)\n",
    "a <- summary(fit)\n",
    "str(a)"
   ]
  },
  {
   "cell_type": "code",
   "execution_count": 36,
   "id": "amended-sierra",
   "metadata": {},
   "outputs": [
    {
     "data": {
      "text/html": [
       "<table>\n",
       "<thead><tr><th scope=col>PC1</th><th scope=col>PC2</th><th scope=col>PC3</th><th scope=col>PC4</th><th scope=col>PC5</th><th scope=col>PC6</th></tr></thead>\n",
       "<tbody>\n",
       "\t<tr><td>0.74603</td><td>0.9272 </td><td>0.98361</td><td>0.9924 </td><td>0.9976 </td><td>1      </td></tr>\n",
       "</tbody>\n",
       "</table>\n"
      ],
      "text/latex": [
       "\\begin{tabular}{llllll}\n",
       " PC1 & PC2 & PC3 & PC4 & PC5 & PC6\\\\\n",
       "\\hline\n",
       "\t 0.74603 & 0.9272  & 0.98361 & 0.9924  & 0.9976  & 1      \\\\\n",
       "\\end{tabular}\n"
      ],
      "text/markdown": [
       "\n",
       "| PC1 | PC2 | PC3 | PC4 | PC5 | PC6 |\n",
       "|---|---|---|---|---|---|\n",
       "| 0.74603 | 0.9272  | 0.98361 | 0.9924  | 0.9976  | 1       |\n",
       "\n"
      ],
      "text/plain": [
       "     PC1     PC2    PC3     PC4    PC5    PC6\n",
       "[1,] 0.74603 0.9272 0.98361 0.9924 0.9976 1  "
      ]
     },
     "metadata": {},
     "output_type": "display_data"
    }
   ],
   "source": [
    "e <- a$importance[3, ]\n",
    "t(e)"
   ]
  },
  {
   "cell_type": "code",
   "execution_count": 37,
   "id": "relevant-israeli",
   "metadata": {},
   "outputs": [
    {
     "data": {
      "text/html": [
       "2"
      ],
      "text/latex": [
       "2"
      ],
      "text/markdown": [
       "2"
      ],
      "text/plain": [
       "[1] 2"
      ]
     },
     "metadata": {},
     "output_type": "display_data"
    }
   ],
   "source": [
    "max.col(t(e > 0.90), \"first\")"
   ]
  },
  {
   "cell_type": "markdown",
   "id": "temporal-texas",
   "metadata": {},
   "source": [
    "Решение"
   ]
  },
  {
   "cell_type": "code",
   "execution_count": 31,
   "id": "level-plymouth",
   "metadata": {},
   "outputs": [],
   "source": [
    "get_pca2 <- function(data){\n",
    "    fit <- prcomp(data)\n",
    "    smr <- summary(fit)\n",
    "    imp <- smr$importance[3, ]\n",
    "    num <- max.col(t(imp > 0.90), \"first\")\n",
    "    data<- cbind(data, fit$x[, 1:num])    \n",
    "    return(data) \n",
    "}"
   ]
  },
  {
   "cell_type": "code",
   "execution_count": null,
   "id": "sustained-sarah",
   "metadata": {},
   "outputs": [],
   "source": [
    "# решение степика \n",
    "get_pca2 <- function(test_data){    \n",
    "    fit <- prcomp(test_data)    \n",
    "    cum_prop <- summary(fit)$importance['Cumulative Proportion',]    \n",
    "    test_data <- cbind(test_data, fit$x[,1:min(which(cum_prop>0.9))])    \n",
    "    return(test_data)    \n",
    "}"
   ]
  },
  {
   "cell_type": "code",
   "execution_count": null,
   "id": "perfect-jordan",
   "metadata": {},
   "outputs": [],
   "source": [
    "# или\n",
    "get_pca2 <- function(df){\n",
    "    fit <- prcomp(df)\n",
    "    pcs <- summary(fit)$importance[3, ]\n",
    "    ind <- which(pcs>0.9)[1]\n",
    "    cbind(df, fit$x[,1:ind])\n",
    "   }"
   ]
  },
  {
   "cell_type": "markdown",
   "id": "inner-murder",
   "metadata": {},
   "source": [
    "Пример 5\n",
    "----\n",
    "Задача для Чака Норриса.\n",
    "\n",
    "Как я говорил, метод главных компонент может применяться для борьбы с мультиколлинеарностью в данных (ситуация, когда некоторые переменные очень сильно коррелируют между собой). Однако иногда некоторые переменные не просто сильно взаимосвязаны, но могут представлять линейную комбинацию друг друга. На такие переменные лучше сразу взглянуть повнимательнее и выяснить, откуда они взялись в наших данных.\n",
    "\n",
    "Напишите функцию is_multicol, которая получает на вход dataframe произвольного размера с количественными переменными. Функция должна проверять существование строгой мультиколлинеарности, а именно наличие линейной комбинации между предикторами. Линейной комбинацией является ситуация, когда одна переменная может быть выражена через другую переменную при помощи уравнения V1=k∗V2+b V1 = k*V2+b V1=k∗V2+b.\n",
    "Например V1 = V2 + 4 или V1 = V2 - 5.\n",
    "\n",
    "Функция возвращает имена переменных, между которыми есть линейная зависимость или cобщение \"There is no collinearity in the data\".\n",
    "\n",
    "```\n",
    "> #В данных нет мультиколлинеарности\n",
    "﻿> test_data <- read.csv(\"https://stepic.org/media/attachments/course/524/Norris_1.csv\")\n",
    "  V1 V2 V3 V4\n",
    "1 22 20 18 20\n",
    "2 16 28 31 15\n",
    "3 14 24  7 16\n",
    "> is_multicol(test_data)\n",
    "[1] \"There is no collinearity in the data\"\n",
    " \n",
    "> #V1 = ﻿V2 + 1\n",
    "> test_data <- read.csv(\"https://stepic.org/media/attachments/course/524/Norris_2.csv\")\n",
    "  V1 V2 V3 V4\n",
    "1 13 12  7 11\n",
    "2 15 14 13 10\n",
    "3  8  7 11 16\n",
    "> is_multicol(test_data)\n",
    "[1] \"V2\" \"V1\"\n",
    " \n",
    "> #V1 ﻿= V2 + 1 и ﻿V3 ﻿= V4 - 2\n",
    "> test_data <- read.csv(\"https://stepic.org/media/attachments/course/524/Norris_3.csv\")\n",
    "  V1 V2 V3 V4\n",
    "1 20 19 12 14\n",
    "2 11 10  5  7\n",
    "3 12 11 10 12\n",
    "> is_multicol(test_data)\n",
    "[1] \"V2\" \"V1\" \"V4\" \"V3\"\n",
    "```\n",
    "\n",
    "Подсказки:\n",
    "Далеко не всегда 1 == 1 или 0.2 == 0.2 ﻿есть ТRUE! Подробнее можно почитать о проблеме [здесь](https://stackoverflow.com/questions/9508518/why-are-these-numbers-not-equal)."
   ]
  },
  {
   "cell_type": "code",
   "execution_count": 58,
   "id": "addressed-capability",
   "metadata": {},
   "outputs": [],
   "source": [
    "test_data <- read.csv(\"https://stepic.org/media/attachments/course/524/Norris_3.csv\")"
   ]
  },
  {
   "cell_type": "code",
   "execution_count": 69,
   "id": "adolescent-variance",
   "metadata": {},
   "outputs": [],
   "source": [
    "# Задачу можно свести к анализу корреляционной матрицы\n",
    "is_multicol <- function(d){\n",
    "    m = abs(cor(d))\n",
    "    diag(m) = 0\n",
    "    result = rownames(which(x > 0.999, arr.ind = T))\n",
    "    ifelse(is.null(result), return(\"There is no collinearity in the data\"), return(result))\n",
    "}"
   ]
  },
  {
   "cell_type": "code",
   "execution_count": null,
   "id": "technological-kazakhstan",
   "metadata": {},
   "outputs": [],
   "source": [
    "is_multicol <- function(d){    \n",
    "    d <- abs(cor(d))     \n",
    "    d[lower.tri(d)] <- 0    \n",
    "    diag(d) <- 0    \n",
    "    index <- which((1-d) < 1e-10, arr.ind = T)    \n",
    "    if (length(index) == 0){      \n",
    "        return('There is no collinearity in the data')    \n",
    "    } else {      \n",
    "        return(rownames(d)[index])      \n",
    "    }      \n",
    "}"
   ]
  },
  {
   "cell_type": "code",
   "execution_count": null,
   "id": "major-transaction",
   "metadata": {},
   "outputs": [],
   "source": [
    "is_multicol <- function(d){\n",
    "# Находим кол-во главных компонент, накопительный процент объясненной вариативности которых\n",
    "# меньше 100%, и добавляем 1, чтобы получить минимальное кол-во главных компонент, необходимых\n",
    "# для полного объяснения вариативности.\n",
    "# Мы знаем, что число главных компонент равно числу переменных и при коллиниарности некоторых из них\n",
    "# будут появляться бестолковые главные компоненты, котырые ничего не объясняют и имеют нулевой вклад\n",
    "# в накопительный процент объясненной вариативности.\n",
    "var <- sum(summary(prcomp(d))$importance[3,]<1.0)+1\n",
    "\n",
    "\n",
    "# Избавляемся от бесполезных главных компонент.\n",
    "# Не забываем, что нам нужны абсолютные значения, т.к. вектора могу смотреть в противоположные\n",
    "# стороны, но при этом лежать на параллельных прямых\n",
    "test <- abs(prcomp(d)$rotation[,1:var])\n",
    "\n",
    "# Если посмотреть на то, как выглядит test, то мы увидим\n",
    "# одинаковые строки - это и есть коллиниарные переменные (или мультиколинеарные, если одна строка\n",
    "# совпадает более чем с одной другой).\n",
    "# Сравним каждую строку с каждой строкой и если где-то есть больше одного совпадения (учитываем\n",
    "# совпадение строки с самой собой), то это наш клиент.\n",
    "# Составим логическую маску с именами в виде названий переменных\n",
    "mask <- apply(test,1,function(x) if(sum(apply(test,1,function(y) if(all.equal(x,y)==TRUE) T else F) )>1)T else F)\n",
    "\n",
    "# Если есть хоть одна подходящая переменная (по сути их будет всегда не меньше двух),\n",
    "# то мы выведем их, иначе сообщим об отсутствии коллиниарности в наших независимых рядах :)\n",
    "if(!any(mask)) {'There is no collinearity in the data'} else {names(mask)[mask]}\n",
    "}"
   ]
  },
  {
   "cell_type": "code",
   "execution_count": 70,
   "id": "practical-shield",
   "metadata": {},
   "outputs": [
    {
     "data": {
      "text/html": [
       "<ol class=list-inline>\n",
       "\t<li>'V2'</li>\n",
       "\t<li>'V1'</li>\n",
       "\t<li>'V4'</li>\n",
       "\t<li>'V3'</li>\n",
       "</ol>\n"
      ],
      "text/latex": [
       "\\begin{enumerate*}\n",
       "\\item 'V2'\n",
       "\\item 'V1'\n",
       "\\item 'V4'\n",
       "\\item 'V3'\n",
       "\\end{enumerate*}\n"
      ],
      "text/markdown": [
       "1. 'V2'\n",
       "2. 'V1'\n",
       "3. 'V4'\n",
       "4. 'V3'\n",
       "\n",
       "\n"
      ],
      "text/plain": [
       "[1] \"V2\" \"V1\" \"V4\" \"V3\""
      ]
     },
     "metadata": {},
     "output_type": "display_data"
    }
   ],
   "source": [
    "is_multicol(test_data)"
   ]
  },
  {
   "attachments": {
    "9b41460e-b0ad-46ef-9cb2-bb265f66963b.png": {
     "image/png": "[encoded data removed]"
    }
   },
   "cell_type": "markdown",
   "id": "bright-maker",
   "metadata": {},
   "source": [
    "Пример 6\n",
    "----\n",
    "Вот и подходит к концу наш курс. Давайте построим финальный график!\n",
    "\n",
    "В данных swiss, используя все переменные, выделите два кластера при помощи иерархической кластеризации и сохраните значение кластеров как фактор в переменную cluster. Должно получиться:\n",
    "\n",
    "```\n",
    "> str(swiss)\n",
    "'data.frame':  47 obs. of  7 variables:\n",
    " $ Fertility       : num  80.2 83.1 92.5 85.8 76.9 76.1 83.8 92.4 82.4 82.9 ...\n",
    " $ Agriculture     : num  17 45.1 39.7 36.5 43.5 35.3 70.2 67.8 53.3 45.2 ...\n",
    " $ Examination     : int  15 6 5 12 17 9 16 14 12 16 ...\n",
    " $ Education       : int  12 9 5 7 15 7 7 8 7 13 ...\n",
    " $ Catholic        : num  9.96 84.84 93.4 33.77 5.16 ...\n",
    " $ Infant.Mortality: num  22.2 22.2 20.2 20.3 20.6 26.6 23.6 24.9 21 24.4 ...\n",
    " $ cluster         : Factor w/ 2 levels \"1\",\"2\": 1 2 2 1 1 2 2 2 2 2 ...\n",
    "```\n",
    "\n",
    "Затем визуализируйте взаимосвязь переменных  Education и  Catholic в двух выделенных кластерах, чтобы получился следующий график:\n",
    "\n",
    "![image.png](attachment:9b41460e-b0ad-46ef-9cb2-bb265f66963b.png)\n",
    "\n",
    "Подсказки:\n",
    "\n",
    "- для визуализации линейной регрессии пользуйтесь geom_smooth();\n",
    "\n",
    "- точки проще всего добавить с помощью geom_point()."
   ]
  },
  {
   "cell_type": "code",
   "execution_count": 88,
   "id": "secret-nightmare",
   "metadata": {},
   "outputs": [],
   "source": [
    "# сначала создайте переменную cluster в данных swiss\n",
    "library(\"ggplot2\")\n",
    "\n",
    "dist_matrix <- dist(swiss) # расчет матрицы расстояний\n",
    "fit <- hclust(dist_matrix) # иерархическая кластеризация \n",
    "swiss$cluster <- as.factor(cutree(fit, 2)) # номер кластера для каждого наблюдения\n",
    "\n",
    "# строим график\n",
    "my_plot <- ggplot(swiss, aes(Education, Catholic, col = cluster)) +      \n",
    "  geom_point() +      \n",
    "  geom_smooth(method = 'lm')"
   ]
  },
  {
   "cell_type": "code",
   "execution_count": 89,
   "id": "entire-aquatic",
   "metadata": {},
   "outputs": [
    {
     "data": {
      "image/png": "[encoded data removed]",
      "text/plain": [
       "plot without title"
      ]
     },
     "metadata": {},
     "output_type": "display_data"
    }
   ],
   "source": [
    "my_plot "
   ]
  },
  {
   "cell_type": "code",
   "execution_count": null,
   "id": "endless-williams",
   "metadata": {},
   "outputs": [],
   "source": []
  }
 ],
 "metadata": {
  "kernelspec": {
   "display_name": "R",
   "language": "R",
   "name": "ir"
  },
  "language_info": {
   "codemirror_mode": "r",
   "file_extension": ".r",
   "mimetype": "text/x-r-source",
   "name": "R",
   "pygments_lexer": "r",
   "version": "3.6.1"
  }
 },
 "nbformat": 4,
 "nbformat_minor": 5
}
